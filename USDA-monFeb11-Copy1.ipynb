{
 "cells": [
  {
   "cell_type": "markdown",
   "metadata": {
    "collapsed": true
   },
   "source": [
    "# Get relevant packages"
   ]
  },
  {
   "cell_type": "code",
   "execution_count": 1,
   "metadata": {
    "collapsed": false
   },
   "outputs": [],
   "source": [
    "import pandas as pd\n",
    "import numpy as np\n",
    "#np.set_printoptions(threshold=np.nan)\n",
    "import re\n",
    "import matplotlib.pyplot as plt\n",
    "import seaborn as sns\n",
    "\n",
    "\n",
    "\n",
    "pd.set_option('display.max_rows', 500)\n",
    "pd.set_option('display.max_columns', 500)\n",
    "pd.set_option('display.width', 1000)\n",
    "pd.set_option('display.max_colwidth', -1)\n",
    "\n"
   ]
  },
  {
   "cell_type": "markdown",
   "metadata": {
    "collapsed": true
   },
   "source": [
    "# Let's pull in relevant files\n",
    "See USDA database http://ilsina.org/our-work/research-tools-open-data/bfpd/"
   ]
  },
  {
   "cell_type": "code",
   "execution_count": 2,
   "metadata": {
    "collapsed": false
   },
   "outputs": [
    {
     "name": "stdout",
     "output_type": "stream",
     "text": [
      "237910\n",
      "239089\n",
      "3231488\n"
     ]
    }
   ],
   "source": [
    "products=pd.read_csv('/Users/meleciawright/Google Drive/csvs/products.csv',low_memory=False, encoding='mac_roman')\n",
    "serving=pd.read_csv('/Users/meleciawright/Google Drive/csvs/Serving_Size.csv',low_memory=False,encoding='mac_roman')\n",
    "nutrients=pd.read_csv('/Users/meleciawright/Google Drive/csvs/nutrient.csv',low_memory=False,encoding='mac_roman')\n",
    "dflist=[serving,products, nutrients]\n",
    "for x in dflist:print(len(x))"
   ]
  },
  {
   "cell_type": "markdown",
   "metadata": {
    "collapsed": true
   },
   "source": [
    "# Change strings to lower case"
   ]
  },
  {
   "cell_type": "code",
   "execution_count": 4,
   "metadata": {
    "collapsed": false,
    "scrolled": true
   },
   "outputs": [
    {
     "data": {
      "text/html": [
       "<div>\n",
       "<table border=\"1\" class=\"dataframe\">\n",
       "  <thead>\n",
       "    <tr style=\"text-align: right;\">\n",
       "      <th></th>\n",
       "      <th>name</th>\n",
       "      <th>unqname</th>\n",
       "      <th>ingredients</th>\n",
       "    </tr>\n",
       "  </thead>\n",
       "  <tbody>\n",
       "    <tr>\n",
       "      <th>0</th>\n",
       "      <td>Mochi ice cream bonbons</td>\n",
       "      <td>G. t. japan, inc.: mochi ice cream bonbons</td>\n",
       "      <td>Ice cream ingredients: milk, cream, sugar, strawberries (strawberries, sugar), corn syrup solids, skim milk, whey, natural flavor, guar gum, mono &amp; diglycerides, beet juice and beet powder (for color), cellulose gum, locust bean gum, carrageenan. coating ingredients: sugar, water, rice flour, trehalose, egg whites, beet juice and beet powder (for color), dusted with corn &amp; potato starch</td>\n",
       "    </tr>\n",
       "    <tr>\n",
       "      <th>1</th>\n",
       "      <td>Chipotle barbecue sauce</td>\n",
       "      <td>Fresh &amp; easy: chipotle barbecue sauce</td>\n",
       "      <td>Water, sugar, tomato paste, molasses, distilled vinegar, contains 2% or less of: corn starch, salt, dried chipotle pepper, natural smoke flavor, mustard flour, dried garlic, dried onion, spices.</td>\n",
       "    </tr>\n",
       "    <tr>\n",
       "      <th>2</th>\n",
       "      <td>Hot &amp; spicy barbecue sauce</td>\n",
       "      <td>Fresh &amp; easy: hot &amp; spicy barbecue sauce</td>\n",
       "      <td>Sugar, water, distilled vinegar, tomato paste, molasses, modified corn starch, salt, pineapple juice concentrate, contains 1% or less of: jalapeno peppers, spice, caramel color, natural flavor, xanthan gum, garlic powder, tamarind extract.</td>\n",
       "    </tr>\n",
       "    <tr>\n",
       "      <th>3</th>\n",
       "      <td>Barbecue sauce</td>\n",
       "      <td>Fresh &amp; easy: barbecue sauce</td>\n",
       "      <td>Tomato puree (water, tomato paste), sugar, distilled vinegar, molasses, water, modified corn starch, salt, bourbon whiskey, contains 1% or less of: mustard flour, spice, dried onion, dried garlic, natural flavor, xanthan gum, caramel color.</td>\n",
       "    </tr>\n",
       "    <tr>\n",
       "      <th>4</th>\n",
       "      <td>Barbecue sauce</td>\n",
       "      <td>Fresh &amp; easy: barbecue sauce</td>\n",
       "      <td>Sugar, distilled vinegar, water, tomato paste, honey, molasses, modified corn starch, salt, contains 1% or less of: natural flavor, pineapple juice concentrate, spice, caramel color, xanthan gum, garlic powder, tamarind extract.</td>\n",
       "    </tr>\n",
       "  </tbody>\n",
       "</table>\n",
       "</div>"
      ],
      "text/plain": [
       "                         name                                     unqname                                                                                                                                                                                                                                                                                                                                                                                            ingredients\n",
       "0  Mochi ice cream bonbons     G. t. japan, inc.: mochi ice cream bonbons  Ice cream ingredients: milk, cream, sugar, strawberries (strawberries, sugar), corn syrup solids, skim milk, whey, natural flavor, guar gum, mono & diglycerides, beet juice and beet powder (for color), cellulose gum, locust bean gum, carrageenan. coating ingredients: sugar, water, rice flour, trehalose, egg whites, beet juice and beet powder (for color), dusted with corn & potato starch\n",
       "1  Chipotle barbecue sauce     Fresh & easy: chipotle barbecue sauce       Water, sugar, tomato paste, molasses, distilled vinegar, contains 2% or less of: corn starch, salt, dried chipotle pepper, natural smoke flavor, mustard flour, dried garlic, dried onion, spices.                                                                                                                                                                                                   \n",
       "2  Hot & spicy barbecue sauce  Fresh & easy: hot & spicy barbecue sauce    Sugar, water, distilled vinegar, tomato paste, molasses, modified corn starch, salt, pineapple juice concentrate, contains 1% or less of: jalapeno peppers, spice, caramel color, natural flavor, xanthan gum, garlic powder, tamarind extract.                                                                                                                                                      \n",
       "3  Barbecue sauce              Fresh & easy: barbecue sauce                Tomato puree (water, tomato paste), sugar, distilled vinegar, molasses, water, modified corn starch, salt, bourbon whiskey, contains 1% or less of: mustard flour, spice, dried onion, dried garlic, natural flavor, xanthan gum, caramel color.                                                                                                                                                     \n",
       "4  Barbecue sauce              Fresh & easy: barbecue sauce                Sugar, distilled vinegar, water, tomato paste, honey, molasses, modified corn starch, salt, contains 1% or less of: natural flavor, pineapple juice concentrate, spice, caramel color, xanthan gum, garlic powder, tamarind extract.                                                                                                                                                                 "
      ]
     },
     "execution_count": 4,
     "metadata": {},
     "output_type": "execute_result"
    }
   ],
   "source": [
    "products['name']=products.long_name.str.lower().str.capitalize()\n",
    "products['unqname']=products.manufacturer.str.lower().str.capitalize()+': '+products.long_name.str.lower()\n",
    "products['ingredients']=products.ingredients_english.str.lower().str.capitalize()\n",
    "\n",
    "products[['name','unqname','ingredients']].head()"
   ]
  },
  {
   "cell_type": "markdown",
   "metadata": {},
   "source": [
    "# Check for duplicates"
   ]
  },
  {
   "cell_type": "code",
   "execution_count": 5,
   "metadata": {
    "collapsed": false
   },
   "outputs": [
    {
     "data": {
      "text/plain": [
       "(147794, 194279, 176656, 238258, 236539, 239089)"
      ]
     },
     "execution_count": 5,
     "metadata": {},
     "output_type": "execute_result"
    }
   ],
   "source": [
    "(products.name.nunique(),products.unqname.nunique(),products.ingredients.nunique(),products.unqname.notnull().sum(),\n",
    " products.ingredients.notnull().sum(),products.gtin_upc.nunique())\n",
    "#all UPC codes are unique but there are some product names that are similar, and after merging manufacturer info\n",
    "#with product names there are still ~45000 that are not unique. For simplicity, I will drop the non-unique productnames"
   ]
  },
  {
   "cell_type": "code",
   "execution_count": 6,
   "metadata": {
    "collapsed": false,
    "scrolled": true
   },
   "outputs": [
    {
     "data": {
      "text/plain": [
       "152412"
      ]
     },
     "execution_count": 6,
     "metadata": {},
     "output_type": "execute_result"
    }
   ],
   "source": [
    "#products2=products[products.unqname.notnull()].drop_duplicates(subset=['unqname']) \n",
    "products2=products.drop_duplicates(subset=['ingredients']) \n",
    "products2=products2.drop_duplicates(subset=['unqname']) \n",
    "\n",
    "products2.ingredients.nunique()"
   ]
  },
  {
   "cell_type": "markdown",
   "metadata": {},
   "source": [
    "# Let's see the nutrient file"
   ]
  },
  {
   "cell_type": "code",
   "execution_count": 13,
   "metadata": {
    "collapsed": false
   },
   "outputs": [
    {
     "data": {
      "text/html": [
       "<div>\n",
       "<table border=\"1\" class=\"dataframe\">\n",
       "  <thead>\n",
       "    <tr style=\"text-align: right;\">\n",
       "      <th></th>\n",
       "      <th>NDB_No</th>\n",
       "      <th>Nutrient_Code</th>\n",
       "      <th>Nutrient_name</th>\n",
       "      <th>Derivation_Code</th>\n",
       "      <th>Output_value</th>\n",
       "      <th>Output_uom</th>\n",
       "    </tr>\n",
       "  </thead>\n",
       "  <tbody>\n",
       "    <tr>\n",
       "      <th>0</th>\n",
       "      <td>45127487</td>\n",
       "      <td>203</td>\n",
       "      <td>Protein</td>\n",
       "      <td>LCGA</td>\n",
       "      <td>4.3</td>\n",
       "      <td>g</td>\n",
       "    </tr>\n",
       "    <tr>\n",
       "      <th>1</th>\n",
       "      <td>45127487</td>\n",
       "      <td>204</td>\n",
       "      <td>Total lipid (fat)</td>\n",
       "      <td>LCGA</td>\n",
       "      <td>18.9</td>\n",
       "      <td>g</td>\n",
       "    </tr>\n",
       "    <tr>\n",
       "      <th>2</th>\n",
       "      <td>45127487</td>\n",
       "      <td>205</td>\n",
       "      <td>Carbohydrate, by difference</td>\n",
       "      <td>LCGA</td>\n",
       "      <td>72.8</td>\n",
       "      <td>g</td>\n",
       "    </tr>\n",
       "    <tr>\n",
       "      <th>3</th>\n",
       "      <td>45127487</td>\n",
       "      <td>207</td>\n",
       "      <td>Ash</td>\n",
       "      <td>LCGA</td>\n",
       "      <td>2.0</td>\n",
       "      <td>g</td>\n",
       "    </tr>\n",
       "    <tr>\n",
       "      <th>4</th>\n",
       "      <td>45127487</td>\n",
       "      <td>255</td>\n",
       "      <td>Water</td>\n",
       "      <td>LCGA</td>\n",
       "      <td>2.0</td>\n",
       "      <td>g</td>\n",
       "    </tr>\n",
       "  </tbody>\n",
       "</table>\n",
       "</div>"
      ],
      "text/plain": [
       "     NDB_No  Nutrient_Code                Nutrient_name Derivation_Code  Output_value Output_uom\n",
       "0  45127487  203            Protein                      LCGA            4.3           g        \n",
       "1  45127487  204            Total lipid (fat)            LCGA            18.9          g        \n",
       "2  45127487  205            Carbohydrate, by difference  LCGA            72.8          g        \n",
       "3  45127487  207            Ash                          LCGA            2.0           g        \n",
       "4  45127487  255            Water                        LCGA            2.0           g        "
      ]
     },
     "execution_count": 13,
     "metadata": {},
     "output_type": "execute_result"
    }
   ],
   "source": [
    "nutrients.head()\n",
    "#goal here is to create a wide version so that each row has the nutrient within individual product IDs"
   ]
  },
  {
   "cell_type": "code",
   "execution_count": 14,
   "metadata": {
    "collapsed": false
   },
   "outputs": [
    {
     "data": {
      "text/plain": [
       "Carbohydrate, by difference           237635\n",
       "Total lipid (fat)                     237559\n",
       "Protein                               237432\n",
       "Sodium, Na                            236887\n",
       "Energy                                228500\n",
       "Sugars, total                         223394\n",
       "Fatty acids, total saturated          205694\n",
       "Cholesterol                           202966\n",
       "Fiber, total dietary                  198171\n",
       "Iron, Fe                              196981\n",
       "Calcium, Ca                           196065\n",
       "Fatty acids, total trans              194801\n",
       "Vitamin C, total ascorbic acid        178809\n",
       "Vitamin A, IU                         174501\n",
       "Potassium, K                          53337 \n",
       "Fatty acids, total monounsaturated    33822 \n",
       "Fatty acids, total polyunsaturated    33799 \n",
       "Vitamin D                             27668 \n",
       "Niacin                                16071 \n",
       "Thiamin                               15579 \n",
       "Riboflavin                            15234 \n",
       "Sugars, added                         11033 \n",
       "Vitamin B-6                           9966  \n",
       "Phosphorus, P                         8781  \n",
       "Magnesium, Mg                         8223  \n",
       "Vitamin B-12                          7269  \n",
       "Zinc, Zn                              6323  \n",
       "Folate, total                         6288  \n",
       "Fiber, soluble                        3145  \n",
       "Pantothenic acid                      3062  \n",
       "Fiber, insoluble                      2904  \n",
       "Copper, Cu                            2701  \n",
       "Manganese, Mn                         2447  \n",
       "Vitamin E (label entry primarily)     2065  \n",
       "Total sugar alcohols                  1761  \n",
       "Folic acid                            1648  \n",
       "Water                                 1584  \n",
       "Ash                                   1550  \n",
       "Selenium, Se                          1426  \n",
       "Vitamin K (phylloquinone)             1239  \n",
       "Carbohydrate, other                   986   \n",
       "Iodine, I                             894   \n",
       "Vitamin E                             158   \n",
       "Biotin                                152   \n",
       "Caffeine                              133   \n",
       "Molybdenum, Mb                        73    \n",
       "Xylitol                               62    \n",
       "Vitamin E (alpha-tocopherol)          59    \n",
       "Choline, total                        53    \n",
       "Folate, DFE                           45    \n",
       "Inositol                              40    \n",
       "Chromium, Cr                          29    \n",
       "Chlorine, Cl                          28    \n",
       "Sorbitol                              24    \n",
       "Methionine                            20    \n",
       "Phenylalanine                         20    \n",
       "Valine                                20    \n",
       "Threonine                             20    \n",
       "Lysine                                20    \n",
       "Leucine                               20    \n",
       "Histidine                             20    \n",
       "Tryptophan                            20    \n",
       "Isoleucine                            20    \n",
       "Serine                                19    \n",
       "Aspartic acid                         19    \n",
       "Glutamic acid                         19    \n",
       "Glycine                               19    \n",
       "Arginine                              19    \n",
       "Alanine                               19    \n",
       "Proline                               19    \n",
       "Tyrosine                              18    \n",
       "Carotene, beta                        18    \n",
       "Cysteine                              15    \n",
       "Lutein + zeaxanthin                   12    \n",
       "Taurine                               9     \n",
       "Inulin                                5     \n",
       "12:0                                  5     \n",
       "Lactose                               5     \n",
       "10:0                                  4     \n",
       "8:0                                   4     \n",
       "Cystine                               3     \n",
       "Starch                                3     \n",
       "18:3 n-3 c,c,c (ALA)                  2     \n",
       "18:2 undifferentiated                 2     \n",
       "Fluoride, F                           2     \n",
       "Epigallocatechin-3-gallate            2     \n",
       "Vitamin D (D2 + D3)                   2     \n",
       "Alcohol, ethyl                        2     \n",
       "Fructose                              1     \n",
       "Glucose (dextrose)                    1     \n",
       "Choline, from phosphotidyl choline    1     \n",
       "18:2 n-6 c,c                          1     \n",
       "Vitamin D3 (cholecalciferol)          1     \n",
       "Ribose                                1     \n",
       "Name: Nutrient_name, dtype: int64"
      ]
     },
     "execution_count": 14,
     "metadata": {},
     "output_type": "execute_result"
    }
   ],
   "source": [
    "nutrients.Nutrient_name.value_counts()"
   ]
  },
  {
   "cell_type": "code",
   "execution_count": 15,
   "metadata": {
    "collapsed": false
   },
   "outputs": [
    {
     "data": {
      "text/html": [
       "<div>\n",
       "<table border=\"1\" class=\"dataframe\">\n",
       "  <thead>\n",
       "    <tr style=\"text-align: right;\">\n",
       "      <th></th>\n",
       "      <th>NDB_No</th>\n",
       "      <th>Nutrient_Code</th>\n",
       "      <th>Output_value</th>\n",
       "    </tr>\n",
       "  </thead>\n",
       "  <tbody>\n",
       "    <tr>\n",
       "      <th>count</th>\n",
       "      <td>2.376350e+05</td>\n",
       "      <td>237635.0</td>\n",
       "      <td>237635.000000</td>\n",
       "    </tr>\n",
       "    <tr>\n",
       "      <th>mean</th>\n",
       "      <td>4.520707e+07</td>\n",
       "      <td>205.0</td>\n",
       "      <td>33.574563</td>\n",
       "    </tr>\n",
       "    <tr>\n",
       "      <th>std</th>\n",
       "      <td>1.023677e+05</td>\n",
       "      <td>0.0</td>\n",
       "      <td>29.423991</td>\n",
       "    </tr>\n",
       "    <tr>\n",
       "      <th>min</th>\n",
       "      <td>4.500152e+07</td>\n",
       "      <td>205.0</td>\n",
       "      <td>0.000000</td>\n",
       "    </tr>\n",
       "    <tr>\n",
       "      <th>25%</th>\n",
       "      <td>4.513822e+07</td>\n",
       "      <td>205.0</td>\n",
       "      <td>6.670000</td>\n",
       "    </tr>\n",
       "    <tr>\n",
       "      <th>50%</th>\n",
       "      <td>4.520950e+07</td>\n",
       "      <td>205.0</td>\n",
       "      <td>23.530000</td>\n",
       "    </tr>\n",
       "    <tr>\n",
       "      <th>75%</th>\n",
       "      <td>4.528504e+07</td>\n",
       "      <td>205.0</td>\n",
       "      <td>60.000000</td>\n",
       "    </tr>\n",
       "    <tr>\n",
       "      <th>max</th>\n",
       "      <td>4.537643e+07</td>\n",
       "      <td>205.0</td>\n",
       "      <td>100.000000</td>\n",
       "    </tr>\n",
       "  </tbody>\n",
       "</table>\n",
       "</div>"
      ],
      "text/plain": [
       "             NDB_No  Nutrient_Code   Output_value\n",
       "count  2.376350e+05  237635.0       237635.000000\n",
       "mean   4.520707e+07  205.0          33.574563    \n",
       "std    1.023677e+05  0.0            29.423991    \n",
       "min    4.500152e+07  205.0          0.000000     \n",
       "25%    4.513822e+07  205.0          6.670000     \n",
       "50%    4.520950e+07  205.0          23.530000    \n",
       "75%    4.528504e+07  205.0          60.000000    \n",
       "max    4.537643e+07  205.0          100.000000   "
      ]
     },
     "execution_count": 15,
     "metadata": {},
     "output_type": "execute_result"
    }
   ],
   "source": [
    "#example nutrient data\n",
    "nutrients[nutrients.Nutrient_name=='Carbohydrate, by difference'].describe()"
   ]
  },
  {
   "cell_type": "code",
   "execution_count": 10,
   "metadata": {
    "collapsed": false,
    "scrolled": true
   },
   "outputs": [
    {
     "data": {
      "text/plain": [
       "Carbohydrate, by difference    237635\n",
       "Total lipid (fat)              237559\n",
       "Protein                        237432\n",
       "Energy                         228494\n",
       "Sugars, total                  223394\n",
       "Name: Nutrient_name, dtype: int64"
      ]
     },
     "execution_count": 10,
     "metadata": {},
     "output_type": "execute_result"
    }
   ],
   "source": [
    "#only keep the nutrients that'll form the basis of recommendation\n",
    "nutrientstokeep=['Total lipid (fat)',  'Carbohydrate, by difference','Sugars, total', 'Protein','Energy']\n",
    "nutrprun=nutrients.loc[nutrients['Nutrient_name'].isin(nutrientstokeep)].drop_duplicates(['NDB_No','Nutrient_name']) \n",
    "nutrprun.Nutrient_name.value_counts()"
   ]
  },
  {
   "cell_type": "code",
   "execution_count": 8,
   "metadata": {
    "collapsed": false
   },
   "outputs": [
    {
     "data": {
      "text/plain": [
       "(      NDB_No  Nutrient_Code                Nutrient_name Derivation_Code  Output_value Output_uom\n",
       " 0   45127487  203            Protein                      LCGA            4.3           g        \n",
       " 1   45127487  204            Total lipid (fat)            LCGA            18.9          g        \n",
       " 2   45127487  205            Carbohydrate, by difference  LCGA            72.8          g        \n",
       " 5   45127487  269            Sugars, total                LCGA            39.3          g        \n",
       " 29  45128706  203            Protein                      LCGA            10.1          g        ,\n",
       " 1164520)"
      ]
     },
     "execution_count": 8,
     "metadata": {},
     "output_type": "execute_result"
    }
   ],
   "source": [
    "nutrprun.head(),len(nutrprun)"
   ]
  },
  {
   "cell_type": "code",
   "execution_count": 11,
   "metadata": {
    "collapsed": false
   },
   "outputs": [
    {
     "data": {
      "text/html": [
       "<div>\n",
       "<table border=\"1\" class=\"dataframe\">\n",
       "  <thead>\n",
       "    <tr style=\"text-align: right;\">\n",
       "      <th>Nutrient_name</th>\n",
       "      <th>Carbohydrate, by difference</th>\n",
       "      <th>Energy</th>\n",
       "      <th>Protein</th>\n",
       "      <th>Sugars, total</th>\n",
       "      <th>Total lipid (fat)</th>\n",
       "    </tr>\n",
       "    <tr>\n",
       "      <th>NDB_No</th>\n",
       "      <th></th>\n",
       "      <th></th>\n",
       "      <th></th>\n",
       "      <th></th>\n",
       "      <th></th>\n",
       "    </tr>\n",
       "  </thead>\n",
       "  <tbody>\n",
       "    <tr>\n",
       "      <th>45001524</th>\n",
       "      <td>35.00</td>\n",
       "      <td>200.0</td>\n",
       "      <td>2.5</td>\n",
       "      <td>30.00</td>\n",
       "      <td>6.25</td>\n",
       "    </tr>\n",
       "    <tr>\n",
       "      <th>45001528</th>\n",
       "      <td>43.24</td>\n",
       "      <td>162.0</td>\n",
       "      <td>0.0</td>\n",
       "      <td>37.84</td>\n",
       "      <td>0.00</td>\n",
       "    </tr>\n",
       "    <tr>\n",
       "      <th>45001529</th>\n",
       "      <td>41.18</td>\n",
       "      <td>176.0</td>\n",
       "      <td>0.0</td>\n",
       "      <td>35.29</td>\n",
       "      <td>0.00</td>\n",
       "    </tr>\n",
       "    <tr>\n",
       "      <th>45001530</th>\n",
       "      <td>34.29</td>\n",
       "      <td>143.0</td>\n",
       "      <td>0.0</td>\n",
       "      <td>28.57</td>\n",
       "      <td>0.00</td>\n",
       "    </tr>\n",
       "    <tr>\n",
       "      <th>45001531</th>\n",
       "      <td>45.95</td>\n",
       "      <td>189.0</td>\n",
       "      <td>0.0</td>\n",
       "      <td>43.24</td>\n",
       "      <td>0.00</td>\n",
       "    </tr>\n",
       "  </tbody>\n",
       "</table>\n",
       "</div>"
      ],
      "text/plain": [
       "Nutrient_name  Carbohydrate, by difference  Energy  Protein  Sugars, total  Total lipid (fat)\n",
       "NDB_No                                                                                       \n",
       "45001524       35.00                        200.0   2.5      30.00          6.25             \n",
       "45001528       43.24                        162.0   0.0      37.84          0.00             \n",
       "45001529       41.18                        176.0   0.0      35.29          0.00             \n",
       "45001530       34.29                        143.0   0.0      28.57          0.00             \n",
       "45001531       45.95                        189.0   0.0      43.24          0.00             "
      ]
     },
     "execution_count": 11,
     "metadata": {},
     "output_type": "execute_result"
    }
   ],
   "source": [
    "#transpose file from long to wide so each product id only occupies a single row\n",
    "nutrientl=nutrprun.copy()\n",
    "nutrientw=nutrientl.pivot(index='NDB_No',columns='Nutrient_name', values='Output_value')\n",
    "nutrientw.head()"
   ]
  },
  {
   "cell_type": "code",
   "execution_count": null,
   "metadata": {
    "collapsed": true
   },
   "outputs": [],
   "source": []
  },
  {
   "cell_type": "code",
   "execution_count": 49,
   "metadata": {
    "collapsed": false
   },
   "outputs": [
    {
     "name": "stdout",
     "output_type": "stream",
     "text": [
      "237432\n",
      "237559\n",
      "237635\n",
      "223394\n",
      "<class 'pandas.core.frame.DataFrame'>\n",
      "Int64Index: 237432 entries, 0 to 3231472\n",
      "Data columns (total 2 columns):\n",
      "NDB_Number    237432 non-null int64\n",
      "protein g     237432 non-null float64\n",
      "dtypes: float64(1), int64(1)\n",
      "memory usage: 5.4 MB\n",
      "None\n",
      "<class 'pandas.core.frame.DataFrame'>\n",
      "Int64Index: 237559 entries, 1 to 3231473\n",
      "Data columns (total 2 columns):\n",
      "NDB_Number    237559 non-null int64\n",
      "fat g         237559 non-null float64\n",
      "dtypes: float64(1), int64(1)\n",
      "memory usage: 5.4 MB\n",
      "None\n",
      "<class 'pandas.core.frame.DataFrame'>\n",
      "Int64Index: 237635 entries, 2 to 3231474\n",
      "Data columns (total 2 columns):\n",
      "NDB_Number    237635 non-null int64\n",
      "carbs g       237635 non-null float64\n",
      "dtypes: float64(1), int64(1)\n",
      "memory usage: 5.4 MB\n",
      "None\n",
      "<class 'pandas.core.frame.DataFrame'>\n",
      "Int64Index: 223394 entries, 5 to 3231475\n",
      "Data columns (total 2 columns):\n",
      "NDB_Number    223394 non-null int64\n",
      "sugars g      223394 non-null float64\n",
      "dtypes: float64(1), int64(1)\n",
      "memory usage: 5.1 MB\n",
      "None\n"
     ]
    }
   ],
   "source": [
    "fat=nutrprun.loc[nutrprun['Nutrient_name']=='Total lipid (fat)'][['NDB_No','Output_value']].rename(columns={'NDB_No':'NDB_Number','Output_value':'fat g'}) \n",
    "protein=nutrprun.loc[nutrprun['Nutrient_name']=='Protein'][['NDB_No','Output_value']].rename(columns={'NDB_No':'NDB_Number','Output_value':'protein g'}) \n",
    "carbs=nutrients[nutrients.Nutrient_name=='Carbohydrate, by difference'][['NDB_No','Output_value']].rename(columns={'NDB_No':'NDB_Number','Output_value':'carbs g'}) \n",
    "sugars=nutrprun.loc[nutrprun['Nutrient_name']=='Sugars, total'][['NDB_No','Output_value']].rename(columns={'NDB_No':'NDB_Number','Output_value':'sugars g'})   \n",
    "\n",
    "for nutr in [protein,fat,carbs,sugars]:print(len(nutr))\n",
    "\n",
    "for x in [protein,fat,carbs,sugars]:print(x.info())"
   ]
  },
  {
   "cell_type": "code",
   "execution_count": 51,
   "metadata": {
    "collapsed": false
   },
   "outputs": [
    {
     "data": {
      "text/plain": [
       "0"
      ]
     },
     "execution_count": 51,
     "metadata": {},
     "output_type": "execute_result"
    }
   ],
   "source": [
    "fat['fat g'].isnull().sum(),protein['protein g'].isnull().sum(),sugars['sugars g'].isnull().sum(),carbs['carbs g'].isnull().sum()"
   ]
  },
  {
   "cell_type": "code",
   "execution_count": 55,
   "metadata": {
    "collapsed": false
   },
   "outputs": [
    {
     "name": "stdout",
     "output_type": "stream",
     "text": [
      "<class 'pandas.core.frame.DataFrame'>\n",
      "Int64Index: 237809 entries, 0 to 237808\n",
      "Data columns (total 6 columns):\n",
      "NDB_Number       237809 non-null float64\n",
      "protein g        237432 non-null float64\n",
      "fat g            237559 non-null float64\n",
      "carbs g          237635 non-null float64\n",
      "sugars g         223394 non-null float64\n",
      "energy (kcal)    237095 non-null float64\n",
      "dtypes: float64(6)\n",
      "memory usage: 12.7 MB\n"
     ]
    }
   ],
   "source": [
    "on=['NDB_Number']\n",
    "allnutr=pd.merge(pd.merge(pd.merge(protein,fat,how='outer',on=on),\n",
    "         carbs,how='outer',on=on),\n",
    "    sugars, how='outer',on=on ) \n",
    "\n",
    "allnutr['energy (kcal)']=4*(allnutr['protein g']+allnutr['carbs g'])+9*allnutr['fat g']\n",
    "allnutr.info()\n",
    "\n"
   ]
  },
  {
   "cell_type": "code",
   "execution_count": 56,
   "metadata": {
    "collapsed": false
   },
   "outputs": [
    {
     "name": "stdout",
     "output_type": "stream",
     "text": [
      "NDB_Number 0\n",
      "protein g 377\n",
      "fat g 250\n",
      "carbs g 174\n",
      "sugars g 14415\n",
      "energy (kcal) 714\n"
     ]
    }
   ],
   "source": [
    "for col in allnutr.columns: print (col, allnutr[col].isnull().sum())"
   ]
  },
  {
   "cell_type": "markdown",
   "metadata": {
    "collapsed": true
   },
   "source": [
    "# add serving"
   ]
  },
  {
   "cell_type": "code",
   "execution_count": 57,
   "metadata": {
    "collapsed": false
   },
   "outputs": [
    {
     "name": "stdout",
     "output_type": "stream",
     "text": [
      "   NDB_Number  protein g  fat g  carbs g  sugars g  energy (kcal)    NDB_No  Serving_Size Serving_Size_UOM  Household_Serving_Size Household_Serving_Size_UOM Preparation_State\n",
      "0  45127487.0  4.3        18.9   72.8     39.3      478.5          45127487  29.0          g                14.0                    Cookies                    UNPREPARED      \n",
      "1  45128706.0  10.1       8.5    76.4     3.0       422.5          45128706  12.0          g                1.0                     Package                    UNPREPARED      \n",
      "2  45129911.0  3.0        10.2   77.0     34.6      411.8          45129911  44.0          g                4.0                     Bars                       UNPREPARED      \n",
      "5  45128734.0  17.1       5.9    15.3     1.6       182.7          45128734  85.0          g                1.0                     patty                      UNPREPARED      \n",
      "8  45127542.0  3.6        0.2    75.2     51.7      317.0          45127542  31.0          g                11.0                    Pieces                     UNPREPARED      \n"
     ]
    },
    {
     "data": {
      "text/html": [
       "<div>\n",
       "<table border=\"1\" class=\"dataframe\">\n",
       "  <thead>\n",
       "    <tr style=\"text-align: right;\">\n",
       "      <th></th>\n",
       "      <th>NDB_Number</th>\n",
       "      <th>protein g</th>\n",
       "      <th>fat g</th>\n",
       "      <th>carbs g</th>\n",
       "      <th>sugars g</th>\n",
       "      <th>energy (kcal)</th>\n",
       "      <th>NDB_No</th>\n",
       "      <th>Serving_Size</th>\n",
       "      <th>Serving_Size_UOM</th>\n",
       "      <th>Household_Serving_Size</th>\n",
       "      <th>Household_Serving_Size_UOM</th>\n",
       "      <th>Preparation_State</th>\n",
       "    </tr>\n",
       "  </thead>\n",
       "  <tbody>\n",
       "    <tr>\n",
       "      <th>0</th>\n",
       "      <td>45127487.0</td>\n",
       "      <td>14.827586</td>\n",
       "      <td>65.172414</td>\n",
       "      <td>251.034483</td>\n",
       "      <td>135.517241</td>\n",
       "      <td>1650.000000</td>\n",
       "      <td>45127487</td>\n",
       "      <td>29.0</td>\n",
       "      <td>g</td>\n",
       "      <td>14.0</td>\n",
       "      <td>Cookies</td>\n",
       "      <td>UNPREPARED</td>\n",
       "    </tr>\n",
       "    <tr>\n",
       "      <th>1</th>\n",
       "      <td>45128706.0</td>\n",
       "      <td>84.166667</td>\n",
       "      <td>70.833333</td>\n",
       "      <td>636.666667</td>\n",
       "      <td>25.000000</td>\n",
       "      <td>3520.833333</td>\n",
       "      <td>45128706</td>\n",
       "      <td>12.0</td>\n",
       "      <td>g</td>\n",
       "      <td>1.0</td>\n",
       "      <td>Package</td>\n",
       "      <td>UNPREPARED</td>\n",
       "    </tr>\n",
       "    <tr>\n",
       "      <th>2</th>\n",
       "      <td>45129911.0</td>\n",
       "      <td>6.818182</td>\n",
       "      <td>23.181818</td>\n",
       "      <td>175.000000</td>\n",
       "      <td>78.636364</td>\n",
       "      <td>935.909091</td>\n",
       "      <td>45129911</td>\n",
       "      <td>44.0</td>\n",
       "      <td>g</td>\n",
       "      <td>4.0</td>\n",
       "      <td>Bars</td>\n",
       "      <td>UNPREPARED</td>\n",
       "    </tr>\n",
       "    <tr>\n",
       "      <th>5</th>\n",
       "      <td>45128734.0</td>\n",
       "      <td>20.117647</td>\n",
       "      <td>6.941176</td>\n",
       "      <td>18.000000</td>\n",
       "      <td>1.882353</td>\n",
       "      <td>214.941176</td>\n",
       "      <td>45128734</td>\n",
       "      <td>85.0</td>\n",
       "      <td>g</td>\n",
       "      <td>1.0</td>\n",
       "      <td>patty</td>\n",
       "      <td>UNPREPARED</td>\n",
       "    </tr>\n",
       "    <tr>\n",
       "      <th>8</th>\n",
       "      <td>45127542.0</td>\n",
       "      <td>11.612903</td>\n",
       "      <td>0.645161</td>\n",
       "      <td>242.580645</td>\n",
       "      <td>166.774194</td>\n",
       "      <td>1022.580645</td>\n",
       "      <td>45127542</td>\n",
       "      <td>31.0</td>\n",
       "      <td>g</td>\n",
       "      <td>11.0</td>\n",
       "      <td>Pieces</td>\n",
       "      <td>UNPREPARED</td>\n",
       "    </tr>\n",
       "  </tbody>\n",
       "</table>\n",
       "</div>"
      ],
      "text/plain": [
       "   NDB_Number  protein g      fat g     carbs g    sugars g  energy (kcal)    NDB_No  Serving_Size Serving_Size_UOM  Household_Serving_Size Household_Serving_Size_UOM Preparation_State\n",
       "0  45127487.0  14.827586  65.172414  251.034483  135.517241  1650.000000    45127487  29.0          g                14.0                    Cookies                    UNPREPARED      \n",
       "1  45128706.0  84.166667  70.833333  636.666667  25.000000   3520.833333    45128706  12.0          g                1.0                     Package                    UNPREPARED      \n",
       "2  45129911.0  6.818182   23.181818  175.000000  78.636364   935.909091     45129911  44.0          g                4.0                     Bars                       UNPREPARED      \n",
       "5  45128734.0  20.117647  6.941176   18.000000   1.882353    214.941176     45128734  85.0          g                1.0                     patty                      UNPREPARED      \n",
       "8  45127542.0  11.612903  0.645161   242.580645  166.774194  1022.580645    45127542  31.0          g                11.0                    Pieces                     UNPREPARED      "
      ]
     },
     "execution_count": 57,
     "metadata": {},
     "output_type": "execute_result"
    }
   ],
   "source": [
    "#use servings so you can create a normalized nutrient density for each item\n",
    "allnutrsv=pd.merge(allnutr,serving,left_on='NDB_Number', right_on='NDB_No',how='left')\n",
    "#remove those with missing serving size\n",
    "allnutrsv=allnutrsv[allnutrsv.Serving_Size.notnull()]\n",
    "#standardize so that nutrients are all out of a serving_size of 100\n",
    "print(allnutrsv.head())\n",
    "def serv100(col) :\n",
    "    allnutrsv[col]= 100*allnutrsv[col]/ allnutrsv['Serving_Size']\n",
    "    return \n",
    "for coll in ['fat g','protein g','sugars g','carbs g','energy (kcal)' ]:\n",
    "    serv100(coll)\n",
    "allnutrsv.head()"
   ]
  },
  {
   "cell_type": "code",
   "execution_count": 60,
   "metadata": {
    "collapsed": false,
    "scrolled": true
   },
   "outputs": [
    {
     "data": {
      "image/png": "[encoded data removed]",
      "text/plain": [
       "<matplotlib.figure.Figure at 0x13968b320>"
      ]
     },
     "metadata": {},
     "output_type": "display_data"
    }
   ],
   "source": [
    "plt.hist(allnutrsv['protein g'][allnutrsv['protein g']!=0] ,range(0,500) )\n",
    "plt.show()"
   ]
  },
  {
   "cell_type": "code",
   "execution_count": 194,
   "metadata": {
    "collapsed": false
   },
   "outputs": [],
   "source": [
    "allnutrsv=allnutrsv.fillna(0)\n",
    "allnutrsv['energy (kcal)']=allnutrsv['energy (kcal)'].astype(int)\n",
    "allnutrsv['protein g']=allnutrsv['protein g'].astype(int)\n",
    "allnutrsv['fat g']=allnutrsv['fat g'].astype(int)\n",
    "allnutrsv['sugars g']=allnutrsv['sugars g'].astype(int)\n",
    "allnutrsv['carbs g']=allnutrsv['carbs g'].astype(int)\n"
   ]
  },
  {
   "cell_type": "code",
   "execution_count": 199,
   "metadata": {
    "collapsed": false
   },
   "outputs": [
    {
     "name": "stdout",
     "output_type": "stream",
     "text": [
      "<class 'pandas.core.frame.DataFrame'>\n",
      "Int64Index: 152007 entries, 0 to 152006\n",
      "Data columns (total 22 columns):\n",
      "NDB_Number                    152007 non-null float64\n",
      "protein g                     152007 non-null int64\n",
      "fat g                         152007 non-null int64\n",
      "carbs g                       152007 non-null int64\n",
      "sugars g                      152007 non-null int64\n",
      "energy (kcal)                 152007 non-null int64\n",
      "NDB_No                        152007 non-null int64\n",
      "Serving_Size                  152007 non-null float64\n",
      "Serving_Size_UOM              152007 non-null object\n",
      "Household_Serving_Size        152007 non-null float64\n",
      "Household_Serving_Size_UOM    152007 non-null object\n",
      "Preparation_State             152007 non-null object\n",
      "long_name                     152007 non-null object\n",
      "data_source                   152007 non-null object\n",
      "gtin_upc                      152007 non-null object\n",
      "manufacturer                  152006 non-null object\n",
      "date_modified                 152007 non-null object\n",
      "date_available                152007 non-null object\n",
      "ingredients_english           152006 non-null object\n",
      "name                          152007 non-null object\n",
      "unqname                       152006 non-null object\n",
      "ingredients                   152006 non-null object\n",
      "dtypes: float64(3), int64(6), object(13)\n",
      "memory usage: 26.7+ MB\n",
      "152007 None\n",
      "<class 'pandas.core.frame.DataFrame'>\n",
      "Int64Index: 237774 entries, 0 to 237808\n",
      "Data columns (total 12 columns):\n",
      "NDB_Number                    237774 non-null float64\n",
      "protein g                     237774 non-null int64\n",
      "fat g                         237774 non-null int64\n",
      "carbs g                       237774 non-null int64\n",
      "sugars g                      237774 non-null int64\n",
      "energy (kcal)                 237774 non-null int64\n",
      "NDB_No                        237774 non-null int64\n",
      "Serving_Size                  237774 non-null float64\n",
      "Serving_Size_UOM              237774 non-null object\n",
      "Household_Serving_Size        237774 non-null float64\n",
      "Household_Serving_Size_UOM    237774 non-null object\n",
      "Preparation_State             237774 non-null object\n",
      "dtypes: float64(3), int64(6), object(3)\n",
      "memory usage: 23.6+ MB\n",
      "237774 None\n",
      "<class 'pandas.core.frame.DataFrame'>\n",
      "Int64Index: 152413 entries, 0 to 239088\n",
      "Data columns (total 11 columns):\n",
      "NDB_Number             152413 non-null int64\n",
      "long_name              152413 non-null object\n",
      "data_source            152413 non-null object\n",
      "gtin_upc               152413 non-null object\n",
      "manufacturer           152412 non-null object\n",
      "date_modified          152413 non-null object\n",
      "date_available         152413 non-null object\n",
      "ingredients_english    152412 non-null object\n",
      "name                   152413 non-null object\n",
      "unqname                152412 non-null object\n",
      "ingredients            152412 non-null object\n",
      "dtypes: int64(1), object(10)\n",
      "memory usage: 14.0+ MB\n",
      "152413 None\n",
      "0\n",
      "0\n",
      "0\n",
      "0\n",
      "0\n"
     ]
    }
   ],
   "source": [
    "nutrpro=pd.merge(allnutrsv,products2, on='NDB_Number',  how= 'inner')\n",
    "nutrpro.head() \n",
    "nlist= ['energy (kcal)','protein g','fat g','carbs g','sugars g']\n",
    "\n",
    "\n",
    "for x in [nutrpro,allnutrsv,products2]:print(len(x), x.info())\n",
    "for n in nlist:print(nutrpro[n].isnull().sum())\n",
    "\n",
    "#though some nutrient information is missing, inspect further to see how, why, or just delete, in the interest of \n",
    "#retaining a larger body of data I'll just fill for now\n",
    " \n",
    "#nutrpro=nutrpro.fillna(0)"
   ]
  },
  {
   "cell_type": "markdown",
   "metadata": {
    "collapsed": true
   },
   "source": [
    "# create categories"
   ]
  },
  {
   "cell_type": "code",
   "execution_count": 200,
   "metadata": {
    "collapsed": true
   },
   "outputs": [],
   "source": [
    "nutrpro.loc[(nutrpro.unqname.str.contains('ice cream'))\n",
    "             |(nutrpro.unqname.str.contains('gelato')), 'pcat'] = 'ice cream' \n",
    "icdf=nutrpro[nutrpro['pcat']=='ice cream']\n",
    " "
   ]
  },
  {
   "cell_type": "code",
   "execution_count": 12,
   "metadata": {
    "collapsed": false
   },
   "outputs": [
    {
     "data": {
      "text/plain": [
       "'FRESH & EASY, SWEET HOT MUSTARD'"
      ]
     },
     "execution_count": 12,
     "metadata": {},
     "output_type": "execute_result"
    }
   ],
   "source": [
    "products.long_name.iloc[10]"
   ]
  },
  {
   "cell_type": "code",
   "execution_count": 13,
   "metadata": {
    "collapsed": true
   },
   "outputs": [],
   "source": [
    "productsnew=products.copy()"
   ]
  },
  {
   "cell_type": "code",
   "execution_count": 14,
   "metadata": {
    "collapsed": true
   },
   "outputs": [],
   "source": [
    "productsnew['category']=None"
   ]
  },
  {
   "cell_type": "code",
   "execution_count": 18,
   "metadata": {
    "collapsed": false
   },
   "outputs": [
    {
     "data": {
      "text/html": [
       "<div>\n",
       "<table border=\"1\" class=\"dataframe\">\n",
       "  <thead>\n",
       "    <tr style=\"text-align: right;\">\n",
       "      <th></th>\n",
       "      <th>NDB_Number</th>\n",
       "      <th>long_name</th>\n",
       "      <th>data_source</th>\n",
       "      <th>gtin_upc</th>\n",
       "      <th>manufacturer</th>\n",
       "      <th>date_modified</th>\n",
       "      <th>date_available</th>\n",
       "      <th>ingredients_english</th>\n",
       "      <th>category</th>\n",
       "    </tr>\n",
       "  </thead>\n",
       "  <tbody>\n",
       "    <tr>\n",
       "      <th>0</th>\n",
       "      <td>45001524</td>\n",
       "      <td>MOCHI ICE CREAM BONBONS</td>\n",
       "      <td>LI</td>\n",
       "      <td>019022128593</td>\n",
       "      <td>G. T. Japan, Inc.</td>\n",
       "      <td>11/15/2017 19:19:38</td>\n",
       "      <td>11/15/2017 19:19:38</td>\n",
       "      <td>ICE CREAM INGREDIENTS: MILK, CREAM, SUGAR, STRAWBERRIES (STRAWBERRIES, SUGAR), CORN SYRUP SOLIDS, SKIM MILK, WHEY, NATURAL FLAVOR, GUAR GUM, MONO &amp; DIGLYCERIDES, BEET JUICE AND BEET POWDER (FOR COLOR), CELLULOSE GUM, LOCUST BEAN GUM, CARRAGEENAN. COATING INGREDIENTS: SUGAR, WATER, RICE FLOUR, TREHALOSE, EGG WHITES, BEET JUICE AND BEET POWDER (FOR COLOR), DUSTED WITH CORN &amp; POTATO STARCH</td>\n",
       "      <td>None</td>\n",
       "    </tr>\n",
       "  </tbody>\n",
       "</table>\n",
       "</div>"
      ],
      "text/plain": [
       "   NDB_Number                long_name data_source      gtin_upc       manufacturer        date_modified       date_available                                                                                                                                                                                                                                                                                                                                                                                    ingredients_english category\n",
       "0  45001524    MOCHI ICE CREAM BONBONS  LI          019022128593  G. T. Japan, Inc.  11/15/2017 19:19:38  11/15/2017 19:19:38  ICE CREAM INGREDIENTS: MILK, CREAM, SUGAR, STRAWBERRIES (STRAWBERRIES, SUGAR), CORN SYRUP SOLIDS, SKIM MILK, WHEY, NATURAL FLAVOR, GUAR GUM, MONO & DIGLYCERIDES, BEET JUICE AND BEET POWDER (FOR COLOR), CELLULOSE GUM, LOCUST BEAN GUM, CARRAGEENAN. COATING INGREDIENTS: SUGAR, WATER, RICE FLOUR, TREHALOSE, EGG WHITES, BEET JUICE AND BEET POWDER (FOR COLOR), DUSTED WITH CORN & POTATO STARCH  None   "
      ]
     },
     "execution_count": 18,
     "metadata": {},
     "output_type": "execute_result"
    }
   ],
   "source": [
    "productsnew.head(1)"
   ]
  },
  {
   "cell_type": "code",
   "execution_count": null,
   "metadata": {
    "collapsed": true
   },
   "outputs": [],
   "source": [
    "for x in pasta:\n",
    "    productsnew.loc[productsnew['long_name'].str.contains(x) & productsnew['category'].isnull(), 'category'] = 'PASTA'"
   ]
  },
  {
   "cell_type": "code",
   "execution_count": 201,
   "metadata": {
    "collapsed": true
   },
   "outputs": [],
   "source": [
    "nutrpro.loc[(nutrpro.unqname.str.contains('pasta'))\n",
    "              |(nutrpro.unqname.str.contains('macaroni'))\n",
    "              |(nutrpro.unqname.str.contains('rotini'))\n",
    "              |(nutrpro.unqname.str.contains('linguin'))\n",
    "              |(nutrpro.unqname.str.contains('angel hair'))\n",
    "              |(nutrpro.unqname.str.contains('lasagne'))\n",
    "              |(nutrpro.unqname.str.contains('fetuccin'))\n",
    "              |(nutrpro.unqname.str.contains('ziti'))\n",
    "              |(nutrpro.unqname.str.contains('fusill'))\n",
    "              |(nutrpro.unqname.str.contains('spaghett'))\n",
    "              |(nutrpro.unqname.str.contains('farfall'))\n",
    "              |(nutrpro.unqname.str.contains('tortellin'))\n",
    "              |(nutrpro.unqname.str.contains('elbow'))\n",
    "              |(nutrpro.unqname.str.contains('raviol'))\n",
    "              |(nutrpro.unqname.str.contains('bowtie')), 'pcat'] = 'pasta' \n",
    "pastadf=nutrpro[nutrpro['pcat']=='pasta']\n",
    "\n",
    "nutrpro.loc[(((nutrpro.unqname.str.contains('cereal')) \n",
    "            |(nutrpro.unqname.str.contains('corn flake'))\n",
    "            |(nutrpro.unqname.str.contains('raisin bran'))\n",
    "            |(nutrpro.unqname.str.contains('oat cereal'))\n",
    "            |(nutrpro.unqname.str.contains('oatmeal cereal'))\n",
    "             |(nutrpro.unqname.str.contains('froot loops'))))\n",
    "             ,'pcat'] = 'breakfast/cereal' \n",
    "cereal=nutrpro[nutrpro['pcat']=='breakfast/cereal' ]\n",
    "\n",
    "nutrpro.loc[((nutrpro.unqname.str.contains('yogurt')) \n",
    "            |(nutrpro.unqname.str.contains('yoghurt')))  ,'pcat'] = 'yogurt' \n",
    "yogurt=nutrpro[nutrpro['pcat']=='yogurt']\n",
    "\n",
    "\n",
    "\n",
    "nutrpro.loc[(nutrpro.unqname.str.contains('burger')) \n",
    "             |(nutrpro.unqname.str.contains('patties'))\n",
    "             |(nutrpro.unqname.str.contains('patty'))\n",
    "             |(nutrpro.unqname.str.contains('sausage'))\n",
    "                     |(nutrpro.unqname.str.contains('hot dog')) \n",
    "             |(nutrpro.unqname.str.contains('meatball')), 'pcat'] = 'meat products e.g. burgers'  \n",
    "meats=nutrpro[nutrpro['pcat']== 'meat products e.g. burgers']\n",
    "\n",
    "nutrpro.loc[(nutrpro.unqname.str.contains('soup') \n",
    "            |(nutrpro.unqname.str.contains('soup')))  ,'pcat'] = 'soup' \n",
    "soup=nutrpro[nutrpro['pcat']=='soup']\n",
    "\n",
    "\n",
    "\n",
    "on=['NDB_Number', 'protein g', 'fat g', 'carbs g', 'sugars g', 'energy (kcal)', 'NDB_No', 'Serving_Size', 'Serving_Size_UOM', 'Household_Serving_Size', 'Household_Serving_Size_UOM', 'Preparation_State', 'long_name', 'data_source', 'gtin_upc', 'manufacturer', 'date_modified', 'date_available', 'ingredients_english', 'name', 'unqname', 'ingredients', 'pcat']#all of these have the same column names\n",
    "allcats=pd.merge(pd.merge(pd.merge(pd.merge(pd.merge(icdf,soup,on=on,how='outer'), \n",
    "                 meats,on=on,how='outer'), \n",
    "                yogurt,on=on,how='outer'),\n",
    "                cereal,on=on,how='outer'),\n",
    "                pastadf,on=on,how='outer') \n",
    "\n",
    "for x in [ soup, meats, yogurt, cereal,pastadf, icdf,allcats]:print(len(x))\n",
    "allcats.info()"
   ]
  },
  {
   "cell_type": "code",
   "execution_count": 207,
   "metadata": {
    "collapsed": false
   },
   "outputs": [
    {
     "data": {
      "text/html": [
       "<div>\n",
       "<table border=\"1\" class=\"dataframe\">\n",
       "  <thead>\n",
       "    <tr style=\"text-align: right;\">\n",
       "      <th></th>\n",
       "      <th>NDB_Number</th>\n",
       "      <th>protein g</th>\n",
       "      <th>fat g</th>\n",
       "      <th>carbs g</th>\n",
       "      <th>sugars g</th>\n",
       "      <th>energy (kcal)</th>\n",
       "      <th>NDB_No</th>\n",
       "      <th>Serving_Size</th>\n",
       "      <th>Serving_Size_UOM</th>\n",
       "      <th>Household_Serving_Size</th>\n",
       "      <th>Household_Serving_Size_UOM</th>\n",
       "      <th>Preparation_State</th>\n",
       "      <th>long_name</th>\n",
       "      <th>data_source</th>\n",
       "      <th>gtin_upc</th>\n",
       "      <th>manufacturer</th>\n",
       "      <th>date_modified</th>\n",
       "      <th>date_available</th>\n",
       "      <th>ingredients_english</th>\n",
       "      <th>name</th>\n",
       "      <th>unqname</th>\n",
       "      <th>ingredients</th>\n",
       "      <th>pcat</th>\n",
       "    </tr>\n",
       "  </thead>\n",
       "  <tbody>\n",
       "    <tr>\n",
       "      <th>0</th>\n",
       "      <td>45266835.0</td>\n",
       "      <td>3.0</td>\n",
       "      <td>7.0</td>\n",
       "      <td>36.0</td>\n",
       "      <td>30.0</td>\n",
       "      <td>229.0</td>\n",
       "      <td>45266835.0</td>\n",
       "      <td>88.0</td>\n",
       "      <td>g</td>\n",
       "      <td>5.0</td>\n",
       "      <td>OZA</td>\n",
       "      <td>0</td>\n",
       "      <td>ITALIAN STYLE ICE CREAM GELATO</td>\n",
       "      <td>LI</td>\n",
       "      <td>070682109667</td>\n",
       "      <td>Velvet Ice Cream Co.</td>\n",
       "      <td>7/14/2017 17:54:20</td>\n",
       "      <td>7/14/2017 17:54:20</td>\n",
       "      <td>CREAM, SUGAR, SKIM MILK, CORN SYRUP, WHEY, MONO- &amp; DIGLYCERIDES, CELLULOSE GUM, GUAR GUM, CARRAGEENAN, SALTY CARAMEL VARIEGATE (CORN SYRUP, SWEETENED CONDENSED MILK (CONDENSED MILK SUGAR), SUGAR,SEA SALT, PECTIN, XANTHAN GUM, SODIUM BICARBONATE), SALTY CARAMEL BASE (BROWN SUGAR, BUTTER, CREAM, INVERT SUGAR, CARAMEL COLOR, SEA SALT, CORN STARCH, SOY LECITHIN.</td>\n",
       "      <td>Italian style ice cream gelato</td>\n",
       "      <td>Velvet ice cream co.: italian style ice cream gelato</td>\n",
       "      <td>Cream, sugar, skim milk, corn syrup, whey, mono- &amp; diglycerides, cellulose gum, guar gum, carrageenan, salty caramel variegate (corn syrup, sweetened condensed milk (condensed milk sugar), sugar,sea salt, pectin, xanthan gum, sodium bicarbonate), salty caramel base (brown sugar, butter, cream, invert sugar, caramel color, sea salt, corn starch, soy lecithin.</td>\n",
       "      <td>ice cream</td>\n",
       "    </tr>\n",
       "    <tr>\n",
       "      <th>1</th>\n",
       "      <td>45269057.0</td>\n",
       "      <td>4.0</td>\n",
       "      <td>11.0</td>\n",
       "      <td>24.0</td>\n",
       "      <td>23.0</td>\n",
       "      <td>215.0</td>\n",
       "      <td>45269057.0</td>\n",
       "      <td>85.0</td>\n",
       "      <td>g</td>\n",
       "      <td>1.0</td>\n",
       "      <td>PACKAGE</td>\n",
       "      <td>0</td>\n",
       "      <td>COTTON CANDY FLAVORED ICE CREAM</td>\n",
       "      <td>LI</td>\n",
       "      <td>816193010289</td>\n",
       "      <td>DIPPIN'S DOT'S</td>\n",
       "      <td>7/14/2017 19:51:27</td>\n",
       "      <td>7/14/2017 19:51:27</td>\n",
       "      <td>MILK, CREAM, SUGAR, ARTIFICIAL FLAVORS, BLUE #1, RED #40, LESS THAN 0.5% OF (MONO &amp; DIGLYCERIDES, GUAR GUM, CARRAGEENAN, LOCUST BEAN GUM).</td>\n",
       "      <td>Cotton candy flavored ice cream</td>\n",
       "      <td>Dippin's dot's: cotton candy flavored ice cream</td>\n",
       "      <td>Milk, cream, sugar, artificial flavors, blue #1, red #40, less than 0.5% of (mono &amp; diglycerides, guar gum, carrageenan, locust bean gum).</td>\n",
       "      <td>ice cream</td>\n",
       "    </tr>\n",
       "    <tr>\n",
       "      <th>2</th>\n",
       "      <td>45269040.0</td>\n",
       "      <td>4.0</td>\n",
       "      <td>11.0</td>\n",
       "      <td>33.0</td>\n",
       "      <td>27.0</td>\n",
       "      <td>249.0</td>\n",
       "      <td>45269040.0</td>\n",
       "      <td>85.0</td>\n",
       "      <td>g</td>\n",
       "      <td>1.0</td>\n",
       "      <td>PACKAGE</td>\n",
       "      <td>0</td>\n",
       "      <td>CHOCOLATE CHIP COOKIE DOUGH ICE CREAM</td>\n",
       "      <td>LI</td>\n",
       "      <td>816193010159</td>\n",
       "      <td>Dippin' Dots, L.L.C.</td>\n",
       "      <td>8/28/2017 4:36:19</td>\n",
       "      <td>8/28/2017 4:36:19</td>\n",
       "      <td>MILK, CREAM, SUGAR, NATURAL FLAVORS, VANILLA, LESS THAN 0.5% OF (MONO &amp; DIGLYCERIDES, GUAR GUM, CARRAGEENAN, LOCUST BEAN GUM). COOKIE DOUGH: WHEAT FLOUR, BROWN SUGAR, MARGARINE [LIQUID AND PARTIALLY HYDROGENATED SOYBEAN OIL, WATER, SALT, CONTAINS LESS THAN 2% OF WHEY SOLIDS, SOY LECITHIN, VEGETABLE MONO AND DIGLYCERIDES, SODIUM BENZOATE (PRESERVATIVE) NATURAL AND ARTIFICIAL FLAVORS, BETA CAROTENE (COLOR), VITAMIN A PALMITATE ADDED], SUGAR, CHOCOLATE CHIPS (SUGAR, CHOCOLATE LIQUOR, COCOA BUTTER AND SOY LECITHIN), WATER, NATURAL FLAVORS, SALT, SODIUM BICARBONATE.</td>\n",
       "      <td>Chocolate chip cookie dough ice cream</td>\n",
       "      <td>Dippin' dots, l.l.c.: chocolate chip cookie dough ice cream</td>\n",
       "      <td>Milk, cream, sugar, natural flavors, vanilla, less than 0.5% of (mono &amp; diglycerides, guar gum, carrageenan, locust bean gum). cookie dough: wheat flour, brown sugar, margarine [liquid and partially hydrogenated soybean oil, water, salt, contains less than 2% of whey solids, soy lecithin, vegetable mono and diglycerides, sodium benzoate (preservative) natural and artificial flavors, beta carotene (color), vitamin a palmitate added], sugar, chocolate chips (sugar, chocolate liquor, cocoa butter and soy lecithin), water, natural flavors, salt, sodium bicarbonate.</td>\n",
       "      <td>ice cream</td>\n",
       "    </tr>\n",
       "    <tr>\n",
       "      <th>3</th>\n",
       "      <td>45267581.0</td>\n",
       "      <td>2.0</td>\n",
       "      <td>12.0</td>\n",
       "      <td>29.0</td>\n",
       "      <td>26.0</td>\n",
       "      <td>239.0</td>\n",
       "      <td>45267581.0</td>\n",
       "      <td>85.0</td>\n",
       "      <td>g</td>\n",
       "      <td>0.5</td>\n",
       "      <td>cup</td>\n",
       "      <td>0</td>\n",
       "      <td>ITALIAN VANILLA</td>\n",
       "      <td>LI</td>\n",
       "      <td>093959745115</td>\n",
       "      <td>Al Gelato Chicago LLC</td>\n",
       "      <td>7/14/2017 19:47:37</td>\n",
       "      <td>7/14/2017 19:47:37</td>\n",
       "      <td>MILK, CREAM, SUGAR, NONFAT DRY MILK, LECITHIN, GUAR GUM, XANTHAN GUM, CARRAGEENAN GUM, NATURAL FLAVORS, PECTIN, CARAMEL COLOR, TURMERIC EXTRACT FOR COLOR, CITRIC ACID</td>\n",
       "      <td>Italian vanilla</td>\n",
       "      <td>Al gelato chicago llc: italian vanilla</td>\n",
       "      <td>Milk, cream, sugar, nonfat dry milk, lecithin, guar gum, xanthan gum, carrageenan gum, natural flavors, pectin, caramel color, turmeric extract for color, citric acid</td>\n",
       "      <td>ice cream</td>\n",
       "    </tr>\n",
       "    <tr>\n",
       "      <th>4</th>\n",
       "      <td>45330594.0</td>\n",
       "      <td>11.0</td>\n",
       "      <td>5.0</td>\n",
       "      <td>37.0</td>\n",
       "      <td>16.0</td>\n",
       "      <td>252.0</td>\n",
       "      <td>45330594.0</td>\n",
       "      <td>65.0</td>\n",
       "      <td>g</td>\n",
       "      <td>0.5</td>\n",
       "      <td>cup</td>\n",
       "      <td>0</td>\n",
       "      <td>PANCAKES &amp; WAFFLES LIGHT ICE CREAM</td>\n",
       "      <td>LI</td>\n",
       "      <td>858089003395</td>\n",
       "      <td>HALO TOP</td>\n",
       "      <td>3/10/2018 20:24:17</td>\n",
       "      <td>3/10/2018 20:24:17</td>\n",
       "      <td>SKIM MILK, EGGS, ERYTHRITOL, PREBIOTIC FIBER, MILK PROTEIN CONCENTRATE, CREAM, ORGANIC CANE SUGAR, VEGETABLE GLYCERIN, MAPLE SYRUP SWIRL (SUGAR, CORN SYRUP, MAPLE SYRUP, NATURAL FLAVOR, MOLASSES, SALT), WAFFLE CONE CRUNCH (WHEAT FLOUR, SUGAR, MOLASSES, NATURAL FLAVOR, SALT), NATURAL FLAVORS, SEA SALT, ORGANIC CAROB GUM, ORGANIC GUAR GUM, ORGANIC STEVIA LEAF EXTRACT.</td>\n",
       "      <td>Pancakes &amp; waffles light ice cream</td>\n",
       "      <td>Halo top: pancakes &amp; waffles light ice cream</td>\n",
       "      <td>Skim milk, eggs, erythritol, prebiotic fiber, milk protein concentrate, cream, organic cane sugar, vegetable glycerin, maple syrup swirl (sugar, corn syrup, maple syrup, natural flavor, molasses, salt), waffle cone crunch (wheat flour, sugar, molasses, natural flavor, salt), natural flavors, sea salt, organic carob gum, organic guar gum, organic stevia leaf extract.</td>\n",
       "      <td>ice cream</td>\n",
       "    </tr>\n",
       "  </tbody>\n",
       "</table>\n",
       "</div>"
      ],
      "text/plain": [
       "   NDB_Number  protein g  fat g  carbs g  sugars g  energy (kcal)      NDB_No  Serving_Size Serving_Size_UOM  Household_Serving_Size Household_Serving_Size_UOM Preparation_State                              long_name data_source      gtin_upc           manufacturer       date_modified      date_available                                                                                                                                                                                                                                                                                                                                                                                                                                                                                                                                                                      ingredients_english                                   name                                                      unqname  \\\n",
       "0  45266835.0  3.0        7.0    36.0     30.0      229.0          45266835.0  88.0          g                5.0                     OZA                        0                 ITALIAN STYLE ICE CREAM GELATO         LI          070682109667  Velvet Ice Cream Co.   7/14/2017 17:54:20  7/14/2017 17:54:20  CREAM, SUGAR, SKIM MILK, CORN SYRUP, WHEY, MONO- & DIGLYCERIDES, CELLULOSE GUM, GUAR GUM, CARRAGEENAN, SALTY CARAMEL VARIEGATE (CORN SYRUP, SWEETENED CONDENSED MILK (CONDENSED MILK SUGAR), SUGAR,SEA SALT, PECTIN, XANTHAN GUM, SODIUM BICARBONATE), SALTY CARAMEL BASE (BROWN SUGAR, BUTTER, CREAM, INVERT SUGAR, CARAMEL COLOR, SEA SALT, CORN STARCH, SOY LECITHIN.                                                                                                                                                                                                                 Italian style ice cream gelato         Velvet ice cream co.: italian style ice cream gelato          \n",
       "1  45269057.0  4.0        11.0   24.0     23.0      215.0          45269057.0  85.0          g                1.0                     PACKAGE                    0                 COTTON CANDY FLAVORED ICE CREAM        LI          816193010289  DIPPIN'S DOT'S         7/14/2017 19:51:27  7/14/2017 19:51:27  MILK, CREAM, SUGAR, ARTIFICIAL FLAVORS, BLUE #1, RED #40, LESS THAN 0.5% OF (MONO & DIGLYCERIDES, GUAR GUM, CARRAGEENAN, LOCUST BEAN GUM).                                                                                                                                                                                                                                                                                                                                                                                                                                               Cotton candy flavored ice cream        Dippin's dot's: cotton candy flavored ice cream               \n",
       "2  45269040.0  4.0        11.0   33.0     27.0      249.0          45269040.0  85.0          g                1.0                     PACKAGE                    0                 CHOCOLATE CHIP COOKIE DOUGH ICE CREAM  LI          816193010159  Dippin' Dots, L.L.C.   8/28/2017 4:36:19   8/28/2017 4:36:19   MILK, CREAM, SUGAR, NATURAL FLAVORS, VANILLA, LESS THAN 0.5% OF (MONO & DIGLYCERIDES, GUAR GUM, CARRAGEENAN, LOCUST BEAN GUM). COOKIE DOUGH: WHEAT FLOUR, BROWN SUGAR, MARGARINE [LIQUID AND PARTIALLY HYDROGENATED SOYBEAN OIL, WATER, SALT, CONTAINS LESS THAN 2% OF WHEY SOLIDS, SOY LECITHIN, VEGETABLE MONO AND DIGLYCERIDES, SODIUM BENZOATE (PRESERVATIVE) NATURAL AND ARTIFICIAL FLAVORS, BETA CAROTENE (COLOR), VITAMIN A PALMITATE ADDED], SUGAR, CHOCOLATE CHIPS (SUGAR, CHOCOLATE LIQUOR, COCOA BUTTER AND SOY LECITHIN), WATER, NATURAL FLAVORS, SALT, SODIUM BICARBONATE.  Chocolate chip cookie dough ice cream  Dippin' dots, l.l.c.: chocolate chip cookie dough ice cream   \n",
       "3  45267581.0  2.0        12.0   29.0     26.0      239.0          45267581.0  85.0          g                0.5                     cup                        0                 ITALIAN VANILLA                        LI          093959745115  Al Gelato Chicago LLC  7/14/2017 19:47:37  7/14/2017 19:47:37  MILK, CREAM, SUGAR, NONFAT DRY MILK, LECITHIN, GUAR GUM, XANTHAN GUM, CARRAGEENAN GUM, NATURAL FLAVORS, PECTIN, CARAMEL COLOR, TURMERIC EXTRACT FOR COLOR, CITRIC ACID                                                                                                                                                                                                                                                                                                                                                                                                                   Italian vanilla                        Al gelato chicago llc: italian vanilla                        \n",
       "4  45330594.0  11.0       5.0    37.0     16.0      252.0          45330594.0  65.0          g                0.5                     cup                        0                 PANCAKES & WAFFLES LIGHT ICE CREAM     LI          858089003395  HALO TOP               3/10/2018 20:24:17  3/10/2018 20:24:17  SKIM MILK, EGGS, ERYTHRITOL, PREBIOTIC FIBER, MILK PROTEIN CONCENTRATE, CREAM, ORGANIC CANE SUGAR, VEGETABLE GLYCERIN, MAPLE SYRUP SWIRL (SUGAR, CORN SYRUP, MAPLE SYRUP, NATURAL FLAVOR, MOLASSES, SALT), WAFFLE CONE CRUNCH (WHEAT FLOUR, SUGAR, MOLASSES, NATURAL FLAVOR, SALT), NATURAL FLAVORS, SEA SALT, ORGANIC CAROB GUM, ORGANIC GUAR GUM, ORGANIC STEVIA LEAF EXTRACT.                                                                                                                                                                                                         Pancakes & waffles light ice cream     Halo top: pancakes & waffles light ice cream                  \n",
       "\n",
       "                                                                                                                                                                                                                                                                                                                                                                                                                                                                                                                                                                               ingredients       pcat  \n",
       "0  Cream, sugar, skim milk, corn syrup, whey, mono- & diglycerides, cellulose gum, guar gum, carrageenan, salty caramel variegate (corn syrup, sweetened condensed milk (condensed milk sugar), sugar,sea salt, pectin, xanthan gum, sodium bicarbonate), salty caramel base (brown sugar, butter, cream, invert sugar, caramel color, sea salt, corn starch, soy lecithin.                                                                                                                                                                                                                 ice cream  \n",
       "1  Milk, cream, sugar, artificial flavors, blue #1, red #40, less than 0.5% of (mono & diglycerides, guar gum, carrageenan, locust bean gum).                                                                                                                                                                                                                                                                                                                                                                                                                                               ice cream  \n",
       "2  Milk, cream, sugar, natural flavors, vanilla, less than 0.5% of (mono & diglycerides, guar gum, carrageenan, locust bean gum). cookie dough: wheat flour, brown sugar, margarine [liquid and partially hydrogenated soybean oil, water, salt, contains less than 2% of whey solids, soy lecithin, vegetable mono and diglycerides, sodium benzoate (preservative) natural and artificial flavors, beta carotene (color), vitamin a palmitate added], sugar, chocolate chips (sugar, chocolate liquor, cocoa butter and soy lecithin), water, natural flavors, salt, sodium bicarbonate.  ice cream  \n",
       "3  Milk, cream, sugar, nonfat dry milk, lecithin, guar gum, xanthan gum, carrageenan gum, natural flavors, pectin, caramel color, turmeric extract for color, citric acid                                                                                                                                                                                                                                                                                                                                                                                                                   ice cream  \n",
       "4  Skim milk, eggs, erythritol, prebiotic fiber, milk protein concentrate, cream, organic cane sugar, vegetable glycerin, maple syrup swirl (sugar, corn syrup, maple syrup, natural flavor, molasses, salt), waffle cone crunch (wheat flour, sugar, molasses, natural flavor, salt), natural flavors, sea salt, organic carob gum, organic guar gum, organic stevia leaf extract.                                                                                                                                                                                                         ice cream  "
      ]
     },
     "execution_count": 207,
     "metadata": {},
     "output_type": "execute_result"
    }
   ],
   "source": [
    "allcats.head()"
   ]
  },
  {
   "cell_type": "code",
   "execution_count": 208,
   "metadata": {
    "collapsed": false
   },
   "outputs": [
    {
     "data": {
      "text/html": [
       "<div>\n",
       "<table border=\"1\" class=\"dataframe\">\n",
       "  <thead>\n",
       "    <tr style=\"text-align: right;\">\n",
       "      <th></th>\n",
       "      <th>pcat</th>\n",
       "      <th>carbquan80</th>\n",
       "      <th>energyquan80</th>\n",
       "      <th>fatquan80</th>\n",
       "      <th>proteinquan80</th>\n",
       "      <th>sugarquan80</th>\n",
       "    </tr>\n",
       "  </thead>\n",
       "  <tbody>\n",
       "    <tr>\n",
       "      <th>0</th>\n",
       "      <td>breakfast/cereal</td>\n",
       "      <td>288.0</td>\n",
       "      <td>1385.4</td>\n",
       "      <td>21.0</td>\n",
       "      <td>29.0</td>\n",
       "      <td>115.0</td>\n",
       "    </tr>\n",
       "    <tr>\n",
       "      <th>1</th>\n",
       "      <td>ice cream</td>\n",
       "      <td>47.0</td>\n",
       "      <td>376.6</td>\n",
       "      <td>19.0</td>\n",
       "      <td>6.0</td>\n",
       "      <td>36.0</td>\n",
       "    </tr>\n",
       "    <tr>\n",
       "      <th>2</th>\n",
       "      <td>meat products e.g. burgers</td>\n",
       "      <td>32.0</td>\n",
       "      <td>567.0</td>\n",
       "      <td>36.0</td>\n",
       "      <td>26.0</td>\n",
       "      <td>6.0</td>\n",
       "    </tr>\n",
       "    <tr>\n",
       "      <th>3</th>\n",
       "      <td>pasta</td>\n",
       "      <td>126.0</td>\n",
       "      <td>640.0</td>\n",
       "      <td>7.0</td>\n",
       "      <td>21.0</td>\n",
       "      <td>6.0</td>\n",
       "    </tr>\n",
       "    <tr>\n",
       "      <th>4</th>\n",
       "      <td>soup</td>\n",
       "      <td>127.8</td>\n",
       "      <td>768.0</td>\n",
       "      <td>3.0</td>\n",
       "      <td>14.0</td>\n",
       "      <td>5.0</td>\n",
       "    </tr>\n",
       "  </tbody>\n",
       "</table>\n",
       "</div>"
      ],
      "text/plain": [
       "                         pcat  carbquan80  energyquan80  fatquan80  proteinquan80  sugarquan80\n",
       "0  breakfast/cereal            288.0       1385.4        21.0       29.0           115.0      \n",
       "1  ice cream                   47.0        376.6         19.0       6.0            36.0       \n",
       "2  meat products e.g. burgers  32.0        567.0         36.0       26.0           6.0        \n",
       "3  pasta                       126.0       640.0         7.0        21.0           6.0        \n",
       "4  soup                        127.8       768.0         3.0        14.0           5.0        "
      ]
     },
     "execution_count": 208,
     "metadata": {},
     "output_type": "execute_result"
    }
   ],
   "source": [
    "#grab quintile cutoffs\n",
    "newquant80=nutrpro[['protein g', 'sugars g', 'carbs g', 'energy (kcal)', 'fat g','pcat']\n",
    "                  ].groupby(['pcat']).quantile([0.8])\n",
    "newquant80=newquant80.reset_index().drop('level_1',axis=1)\n",
    "newquant80.columns=['pcat','carbquan80', 'energyquan80', 'fatquan80', 'proteinquan80', 'sugarquan80']\n",
    "newquant80.head()"
   ]
  },
  {
   "cell_type": "code",
   "execution_count": 209,
   "metadata": {
    "collapsed": false,
    "scrolled": true
   },
   "outputs": [
    {
     "data": {
      "text/html": [
       "<div>\n",
       "<table border=\"1\" class=\"dataframe\">\n",
       "  <thead>\n",
       "    <tr style=\"text-align: right;\">\n",
       "      <th></th>\n",
       "      <th>pcat</th>\n",
       "      <th>carbquan20</th>\n",
       "      <th>energyquan20</th>\n",
       "      <th>fatquan20</th>\n",
       "      <th>proteinquan20</th>\n",
       "      <th>sugarquan20</th>\n",
       "    </tr>\n",
       "  </thead>\n",
       "  <tbody>\n",
       "    <tr>\n",
       "      <th>0</th>\n",
       "      <td>breakfast/cereal</td>\n",
       "      <td>143.0</td>\n",
       "      <td>737.0</td>\n",
       "      <td>3.0</td>\n",
       "      <td>13.0</td>\n",
       "      <td>28.0</td>\n",
       "    </tr>\n",
       "    <tr>\n",
       "      <th>1</th>\n",
       "      <td>ice cream</td>\n",
       "      <td>26.0</td>\n",
       "      <td>222.0</td>\n",
       "      <td>8.0</td>\n",
       "      <td>3.0</td>\n",
       "      <td>20.0</td>\n",
       "    </tr>\n",
       "    <tr>\n",
       "      <th>2</th>\n",
       "      <td>meat products e.g. burgers</td>\n",
       "      <td>2.0</td>\n",
       "      <td>170.0</td>\n",
       "      <td>5.0</td>\n",
       "      <td>8.0</td>\n",
       "      <td>0.0</td>\n",
       "    </tr>\n",
       "    <tr>\n",
       "      <th>3</th>\n",
       "      <td>pasta</td>\n",
       "      <td>6.0</td>\n",
       "      <td>49.0</td>\n",
       "      <td>1.0</td>\n",
       "      <td>1.0</td>\n",
       "      <td>0.0</td>\n",
       "    </tr>\n",
       "    <tr>\n",
       "      <th>4</th>\n",
       "      <td>soup</td>\n",
       "      <td>2.0</td>\n",
       "      <td>17.2</td>\n",
       "      <td>0.0</td>\n",
       "      <td>0.0</td>\n",
       "      <td>0.0</td>\n",
       "    </tr>\n",
       "  </tbody>\n",
       "</table>\n",
       "</div>"
      ],
      "text/plain": [
       "                         pcat  carbquan20  energyquan20  fatquan20  proteinquan20  sugarquan20\n",
       "0  breakfast/cereal            143.0       737.0         3.0        13.0           28.0       \n",
       "1  ice cream                   26.0        222.0         8.0        3.0            20.0       \n",
       "2  meat products e.g. burgers  2.0         170.0         5.0        8.0            0.0        \n",
       "3  pasta                       6.0         49.0          1.0        1.0            0.0        \n",
       "4  soup                        2.0         17.2          0.0        0.0            0.0        "
      ]
     },
     "execution_count": 209,
     "metadata": {},
     "output_type": "execute_result"
    }
   ],
   "source": [
    "#grab quintile cutoffs\n",
    "\n",
    "\n",
    "newquant20=nutrpro[['protein g', 'sugars g', 'carbs g', 'energy (kcal)', 'fat g','pcat']\n",
    "                  ].groupby(['pcat']).quantile([0.2])\n",
    "newquant20.head()\n",
    "#quantile = df[['category', 'price']].groupby('category').quantile([0.25,0.5,0.75])\n",
    "newquant20=newquant20.reset_index().drop('level_1',axis=1)\n",
    "newquant20.head()\n",
    "newquant20.columns=['pcat','carbquan20', 'energyquan20', 'fatquan20', 'proteinquan20', 'sugarquan20']\n",
    "newquant20.head()"
   ]
  },
  {
   "cell_type": "code",
   "execution_count": 210,
   "metadata": {
    "collapsed": false,
    "scrolled": true
   },
   "outputs": [
    {
     "data": {
      "text/html": [
       "<div>\n",
       "<table border=\"1\" class=\"dataframe\">\n",
       "  <thead>\n",
       "    <tr style=\"text-align: right;\">\n",
       "      <th></th>\n",
       "      <th>pcat</th>\n",
       "      <th>carbquan20</th>\n",
       "      <th>energyquan20</th>\n",
       "      <th>fatquan20</th>\n",
       "      <th>proteinquan20</th>\n",
       "      <th>sugarquan20</th>\n",
       "      <th>carbquan80</th>\n",
       "      <th>energyquan80</th>\n",
       "      <th>fatquan80</th>\n",
       "      <th>proteinquan80</th>\n",
       "      <th>sugarquan80</th>\n",
       "    </tr>\n",
       "  </thead>\n",
       "  <tbody>\n",
       "    <tr>\n",
       "      <th>0</th>\n",
       "      <td>breakfast/cereal</td>\n",
       "      <td>143.0</td>\n",
       "      <td>737.0</td>\n",
       "      <td>3.0</td>\n",
       "      <td>13.0</td>\n",
       "      <td>28.0</td>\n",
       "      <td>288.0</td>\n",
       "      <td>1385.4</td>\n",
       "      <td>21.0</td>\n",
       "      <td>29.0</td>\n",
       "      <td>115.0</td>\n",
       "    </tr>\n",
       "    <tr>\n",
       "      <th>1</th>\n",
       "      <td>ice cream</td>\n",
       "      <td>26.0</td>\n",
       "      <td>222.0</td>\n",
       "      <td>8.0</td>\n",
       "      <td>3.0</td>\n",
       "      <td>20.0</td>\n",
       "      <td>47.0</td>\n",
       "      <td>376.6</td>\n",
       "      <td>19.0</td>\n",
       "      <td>6.0</td>\n",
       "      <td>36.0</td>\n",
       "    </tr>\n",
       "    <tr>\n",
       "      <th>2</th>\n",
       "      <td>meat products e.g. burgers</td>\n",
       "      <td>2.0</td>\n",
       "      <td>170.0</td>\n",
       "      <td>5.0</td>\n",
       "      <td>8.0</td>\n",
       "      <td>0.0</td>\n",
       "      <td>32.0</td>\n",
       "      <td>567.0</td>\n",
       "      <td>36.0</td>\n",
       "      <td>26.0</td>\n",
       "      <td>6.0</td>\n",
       "    </tr>\n",
       "    <tr>\n",
       "      <th>3</th>\n",
       "      <td>pasta</td>\n",
       "      <td>6.0</td>\n",
       "      <td>49.0</td>\n",
       "      <td>1.0</td>\n",
       "      <td>1.0</td>\n",
       "      <td>0.0</td>\n",
       "      <td>126.0</td>\n",
       "      <td>640.0</td>\n",
       "      <td>7.0</td>\n",
       "      <td>21.0</td>\n",
       "      <td>6.0</td>\n",
       "    </tr>\n",
       "    <tr>\n",
       "      <th>4</th>\n",
       "      <td>soup</td>\n",
       "      <td>2.0</td>\n",
       "      <td>17.2</td>\n",
       "      <td>0.0</td>\n",
       "      <td>0.0</td>\n",
       "      <td>0.0</td>\n",
       "      <td>127.8</td>\n",
       "      <td>768.0</td>\n",
       "      <td>3.0</td>\n",
       "      <td>14.0</td>\n",
       "      <td>5.0</td>\n",
       "    </tr>\n",
       "  </tbody>\n",
       "</table>\n",
       "</div>"
      ],
      "text/plain": [
       "                         pcat  carbquan20  energyquan20  fatquan20  proteinquan20  sugarquan20  carbquan80  energyquan80  fatquan80  proteinquan80  sugarquan80\n",
       "0  breakfast/cereal            143.0       737.0         3.0        13.0           28.0         288.0       1385.4        21.0       29.0           115.0      \n",
       "1  ice cream                   26.0        222.0         8.0        3.0            20.0         47.0        376.6         19.0       6.0            36.0       \n",
       "2  meat products e.g. burgers  2.0         170.0         5.0        8.0            0.0          32.0        567.0         36.0       26.0           6.0        \n",
       "3  pasta                       6.0         49.0          1.0        1.0            0.0          126.0       640.0         7.0        21.0           6.0        \n",
       "4  soup                        2.0         17.2          0.0        0.0            0.0          127.8       768.0         3.0        14.0           5.0        "
      ]
     },
     "execution_count": 210,
     "metadata": {},
     "output_type": "execute_result"
    }
   ],
   "source": [
    "quants=pd.merge(newquant20,newquant80 ,on='pcat')\n",
    "quants.head()"
   ]
  },
  {
   "cell_type": "code",
   "execution_count": 213,
   "metadata": {
    "collapsed": false
   },
   "outputs": [
    {
     "data": {
      "text/plain": [
       "17503"
      ]
     },
     "execution_count": 213,
     "metadata": {},
     "output_type": "execute_result"
    }
   ],
   "source": [
    "proquant=pd.merge(quants, allcats, on='pcat',how='right')\n",
    "proquant.pcat.value_counts().sum()"
   ]
  },
  {
   "cell_type": "code",
   "execution_count": 214,
   "metadata": {
    "collapsed": false
   },
   "outputs": [
    {
     "data": {
      "text/html": [
       "<div>\n",
       "<table border=\"1\" class=\"dataframe\">\n",
       "  <thead>\n",
       "    <tr style=\"text-align: right;\">\n",
       "      <th></th>\n",
       "      <th>pcat</th>\n",
       "      <th>carbquan20</th>\n",
       "      <th>energyquan20</th>\n",
       "      <th>fatquan20</th>\n",
       "      <th>proteinquan20</th>\n",
       "      <th>sugarquan20</th>\n",
       "      <th>carbquan80</th>\n",
       "      <th>energyquan80</th>\n",
       "      <th>fatquan80</th>\n",
       "      <th>proteinquan80</th>\n",
       "      <th>sugarquan80</th>\n",
       "      <th>NDB_Number</th>\n",
       "      <th>protein g</th>\n",
       "      <th>fat g</th>\n",
       "      <th>carbs g</th>\n",
       "      <th>sugars g</th>\n",
       "      <th>energy (kcal)</th>\n",
       "      <th>NDB_No</th>\n",
       "      <th>Serving_Size</th>\n",
       "      <th>Serving_Size_UOM</th>\n",
       "      <th>Household_Serving_Size</th>\n",
       "      <th>Household_Serving_Size_UOM</th>\n",
       "      <th>Preparation_State</th>\n",
       "      <th>long_name</th>\n",
       "      <th>data_source</th>\n",
       "      <th>gtin_upc</th>\n",
       "      <th>manufacturer</th>\n",
       "      <th>date_modified</th>\n",
       "      <th>date_available</th>\n",
       "      <th>ingredients_english</th>\n",
       "      <th>name</th>\n",
       "      <th>unqname</th>\n",
       "      <th>ingredients</th>\n",
       "      <th>hipro</th>\n",
       "      <th>lowcarb</th>\n",
       "      <th>lowsugar</th>\n",
       "      <th>lowfat</th>\n",
       "      <th>lowcal</th>\n",
       "    </tr>\n",
       "  </thead>\n",
       "  <tbody>\n",
       "    <tr>\n",
       "      <th>0</th>\n",
       "      <td>breakfast/cereal</td>\n",
       "      <td>143.0</td>\n",
       "      <td>737.0</td>\n",
       "      <td>3.0</td>\n",
       "      <td>13.0</td>\n",
       "      <td>28.0</td>\n",
       "      <td>288.0</td>\n",
       "      <td>1385.4</td>\n",
       "      <td>21.0</td>\n",
       "      <td>29.0</td>\n",
       "      <td>115.0</td>\n",
       "      <td>45127931.0</td>\n",
       "      <td>39.0</td>\n",
       "      <td>7.0</td>\n",
       "      <td>137.0</td>\n",
       "      <td>30.0</td>\n",
       "      <td>774.0</td>\n",
       "      <td>45127931.0</td>\n",
       "      <td>51.0</td>\n",
       "      <td>g</td>\n",
       "      <td>1.0</td>\n",
       "      <td>Cup</td>\n",
       "      <td>UNPREPARED</td>\n",
       "      <td>KASHI GOLEAN CEREAL VANILLA GRAHAM 13.2OZ</td>\n",
       "      <td>GDSN</td>\n",
       "      <td>00018627923084</td>\n",
       "      <td>Kashi US</td>\n",
       "      <td>2/9/2017 18:19:41</td>\n",
       "      <td>2/9/2017 19:00:48</td>\n",
       "      <td>KASHI SEVEN WHOLE GRAIN HONEY PUFF CEREAL (HARD RED WHEAT, BROWN RICE, HONEY, CANE SYRUP, BARLEY, TRITICALE, OATS, RYE, BUCKWHEAT, SESAME SEEDS), DEGERMINATED YELLOW CORN FLOUR, EXPELLER PRESSED SOY GRITS, GROUND DEGERMINATED CORN, CANE SYRUP, EXPELLER PRESSED SOY PROTEIN ISOLATE, OAT FIBER, WHEAT BRAN, ROLLED OATS, DRIED CANE SYRUP, EXPELLER PRESSED SOY FLOUR, CORN BRAN, KASHI SEVEN WHOLE GRAINS &amp; SESAME FLOUR (WHOLE: OATS, HARD RED WHEAT, RYE, BROWN RICE, TRITICALE, BARLEY, BUCKWHEAT, SESAME SEEDS), BROWN RICE FLOUR, NATURAL FLAVORS, HONEY, BROWN RICE SYRUP, SALT, MOLASSES, BAKING SODA, VITAMIN E (MIXED TOCOPHEROLS) FOR FRESHNESS, ANNATTO EXTRACT COLOR.</td>\n",
       "      <td>Kashi golean cereal vanilla graham 13.2oz</td>\n",
       "      <td>Kashi us: kashi golean cereal vanilla graham 13.2oz</td>\n",
       "      <td>Kashi seven whole grain honey puff cereal (hard red wheat, brown rice, honey, cane syrup, barley, triticale, oats, rye, buckwheat, sesame seeds), degerminated yellow corn flour, expeller pressed soy grits, ground degerminated corn, cane syrup, expeller pressed soy protein isolate, oat fiber, wheat bran, rolled oats, dried cane syrup, expeller pressed soy flour, corn bran, kashi seven whole grains &amp; sesame flour (whole: oats, hard red wheat, rye, brown rice, triticale, barley, buckwheat, sesame seeds), brown rice flour, natural flavors, honey, brown rice syrup, salt, molasses, baking soda, vitamin e (mixed tocopherols) for freshness, annatto extract color.</td>\n",
       "      <td>1</td>\n",
       "      <td>1</td>\n",
       "      <td>0</td>\n",
       "      <td>0</td>\n",
       "      <td>0</td>\n",
       "    </tr>\n",
       "  </tbody>\n",
       "</table>\n",
       "</div>"
      ],
      "text/plain": [
       "               pcat  carbquan20  energyquan20  fatquan20  proteinquan20  sugarquan20  carbquan80  energyquan80  fatquan80  proteinquan80  sugarquan80  NDB_Number  protein g  fat g  carbs g  sugars g  energy (kcal)      NDB_No  Serving_Size Serving_Size_UOM  Household_Serving_Size Household_Serving_Size_UOM Preparation_State                                  long_name data_source        gtin_upc manufacturer      date_modified     date_available  \\\n",
       "0  breakfast/cereal  143.0       737.0         3.0        13.0           28.0         288.0       1385.4        21.0       29.0           115.0        45127931.0  39.0       7.0    137.0    30.0      774.0          45127931.0  51.0          g                1.0                     Cup                        UNPREPARED        KASHI GOLEAN CEREAL VANILLA GRAHAM 13.2OZ  GDSN        00018627923084  Kashi US     2/9/2017 18:19:41  2/9/2017 19:00:48   \n",
       "\n",
       "                                                                                                                                                                                                                                                                                                                                                                                                                                                                                                                                                                                                                                                                       ingredients_english                                       name                                              unqname  \\\n",
       "0  KASHI SEVEN WHOLE GRAIN HONEY PUFF CEREAL (HARD RED WHEAT, BROWN RICE, HONEY, CANE SYRUP, BARLEY, TRITICALE, OATS, RYE, BUCKWHEAT, SESAME SEEDS), DEGERMINATED YELLOW CORN FLOUR, EXPELLER PRESSED SOY GRITS, GROUND DEGERMINATED CORN, CANE SYRUP, EXPELLER PRESSED SOY PROTEIN ISOLATE, OAT FIBER, WHEAT BRAN, ROLLED OATS, DRIED CANE SYRUP, EXPELLER PRESSED SOY FLOUR, CORN BRAN, KASHI SEVEN WHOLE GRAINS & SESAME FLOUR (WHOLE: OATS, HARD RED WHEAT, RYE, BROWN RICE, TRITICALE, BARLEY, BUCKWHEAT, SESAME SEEDS), BROWN RICE FLOUR, NATURAL FLAVORS, HONEY, BROWN RICE SYRUP, SALT, MOLASSES, BAKING SODA, VITAMIN E (MIXED TOCOPHEROLS) FOR FRESHNESS, ANNATTO EXTRACT COLOR.  Kashi golean cereal vanilla graham 13.2oz  Kashi us: kashi golean cereal vanilla graham 13.2oz   \n",
       "\n",
       "                                                                                                                                                                                                                                                                                                                                                                                                                                                                                                                                                                                                                                                                               ingredients  hipro  lowcarb  lowsugar  lowfat  lowcal  \n",
       "0  Kashi seven whole grain honey puff cereal (hard red wheat, brown rice, honey, cane syrup, barley, triticale, oats, rye, buckwheat, sesame seeds), degerminated yellow corn flour, expeller pressed soy grits, ground degerminated corn, cane syrup, expeller pressed soy protein isolate, oat fiber, wheat bran, rolled oats, dried cane syrup, expeller pressed soy flour, corn bran, kashi seven whole grains & sesame flour (whole: oats, hard red wheat, rye, brown rice, triticale, barley, buckwheat, sesame seeds), brown rice flour, natural flavors, honey, brown rice syrup, salt, molasses, baking soda, vitamin e (mixed tocopherols) for freshness, annatto extract color.  1      1        0         0       0       "
      ]
     },
     "execution_count": 214,
     "metadata": {},
     "output_type": "execute_result"
    }
   ],
   "source": [
    "\n",
    "#using quintiles to define high and low quantities\n",
    "proquant['hipro']=np.where(proquant['protein g']>proquant.proteinquan80,1,0)\n",
    "\n",
    "proquant['lowcarb']=np.where(proquant['carbs g']< proquant.carbquan20,1,0)\n",
    "\n",
    "proquant['lowsugar']=np.where(proquant['sugars g']<proquant.sugarquan20,1,0)\n",
    "\n",
    "proquant['lowfat']=np.where(proquant['fat g']<proquant.fatquan20,1,0)\n",
    " \n",
    "proquant['lowcal']=np.where(proquant['energy (kcal)']<proquant.energyquan20,1,0) \n",
    " \n",
    "\n",
    "proquant.head(1)\n",
    "\n"
   ]
  },
  {
   "cell_type": "code",
   "execution_count": 215,
   "metadata": {
    "collapsed": false
   },
   "outputs": [],
   "source": [
    "#finalize the database you'll use\n",
    "\n",
    "proquant.to_csv('proquantfeb11.csv')\n",
    "\n",
    "proquant[['unqname']].to_json('productnamelist6.json', orient='values')\n",
    "\n",
    "#matrix with word2vec ingredient vectors\n",
    "vecsapp11=vecsuse[proquant.index.tolist()]\n",
    "pickle.dump(vecsapp, open(\"vecsapp11.pkl\", 'wb'))\n",
    "print(len(vecsapp),len(proquant))"
   ]
  },
  {
   "cell_type": "code",
   "execution_count": 217,
   "metadata": {
    "collapsed": false
   },
   "outputs": [
    {
     "name": "stdout",
     "output_type": "stream",
     "text": [
      "17503 17503\n"
     ]
    }
   ],
   "source": [
    " \n",
    "vecsapp11=vecsuse[proquant.index.tolist()]\n",
    "pickle.dump(vecsapp, open(\"vecsapp11.pkl\", 'wb'))\n",
    "print(len(vecsapp11),len(proquant))"
   ]
  },
  {
   "cell_type": "code",
   "execution_count": 191,
   "metadata": {
    "collapsed": false
   },
   "outputs": [
    {
     "data": {
      "text/html": [
       "<div>\n",
       "<table border=\"1\" class=\"dataframe\">\n",
       "  <thead>\n",
       "    <tr style=\"text-align: right;\">\n",
       "      <th></th>\n",
       "      <th>name</th>\n",
       "      <th>ingredients</th>\n",
       "      <th>protein g</th>\n",
       "    </tr>\n",
       "  </thead>\n",
       "  <tbody>\n",
       "    <tr>\n",
       "      <th>0</th>\n",
       "      <td>Milano italian bread</td>\n",
       "      <td>Enriched wheat flour bleached (wheat flour, barley malt, niacin, iron, thiamine mononitrate, riboflavin, folic acid), water, yeast, high fructose corn syrup, contains 2% or less of the following: wheat, gluten, soybean oil, salt, corn flour, acetic acid, lactic acid, canola oil, yeast nutrients (calcium sulfate, monocalcium phosphate, ammonium sulfate), dough conditioner (monoglycerides, ascorbic acid), calcium propionate (preservative), enzyme, soy lecithin.</td>\n",
       "      <td>33.333333</td>\n",
       "    </tr>\n",
       "    <tr>\n",
       "      <th>1</th>\n",
       "      <td>Split top wheat bread</td>\n",
       "      <td>Enriched wheat flour bleached (wheat flour, malted barley flour, niacin, iron, thiamine mononitrate, riboflavin, folic acid), water, high fructose corn syrup, wheat bran, wheat, yeast, wheat gluten, contains 2% or less of the following: soybean oil, honey, molasses, salt, cultured wheat flour, rye, wheat germ, dough conditioner (monoglycerides, ascorbic acid), yeast nutrients (calcium sulfate, ammonium sulfate), enzyme, soy lecithin.</td>\n",
       "      <td>41.148148</td>\n",
       "    </tr>\n",
       "    <tr>\n",
       "      <th>2</th>\n",
       "      <td>Acme, sourdough bread</td>\n",
       "      <td>Enriched flour (wheat flour, malted barley flour, niacin, reduced iron, thiamin mononitrate, riboflavin, folic acid), water, yeast, wheat gluten, contains less than 2% of soybean oil, sugar, sodium stearoyl lactylate, salt, furmaric acid, datem, dextrose, sodium diacetate, lactic acid, silicon dioxide, ascorbic acid, enzymes.</td>\n",
       "      <td>38.250000</td>\n",
       "    </tr>\n",
       "    <tr>\n",
       "      <th>3</th>\n",
       "      <td>Enriched butterbread</td>\n",
       "      <td>Unbleached enriched flour (wheat flour, malted barley flour, niacin, reduced iron, thiamin mononitrate, riboflavin, folic acid), water, sugar, contains 2% or less of each of the following: yeast, soy flour, butter* (made from milk), monoglycerides, ascorbic acid, enzymes, wheat gluten, salt, calcium sulfate, cultured wheat flour, vinegar, monocalcium phosphate, soy lecithin, calcium carbonate.</td>\n",
       "      <td>44.384615</td>\n",
       "    </tr>\n",
       "    <tr>\n",
       "      <th>4</th>\n",
       "      <td>Wheat enriched bread</td>\n",
       "      <td>Enriched flour (wheat flour, malted barley flour, niacin, iron, thiamine mononitrate, riboflavin, folic acid), water high fructose corn syrup, yeast, wheat bran, wheat gluten, rolled whole wheat, soy oil, contains 2% or less of the following: whole rye meal, wheat germ, salt, honey, molasses, monoglycerides, cultured wheat flour, calcium sulfate, enzyme, ammonium sulfate, ascorbic acid, soy lecithin.</td>\n",
       "      <td>41.148148</td>\n",
       "    </tr>\n",
       "    <tr>\n",
       "      <th>5</th>\n",
       "      <td>Mcginnis, butter shortbread cookies</td>\n",
       "      <td>Wheat flour, butter, sugar, vegetable palm oil, artificial table butter flavor and salt</td>\n",
       "      <td>16.000000</td>\n",
       "    </tr>\n",
       "  </tbody>\n",
       "</table>\n",
       "</div>"
      ],
      "text/plain": [
       "                                  name                                                                                                                                                                                                                                                                                                                                                                                                                                                                      ingredients  protein g\n",
       "0  Milano italian bread                 Enriched wheat flour bleached (wheat flour, barley malt, niacin, iron, thiamine mononitrate, riboflavin, folic acid), water, yeast, high fructose corn syrup, contains 2% or less of the following: wheat, gluten, soybean oil, salt, corn flour, acetic acid, lactic acid, canola oil, yeast nutrients (calcium sulfate, monocalcium phosphate, ammonium sulfate), dough conditioner (monoglycerides, ascorbic acid), calcium propionate (preservative), enzyme, soy lecithin.  33.333333\n",
       "1  Split top wheat bread                Enriched wheat flour bleached (wheat flour, malted barley flour, niacin, iron, thiamine mononitrate, riboflavin, folic acid), water, high fructose corn syrup, wheat bran, wheat, yeast, wheat gluten, contains 2% or less of the following: soybean oil, honey, molasses, salt, cultured wheat flour, rye, wheat germ, dough conditioner (monoglycerides, ascorbic acid), yeast nutrients (calcium sulfate, ammonium sulfate), enzyme, soy lecithin.                            41.148148\n",
       "2  Acme, sourdough bread                Enriched flour (wheat flour, malted barley flour, niacin, reduced iron, thiamin mononitrate, riboflavin, folic acid), water, yeast, wheat gluten, contains less than 2% of soybean oil, sugar, sodium stearoyl lactylate, salt, furmaric acid, datem, dextrose, sodium diacetate, lactic acid, silicon dioxide, ascorbic acid, enzymes.                                                                                                                                          38.250000\n",
       "3  Enriched butterbread                 Unbleached enriched flour (wheat flour, malted barley flour, niacin, reduced iron, thiamin mononitrate, riboflavin, folic acid), water, sugar, contains 2% or less of each of the following: yeast, soy flour, butter* (made from milk), monoglycerides, ascorbic acid, enzymes, wheat gluten, salt, calcium sulfate, cultured wheat flour, vinegar, monocalcium phosphate, soy lecithin, calcium carbonate.                                                                     44.384615\n",
       "4  Wheat enriched bread                 Enriched flour (wheat flour, malted barley flour, niacin, iron, thiamine mononitrate, riboflavin, folic acid), water high fructose corn syrup, yeast, wheat bran, wheat gluten, rolled whole wheat, soy oil, contains 2% or less of the following: whole rye meal, wheat germ, salt, honey, molasses, monoglycerides, cultured wheat flour, calcium sulfate, enzyme, ammonium sulfate, ascorbic acid, soy lecithin.                                                              41.148148\n",
       "5  Mcginnis, butter shortbread cookies  Wheat flour, butter, sugar, vegetable palm oil, artificial table butter flavor and salt                                                                                                                                                                                                                                                                                                                                                                                          16.000000"
      ]
     },
     "execution_count": 191,
     "metadata": {},
     "output_type": "execute_result"
    }
   ],
   "source": [
    "#example code for app \n",
    "unqname='Le pain des fleur: le pain des fleur, 100% organic quinoa crispbread'\n",
    "ng='hipro'\n",
    "if ng=='hipro':\n",
    "    nutr='protein g'\n",
    "    lab='More protein(g)/serving than 75% of products in this food category'\n",
    "if ng=='lowfat'  :\n",
    "    nutr='fat g'\n",
    "    lab='Less fat(g)/serving than 25% of products in this food category'\n",
    "if ng=='lowcarb'  :\n",
    "    nutr='carbs g'\n",
    "    lab= 'Fewer carbs(g)/serving than 25% of products in this food category'\n",
    "if ng=='lowcal'  :\n",
    "    nutr='energrep'\n",
    "    lab='Fewer calories/serving than 25% of products in this food category'\n",
    "if ng=='lowsugar'  :\n",
    "    nutr='sugars g'\n",
    "    lab='Fewer grams of sugar/serving than 25% of products in this food category'\n",
    "\n",
    "#open a file, where you stored the word2vec info\n",
    "import pickle\n",
    "file = open('vecsapp.pkl', 'rb')\n",
    "vecsapp = pickle.load(file)\n",
    "file.close()\n",
    "#pull in the nutrientdata\n",
    "proquantapp=pd.read_csv('proquantfeb10.csv', low_memory=False)\n",
    "   \n",
    "#find the location of item in database and word2vec matrix:\n",
    "name='Kashi golean cereal vanilla graham 13.2oz'\n",
    "\n",
    "indname=proquantapp[proquantapp['unqname']==unqname].index.values.item()\n",
    "vecname=vecsapp[indname]\n",
    "\n",
    "#find index of all elements of that category\n",
    "catname=proquantapp.ix[indname,'pcat'] \n",
    "catindex=proquantapp[proquantapp['pcat']==catname].index.tolist()\n",
    "#print(len(catindex))\n",
    "\n",
    "catdf=proquantapp[proquantapp['pcat']==catname]\n",
    "\n",
    "catnutdf=catdf[catdf[ng]==1]\n",
    "\n",
    "#len(catnutdf)\n",
    "\n",
    "catnutdfind=catnutdf.index.tolist() \n",
    "catvec=vecsapp[catnutdfind] \n",
    "#from sklearn.metrics.pairwise import cosine_similarity\n",
    "res=cosine_similarity(vecname.reshape(1,-1), catvec) \n",
    "\n",
    "ind = np.argpartition(res.reshape(-1), -5)[-5:] \n",
    "#ind\n",
    "\n",
    "#print(ind,res.reshape(-1)[ind])\n",
    "#proquantapp.iloc[ind][['pcat','name','ingredients','protein g']]\n",
    "pd.merge(catnutdf.reset_index().iloc[ind][['name','ingredients',nutr]],\n",
    "         proquantapp.reset_index()[['name','ingredients',nutr]].iloc[[211]],how='outer' )"
   ]
  },
  {
   "cell_type": "code",
   "execution_count": null,
   "metadata": {
    "collapsed": true
   },
   "outputs": [],
   "source": []
  },
  {
   "cell_type": "code",
   "execution_count": 189,
   "metadata": {
    "collapsed": false
   },
   "outputs": [
    {
     "name": "stdout",
     "output_type": "stream",
     "text": [
      "<class 'pandas.core.frame.DataFrame'>\n",
      "RangeIndex: 31339 entries, 0 to 31338\n",
      "Data columns (total 39 columns):\n",
      "Unnamed: 0                    31339 non-null int64\n",
      "pcat                          31339 non-null object\n",
      "carbquan20                    31339 non-null float64\n",
      "energyquan20                  31339 non-null float64\n",
      "fatquan20                     31339 non-null float64\n",
      "proteinquan20                 31339 non-null float64\n",
      "sugarquan20                   31339 non-null float64\n",
      "carbquan80                    31339 non-null float64\n",
      "energyquan80                  31339 non-null float64\n",
      "fatquan80                     31339 non-null float64\n",
      "proteinquan80                 31339 non-null float64\n",
      "sugarquan80                   31339 non-null float64\n",
      "NDB_Number                    31339 non-null float64\n",
      "protein g                     31339 non-null float64\n",
      "fat g                         31339 non-null float64\n",
      "carbs g                       31339 non-null float64\n",
      "sugars g                      31339 non-null float64\n",
      "energy (kcal)                 31339 non-null float64\n",
      "NDB_No                        31339 non-null float64\n",
      "Serving_Size                  31339 non-null float64\n",
      "Serving_Size_UOM              31339 non-null object\n",
      "Household_Serving_Size        31339 non-null float64\n",
      "Household_Serving_Size_UOM    31339 non-null object\n",
      "Preparation_State             31339 non-null object\n",
      "long_name                     31339 non-null object\n",
      "data_source                   31339 non-null object\n",
      "gtin_upc                      31339 non-null int64\n",
      "manufacturer                  31339 non-null object\n",
      "date_modified                 31339 non-null object\n",
      "date_available                31339 non-null object\n",
      "ingredients_english           31339 non-null object\n",
      "name                          31339 non-null object\n",
      "unqname                       31339 non-null object\n",
      "ingredients                   31339 non-null object\n",
      "hipro                         31339 non-null int64\n",
      "lowcarb                       31339 non-null int64\n",
      "lowsugar                      31339 non-null int64\n",
      "lowfat                        31339 non-null int64\n",
      "lowcal                        31339 non-null int64\n",
      "dtypes: float64(19), int64(7), object(13)\n",
      "memory usage: 9.3+ MB\n"
     ]
    }
   ],
   "source": [
    "proquantapp.info()"
   ]
  },
  {
   "cell_type": "code",
   "execution_count": 190,
   "metadata": {
    "collapsed": false
   },
   "outputs": [
    {
     "data": {
      "text/plain": [
       "'Le pain des fleur: le pain des fleur, 100% organic quinoa crispbread'"
      ]
     },
     "execution_count": 190,
     "metadata": {},
     "output_type": "execute_result"
    }
   ],
   "source": [
    "proquant.unqname.iloc[1000]"
   ]
  },
  {
   "cell_type": "code",
   "execution_count": 223,
   "metadata": {
    "collapsed": false
   },
   "outputs": [
    {
     "data": {
      "text/plain": [
       "0    ice cream ingredients: milk, cream, sugar, strawberries (strawberries, sugar), corn syrup solids, skim milk, whey, natural flavor, guar gum                      \n",
       "1    water, sugar, tomato paste, molasses, distilled vinegar, contains 2% or less of: corn starch, salt, dried chipotle pepper, natural smoke flavor, mustard flour   \n",
       "2    sugar, water, distilled vinegar, tomato paste, molasses, modified corn starch, salt, pineapple juice concentrate, contains 1% or less of: jalapeno peppers, spice\n",
       "3    tomato puree (water, tomato paste), sugar, distilled vinegar, molasses, water, modified corn starch, salt, bourbon whiskey, contains 1% or less of: mustard flour\n",
       "5    sugar, distilled vinegar, water, tomato paste, modified corn starch, molasses, salt, pineapple juice concentrate, contains 1% or less of: natural flavor, spice  \n",
       "Name: ingredients2, dtype: object"
      ]
     },
     "execution_count": 223,
     "metadata": {},
     "output_type": "execute_result"
    }
   ],
   "source": [
    "products2['ingredients2']=products2['ingredients_english'].apply(lambda x: ','.join(str(x).lower().split(',')[:6]))\n",
    "products2.ingredients2.head()\n",
    "\n",
    "#products2['ingredients2']=products2['ingredients_english'].apply(lambda x: ','.join(str(x).lower().split(',')[:6]))\n",
    "products2.ingredients2.head()\n"
   ]
  },
  {
   "cell_type": "code",
   "execution_count": 3,
   "metadata": {
    "collapsed": false
   },
   "outputs": [
    {
     "name": "stdout",
     "output_type": "stream",
     "text": [
      "193751\n"
     ]
    }
   ],
   "source": [
    "import re\n",
    "#each product has a python list of ingredients in the ingredient corpus\n",
    "proquant['ingredients']= proquant['ingredients'].astype(str) \n",
    "ingcorp=(proquant.ingredients\n",
    "         .apply(lambda x: (re.findall(r'[\\w|\\s]+',x))) )\n",
    "print(len(ingcorp) )\n",
    "#ingcorp[980:1000]"
   ]
  },
  {
   "cell_type": "code",
   "execution_count": 7,
   "metadata": {
    "collapsed": false
   },
   "outputs": [],
   "source": [
    "from nltk.stem import LancasterStemmer\n",
    "ls=LancasterStemmer()\n",
    "\n",
    "eraselist=['two','2','for','from','acid', 'with','and', 'cured', 'ingredients', 'contains', 'less',  'than', 'as ', \n",
    "        'leavening', 'emulsifier', 'dry','natural', 'artificial', 'flavors', 'of', \n",
    "        'less', 'more', 'or', 'an', 'semi sweet', 'semisweet',  'agents','flavor','powder',\n",
    "        'lowfat','processed','alum','preservative', 'for col',\"each\", \"the\", \"following\", \n",
    "         'color' ,'colors' 'yellow 5 lake', 'col', 'emulsifier','in',  'lake', \n",
    "         'flavors' ,\"a\",\"preservative\",  'yellow',   'without', 'that',\n",
    " 'red', 'fd', 'red', 'mono', 'pasteurized' ,'organic' ,'glaze', 'yellow',\n",
    "          'alum','powder','semisweet','freshness','maintain', 'to',' for ','cured',\n",
    "          'ingredients', 'contains','natural','flavors','agent', 'blue',\n",
    "'green','red',  'natural','artificial', 'percent','salt'] \n",
    "\n",
    "everyword=[]\n",
    "\n",
    "for phrase in ingcorp:\n",
    "    allwords=' '\n",
    "    for word in phrase: \n",
    "        allwords+=' '+word\n",
    "    everyword.append([allwords])\n",
    "\n"
   ]
  },
  {
   "cell_type": "code",
   "execution_count": 10,
   "metadata": {
    "collapsed": false
   },
   "outputs": [
    {
     "name": "stdout",
     "output_type": "stream",
     "text": [
      "193751 193751\n"
     ]
    }
   ],
   "source": [
    "cleanedwords2=[]\n",
    "for line in everyword:\n",
    "    newproduct=[]\n",
    "    for word in line[0].split():\n",
    "        if word not in eraselist:\n",
    "            newproduct.append(word)\n",
    "    cleanedwords2.append(newproduct)\n",
    "print(len(everyword) ,len(cleanedwords2))"
   ]
  },
  {
   "cell_type": "code",
   "execution_count": 13,
   "metadata": {
    "collapsed": false
   },
   "outputs": [
    {
     "name": "stderr",
     "output_type": "stream",
     "text": [
      "2019-02-05 12:24:39,923 : INFO : collecting all words and their counts\n",
      "2019-02-05 12:24:39,927 : INFO : PROGRESS: at sentence #0, processed 0 words, keeping 0 word types\n",
      "2019-02-05 12:24:40,123 : INFO : PROGRESS: at sentence #10000, processed 239646 words, keeping 4042 word types\n",
      "2019-02-05 12:24:40,300 : INFO : PROGRESS: at sentence #20000, processed 466106 words, keeping 5615 word types\n",
      "2019-02-05 12:24:40,464 : INFO : PROGRESS: at sentence #30000, processed 700493 words, keeping 6638 word types\n",
      "2019-02-05 12:24:40,637 : INFO : PROGRESS: at sentence #40000, processed 958090 words, keeping 7660 word types\n",
      "2019-02-05 12:24:40,813 : INFO : PROGRESS: at sentence #50000, processed 1197605 words, keeping 8285 word types\n",
      "2019-02-05 12:24:40,993 : INFO : PROGRESS: at sentence #60000, processed 1438441 words, keeping 8894 word types\n",
      "2019-02-05 12:24:41,294 : INFO : PROGRESS: at sentence #70000, processed 1689013 words, keeping 9569 word types\n",
      "2019-02-05 12:24:41,517 : INFO : PROGRESS: at sentence #80000, processed 1889090 words, keeping 10252 word types\n",
      "2019-02-05 12:24:41,681 : INFO : PROGRESS: at sentence #90000, processed 2033640 words, keeping 10799 word types\n",
      "2019-02-05 12:24:41,933 : INFO : PROGRESS: at sentence #100000, processed 2333007 words, keeping 11521 word types\n",
      "2019-02-05 12:24:42,172 : INFO : PROGRESS: at sentence #110000, processed 2680783 words, keeping 12259 word types\n",
      "2019-02-05 12:24:42,517 : INFO : PROGRESS: at sentence #120000, processed 3150882 words, keeping 12993 word types\n",
      "2019-02-05 12:24:42,757 : INFO : PROGRESS: at sentence #130000, processed 3433173 words, keeping 13631 word types\n",
      "2019-02-05 12:24:42,944 : INFO : PROGRESS: at sentence #140000, processed 3665405 words, keeping 14046 word types\n",
      "2019-02-05 12:24:43,180 : INFO : PROGRESS: at sentence #150000, processed 3985057 words, keeping 14510 word types\n",
      "2019-02-05 12:24:43,429 : INFO : PROGRESS: at sentence #160000, processed 4331827 words, keeping 14945 word types\n",
      "2019-02-05 12:24:43,596 : INFO : PROGRESS: at sentence #170000, processed 4572541 words, keeping 15281 word types\n",
      "2019-02-05 12:24:43,794 : INFO : PROGRESS: at sentence #180000, processed 4836197 words, keeping 15600 word types\n",
      "2019-02-05 12:24:44,078 : INFO : PROGRESS: at sentence #190000, processed 5249542 words, keeping 16055 word types\n",
      "2019-02-05 12:24:44,202 : INFO : collected 16253 word types from a corpus of 5386954 raw words and 193751 sentences\n",
      "2019-02-05 12:24:44,203 : INFO : Loading a fresh vocabulary\n",
      "2019-02-05 12:24:44,267 : INFO : effective_min_count=7047 retains 160 unique words (0% of original 16253, drops 16093)\n",
      "2019-02-05 12:24:44,277 : INFO : effective_min_count=7047 leaves 3942717 word corpus (73% of original 5386954, drops 1444237)\n",
      "2019-02-05 12:24:44,284 : INFO : deleting the raw counts dictionary of 16253 items\n",
      "2019-02-05 12:24:44,294 : INFO : sample=0.001 downsamples 124 most-common words\n",
      "2019-02-05 12:24:44,295 : INFO : downsampling leaves estimated 2042779 word corpus (51.8% of prior 3942717)\n",
      "2019-02-05 12:24:44,317 : INFO : estimated required memory for 160 words and 200 dimensions: 336000 bytes\n",
      "2019-02-05 12:24:44,318 : INFO : resetting layer weights\n",
      "2019-02-05 12:24:44,349 : INFO : training model with 3 workers on 160 vocabulary and 200 features, using sg=0 hs=0 sample=0.001 negative=5 window=5\n",
      "2019-02-05 12:24:45,407 : INFO : EPOCH 1 - PROGRESS: at 23.06% examples, 399276 words/s, in_qsize 5, out_qsize 0\n",
      "2019-02-05 12:24:46,407 : INFO : EPOCH 1 - PROGRESS: at 48.30% examples, 400928 words/s, in_qsize 5, out_qsize 0\n",
      "2019-02-05 12:24:47,408 : INFO : EPOCH 1 - PROGRESS: at 73.75% examples, 464866 words/s, in_qsize 5, out_qsize 0\n",
      "2019-02-05 12:24:48,414 : INFO : EPOCH 1 - PROGRESS: at 94.88% examples, 477175 words/s, in_qsize 4, out_qsize 1\n",
      "2019-02-05 12:24:48,630 : INFO : worker thread finished; awaiting finish of 2 more threads\n",
      "2019-02-05 12:24:48,633 : INFO : worker thread finished; awaiting finish of 1 more threads\n",
      "2019-02-05 12:24:48,638 : INFO : worker thread finished; awaiting finish of 0 more threads\n",
      "2019-02-05 12:24:48,639 : INFO : EPOCH - 1 : training on 5386954 raw words (2044370 effective words) took 4.2s, 481286 effective words/s\n",
      "2019-02-05 12:24:49,705 : INFO : EPOCH 2 - PROGRESS: at 28.42% examples, 496392 words/s, in_qsize 6, out_qsize 0\n",
      "2019-02-05 12:24:50,706 : INFO : EPOCH 2 - PROGRESS: at 53.55% examples, 443377 words/s, in_qsize 5, out_qsize 0\n",
      "2019-02-05 12:24:51,711 : INFO : EPOCH 2 - PROGRESS: at 76.52% examples, 490424 words/s, in_qsize 5, out_qsize 0\n",
      "2019-02-05 12:24:52,524 : INFO : worker thread finished; awaiting finish of 2 more threads\n",
      "2019-02-05 12:24:52,525 : INFO : worker thread finished; awaiting finish of 1 more threads\n",
      "2019-02-05 12:24:52,527 : INFO : worker thread finished; awaiting finish of 0 more threads\n",
      "2019-02-05 12:24:52,528 : INFO : EPOCH - 2 : training on 5386954 raw words (2041415 effective words) took 3.8s, 533270 effective words/s\n",
      "2019-02-05 12:24:53,545 : INFO : EPOCH 3 - PROGRESS: at 27.99% examples, 489995 words/s, in_qsize 5, out_qsize 0\n",
      "2019-02-05 12:24:54,549 : INFO : EPOCH 3 - PROGRESS: at 64.92% examples, 615156 words/s, in_qsize 5, out_qsize 0\n",
      "2019-02-05 12:24:55,553 : INFO : EPOCH 3 - PROGRESS: at 95.62% examples, 643229 words/s, in_qsize 5, out_qsize 0\n",
      "2019-02-05 12:24:55,765 : INFO : worker thread finished; awaiting finish of 2 more threads\n",
      "2019-02-05 12:24:55,768 : INFO : worker thread finished; awaiting finish of 1 more threads\n",
      "2019-02-05 12:24:55,774 : INFO : worker thread finished; awaiting finish of 0 more threads\n",
      "2019-02-05 12:24:55,777 : INFO : EPOCH - 3 : training on 5386954 raw words (2042576 effective words) took 3.2s, 631206 effective words/s\n",
      "2019-02-05 12:24:56,800 : INFO : EPOCH 4 - PROGRESS: at 27.56% examples, 481176 words/s, in_qsize 5, out_qsize 0\n",
      "2019-02-05 12:24:57,801 : INFO : EPOCH 4 - PROGRESS: at 61.85% examples, 581073 words/s, in_qsize 5, out_qsize 0\n",
      "2019-02-05 12:24:58,802 : INFO : EPOCH 4 - PROGRESS: at 85.67% examples, 563014 words/s, in_qsize 5, out_qsize 0\n",
      "2019-02-05 12:24:59,426 : INFO : worker thread finished; awaiting finish of 2 more threads\n",
      "2019-02-05 12:24:59,427 : INFO : worker thread finished; awaiting finish of 1 more threads\n",
      "2019-02-05 12:24:59,428 : INFO : worker thread finished; awaiting finish of 0 more threads\n",
      "2019-02-05 12:24:59,429 : INFO : EPOCH - 4 : training on 5386954 raw words (2041706 effective words) took 3.6s, 561452 effective words/s\n",
      "2019-02-05 12:25:00,468 : INFO : EPOCH 5 - PROGRESS: at 28.42% examples, 493129 words/s, in_qsize 5, out_qsize 0\n",
      "2019-02-05 12:25:01,481 : INFO : EPOCH 5 - PROGRESS: at 63.74% examples, 598316 words/s, in_qsize 5, out_qsize 0\n",
      "2019-02-05 12:25:02,492 : INFO : EPOCH 5 - PROGRESS: at 96.94% examples, 648984 words/s, in_qsize 3, out_qsize 2\n",
      "2019-02-05 12:25:02,599 : INFO : worker thread finished; awaiting finish of 2 more threads\n",
      "2019-02-05 12:25:02,600 : INFO : worker thread finished; awaiting finish of 1 more threads\n",
      "2019-02-05 12:25:02,603 : INFO : worker thread finished; awaiting finish of 0 more threads\n",
      "2019-02-05 12:25:02,604 : INFO : EPOCH - 5 : training on 5386954 raw words (2041722 effective words) took 3.2s, 648099 effective words/s\n",
      "2019-02-05 12:25:02,605 : INFO : training on a 26934770 raw words (10211789 effective words) took 18.3s, 559456 effective words/s\n"
     ]
    },
    {
     "data": {
      "text/plain": [
       "160"
      ]
     },
     "execution_count": 13,
     "metadata": {},
     "output_type": "execute_result"
    }
   ],
   "source": [
    "\n",
    "from gensim.test.utils import common_texts, get_tmpfile\n",
    "from gensim.models import Word2Vec\n",
    "\n",
    "#https://rare-technologies.com/word2vec-tutorial/\n",
    "# import modules & set up logging\n",
    "import gensim, logging\n",
    "logging.basicConfig(format='%(asctime)s : %(levelname)s : %(message)s', level=logging.INFO)\n",
    "\n",
    "\n",
    "sunclmodel = gensim.models.Word2Vec(cleanedwords2, min_count=7047,size=200)\n",
    "#ingredients that appear <1% of the time -- there’s not\n",
    "#enough data to make any meaningful training on those words, so  ignore them:\n",
    "#Bigger size values require more training data, but can lead to better (more accurate) models. Reasonable values are in the tens to hundreds.\n",
    "len(sunclmodel.wv.vocab)"
   ]
  },
  {
   "cell_type": "code",
   "execution_count": 14,
   "metadata": {
    "collapsed": false
   },
   "outputs": [
    {
     "name": "stderr",
     "output_type": "stream",
     "text": [
      "2019-02-05 12:28:46,712 : INFO : saving Word2Vec object under /tmp/w2vmodeltue, separately None\n",
      "2019-02-05 12:28:46,729 : INFO : not storing attribute vectors_norm\n",
      "2019-02-05 12:28:46,739 : INFO : not storing attribute cum_table\n",
      "2019-02-05 12:28:46,770 : INFO : saved /tmp/w2vmodeltue\n"
     ]
    }
   ],
   "source": [
    "from gensim.test.utils import datapath\n",
    "#save model\n",
    "sunclmodel.save('/tmp/w2vmodeltue')\n"
   ]
  },
  {
   "cell_type": "code",
   "execution_count": 75,
   "metadata": {
    "collapsed": false
   },
   "outputs": [
    {
     "name": "stderr",
     "output_type": "stream",
     "text": [
      "2019-02-07 17:24:10,856 : INFO : loading Word2Vec object from /tmp/w2vmodeltue\n",
      "2019-02-07 17:24:11,483 : INFO : loading trainables recursively from /tmp/w2vmodeltue.trainables.* with mmap=None\n",
      "2019-02-07 17:24:11,513 : INFO : loading wv recursively from /tmp/w2vmodeltue.wv.* with mmap=None\n",
      "2019-02-07 17:24:11,518 : INFO : setting ignored attribute vectors_norm to None\n",
      "2019-02-07 17:24:11,691 : INFO : loading vocabulary recursively from /tmp/w2vmodeltue.vocabulary.* with mmap=None\n",
      "2019-02-07 17:24:11,693 : INFO : setting ignored attribute cum_table to None\n",
      "2019-02-07 17:24:11,707 : INFO : loaded /tmp/w2vmodeltue\n"
     ]
    }
   ],
   "source": [
    "sunclmodel=gensim.models.Word2Vec.load(\"/tmp/w2vmodeltue\")"
   ]
  },
  {
   "cell_type": "code",
   "execution_count": 8,
   "metadata": {
    "collapsed": true
   },
   "outputs": [
    {
     "data": {
      "text/plain": [
       "['bell',\n",
       " 'kernel',\n",
       " 'bean',\n",
       " 'paprika',\n",
       " 'iron',\n",
       " 'gum',\n",
       " 'sodium',\n",
       " 'dried',\n",
       " 'cheddar',\n",
       " 'olive',\n",
       " 'xanthan',\n",
       " 'butter',\n",
       " 'folic',\n",
       " 'carrageenan',\n",
       " 'fructose',\n",
       " 'cultures',\n",
       " 'bicarbonate',\n",
       " 'starch',\n",
       " 'baking',\n",
       " 'lemon',\n",
       " 'coconut',\n",
       " 'whole',\n",
       " 'cheese',\n",
       " '1',\n",
       " 'apple',\n",
       " 'black',\n",
       " 'palmitate',\n",
       " 'diglycerides',\n",
       " 'chicken',\n",
       " 'sulfate',\n",
       " 'as',\n",
       " 'onions',\n",
       " 'onion',\n",
       " 'garlic',\n",
       " 'chili',\n",
       " 'spices',\n",
       " 'roasted',\n",
       " 'honey',\n",
       " 'phosphate',\n",
       " '40',\n",
       " 'egg',\n",
       " 'partially',\n",
       " 'hydrogenated',\n",
       " 'blend',\n",
       " 'brown',\n",
       " 'beef',\n",
       " 'dehydrated',\n",
       " 'concentrate',\n",
       " 'sugar',\n",
       " 'mustard',\n",
       " 'lactic',\n",
       " 'nonfat',\n",
       " 'cane',\n",
       " 'soda',\n",
       " 'riboflavin',\n",
       " 'cornstarch',\n",
       " 'cellulose',\n",
       " 'palm',\n",
       " 'peppers',\n",
       " 'malted',\n",
       " 'fat',\n",
       " 'cooked',\n",
       " 'vitamin',\n",
       " 'high',\n",
       " 'grain',\n",
       " 'reduced',\n",
       " 'benzoate',\n",
       " 'wheat',\n",
       " 'distilled',\n",
       " 'milk',\n",
       " 'turmeric',\n",
       " 'white',\n",
       " 'almonds',\n",
       " 'bleached',\n",
       " 'gluten',\n",
       " 'vinegar',\n",
       " 'enriched',\n",
       " 'chocolate',\n",
       " 'thiamin',\n",
       " 'propionate',\n",
       " 'eggs',\n",
       " 'flavoring',\n",
       " 'yeast',\n",
       " 'tomato',\n",
       " 'seeds',\n",
       " 'barley',\n",
       " 'niacin',\n",
       " 'cream',\n",
       " '5',\n",
       " 'enzymes',\n",
       " 'water',\n",
       " 'whey',\n",
       " 'puree',\n",
       " 'alkali',\n",
       " 'citrate',\n",
       " 'sorbate',\n",
       " 'b2',\n",
       " 'peanuts',\n",
       " 'soy',\n",
       " 'oil',\n",
       " 'cocoa',\n",
       " 'ascorbic',\n",
       " 'cottonseed',\n",
       " 'sauce',\n",
       " 'peanut',\n",
       " 'tomatoes',\n",
       " 'guar',\n",
       " 'part',\n",
       " 'calcium',\n",
       " 'spice',\n",
       " 'extract',\n",
       " 'beans',\n",
       " 'pork',\n",
       " 'dextrose',\n",
       " 'lecithin',\n",
       " 'syrup',\n",
       " 'chloride',\n",
       " 'polysorbate',\n",
       " 'tapioca',\n",
       " 'soybean',\n",
       " 'sunflower',\n",
       " 'pyrophosphate',\n",
       " 'cultured',\n",
       " 'b1',\n",
       " 'annatto',\n",
       " 's',\n",
       " 'ferrous',\n",
       " 'paste',\n",
       " 'vanilla',\n",
       " '6',\n",
       " 'c',\n",
       " 'food',\n",
       " 'monocalcium',\n",
       " 'seed',\n",
       " 'vegetable',\n",
       " 'disodium',\n",
       " 'protein',\n",
       " 'potato',\n",
       " 'juice',\n",
       " 'mononitrate',\n",
       " 'rice',\n",
       " 'celery',\n",
       " 'canola',\n",
       " 'skim',\n",
       " 'modified',\n",
       " 'dioxide',\n",
       " 'corn',\n",
       " 'citric',\n",
       " 'thiamine',\n",
       " 'added',\n",
       " 'maltodextrin',\n",
       " 'potassium',\n",
       " 'solids',\n",
       " 'caramel',\n",
       " 'molasses',\n",
       " 'culture',\n",
       " 'sea',\n",
       " 'pepper',\n",
       " 'flour',\n",
       " 'liquor']"
      ]
     },
     "execution_count": 8,
     "metadata": {},
     "output_type": "execute_result"
    }
   ],
   "source": [
    "modelvocab=list(sunclmodel.wv.vocab)\n",
    "modelvocab"
   ]
  },
  {
   "cell_type": "code",
   "execution_count": 15,
   "metadata": {
    "collapsed": false
   },
   "outputs": [
    {
     "data": {
      "text/plain": [
       "(193751, 1, 200)"
      ]
     },
     "execution_count": 15,
     "metadata": {},
     "output_type": "execute_result"
    }
   ],
   "source": [
    "#vecs=np.array\n",
    "def recipe2vec(recipe): # 'word' meaning ingredient in \"recipe\" which is a list of ingredients\n",
    "    if len(recipe)<2:recipe='oddword'\n",
    "    vec = np.sum( [sunclmodel.wv[word]\n",
    "                                for word in recipe if word in sunclmodel.wv.vocab] or\n",
    "                 [np.zeros(200, dtype=float)  \n",
    "                            for word in recipe if word not in sunclmodel.wv.vocab],axis=0)\n",
    "    return vec.reshape(1,200) \n",
    "#type(recipe2vec(cleanedwords[0])),recipe2vec(cleanedwords[0])\n",
    "vectorall = np.array([recipe2vec(recipe) for recipe in cleanedwords2])\n",
    "\n",
    "print(vectorall.shape) \n",
    "vecsuse=vectorall.reshape(len(cleanedwords2) ,200)\n",
    "\n",
    "vecsuse.shape"
   ]
  },
  {
   "cell_type": "code",
   "execution_count": 11,
   "metadata": {
    "collapsed": false
   },
   "outputs": [],
   "source": [
    "import pickle\n",
    "#pickle.dump(vecsuse, open(\"vecsuse.pkl\", 'wb'))\n",
    "#newfile=pickle.load(open ('vecsuse.pkl,'rb'))"
   ]
  },
  {
   "cell_type": "code",
   "execution_count": 165,
   "metadata": {
    "collapsed": false,
    "scrolled": true
   },
   "outputs": [
    {
     "name": "stdout",
     "output_type": "stream",
     "text": [
      "20650\n",
      "4693\n",
      "1075 200 (1075, 200) (1, 200)\n"
     ]
    },
    {
     "data": {
      "text/plain": [
       "(array([ 841,  244,  832,  450, 1074]),\n",
       " array([0.86664348, 0.87999305, 0.86664348, 0.86972388, 0.86811697]))"
      ]
     },
     "execution_count": 165,
     "metadata": {},
     "output_type": "execute_result"
    }
   ],
   "source": [
    "# open a file, where you stored the pickled data\n",
    "import pickle\n",
    "file = open('vecsuse.pkl', 'rb')\n",
    "# dump information to that file\n",
    "vecsuse = pickle.load(file)\n",
    "# close the file\n",
    "file.close()\n",
    "proquant=pd.read_csv('proquanttue.csv', low_memory=False)\n",
    "proquant=proquant[proquant.unqname.notnull()][proquant.pcat !='0'].drop_duplicates(subset=['unqname']) \n",
    "#icecream, pizza,breakfast,pasta,soda,yogurt,soup,nuts,burgersmeat,bread\n",
    "catsapp=[  \n",
    " 'milks', \n",
    " 'breakfast/cereal',\n",
    " 'pasta', \n",
    " 'yogurt',\n",
    " 'ice cream',  \n",
    " 'pizza']\n",
    "\n",
    "#get category specific index \n",
    "indexuse=proquant[proquant.pcat.isin(catsapp) ].index.tolist()\n",
    "print(len(indexuse))\n",
    "pcatdf=pd.DataFrame()\n",
    "pcatvec=vecsuse[indexuse]\n",
    "\n",
    "#proquant database for app\n",
    "proquantuse=proquant[proquant.pcat.isin(catsapp) ]  \n",
    " \n",
    "proquantuse[['name','pcat']].head()\n",
    "\n",
    "#find the location of item in database and word2vec matrix:\n",
    "name='kellogg pop-tarts chocolate fudge 3.67oz'\n",
    "indname=proquantuse[proquantuse['name']==name].index.values.item()\n",
    "vecname=vecsuse[indname]\n",
    "\n",
    "#find index of all elements of that category\n",
    "catname=proquantuse.ix[indname,'pcat'] \n",
    "catindex=proquantuse[proquantuse['pcat']==catname].index.tolist()\n",
    "print(len(catindex))\n",
    "\n",
    "catdf=proquantuse[proquantuse['pcat']==catname]\n",
    "\n",
    "catnutdf=catdf[catdf[nutr]==1]\n",
    "\n",
    "len(catnutdf)\n",
    "\n",
    "catnutdfind=catnutdf.index.tolist()\n",
    "\n",
    "#get subset of word2vec matrix in that category with nutrient profile\n",
    "catvec=vecsuse[catnutdfind]\n",
    " \n",
    "print(len(catvec),len(vecname),(catvec).shape, (vecname.reshape(1,-1)).shape)\n",
    "res=cosine_similarity(vecname.reshape(1,-1), catvec)\n",
    "res.shape\n",
    "\n",
    "ind = np.argpartition(res.reshape(-1), -5)[-5:]  \n",
    " \n",
    "ind,res.reshape(-1)[ind]\n",
    "proquantuse.iloc[ind][['name','ingredients','pcat','protein g']]"
   ]
  },
  {
   "cell_type": "code",
   "execution_count": 245,
   "metadata": {
    "collapsed": false
   },
   "outputs": [
    {
     "name": "stdout",
     "output_type": "stream",
     "text": [
      "15732 15732\n"
     ]
    }
   ],
   "source": [
    "#finalize the database you'll use\n",
    "proquantapp=proquant[proquant.name.notnull()][proquant.pcat.isin(catsapp)].drop_duplicates(subset=['name']) \n",
    "proquantapp.to_csv('proquantapp.csv')\n",
    "vecsapp=vecsuse[proquantapp.index.tolist()]\n",
    "pickle.dump(vecsapp, open(\"vecsapp.pkl\", 'wb'))\n",
    "print(len(vecsapp),len(proquantapp))"
   ]
  },
  {
   "cell_type": "code",
   "execution_count": 237,
   "metadata": {
    "collapsed": false
   },
   "outputs": [
    {
     "data": {
      "text/html": [
       "<div>\n",
       "<table border=\"1\" class=\"dataframe\">\n",
       "  <thead>\n",
       "    <tr style=\"text-align: right;\">\n",
       "      <th></th>\n",
       "      <th>name</th>\n",
       "      <th>ingredients</th>\n",
       "      <th>protein g</th>\n",
       "    </tr>\n",
       "  </thead>\n",
       "  <tbody>\n",
       "    <tr>\n",
       "      <th>0</th>\n",
       "      <td>gmills choc pnt btr cheerios sweetened whl grn oat cereal 2 bags</td>\n",
       "      <td>whole grain oats, sugar, peanut butter (peanuts, sugar, monoglycerides, salt), dextrose, corn starch, corn syrup, canola oil, salt, cocoa processed with alkali, caramel color, tripotassium phosphate, natural flavor. vitamin e (mixed tocopherols) added to preserve freshness.vitamins and minerals: calcium carbonate, zinc and iron (mineral nutrients), vitamin c (sodium ascorbate), a b vitamin (niacinamide), vitamin b6 (pyridoxine hydrochloride), vitamin b1 (thiamin mononitrate), vitamin b2 (riboflavin), vitamin a (palmitate), a b vitamin (folic acid), vitamin b12, vitamin d3.</td>\n",
       "      <td>33.333333</td>\n",
       "    </tr>\n",
       "    <tr>\n",
       "      <th>1</th>\n",
       "      <td>gmills choc pnt btr cheerios sweetened whl grn oat cereal</td>\n",
       "      <td>whole grain oats, sugar, peanut butter (peanuts, sugar, monoglycerides, salt), dextrose, corn starch, corn syrup, canola oil, salt, cocoa processed with alkali, caramel color, tripotassium phosphate, natural flavor. vitamin e (mixed tocopherols) added to preserve freshness.vitamins and minerals: calcium carbonate, zinc and iron (mineral nutrients), vitamin c (sodium ascorbate), a b vitamin (niacinamide), vitamin b6 (pyridoxine hydrochloride), vitamin b1 (thiamin mononitrate), vitamin b2 (riboflavin), vitamin a (palmitate), a b vitamin (folic acid), vitamin b12, vitamin d3.</td>\n",
       "      <td>33.333333</td>\n",
       "    </tr>\n",
       "    <tr>\n",
       "      <th>2</th>\n",
       "      <td>gmills cheerios sweetened whl grn oat cereal choc pnt btr family sz</td>\n",
       "      <td>whole grain oats, sugar, peanut butter (peanuts, sugar, monoglycerides, peanut oil, salt, molasses, corn starch), dextrose, corn starch, corn syrup, canola oil, salt, cocoa processed with alkali, caramel color, tripotassium phosphate, natural flavor. vitamin e (mixed tocopherols) added to preserve freshness.vitamins and minerals: calcium carbonate, zinc and iron (mineral nutrients), vitamin c (sodium ascorbate), a b vitamin (niacinamide), vitamin b6 (pyridoxine hydrochloride), vitamin b1 (thiamin mononitrate), vitamin b2 (riboflavin), vitamin a (palmitate), a b vitamin (folic acid), vitamin b12, vitamin d3.</td>\n",
       "      <td>33.333333</td>\n",
       "    </tr>\n",
       "    <tr>\n",
       "      <th>3</th>\n",
       "      <td>gmills choc pnt btr cheerios sweetened whl grn oat cereal family sz</td>\n",
       "      <td>whole grain oats, sugar, peanut butter (peanuts, sugar, monoglycerides, peanut oil, salt, molasses, corn starch), dextrose, corn starch, corn syrup, canola oil, salt, cocoa processed with alkali, caramel color, tripotassium phosphate, natural flavor. vitamin e (mixed tocopherols) added to preserve freshness.vitamins and minerals: calcium carbonate, zinc and iron (mineral nutrients), vitamin c (sodium ascorbate), a b vitamin (niacinamide), vitamin b6 (pyridoxine hydrochloride), vitamin b1 (thiamin mononitrate), vitamin b2 (riboflavin), vitamin a (palmitate), a b vitamin (folic acid), vitamin b12, vitamin d3.</td>\n",
       "      <td>33.333333</td>\n",
       "    </tr>\n",
       "    <tr>\n",
       "      <th>4</th>\n",
       "      <td>light &amp; crisp traditional italian waffle cookies</td>\n",
       "      <td>enriched wheat flour (wheat flour, malted barley flour, niacin, reduced iron, thiamine mononitrate, riboflavin, folic acid), eggs, sugar, palm oil margarine (palm oil, palm fractions, water, salt, emulsifiers [soy lecithin, distilled monoglycerides], natural butter flavor [butyric flavor]), citric acid, antioxidant (mixed tocopherol [soy-derived], vitamin a and beta carotene for color), encapsulated sodium bicarbonate ([sodium bicarbonate, proprietary blend of oils], monocalcium phosphate, non-gmo corn starch), natural anise flavor.</td>\n",
       "      <td>32.000000</td>\n",
       "    </tr>\n",
       "    <tr>\n",
       "      <th>5</th>\n",
       "      <td>kashi golean cereal crisp toasted berry 14oz</td>\n",
       "      <td>whole grain oats, soy flakes, dried cane syrup,  wheat sticks (whole wheat flour, kashi seven whole grains and sesame flour [whole: oats, hard red wheat, rye, brown rice, triticale, barley, buckwheat, sesame seeds], calcium carbonate), brown rice syrup,  chicory root fiber, defatted soy grits, cranberries (cranberries, cane syrup, vegetable glycerin, rice flour, expeller pressed canola oil), expeller pressed canola oil, degerminated yellow corn flour, soy protein isolate, oat fiber, dried blueberries (blueberries, dried cane syrup, rice flour, sunflower oil), baking soda, natural flavors, evaporated salt, mixed tocopherols for freshness, soy lecithin.</td>\n",
       "      <td>35.294118</td>\n",
       "    </tr>\n",
       "  </tbody>\n",
       "</table>\n",
       "</div>"
      ],
      "text/plain": [
       "                                                                  name                                                                                                                                                                                                                                                                                                                                                                                                                                                                                                                                                                                                                                                                          ingredients  protein g\n",
       "0  gmills choc pnt btr cheerios sweetened whl grn oat cereal 2 bags     whole grain oats, sugar, peanut butter (peanuts, sugar, monoglycerides, salt), dextrose, corn starch, corn syrup, canola oil, salt, cocoa processed with alkali, caramel color, tripotassium phosphate, natural flavor. vitamin e (mixed tocopherols) added to preserve freshness.vitamins and minerals: calcium carbonate, zinc and iron (mineral nutrients), vitamin c (sodium ascorbate), a b vitamin (niacinamide), vitamin b6 (pyridoxine hydrochloride), vitamin b1 (thiamin mononitrate), vitamin b2 (riboflavin), vitamin a (palmitate), a b vitamin (folic acid), vitamin b12, vitamin d3.                                                                                  33.333333\n",
       "1  gmills choc pnt btr cheerios sweetened whl grn oat cereal            whole grain oats, sugar, peanut butter (peanuts, sugar, monoglycerides, salt), dextrose, corn starch, corn syrup, canola oil, salt, cocoa processed with alkali, caramel color, tripotassium phosphate, natural flavor. vitamin e (mixed tocopherols) added to preserve freshness.vitamins and minerals: calcium carbonate, zinc and iron (mineral nutrients), vitamin c (sodium ascorbate), a b vitamin (niacinamide), vitamin b6 (pyridoxine hydrochloride), vitamin b1 (thiamin mononitrate), vitamin b2 (riboflavin), vitamin a (palmitate), a b vitamin (folic acid), vitamin b12, vitamin d3.                                                                                  33.333333\n",
       "2  gmills cheerios sweetened whl grn oat cereal choc pnt btr family sz  whole grain oats, sugar, peanut butter (peanuts, sugar, monoglycerides, peanut oil, salt, molasses, corn starch), dextrose, corn starch, corn syrup, canola oil, salt, cocoa processed with alkali, caramel color, tripotassium phosphate, natural flavor. vitamin e (mixed tocopherols) added to preserve freshness.vitamins and minerals: calcium carbonate, zinc and iron (mineral nutrients), vitamin c (sodium ascorbate), a b vitamin (niacinamide), vitamin b6 (pyridoxine hydrochloride), vitamin b1 (thiamin mononitrate), vitamin b2 (riboflavin), vitamin a (palmitate), a b vitamin (folic acid), vitamin b12, vitamin d3.                                               33.333333\n",
       "3  gmills choc pnt btr cheerios sweetened whl grn oat cereal family sz  whole grain oats, sugar, peanut butter (peanuts, sugar, monoglycerides, peanut oil, salt, molasses, corn starch), dextrose, corn starch, corn syrup, canola oil, salt, cocoa processed with alkali, caramel color, tripotassium phosphate, natural flavor. vitamin e (mixed tocopherols) added to preserve freshness.vitamins and minerals: calcium carbonate, zinc and iron (mineral nutrients), vitamin c (sodium ascorbate), a b vitamin (niacinamide), vitamin b6 (pyridoxine hydrochloride), vitamin b1 (thiamin mononitrate), vitamin b2 (riboflavin), vitamin a (palmitate), a b vitamin (folic acid), vitamin b12, vitamin d3.                                               33.333333\n",
       "4  light & crisp traditional italian waffle cookies                     enriched wheat flour (wheat flour, malted barley flour, niacin, reduced iron, thiamine mononitrate, riboflavin, folic acid), eggs, sugar, palm oil margarine (palm oil, palm fractions, water, salt, emulsifiers [soy lecithin, distilled monoglycerides], natural butter flavor [butyric flavor]), citric acid, antioxidant (mixed tocopherol [soy-derived], vitamin a and beta carotene for color), encapsulated sodium bicarbonate ([sodium bicarbonate, proprietary blend of oils], monocalcium phosphate, non-gmo corn starch), natural anise flavor.                                                                                                                           32.000000\n",
       "5  kashi golean cereal crisp toasted berry 14oz                         whole grain oats, soy flakes, dried cane syrup,  wheat sticks (whole wheat flour, kashi seven whole grains and sesame flour [whole: oats, hard red wheat, rye, brown rice, triticale, barley, buckwheat, sesame seeds], calcium carbonate), brown rice syrup,  chicory root fiber, defatted soy grits, cranberries (cranberries, cane syrup, vegetable glycerin, rice flour, expeller pressed canola oil), expeller pressed canola oil, degerminated yellow corn flour, soy protein isolate, oat fiber, dried blueberries (blueberries, dried cane syrup, rice flour, sunflower oil), baking soda, natural flavors, evaporated salt, mixed tocopherols for freshness, soy lecithin.  35.294118"
      ]
     },
     "execution_count": 237,
     "metadata": {},
     "output_type": "execute_result"
    }
   ],
   "source": [
    "#finalize the database you'll use\n",
    "proquantapp=proquant[proquant.name.notnull()][proquant.pcat.isin(catsapp)].drop_duplicates(subset=['name']) \n",
    "proquantapp.to_csv('proquantapp.csv')\n",
    "vecsapp=vecsuse[proquantapp.index.tolist()]\n",
    "pickle.dump(vecsapp, open(\"vecsapp.pkl\", 'wb'))\n",
    "print(len(vecsapp),len(proquantapp))\n",
    "name='kellogg pop-tarts chocolate fudge 3.67oz'\n",
    "ng='hipro'\n",
    "if ng=='hipro':\n",
    "    nutr='protein g'\n",
    "    lab='More protein(g)/serving than 75% of products in this food category'\n",
    "if ng=='lowfat'  :\n",
    "    nutr='fat g'\n",
    "    lab='Less fat(g)/serving than 25% of products in this food category'\n",
    "if ng=='lowcarb'  :\n",
    "    nutr='carbs g'\n",
    "    lab= 'Fewer carbs(g)/serving than 25% of products in this food category'\n",
    "if ng=='lowcal'  :\n",
    "    nutr='energrep'\n",
    "    lab='Fewer calories/serving than 25% of products in this food category'\n",
    "if ng=='lowsugar'  :\n",
    "    nutr='sugars g'\n",
    "    lab='Fewer grams of sugar/serving than 25% of products in this food category'\n",
    " \n",
    " \n",
    "#open a file, where you stored the word2vec info\n",
    "import pickle\n",
    "file = open('vecsapp.pkl', 'rb')\n",
    "vecsapp = pickle.load(file)\n",
    "file.close()\n",
    "#pull in the nutrientdata\n",
    "proquantapp=pd.read_csv('proquantapp.csv', low_memory=False)\n",
    "   \n",
    "#find the location of item in database and word2vec matrix:\n",
    "indname=proquantapp[proquantapp['name']==name].index.values.item()\n",
    "vecname=vecsapp[indname]\n",
    "\n",
    "#find index of all elements of that category\n",
    "catname=proquantapp.ix[indname,'pcat'] \n",
    "catindex=proquantapp[proquantapp['pcat']==catname].index.tolist()\n",
    "#print(len(catindex))\n",
    "\n",
    "catdf=proquantapp[proquantapp['pcat']==catname]\n",
    "\n",
    "catnutdf=catdf[catdf[ng]==1]\n",
    "\n",
    "#len(catnutdf)\n",
    "\n",
    "catnutdfind=catnutdf.index.tolist() \n",
    "catvec=vecsapp[catnutdfind] \n",
    "\n",
    "res=cosine_similarity(vecname.reshape(1,-1), catvec) \n",
    "\n",
    "ind = np.argpartition(res.reshape(-1), -5)[-5:] \n",
    "#ind\n",
    "\n",
    "#print(ind,res.reshape(-1)[ind])\n",
    "#proquantapp.iloc[ind][['pcat','name','ingredients','protein g']]\n",
    "pd.merge(catnutdf.reset_index().iloc[ind][['name','ingredients',nutr]],\n",
    "         proquantapp.reset_index()[['name','ingredients',nutr]].iloc[[211]],how='outer' )"
   ]
  }
 ],
 "metadata": {
  "anaconda-cloud": {},
  "kernelspec": {
   "display_name": "Python [default]",
   "language": "python",
   "name": "python3"
  },
  "language_info": {
   "codemirror_mode": {
    "name": "ipython",
    "version": 3
   },
   "file_extension": ".py",
   "mimetype": "text/x-python",
   "name": "python",
   "nbconvert_exporter": "python",
   "pygments_lexer": "ipython3",
   "version": "3.5.6"
  }
 },
 "nbformat": 4,
 "nbformat_minor": 1
}
