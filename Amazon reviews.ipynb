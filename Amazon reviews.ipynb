{
 "cells": [
  {
   "cell_type": "code",
   "execution_count": 52,
   "metadata": {
    "collapsed": true
   },
   "outputs": [],
   "source": [
    "#import relevant packages\n",
    "import pandas as pd\n",
    "import numpy as np\n",
    "import gzip"
   ]
  },
  {
   "cell_type": "code",
   "execution_count": 53,
   "metadata": {
    "collapsed": true
   },
   "outputs": [],
   "source": [
    "#use jmc's code for pulling data in\n",
    "\n",
    "def parse(path):\n",
    "    g = gzip.open(path, 'r')\n",
    "    for l in g:\n",
    "        yield eval(l)\n",
    " \n",
    "def parse(path):\n",
    "    g = gzip.open(path, 'rb')\n",
    "    for l in g:\n",
    "        yield eval(l)\n",
    "\n",
    "def getDF(path):\n",
    "    i = 0\n",
    "    df = {}\n",
    "    for d in parse(path):\n",
    "        df[i] = d\n",
    "        i += 1\n",
    "    return pd.DataFrame.from_dict(df, orient='index')\n",
    "\n",
    "df = getDF('reviews_Grocery_and_Gourmet_Food_5.json.gz')"
   ]
  },
  {
   "cell_type": "code",
   "execution_count": 54,
   "metadata": {
    "collapsed": false,
    "scrolled": true
   },
   "outputs": [
    {
     "data": {
      "text/html": [
       "<div>\n",
       "<table border=\"1\" class=\"dataframe\">\n",
       "  <thead>\n",
       "    <tr style=\"text-align: right;\">\n",
       "      <th></th>\n",
       "      <th>overall</th>\n",
       "      <th>reviewText</th>\n",
       "      <th>asin</th>\n",
       "      <th>unixReviewTime</th>\n",
       "      <th>summary</th>\n",
       "      <th>helpful</th>\n",
       "      <th>reviewerID</th>\n",
       "      <th>reviewerName</th>\n",
       "      <th>reviewTime</th>\n",
       "    </tr>\n",
       "  </thead>\n",
       "  <tbody>\n",
       "    <tr>\n",
       "      <th>0</th>\n",
       "      <td>4.0</td>\n",
       "      <td>Just another flavor of Kit Kat but the taste i...</td>\n",
       "      <td>616719923X</td>\n",
       "      <td>1370044800</td>\n",
       "      <td>Good Taste</td>\n",
       "      <td>[0, 0]</td>\n",
       "      <td>A1VEELTKS8NLZB</td>\n",
       "      <td>Amazon Customer</td>\n",
       "      <td>06 1, 2013</td>\n",
       "    </tr>\n",
       "    <tr>\n",
       "      <th>1</th>\n",
       "      <td>3.0</td>\n",
       "      <td>I bought this on impulse and it comes from Jap...</td>\n",
       "      <td>616719923X</td>\n",
       "      <td>1400457600</td>\n",
       "      <td>3.5 stars,  sadly not as wonderful as I had hoped</td>\n",
       "      <td>[0, 1]</td>\n",
       "      <td>A14R9XMZVJ6INB</td>\n",
       "      <td>amf0001</td>\n",
       "      <td>05 19, 2014</td>\n",
       "    </tr>\n",
       "    <tr>\n",
       "      <th>2</th>\n",
       "      <td>4.0</td>\n",
       "      <td>Really good. Great gift for any fan of green t...</td>\n",
       "      <td>616719923X</td>\n",
       "      <td>1381190400</td>\n",
       "      <td>Yum!</td>\n",
       "      <td>[3, 4]</td>\n",
       "      <td>A27IQHDZFQFNGG</td>\n",
       "      <td>Caitlin</td>\n",
       "      <td>10 8, 2013</td>\n",
       "    </tr>\n",
       "    <tr>\n",
       "      <th>3</th>\n",
       "      <td>5.0</td>\n",
       "      <td>I had never had it before, was curious to see ...</td>\n",
       "      <td>616719923X</td>\n",
       "      <td>1369008000</td>\n",
       "      <td>Unexpected flavor meld</td>\n",
       "      <td>[0, 0]</td>\n",
       "      <td>A31QY5TASILE89</td>\n",
       "      <td>DebraDownSth</td>\n",
       "      <td>05 20, 2013</td>\n",
       "    </tr>\n",
       "    <tr>\n",
       "      <th>4</th>\n",
       "      <td>4.0</td>\n",
       "      <td>I've been looking forward to trying these afte...</td>\n",
       "      <td>616719923X</td>\n",
       "      <td>1369526400</td>\n",
       "      <td>Not a very strong tea flavor, but still yummy ...</td>\n",
       "      <td>[1, 2]</td>\n",
       "      <td>A2LWK003FFMCI5</td>\n",
       "      <td>Diana X.</td>\n",
       "      <td>05 26, 2013</td>\n",
       "    </tr>\n",
       "  </tbody>\n",
       "</table>\n",
       "</div>"
      ],
      "text/plain": [
       "   overall                                         reviewText        asin  \\\n",
       "0      4.0  Just another flavor of Kit Kat but the taste i...  616719923X   \n",
       "1      3.0  I bought this on impulse and it comes from Jap...  616719923X   \n",
       "2      4.0  Really good. Great gift for any fan of green t...  616719923X   \n",
       "3      5.0  I had never had it before, was curious to see ...  616719923X   \n",
       "4      4.0  I've been looking forward to trying these afte...  616719923X   \n",
       "\n",
       "   unixReviewTime                                            summary helpful  \\\n",
       "0      1370044800                                         Good Taste  [0, 0]   \n",
       "1      1400457600  3.5 stars,  sadly not as wonderful as I had hoped  [0, 1]   \n",
       "2      1381190400                                               Yum!  [3, 4]   \n",
       "3      1369008000                             Unexpected flavor meld  [0, 0]   \n",
       "4      1369526400  Not a very strong tea flavor, but still yummy ...  [1, 2]   \n",
       "\n",
       "       reviewerID     reviewerName   reviewTime  \n",
       "0  A1VEELTKS8NLZB  Amazon Customer   06 1, 2013  \n",
       "1  A14R9XMZVJ6INB          amf0001  05 19, 2014  \n",
       "2  A27IQHDZFQFNGG          Caitlin   10 8, 2013  \n",
       "3  A31QY5TASILE89     DebraDownSth  05 20, 2013  \n",
       "4  A2LWK003FFMCI5         Diana X.  05 26, 2013  "
      ]
     },
     "execution_count": 54,
     "metadata": {},
     "output_type": "execute_result"
    }
   ],
   "source": [
    "df.head()"
   ]
  },
  {
   "cell_type": "code",
   "execution_count": 59,
   "metadata": {
    "collapsed": false
   },
   "outputs": [
    {
     "data": {
      "text/plain": [
       "8713"
      ]
     },
     "execution_count": 59,
     "metadata": {},
     "output_type": "execute_result"
    }
   ],
   "source": [
    "df.asin.nunique()# 8713"
   ]
  },
  {
   "cell_type": "code",
   "execution_count": 61,
   "metadata": {
    "collapsed": false
   },
   "outputs": [
    {
     "data": {
      "text/plain": [
       "10142"
      ]
     },
     "execution_count": 61,
     "metadata": {},
     "output_type": "execute_result"
    }
   ],
   "source": [
    "meta.brand.nunique()"
   ]
  },
  {
   "cell_type": "code",
   "execution_count": 65,
   "metadata": {
    "collapsed": false
   },
   "outputs": [
    {
     "data": {
      "text/html": [
       "<div>\n",
       "<table border=\"1\" class=\"dataframe\">\n",
       "  <thead>\n",
       "    <tr style=\"text-align: right;\">\n",
       "      <th></th>\n",
       "      <th>amazonbrands</th>\n",
       "    </tr>\n",
       "  </thead>\n",
       "  <tbody>\n",
       "    <tr>\n",
       "      <th>0</th>\n",
       "      <td>Unknown</td>\n",
       "    </tr>\n",
       "    <tr>\n",
       "      <th>1</th>\n",
       "      <td></td>\n",
       "    </tr>\n",
       "    <tr>\n",
       "      <th>2</th>\n",
       "      <td>Trader Joe&amp;#39;s</td>\n",
       "    </tr>\n",
       "    <tr>\n",
       "      <th>3</th>\n",
       "      <td>Frontier</td>\n",
       "    </tr>\n",
       "    <tr>\n",
       "      <th>4</th>\n",
       "      <td>Bob&amp;#39;s Red Mill</td>\n",
       "    </tr>\n",
       "  </tbody>\n",
       "</table>\n",
       "</div>"
      ],
      "text/plain": [
       "         amazonbrands\n",
       "0             Unknown\n",
       "1                    \n",
       "2    Trader Joe&#39;s\n",
       "3            Frontier\n",
       "4  Bob&#39;s Red Mill"
      ]
     },
     "execution_count": 65,
     "metadata": {},
     "output_type": "execute_result"
    }
   ],
   "source": [
    "brandlist=pd.DataFrame(meta.brand.value_counts().index,columns=['amazonbrands'])\n",
    "brandlist.head()"
   ]
  },
  {
   "cell_type": "code",
   "execution_count": 74,
   "metadata": {
    "collapsed": false
   },
   "outputs": [],
   "source": [
    "st=[]\n",
    "for x in brandlist['amazonbrands']:\n",
    "    st.append(x.replace('&#39;',\"'\").replace('&reg;','').replace('&amp;','&'))\n"
   ]
  },
  {
   "cell_type": "code",
   "execution_count": 76,
   "metadata": {
    "collapsed": false
   },
   "outputs": [],
   "source": [
    "brandlist['ambrands']=st"
   ]
  },
  {
   "cell_type": "code",
   "execution_count": 77,
   "metadata": {
    "collapsed": false
   },
   "outputs": [
    {
     "data": {
      "text/html": [
       "<div>\n",
       "<table border=\"1\" class=\"dataframe\">\n",
       "  <thead>\n",
       "    <tr style=\"text-align: right;\">\n",
       "      <th></th>\n",
       "      <th>amazonbrands</th>\n",
       "      <th>ambrands</th>\n",
       "    </tr>\n",
       "  </thead>\n",
       "  <tbody>\n",
       "    <tr>\n",
       "      <th>0</th>\n",
       "      <td>Unknown</td>\n",
       "      <td>Unknown</td>\n",
       "    </tr>\n",
       "    <tr>\n",
       "      <th>1</th>\n",
       "      <td></td>\n",
       "      <td></td>\n",
       "    </tr>\n",
       "    <tr>\n",
       "      <th>2</th>\n",
       "      <td>Trader Joe&amp;#39;s</td>\n",
       "      <td>Trader Joe's</td>\n",
       "    </tr>\n",
       "    <tr>\n",
       "      <th>3</th>\n",
       "      <td>Frontier</td>\n",
       "      <td>Frontier</td>\n",
       "    </tr>\n",
       "    <tr>\n",
       "      <th>4</th>\n",
       "      <td>Bob&amp;#39;s Red Mill</td>\n",
       "      <td>Bob's Red Mill</td>\n",
       "    </tr>\n",
       "  </tbody>\n",
       "</table>\n",
       "</div>"
      ],
      "text/plain": [
       "         amazonbrands        ambrands\n",
       "0             Unknown         Unknown\n",
       "1                                    \n",
       "2    Trader Joe&#39;s    Trader Joe's\n",
       "3            Frontier        Frontier\n",
       "4  Bob&#39;s Red Mill  Bob's Red Mill"
      ]
     },
     "execution_count": 77,
     "metadata": {},
     "output_type": "execute_result"
    }
   ],
   "source": [
    "brandlist.head()"
   ]
  },
  {
   "cell_type": "markdown",
   "metadata": {},
   "source": [
    "# Natural Language Processing\n",
    "\n",
    "# Importing the libraries\n",
    "import numpy as np\n",
    "import matplotlib.pyplot as plt\n",
    "import pandas as pd\n",
    "\n",
    "# Importing the dataset\n",
    "dataset = pd.read_csv('Restaurant_Reviews.tsv', delimiter = '\\t', quoting = 3)\n",
    "\n",
    "# Cleaning the texts\n",
    "import re\n",
    "import nltk\n",
    "nltk.download('stopwords')\n",
    "from nltk.corpus import stopwords\n",
    "from nltk.stem.porter import PorterStemmer\n",
    "corpus = []\n",
    "for i in range(0, 1000):\n",
    "    review = re.sub('[^a-zA-Z]', ' ', dataset['Review'][i])\n",
    "    review = review.lower()\n",
    "    review = review.split()\n",
    "    ps = PorterStemmer()\n",
    "    review = [ps.stem(word) for word in review if not word in set(stopwords.words('english'))]\n",
    "    review = ' '.join(review)\n",
    "    corpus.append(review)\n",
    "\n",
    "# Creating the Bag of Words model\n",
    "from sklearn.feature_extraction.text import CountVectorizer\n",
    "cv = CountVectorizer(max_features = 1500)\n",
    "X = cv.fit_transform(corpus).toarray()\n",
    "y = dataset.iloc[:, 1].values\n",
    "\n",
    "# Splitting the dataset into the Training set and Test set\n",
    "from sklearn.model_selection import train_test_split\n",
    "X_train, X_test, y_train, y_test = train_test_split(X, y, test_size = 0.20, random_state = 0)\n",
    "\n",
    "# Fitting Naive Bayes to the Training set\n",
    "from sklearn.naive_bayes import GaussianNB\n",
    "classifier = GaussianNB()\n",
    "classifier.fit(X_train, y_train)\n",
    "\n",
    "# Predicting the Test set results\n",
    "y_pred = classifier.predict(X_test)\n",
    "\n",
    "# Making the Confusion Matrix\n",
    "from sklearn.metrics import confusion_matrix\n",
    "cm = confusion_matrix(y_test, y_pred)"
   ]
  },
  {
   "cell_type": "code",
   "execution_count": null,
   "metadata": {
    "collapsed": true
   },
   "outputs": [],
   "source": [
    "import numpy as np\n",
    "import matplotlib.pyplot as plt\n",
    "import pandas as pd\n"
   ]
  },
  {
   "cell_type": "code",
   "execution_count": null,
   "metadata": {
    "collapsed": true
   },
   "outputs": [],
   "source": []
  },
  {
   "cell_type": "code",
   "execution_count": null,
   "metadata": {
    "collapsed": true
   },
   "outputs": [],
   "source": []
  },
  {
   "cell_type": "code",
   "execution_count": null,
   "metadata": {
    "collapsed": true
   },
   "outputs": [],
   "source": []
  },
  {
   "cell_type": "code",
   "execution_count": null,
   "metadata": {
    "collapsed": true
   },
   "outputs": [],
   "source": []
  },
  {
   "cell_type": "code",
   "execution_count": null,
   "metadata": {
    "collapsed": true
   },
   "outputs": [],
   "source": []
  },
  {
   "cell_type": "code",
   "execution_count": null,
   "metadata": {
    "collapsed": true
   },
   "outputs": [],
   "source": []
  },
  {
   "cell_type": "code",
   "execution_count": 68,
   "metadata": {
    "collapsed": false
   },
   "outputs": [
    {
     "data": {
      "text/plain": [
       "\"Trader Joe's\""
      ]
     },
     "execution_count": 68,
     "metadata": {},
     "output_type": "execute_result"
    }
   ],
   "source": []
  },
  {
   "cell_type": "code",
   "execution_count": null,
   "metadata": {
    "collapsed": true
   },
   "outputs": [],
   "source": []
  },
  {
   "cell_type": "code",
   "execution_count": null,
   "metadata": {
    "collapsed": true
   },
   "outputs": [],
   "source": []
  },
  {
   "cell_type": "code",
   "execution_count": null,
   "metadata": {
    "collapsed": true
   },
   "outputs": [],
   "source": [
    "i.replace(';',',').replace(':',',').split(',')"
   ]
  },
  {
   "cell_type": "code",
   "execution_count": null,
   "metadata": {
    "collapsed": true
   },
   "outputs": [],
   "source": []
  },
  {
   "cell_type": "code",
   "execution_count": null,
   "metadata": {
    "collapsed": true
   },
   "outputs": [],
   "source": []
  },
  {
   "cell_type": "code",
   "execution_count": null,
   "metadata": {
    "collapsed": true
   },
   "outputs": [],
   "source": []
  },
  {
   "cell_type": "code",
   "execution_count": 57,
   "metadata": {
    "collapsed": true
   },
   "outputs": [],
   "source": [
    "meta=getDF('meta_Grocery_and_Gourmet_Food.json.gz')"
   ]
  },
  {
   "cell_type": "code",
   "execution_count": 58,
   "metadata": {
    "collapsed": false
   },
   "outputs": [
    {
     "data": {
      "text/html": [
       "<div>\n",
       "<table border=\"1\" class=\"dataframe\">\n",
       "  <thead>\n",
       "    <tr style=\"text-align: right;\">\n",
       "      <th></th>\n",
       "      <th>categories</th>\n",
       "      <th>related</th>\n",
       "      <th>asin</th>\n",
       "      <th>imUrl</th>\n",
       "      <th>salesRank</th>\n",
       "      <th>description</th>\n",
       "      <th>title</th>\n",
       "      <th>price</th>\n",
       "      <th>brand</th>\n",
       "    </tr>\n",
       "  </thead>\n",
       "  <tbody>\n",
       "    <tr>\n",
       "      <th>0</th>\n",
       "      <td>[[Grocery &amp; Gourmet Food]]</td>\n",
       "      <td>{'also_viewed': ['B001GE8N4Y']}</td>\n",
       "      <td>0657745316</td>\n",
       "      <td>http://ecx.images-amazon.com/images/I/41gFi5h0...</td>\n",
       "      <td>{'Grocery &amp; Gourmet Food': 374004}</td>\n",
       "      <td>This is real vanilla extract made with only 3 ...</td>\n",
       "      <td>100 Percent All Natural Vanilla Extract</td>\n",
       "      <td>NaN</td>\n",
       "      <td>NaN</td>\n",
       "    </tr>\n",
       "    <tr>\n",
       "      <th>1</th>\n",
       "      <td>[[Grocery &amp; Gourmet Food]]</td>\n",
       "      <td>NaN</td>\n",
       "      <td>0700026444</td>\n",
       "      <td>http://ecx.images-amazon.com/images/I/51hs8sox...</td>\n",
       "      <td>{'Grocery &amp; Gourmet Food': 620307}</td>\n",
       "      <td>Silverpot Tea, Pure Darjeeling, is an exquisit...</td>\n",
       "      <td>Pure Darjeeling Tea: Loose Leaf</td>\n",
       "      <td>NaN</td>\n",
       "      <td>NaN</td>\n",
       "    </tr>\n",
       "    <tr>\n",
       "      <th>2</th>\n",
       "      <td>[[Grocery &amp; Gourmet Food]]</td>\n",
       "      <td>NaN</td>\n",
       "      <td>1403796890</td>\n",
       "      <td>http://ecx.images-amazon.com/images/I/518SEST5...</td>\n",
       "      <td>NaN</td>\n",
       "      <td>Must have for any WWE Fan\\n \\n \\n \\nFeaturing ...</td>\n",
       "      <td>WWE Kids Todler Velvet Slippers featuring John...</td>\n",
       "      <td>3.99</td>\n",
       "      <td>NaN</td>\n",
       "    </tr>\n",
       "    <tr>\n",
       "      <th>3</th>\n",
       "      <td>[[Grocery &amp; Gourmet Food]]</td>\n",
       "      <td>{'also_viewed': ['B0051IETTY']}</td>\n",
       "      <td>141278509X</td>\n",
       "      <td>http://ecx.images-amazon.com/images/I/51CFQIis...</td>\n",
       "      <td>{'Grocery &amp; Gourmet Food': 620322}</td>\n",
       "      <td>Infused with Vitamins and Electrolytes Good So...</td>\n",
       "      <td>Archer Farms Strawberry Dragonfruit Drink Mix ...</td>\n",
       "      <td>NaN</td>\n",
       "      <td>NaN</td>\n",
       "    </tr>\n",
       "    <tr>\n",
       "      <th>4</th>\n",
       "      <td>[[Grocery &amp; Gourmet Food]]</td>\n",
       "      <td>{'also_viewed': ['B006MSEOJ2', 'B005VOOQLO', '...</td>\n",
       "      <td>1453060375</td>\n",
       "      <td>http://ecx.images-amazon.com/images/I/51EUsMcn...</td>\n",
       "      <td>{'Grocery &amp; Gourmet Food': 268754}</td>\n",
       "      <td>MiO Energy is your portable energy source givi...</td>\n",
       "      <td>Mio Energy Liquid Water Enhancer Black Cherry ...</td>\n",
       "      <td>11.99</td>\n",
       "      <td>Mio</td>\n",
       "    </tr>\n",
       "  </tbody>\n",
       "</table>\n",
       "</div>"
      ],
      "text/plain": [
       "                   categories  \\\n",
       "0  [[Grocery & Gourmet Food]]   \n",
       "1  [[Grocery & Gourmet Food]]   \n",
       "2  [[Grocery & Gourmet Food]]   \n",
       "3  [[Grocery & Gourmet Food]]   \n",
       "4  [[Grocery & Gourmet Food]]   \n",
       "\n",
       "                                             related        asin  \\\n",
       "0                    {'also_viewed': ['B001GE8N4Y']}  0657745316   \n",
       "1                                                NaN  0700026444   \n",
       "2                                                NaN  1403796890   \n",
       "3                    {'also_viewed': ['B0051IETTY']}  141278509X   \n",
       "4  {'also_viewed': ['B006MSEOJ2', 'B005VOOQLO', '...  1453060375   \n",
       "\n",
       "                                               imUrl  \\\n",
       "0  http://ecx.images-amazon.com/images/I/41gFi5h0...   \n",
       "1  http://ecx.images-amazon.com/images/I/51hs8sox...   \n",
       "2  http://ecx.images-amazon.com/images/I/518SEST5...   \n",
       "3  http://ecx.images-amazon.com/images/I/51CFQIis...   \n",
       "4  http://ecx.images-amazon.com/images/I/51EUsMcn...   \n",
       "\n",
       "                            salesRank  \\\n",
       "0  {'Grocery & Gourmet Food': 374004}   \n",
       "1  {'Grocery & Gourmet Food': 620307}   \n",
       "2                                 NaN   \n",
       "3  {'Grocery & Gourmet Food': 620322}   \n",
       "4  {'Grocery & Gourmet Food': 268754}   \n",
       "\n",
       "                                         description  \\\n",
       "0  This is real vanilla extract made with only 3 ...   \n",
       "1  Silverpot Tea, Pure Darjeeling, is an exquisit...   \n",
       "2  Must have for any WWE Fan\\n \\n \\n \\nFeaturing ...   \n",
       "3  Infused with Vitamins and Electrolytes Good So...   \n",
       "4  MiO Energy is your portable energy source givi...   \n",
       "\n",
       "                                               title  price brand  \n",
       "0            100 Percent All Natural Vanilla Extract    NaN   NaN  \n",
       "1                    Pure Darjeeling Tea: Loose Leaf    NaN   NaN  \n",
       "2  WWE Kids Todler Velvet Slippers featuring John...   3.99   NaN  \n",
       "3  Archer Farms Strawberry Dragonfruit Drink Mix ...    NaN   NaN  \n",
       "4  Mio Energy Liquid Water Enhancer Black Cherry ...  11.99   Mio  "
      ]
     },
     "execution_count": 58,
     "metadata": {},
     "output_type": "execute_result"
    }
   ],
   "source": [
    "meta.head()"
   ]
  },
  {
   "cell_type": "code",
   "execution_count": null,
   "metadata": {
    "collapsed": true
   },
   "outputs": [],
   "source": [
    "df[['asin','title']]"
   ]
  },
  {
   "cell_type": "markdown",
   "metadata": {},
   "source": [
    "# Thanks\n",
    "To Julian McAuly for permitting use of data scraped by him/his team\n",
    "\n",
    "WWW / SIGIR papers  \n",
    "R. He, J. McAuley. Modeling the visual evolution of fashion trends\n",
    "with one-class collaborative filtering. WWW, 2016\n",
    "J. McAuley, C. Targett, J. Shi, A. van den Hengel. Image-based\n",
    "recommendations on styles and substitutes. SIGIR, 2015"
   ]
  },
  {
   "cell_type": "code",
   "execution_count": 3,
   "metadata": {
    "collapsed": true
   },
   "outputs": [],
   "source": [
    "#use jmc's code for pulling data in\n",
    "\n",
    "def parse(path):\n",
    "    g = gzip.open(path, 'r')\n",
    "    for l in g:\n",
    "        yield eval(l)\n",
    " \n",
    "def parse(path):\n",
    "    g = gzip.open(path, 'rb')\n",
    "    for l in g:\n",
    "        yield eval(l)\n",
    "\n",
    "def getDF(path):\n",
    "    i = 0\n",
    "    df = {}\n",
    "    for d in parse(path):\n",
    "        df[i] = d\n",
    "        i += 1\n",
    "    return pd.DataFrame.from_dict(df, orient='index')\n",
    "\n",
    "df = getDF('reviews_Health_and_Personal_Care_5.json.gz')"
   ]
  },
  {
   "cell_type": "code",
   "execution_count": 5,
   "metadata": {
    "collapsed": false
   },
   "outputs": [
    {
     "name": "stdout",
     "output_type": "stream",
     "text": [
      "<class 'pandas.core.frame.DataFrame'>\n",
      "Int64Index: 346355 entries, 0 to 346354\n",
      "Data columns (total 9 columns):\n",
      "reviewerName      343304 non-null object\n",
      "reviewTime        346355 non-null object\n",
      "summary           346355 non-null object\n",
      "reviewText        346355 non-null object\n",
      "unixReviewTime    346355 non-null int64\n",
      "asin              346355 non-null object\n",
      "reviewerID        346355 non-null object\n",
      "overall           346355 non-null float64\n",
      "helpful           346355 non-null object\n",
      "dtypes: float64(1), int64(1), object(7)\n",
      "memory usage: 26.4+ MB\n"
     ]
    }
   ],
   "source": [
    "df.info()"
   ]
  },
  {
   "cell_type": "code",
   "execution_count": 7,
   "metadata": {
    "collapsed": false
   },
   "outputs": [
    {
     "data": {
      "text/plain": [
       "reviewerName                                                   AnnN\n",
       "reviewTime                                               01 5, 2011\n",
       "summary                                         Handy little gadget\n",
       "reviewText        This is a great little gadget to have around. ...\n",
       "unixReviewTime                                           1294185600\n",
       "asin                                                     159985130X\n",
       "reviewerID                                            ALC5GH8CAMAI7\n",
       "overall                                                           5\n",
       "helpful                                                      [1, 1]\n",
       "Name: 0, dtype: object"
      ]
     },
     "execution_count": 7,
     "metadata": {},
     "output_type": "execute_result"
    }
   ],
   "source": [
    "df.iloc[0]"
   ]
  },
  {
   "cell_type": "code",
   "execution_count": 8,
   "metadata": {
    "collapsed": false
   },
   "outputs": [
    {
     "data": {
      "text/plain": [
       "18534"
      ]
     },
     "execution_count": 8,
     "metadata": {},
     "output_type": "execute_result"
    }
   ],
   "source": [
    "print(df.asin.nunique())\n",
    "df.asin.value_counts()[:10]"
   ]
  },
  {
   "cell_type": "code",
   "execution_count": 24,
   "metadata": {
    "collapsed": false
   },
   "outputs": [
    {
     "name": "stdout",
     "output_type": "stream",
     "text": [
      "<class 'pandas.core.frame.DataFrame'>\n",
      "Int64Index: 263032 entries, 0 to 263031\n",
      "Data columns (total 9 columns):\n",
      "description    237839 non-null object\n",
      "categories     263032 non-null object\n",
      "related        208364 non-null object\n",
      "title          262362 non-null object\n",
      "asin           263032 non-null object\n",
      "salesRank      247665 non-null object\n",
      "imUrl          262767 non-null object\n",
      "price          196043 non-null float64\n",
      "brand          124304 non-null object\n",
      "dtypes: float64(1), object(8)\n",
      "memory usage: 20.1+ MB\n"
     ]
    }
   ],
   "source": [
    "mhp=getDF('meta_Health_and_Personal_Care.json.gz')\n",
    "mhp.info()"
   ]
  },
  {
   "cell_type": "code",
   "execution_count": 25,
   "metadata": {
    "collapsed": false
   },
   "outputs": [
    {
     "data": {
      "text/html": [
       "<div>\n",
       "<table border=\"1\" class=\"dataframe\">\n",
       "  <thead>\n",
       "    <tr style=\"text-align: right;\">\n",
       "      <th></th>\n",
       "      <th>description</th>\n",
       "      <th>categories</th>\n",
       "      <th>related</th>\n",
       "      <th>title</th>\n",
       "      <th>asin</th>\n",
       "      <th>salesRank</th>\n",
       "      <th>imUrl</th>\n",
       "      <th>price</th>\n",
       "      <th>brand</th>\n",
       "    </tr>\n",
       "  </thead>\n",
       "  <tbody>\n",
       "    <tr>\n",
       "      <th>0</th>\n",
       "      <td>This is an example product description.</td>\n",
       "      <td>[[Health &amp; Personal Care]]</td>\n",
       "      <td>{'also_bought': ['0471730726', '0132834871', '...</td>\n",
       "      <td>Principles of Mgmt + Oper-CSUF Custom C</td>\n",
       "      <td>0077614992</td>\n",
       "      <td>{'Health &amp; Personal Care': 168429}</td>\n",
       "      <td>http://ecx.images-amazon.com/images/I/51G%2BRq...</td>\n",
       "      <td>NaN</td>\n",
       "      <td>NaN</td>\n",
       "    </tr>\n",
       "    <tr>\n",
       "      <th>1</th>\n",
       "      <td>By now we all know the benefits of exercise fo...</td>\n",
       "      <td>[[Health &amp; Personal Care, Personal Care]]</td>\n",
       "      <td>NaN</td>\n",
       "      <td>Brain Fitness Exercises Software</td>\n",
       "      <td>0615208479</td>\n",
       "      <td>{'Health &amp; Personal Care': 1346973}</td>\n",
       "      <td>http://ecx.images-amazon.com/images/I/41kbZB04...</td>\n",
       "      <td>NaN</td>\n",
       "      <td>NaN</td>\n",
       "    </tr>\n",
       "    <tr>\n",
       "      <th>2</th>\n",
       "      <td>What's wrong with your patient?Do all the symp...</td>\n",
       "      <td>[[Health &amp; Personal Care, Personal Care, Shavi...</td>\n",
       "      <td>{'also_bought': ['1935660152', '0071743979', '...</td>\n",
       "      <td>Occam's Razor</td>\n",
       "      <td>0615269990</td>\n",
       "      <td>{'Toys &amp; Games': 110575}</td>\n",
       "      <td>http://ecx.images-amazon.com/images/I/51fH-ABe...</td>\n",
       "      <td>34.99</td>\n",
       "      <td>NaN</td>\n",
       "    </tr>\n",
       "    <tr>\n",
       "      <th>3</th>\n",
       "      <td>NaN</td>\n",
       "      <td>[[Health &amp; Personal Care]]</td>\n",
       "      <td>{'also_bought': ['B006VT9RBM', 'B0010JLMO8', '...</td>\n",
       "      <td>101 BlenderBottle Recipes Quick and Easy</td>\n",
       "      <td>0615315860</td>\n",
       "      <td>{'Health &amp; Personal Care': 254068}</td>\n",
       "      <td>http://ecx.images-amazon.com/images/I/21zOQu2Q...</td>\n",
       "      <td>NaN</td>\n",
       "      <td>NaN</td>\n",
       "    </tr>\n",
       "    <tr>\n",
       "      <th>4</th>\n",
       "      <td>This is an example product description.</td>\n",
       "      <td>[[Health &amp; Personal Care]]</td>\n",
       "      <td>{'also_bought': ['0966035232', '1421407205']}</td>\n",
       "      <td>Aphrodite Reborn - Women's Stories of Hope, Co...</td>\n",
       "      <td>0615406394</td>\n",
       "      <td>{'Health &amp; Personal Care': 377936}</td>\n",
       "      <td>http://ecx.images-amazon.com/images/I/51rJLgsi...</td>\n",
       "      <td>NaN</td>\n",
       "      <td>NaN</td>\n",
       "    </tr>\n",
       "  </tbody>\n",
       "</table>\n",
       "</div>"
      ],
      "text/plain": [
       "                                         description  \\\n",
       "0            This is an example product description.   \n",
       "1  By now we all know the benefits of exercise fo...   \n",
       "2  What's wrong with your patient?Do all the symp...   \n",
       "3                                                NaN   \n",
       "4            This is an example product description.   \n",
       "\n",
       "                                          categories  \\\n",
       "0                         [[Health & Personal Care]]   \n",
       "1          [[Health & Personal Care, Personal Care]]   \n",
       "2  [[Health & Personal Care, Personal Care, Shavi...   \n",
       "3                         [[Health & Personal Care]]   \n",
       "4                         [[Health & Personal Care]]   \n",
       "\n",
       "                                             related  \\\n",
       "0  {'also_bought': ['0471730726', '0132834871', '...   \n",
       "1                                                NaN   \n",
       "2  {'also_bought': ['1935660152', '0071743979', '...   \n",
       "3  {'also_bought': ['B006VT9RBM', 'B0010JLMO8', '...   \n",
       "4      {'also_bought': ['0966035232', '1421407205']}   \n",
       "\n",
       "                                               title        asin  \\\n",
       "0            Principles of Mgmt + Oper-CSUF Custom C  0077614992   \n",
       "1                   Brain Fitness Exercises Software  0615208479   \n",
       "2                                      Occam's Razor  0615269990   \n",
       "3           101 BlenderBottle Recipes Quick and Easy  0615315860   \n",
       "4  Aphrodite Reborn - Women's Stories of Hope, Co...  0615406394   \n",
       "\n",
       "                             salesRank  \\\n",
       "0   {'Health & Personal Care': 168429}   \n",
       "1  {'Health & Personal Care': 1346973}   \n",
       "2             {'Toys & Games': 110575}   \n",
       "3   {'Health & Personal Care': 254068}   \n",
       "4   {'Health & Personal Care': 377936}   \n",
       "\n",
       "                                               imUrl  price brand  \n",
       "0  http://ecx.images-amazon.com/images/I/51G%2BRq...    NaN   NaN  \n",
       "1  http://ecx.images-amazon.com/images/I/41kbZB04...    NaN   NaN  \n",
       "2  http://ecx.images-amazon.com/images/I/51fH-ABe...  34.99   NaN  \n",
       "3  http://ecx.images-amazon.com/images/I/21zOQu2Q...    NaN   NaN  \n",
       "4  http://ecx.images-amazon.com/images/I/51rJLgsi...    NaN   NaN  "
      ]
     },
     "execution_count": 25,
     "metadata": {},
     "output_type": "execute_result"
    }
   ],
   "source": [
    "mhp.head()"
   ]
  },
  {
   "cell_type": "code",
   "execution_count": 26,
   "metadata": {
    "collapsed": false
   },
   "outputs": [
    {
     "data": {
      "text/plain": [
       "263032"
      ]
     },
     "execution_count": 26,
     "metadata": {},
     "output_type": "execute_result"
    }
   ],
   "source": [
    "mhp.asin.nunique()"
   ]
  },
  {
   "cell_type": "code",
   "execution_count": 27,
   "metadata": {
    "collapsed": false,
    "scrolled": true
   },
   "outputs": [
    {
     "data": {
      "text/html": [
       "<div>\n",
       "<table border=\"1\" class=\"dataframe\">\n",
       "  <thead>\n",
       "    <tr style=\"text-align: right;\">\n",
       "      <th></th>\n",
       "      <th>reviewerName</th>\n",
       "      <th>reviewTime</th>\n",
       "      <th>summary</th>\n",
       "      <th>reviewText</th>\n",
       "      <th>unixReviewTime</th>\n",
       "      <th>asin</th>\n",
       "      <th>reviewerID</th>\n",
       "      <th>overall</th>\n",
       "      <th>helpful</th>\n",
       "      <th>description</th>\n",
       "      <th>categories</th>\n",
       "      <th>related</th>\n",
       "      <th>title</th>\n",
       "      <th>salesRank</th>\n",
       "      <th>imUrl</th>\n",
       "      <th>price</th>\n",
       "      <th>brand</th>\n",
       "    </tr>\n",
       "  </thead>\n",
       "  <tbody>\n",
       "    <tr>\n",
       "      <th>0</th>\n",
       "      <td>AnnN</td>\n",
       "      <td>01 5, 2011</td>\n",
       "      <td>Handy little gadget</td>\n",
       "      <td>This is a great little gadget to have around. ...</td>\n",
       "      <td>1294185600</td>\n",
       "      <td>159985130X</td>\n",
       "      <td>ALC5GH8CAMAI7</td>\n",
       "      <td>5.0</td>\n",
       "      <td>[1, 1]</td>\n",
       "      <td>The Pocket Magnifier is so popular, we are hav...</td>\n",
       "      <td>[[Health &amp; Personal Care, Medical Supplies &amp; E...</td>\n",
       "      <td>{'bought_together': ['B00524H8MC'], 'also_boug...</td>\n",
       "      <td>Lightwedge Lighted Pocket Magnifier, Plum</td>\n",
       "      <td>NaN</td>\n",
       "      <td>http://ecx.images-amazon.com/images/I/31eVZtZ%...</td>\n",
       "      <td>24.95</td>\n",
       "      <td>NaN</td>\n",
       "    </tr>\n",
       "    <tr>\n",
       "      <th>1</th>\n",
       "      <td>AZ buyer \"AZ buyer\"</td>\n",
       "      <td>02 18, 2012</td>\n",
       "      <td>Small &amp; may need to encourage battery</td>\n",
       "      <td>I would recommend this for a travel magnifier ...</td>\n",
       "      <td>1329523200</td>\n",
       "      <td>159985130X</td>\n",
       "      <td>AHKSURW85PJUE</td>\n",
       "      <td>4.0</td>\n",
       "      <td>[1, 1]</td>\n",
       "      <td>The Pocket Magnifier is so popular, we are hav...</td>\n",
       "      <td>[[Health &amp; Personal Care, Medical Supplies &amp; E...</td>\n",
       "      <td>{'bought_together': ['B00524H8MC'], 'also_boug...</td>\n",
       "      <td>Lightwedge Lighted Pocket Magnifier, Plum</td>\n",
       "      <td>NaN</td>\n",
       "      <td>http://ecx.images-amazon.com/images/I/31eVZtZ%...</td>\n",
       "      <td>24.95</td>\n",
       "      <td>NaN</td>\n",
       "    </tr>\n",
       "    <tr>\n",
       "      <th>2</th>\n",
       "      <td>Bob Tobias \"Robert Tobias\"</td>\n",
       "      <td>06 8, 2010</td>\n",
       "      <td>Very good but not great</td>\n",
       "      <td>What I liked was the quality of the lens and t...</td>\n",
       "      <td>1275955200</td>\n",
       "      <td>159985130X</td>\n",
       "      <td>A38RMU1Y5TDP9</td>\n",
       "      <td>4.0</td>\n",
       "      <td>[75, 77]</td>\n",
       "      <td>The Pocket Magnifier is so popular, we are hav...</td>\n",
       "      <td>[[Health &amp; Personal Care, Medical Supplies &amp; E...</td>\n",
       "      <td>{'bought_together': ['B00524H8MC'], 'also_boug...</td>\n",
       "      <td>Lightwedge Lighted Pocket Magnifier, Plum</td>\n",
       "      <td>NaN</td>\n",
       "      <td>http://ecx.images-amazon.com/images/I/31eVZtZ%...</td>\n",
       "      <td>24.95</td>\n",
       "      <td>NaN</td>\n",
       "    </tr>\n",
       "    <tr>\n",
       "      <th>3</th>\n",
       "      <td>Cat lover</td>\n",
       "      <td>02 8, 2008</td>\n",
       "      <td>great addition to your purse</td>\n",
       "      <td>Love the Great point light pocket magnifier!  ...</td>\n",
       "      <td>1202428800</td>\n",
       "      <td>159985130X</td>\n",
       "      <td>A1XZUG7DFXXOS4</td>\n",
       "      <td>4.0</td>\n",
       "      <td>[56, 60]</td>\n",
       "      <td>The Pocket Magnifier is so popular, we are hav...</td>\n",
       "      <td>[[Health &amp; Personal Care, Medical Supplies &amp; E...</td>\n",
       "      <td>{'bought_together': ['B00524H8MC'], 'also_boug...</td>\n",
       "      <td>Lightwedge Lighted Pocket Magnifier, Plum</td>\n",
       "      <td>NaN</td>\n",
       "      <td>http://ecx.images-amazon.com/images/I/31eVZtZ%...</td>\n",
       "      <td>24.95</td>\n",
       "      <td>NaN</td>\n",
       "    </tr>\n",
       "    <tr>\n",
       "      <th>4</th>\n",
       "      <td>Cricketoes</td>\n",
       "      <td>08 16, 2011</td>\n",
       "      <td>Very nice and convenient.</td>\n",
       "      <td>This is very nice. You pull out on the magnifi...</td>\n",
       "      <td>1313452800</td>\n",
       "      <td>159985130X</td>\n",
       "      <td>A1MS3M7M7AM13X</td>\n",
       "      <td>5.0</td>\n",
       "      <td>[1, 1]</td>\n",
       "      <td>The Pocket Magnifier is so popular, we are hav...</td>\n",
       "      <td>[[Health &amp; Personal Care, Medical Supplies &amp; E...</td>\n",
       "      <td>{'bought_together': ['B00524H8MC'], 'also_boug...</td>\n",
       "      <td>Lightwedge Lighted Pocket Magnifier, Plum</td>\n",
       "      <td>NaN</td>\n",
       "      <td>http://ecx.images-amazon.com/images/I/31eVZtZ%...</td>\n",
       "      <td>24.95</td>\n",
       "      <td>NaN</td>\n",
       "    </tr>\n",
       "  </tbody>\n",
       "</table>\n",
       "</div>"
      ],
      "text/plain": [
       "                 reviewerName   reviewTime  \\\n",
       "0                        AnnN   01 5, 2011   \n",
       "1         AZ buyer \"AZ buyer\"  02 18, 2012   \n",
       "2  Bob Tobias \"Robert Tobias\"   06 8, 2010   \n",
       "3                   Cat lover   02 8, 2008   \n",
       "4                  Cricketoes  08 16, 2011   \n",
       "\n",
       "                                 summary  \\\n",
       "0                    Handy little gadget   \n",
       "1  Small & may need to encourage battery   \n",
       "2                Very good but not great   \n",
       "3           great addition to your purse   \n",
       "4              Very nice and convenient.   \n",
       "\n",
       "                                          reviewText  unixReviewTime  \\\n",
       "0  This is a great little gadget to have around. ...      1294185600   \n",
       "1  I would recommend this for a travel magnifier ...      1329523200   \n",
       "2  What I liked was the quality of the lens and t...      1275955200   \n",
       "3  Love the Great point light pocket magnifier!  ...      1202428800   \n",
       "4  This is very nice. You pull out on the magnifi...      1313452800   \n",
       "\n",
       "         asin      reviewerID  overall   helpful  \\\n",
       "0  159985130X   ALC5GH8CAMAI7      5.0    [1, 1]   \n",
       "1  159985130X   AHKSURW85PJUE      4.0    [1, 1]   \n",
       "2  159985130X   A38RMU1Y5TDP9      4.0  [75, 77]   \n",
       "3  159985130X  A1XZUG7DFXXOS4      4.0  [56, 60]   \n",
       "4  159985130X  A1MS3M7M7AM13X      5.0    [1, 1]   \n",
       "\n",
       "                                         description  \\\n",
       "0  The Pocket Magnifier is so popular, we are hav...   \n",
       "1  The Pocket Magnifier is so popular, we are hav...   \n",
       "2  The Pocket Magnifier is so popular, we are hav...   \n",
       "3  The Pocket Magnifier is so popular, we are hav...   \n",
       "4  The Pocket Magnifier is so popular, we are hav...   \n",
       "\n",
       "                                          categories  \\\n",
       "0  [[Health & Personal Care, Medical Supplies & E...   \n",
       "1  [[Health & Personal Care, Medical Supplies & E...   \n",
       "2  [[Health & Personal Care, Medical Supplies & E...   \n",
       "3  [[Health & Personal Care, Medical Supplies & E...   \n",
       "4  [[Health & Personal Care, Medical Supplies & E...   \n",
       "\n",
       "                                             related  \\\n",
       "0  {'bought_together': ['B00524H8MC'], 'also_boug...   \n",
       "1  {'bought_together': ['B00524H8MC'], 'also_boug...   \n",
       "2  {'bought_together': ['B00524H8MC'], 'also_boug...   \n",
       "3  {'bought_together': ['B00524H8MC'], 'also_boug...   \n",
       "4  {'bought_together': ['B00524H8MC'], 'also_boug...   \n",
       "\n",
       "                                       title salesRank  \\\n",
       "0  Lightwedge Lighted Pocket Magnifier, Plum       NaN   \n",
       "1  Lightwedge Lighted Pocket Magnifier, Plum       NaN   \n",
       "2  Lightwedge Lighted Pocket Magnifier, Plum       NaN   \n",
       "3  Lightwedge Lighted Pocket Magnifier, Plum       NaN   \n",
       "4  Lightwedge Lighted Pocket Magnifier, Plum       NaN   \n",
       "\n",
       "                                               imUrl  price brand  \n",
       "0  http://ecx.images-amazon.com/images/I/31eVZtZ%...  24.95   NaN  \n",
       "1  http://ecx.images-amazon.com/images/I/31eVZtZ%...  24.95   NaN  \n",
       "2  http://ecx.images-amazon.com/images/I/31eVZtZ%...  24.95   NaN  \n",
       "3  http://ecx.images-amazon.com/images/I/31eVZtZ%...  24.95   NaN  \n",
       "4  http://ecx.images-amazon.com/images/I/31eVZtZ%...  24.95   NaN  "
      ]
     },
     "execution_count": 27,
     "metadata": {},
     "output_type": "execute_result"
    }
   ],
   "source": [
    "mhpdf=pd.merge(df,mhp,on='asin')\n",
    "mhpdf.head()"
   ]
  },
  {
   "cell_type": "code",
   "execution_count": 32,
   "metadata": {
    "collapsed": false
   },
   "outputs": [
    {
     "data": {
      "text/plain": [
       "[['Health & Personal Care',\n",
       "  'Medical Supplies & Equipment',\n",
       "  'Daily Living Aids',\n",
       "  'Visual Impairment Aids',\n",
       "  'Magnifiers']]"
      ]
     },
     "execution_count": 32,
     "metadata": {},
     "output_type": "execute_result"
    }
   ],
   "source": [
    "mhpdf.categories.iloc[0]."
   ]
  },
  {
   "cell_type": "code",
   "execution_count": 86,
   "metadata": {
    "collapsed": false
   },
   "outputs": [
    {
     "data": {
      "text/plain": [
       "346355"
      ]
     },
     "execution_count": 86,
     "metadata": {},
     "output_type": "execute_result"
    }
   ],
   "source": [
    "seram=[]\n",
    "for i in mhpdf.categories[mhpdf.categories.notnull()]:\n",
    "        seram.append(i[0])\n",
    " \n",
    "len(seram)\n"
   ]
  },
  {
   "cell_type": "code",
   "execution_count": 88,
   "metadata": {
    "collapsed": false
   },
   "outputs": [
    {
     "data": {
      "text/html": [
       "<div>\n",
       "<table border=\"1\" class=\"dataframe\">\n",
       "  <thead>\n",
       "    <tr style=\"text-align: right;\">\n",
       "      <th></th>\n",
       "      <th>H&amp;PC</th>\n",
       "      <th>Cat1</th>\n",
       "      <th>Cat2</th>\n",
       "      <th>Cat3</th>\n",
       "      <th>Cat4</th>\n",
       "      <th>Cat5</th>\n",
       "      <th>Cat6</th>\n",
       "    </tr>\n",
       "  </thead>\n",
       "  <tbody>\n",
       "    <tr>\n",
       "      <th>0</th>\n",
       "      <td>Health &amp; Personal Care</td>\n",
       "      <td>Medical Supplies &amp; Equipment</td>\n",
       "      <td>Daily Living Aids</td>\n",
       "      <td>Visual Impairment Aids</td>\n",
       "      <td>Magnifiers</td>\n",
       "      <td>None</td>\n",
       "      <td>None</td>\n",
       "    </tr>\n",
       "    <tr>\n",
       "      <th>1</th>\n",
       "      <td>Health &amp; Personal Care</td>\n",
       "      <td>Medical Supplies &amp; Equipment</td>\n",
       "      <td>Daily Living Aids</td>\n",
       "      <td>Visual Impairment Aids</td>\n",
       "      <td>Magnifiers</td>\n",
       "      <td>None</td>\n",
       "      <td>None</td>\n",
       "    </tr>\n",
       "    <tr>\n",
       "      <th>2</th>\n",
       "      <td>Health &amp; Personal Care</td>\n",
       "      <td>Medical Supplies &amp; Equipment</td>\n",
       "      <td>Daily Living Aids</td>\n",
       "      <td>Visual Impairment Aids</td>\n",
       "      <td>Magnifiers</td>\n",
       "      <td>None</td>\n",
       "      <td>None</td>\n",
       "    </tr>\n",
       "    <tr>\n",
       "      <th>3</th>\n",
       "      <td>Health &amp; Personal Care</td>\n",
       "      <td>Medical Supplies &amp; Equipment</td>\n",
       "      <td>Daily Living Aids</td>\n",
       "      <td>Visual Impairment Aids</td>\n",
       "      <td>Magnifiers</td>\n",
       "      <td>None</td>\n",
       "      <td>None</td>\n",
       "    </tr>\n",
       "    <tr>\n",
       "      <th>4</th>\n",
       "      <td>Health &amp; Personal Care</td>\n",
       "      <td>Medical Supplies &amp; Equipment</td>\n",
       "      <td>Daily Living Aids</td>\n",
       "      <td>Visual Impairment Aids</td>\n",
       "      <td>Magnifiers</td>\n",
       "      <td>None</td>\n",
       "      <td>None</td>\n",
       "    </tr>\n",
       "  </tbody>\n",
       "</table>\n",
       "</div>"
      ],
      "text/plain": [
       "                     H&PC                          Cat1               Cat2  \\\n",
       "0  Health & Personal Care  Medical Supplies & Equipment  Daily Living Aids   \n",
       "1  Health & Personal Care  Medical Supplies & Equipment  Daily Living Aids   \n",
       "2  Health & Personal Care  Medical Supplies & Equipment  Daily Living Aids   \n",
       "3  Health & Personal Care  Medical Supplies & Equipment  Daily Living Aids   \n",
       "4  Health & Personal Care  Medical Supplies & Equipment  Daily Living Aids   \n",
       "\n",
       "                     Cat3        Cat4  Cat5  Cat6  \n",
       "0  Visual Impairment Aids  Magnifiers  None  None  \n",
       "1  Visual Impairment Aids  Magnifiers  None  None  \n",
       "2  Visual Impairment Aids  Magnifiers  None  None  \n",
       "3  Visual Impairment Aids  Magnifiers  None  None  \n",
       "4  Visual Impairment Aids  Magnifiers  None  None  "
      ]
     },
     "execution_count": 88,
     "metadata": {},
     "output_type": "execute_result"
    }
   ],
   "source": [
    "seramdf=pd.DataFrame(seram,columns=['H&PC','Cat1','Cat2','Cat3','Cat4','Cat5','Cat6'],index=mhpdf.index)\n",
    "seramdf.head()"
   ]
  },
  {
   "cell_type": "code",
   "execution_count": 91,
   "metadata": {
    "collapsed": false
   },
   "outputs": [
    {
     "data": {
      "text/plain": [
       "Health & Personal Care       345755\n",
       "Automotive                      469\n",
       "Cell Phones & Accessories        61\n",
       "Sports & Outdoors                59\n",
       "Home & Kitchen                    6\n",
       "CDs & Vinyl                       5\n",
       "Name: H&PC, dtype: int64"
      ]
     },
     "execution_count": 91,
     "metadata": {},
     "output_type": "execute_result"
    }
   ],
   "source": [
    "seramdf['H&PC'].value_counts()"
   ]
  },
  {
   "cell_type": "code",
   "execution_count": 101,
   "metadata": {
    "collapsed": false
   },
   "outputs": [
    {
     "data": {
      "text/plain": [
       "Tools & Equipment        410\n",
       "Paints & Primers          27\n",
       "Exterior Care             24\n",
       "Electrical Appliances      8\n",
       "Name: Cat2, dtype: int64"
      ]
     },
     "execution_count": 101,
     "metadata": {},
     "output_type": "execute_result"
    }
   ],
   "source": [
    "seramdf[seramdf['H&PC']=='Automotive'].Cat2.value_counts()"
   ]
  },
  {
   "cell_type": "code",
   "execution_count": 102,
   "metadata": {
    "collapsed": false
   },
   "outputs": [
    {
     "data": {
      "text/plain": [
       "Vitamins & Dietary Supplements    83181\n",
       "Personal Care                     73828\n",
       "Health Care                       59636\n",
       "Household Supplies                59060\n",
       "Medical Supplies & Equipment      35702\n",
       "Sports Nutrition                  20787\n",
       "Sexual Wellness                    6276\n",
       "Stationery & Party Supplies         771\n",
       "Baby & Child Care                   634\n",
       "Car Care                            434\n",
       "Accessories                          90\n",
       "Paint, Body & Trim                   27\n",
       "Clothing                             22\n",
       "Interior Accessories                  8\n",
       "Outdoor Gear                          8\n",
       "Kitchen & Dining                      6\n",
       "New Age                               5\n",
       "Name: Cat1, dtype: int64"
      ]
     },
     "execution_count": 102,
     "metadata": {},
     "output_type": "execute_result"
    }
   ],
   "source": [
    "seramdf['Cat1'].value_counts()"
   ]
  },
  {
   "cell_type": "code",
   "execution_count": 111,
   "metadata": {
    "collapsed": false
   },
   "outputs": [],
   "source": [
    "mhpdfa=pd.merge(seramdf,mhpdf,left_index=True,right_index=True)"
   ]
  },
  {
   "cell_type": "code",
   "execution_count": 114,
   "metadata": {
    "collapsed": false
   },
   "outputs": [
    {
     "data": {
      "text/plain": [
       "Index(['H&PC', 'Cat1', 'Cat2', 'Cat3', 'Cat4', 'Cat5', 'Cat6', 'reviewerName',\n",
       "       'reviewTime', 'summary', 'reviewText', 'unixReviewTime', 'asin',\n",
       "       'reviewerID', 'overall', 'helpful', 'description', 'categories',\n",
       "       'related', 'title', 'salesRank', 'imUrl', 'price', 'brand'],\n",
       "      dtype='object')"
      ]
     },
     "execution_count": 114,
     "metadata": {},
     "output_type": "execute_result"
    }
   ],
   "source": [
    "mhpdfa.columns"
   ]
  },
  {
   "cell_type": "code",
   "execution_count": 120,
   "metadata": {
    "collapsed": false
   },
   "outputs": [
    {
     "data": {
      "text/html": [
       "<div>\n",
       "<table border=\"1\" class=\"dataframe\">\n",
       "  <thead>\n",
       "    <tr style=\"text-align: right;\">\n",
       "      <th></th>\n",
       "      <th>Cat1</th>\n",
       "      <th>Cat2</th>\n",
       "      <th>Cat3</th>\n",
       "      <th>Cat4</th>\n",
       "      <th>Cat5</th>\n",
       "      <th>Cat6</th>\n",
       "    </tr>\n",
       "  </thead>\n",
       "  <tbody>\n",
       "    <tr>\n",
       "      <th>0</th>\n",
       "      <td>Medical Supplies &amp; Equipment</td>\n",
       "      <td>Daily Living Aids</td>\n",
       "      <td>Visual Impairment Aids</td>\n",
       "      <td>Magnifiers</td>\n",
       "      <td>None</td>\n",
       "      <td>None</td>\n",
       "    </tr>\n",
       "    <tr>\n",
       "      <th>1</th>\n",
       "      <td>Medical Supplies &amp; Equipment</td>\n",
       "      <td>Daily Living Aids</td>\n",
       "      <td>Visual Impairment Aids</td>\n",
       "      <td>Magnifiers</td>\n",
       "      <td>None</td>\n",
       "      <td>None</td>\n",
       "    </tr>\n",
       "    <tr>\n",
       "      <th>2</th>\n",
       "      <td>Medical Supplies &amp; Equipment</td>\n",
       "      <td>Daily Living Aids</td>\n",
       "      <td>Visual Impairment Aids</td>\n",
       "      <td>Magnifiers</td>\n",
       "      <td>None</td>\n",
       "      <td>None</td>\n",
       "    </tr>\n",
       "    <tr>\n",
       "      <th>3</th>\n",
       "      <td>Medical Supplies &amp; Equipment</td>\n",
       "      <td>Daily Living Aids</td>\n",
       "      <td>Visual Impairment Aids</td>\n",
       "      <td>Magnifiers</td>\n",
       "      <td>None</td>\n",
       "      <td>None</td>\n",
       "    </tr>\n",
       "    <tr>\n",
       "      <th>4</th>\n",
       "      <td>Medical Supplies &amp; Equipment</td>\n",
       "      <td>Daily Living Aids</td>\n",
       "      <td>Visual Impairment Aids</td>\n",
       "      <td>Magnifiers</td>\n",
       "      <td>None</td>\n",
       "      <td>None</td>\n",
       "    </tr>\n",
       "  </tbody>\n",
       "</table>\n",
       "</div>"
      ],
      "text/plain": [
       "                           Cat1               Cat2                    Cat3  \\\n",
       "0  Medical Supplies & Equipment  Daily Living Aids  Visual Impairment Aids   \n",
       "1  Medical Supplies & Equipment  Daily Living Aids  Visual Impairment Aids   \n",
       "2  Medical Supplies & Equipment  Daily Living Aids  Visual Impairment Aids   \n",
       "3  Medical Supplies & Equipment  Daily Living Aids  Visual Impairment Aids   \n",
       "4  Medical Supplies & Equipment  Daily Living Aids  Visual Impairment Aids   \n",
       "\n",
       "         Cat4  Cat5  Cat6  \n",
       "0  Magnifiers  None  None  \n",
       "1  Magnifiers  None  None  \n",
       "2  Magnifiers  None  None  \n",
       "3  Magnifiers  None  None  \n",
       "4  Magnifiers  None  None  "
      ]
     },
     "execution_count": 120,
     "metadata": {},
     "output_type": "execute_result"
    }
   ],
   "source": [
    "mhpdfa[['Cat1', 'Cat2', 'Cat3', 'Cat4', 'Cat5', 'Cat6']][:5]"
   ]
  },
  {
   "cell_type": "code",
   "execution_count": 121,
   "metadata": {
    "collapsed": false
   },
   "outputs": [
    {
     "data": {
      "text/plain": [
       "Vitamins & Dietary Supplements    83181\n",
       "Personal Care                     73828\n",
       "Health Care                       59636\n",
       "Household Supplies                59060\n",
       "Medical Supplies & Equipment      35702\n",
       "Sports Nutrition                  20787\n",
       "Sexual Wellness                    6276\n",
       "Stationery & Party Supplies         771\n",
       "Baby & Child Care                   634\n",
       "Car Care                            434\n",
       "Accessories                          90\n",
       "Paint, Body & Trim                   27\n",
       "Clothing                             22\n",
       "Interior Accessories                  8\n",
       "Outdoor Gear                          8\n",
       "Kitchen & Dining                      6\n",
       "New Age                               5\n",
       "Name: Cat1, dtype: int64"
      ]
     },
     "execution_count": 121,
     "metadata": {},
     "output_type": "execute_result"
    }
   ],
   "source": [
    "mhpdfa.Cat1.value_counts()"
   ]
  },
  {
   "cell_type": "code",
   "execution_count": 175,
   "metadata": {
    "collapsed": false
   },
   "outputs": [],
   "source": [
    "colsdrop=['Vitamins & Dietary Supplements','Medical Supplies & Equipment','Sports Nutrition',\n",
    "         'Stationery & Party Supplies','Interior Accessories','Clothing','Outdoor Gear',\n",
    "         'New Age','Accessories','Baby & Child Care','Health Care','Kitchen & Dining']\n",
    "mhpdfacat1=mhpdfa[~mhpdfa['Cat1'].isin(colsdrop)]"
   ]
  },
  {
   "cell_type": "code",
   "execution_count": null,
   "metadata": {
    "collapsed": true
   },
   "outputs": [],
   "source": [
    "colsdrop2=['Cleaning Tools','Household Batteries','Paper & Plastic','Adult Toys & Games',\n",
    "           'Bondage Gear & Accessories','Fetish Wear','Tools & Equipment','Novelties','Sexual Enhancers']\n",
    "mhpdfacat1_=mhpdfacat1[~mhpdfacat1['Cat2'].isin(colsdrop2)]\n",
    "colsdrop3=['Deodorants','Alternative Protection','Panty Liners'          \n",
    "'Reading Glasses','Eyeglasses Care','Contact Lens Care','Manual Shaving','Electric Shavers',  \n",
    "'Trimmers & Clippers','Shaving Sets & Kits','Shaving Accessories','Cloths & Wipes']\n",
    "mhpdfacat2_=mhpdfacat1_[~mhpdfacat1_['Cat3'].isin(colsdrop3)]\n"
   ]
  },
  {
   "cell_type": "code",
   "execution_count": 213,
   "metadata": {
    "collapsed": false
   },
   "outputs": [
    {
     "data": {
      "text/plain": [
       "Oral Hygiene                    15338\n",
       "Shaving & Hair Removal          12464\n",
       "Laundry                         10725\n",
       "Household Cleaning               8419\n",
       "Dishwashing                      4668\n",
       "Deodorants & Antiperspirants     4432\n",
       "Feminine Care                    3077\n",
       "Lip Care                         2543\n",
       "Eye Care                         2482\n",
       "Safer Sex                        2198\n",
       "Air Fresheners                   2161\n",
       "Foot Care                        1946\n",
       "Ear Care                         1698\n",
       "Body Art                          100\n",
       "Paints & Primers                   27\n",
       "Exterior Care                      24\n",
       "Sensual Delights                   16\n",
       "Name: Cat2, dtype: int64"
      ]
     },
     "execution_count": 213,
     "metadata": {},
     "output_type": "execute_result"
    }
   ],
   "source": [
    "mhpdfacat2_.Cat.value_counts()"
   ]
  },
  {
   "cell_type": "code",
   "execution_count": 220,
   "metadata": {
    "collapsed": true
   },
   "outputs": [],
   "source": [
    "mhpdfacat2_.to_csv('amazon.csv')"
   ]
  },
  {
   "cell_type": "code",
   "execution_count": 211,
   "metadata": {
    "collapsed": false
   },
   "outputs": [
    {
     "data": {
      "text/plain": [
       "All-Purpose Cleaners             1665\n",
       "Bathroom Cleaners                1655\n",
       "Cloths & Wipes                   1461\n",
       "Carpet Cleaners & Deodorizers    1350\n",
       "Floor Cleaners                    917\n",
       "Kitchen Cleaners                  732\n",
       "Furniture & Wood Polishes         500\n",
       "Drain Openers                     447\n",
       "Metal Polishes                    361\n",
       "Glass Cleaners                    297\n",
       "Upholstery Cleaners               274\n",
       "Name: Cat3, dtype: int64"
      ]
     },
     "execution_count": 211,
     "metadata": {},
     "output_type": "execute_result"
    }
   ],
   "source": [
    "mhpdfacat1[mhpdfacat1.Cat2=='Household Cleaning']['Cat3'].value_counts()"
   ]
  },
  {
   "cell_type": "code",
   "execution_count": 1,
   "metadata": {
    "collapsed": true
   },
   "outputs": [],
   "source": [
    "import pandas as pd\n",
    "import numpy as np"
   ]
  },
  {
   "cell_type": "code",
   "execution_count": 2,
   "metadata": {
    "collapsed": true
   },
   "outputs": [],
   "source": [
    "am=pd.read_csv('amazon.csv')"
   ]
  },
  {
   "cell_type": "code",
   "execution_count": 46,
   "metadata": {
    "collapsed": false
   },
   "outputs": [
    {
     "data": {
      "text/plain": [
       "Oral Hygiene                    15338\n",
       "Shaving & Hair Removal          12464\n",
       "Laundry                         10725\n",
       "Household Cleaning               8419\n",
       "Dishwashing                      4668\n",
       "Deodorants & Antiperspirants     4432\n",
       "Feminine Care                    3077\n",
       "Lip Care                         2543\n",
       "Eye Care                         2482\n",
       "Safer Sex                        2198\n",
       "Air Fresheners                   2161\n",
       "Foot Care                        1946\n",
       "Ear Care                         1698\n",
       "Body Art                          100\n",
       "Paints & Primers                   27\n",
       "Exterior Care                      24\n",
       "Sensual Delights                   16\n",
       "Name: Cat2, dtype: int64"
      ]
     },
     "execution_count": 46,
     "metadata": {},
     "output_type": "execute_result"
    }
   ],
   "source": [
    "am.Cat2.value_counts()"
   ]
  },
  {
   "cell_type": "code",
   "execution_count": 47,
   "metadata": {
    "collapsed": false
   },
   "outputs": [
    {
     "data": {
      "text/plain": [
       "63615000"
      ]
     },
     "execution_count": 47,
     "metadata": {},
     "output_type": "execute_result"
    }
   ],
   "source": [
    "4241*15000"
   ]
  },
  {
   "cell_type": "code",
   "execution_count": 48,
   "metadata": {
    "collapsed": false
   },
   "outputs": [
    {
     "data": {
      "text/html": [
       "<div>\n",
       "<table border=\"1\" class=\"dataframe\">\n",
       "  <thead>\n",
       "    <tr style=\"text-align: right;\">\n",
       "      <th></th>\n",
       "      <th>Unnamed: 0</th>\n",
       "      <th>H&amp;PC</th>\n",
       "      <th>Cat1</th>\n",
       "      <th>Cat2</th>\n",
       "      <th>Cat3</th>\n",
       "      <th>Cat4</th>\n",
       "      <th>Cat5</th>\n",
       "      <th>Cat6</th>\n",
       "      <th>reviewerName</th>\n",
       "      <th>reviewTime</th>\n",
       "      <th>...</th>\n",
       "      <th>overall</th>\n",
       "      <th>helpful</th>\n",
       "      <th>description</th>\n",
       "      <th>categories</th>\n",
       "      <th>related</th>\n",
       "      <th>title</th>\n",
       "      <th>salesRank</th>\n",
       "      <th>imUrl</th>\n",
       "      <th>price</th>\n",
       "      <th>brand</th>\n",
       "    </tr>\n",
       "  </thead>\n",
       "  <tbody>\n",
       "    <tr>\n",
       "      <th>0</th>\n",
       "      <td>80</td>\n",
       "      <td>Health &amp; Personal Care</td>\n",
       "      <td>Household Supplies</td>\n",
       "      <td>NaN</td>\n",
       "      <td>NaN</td>\n",
       "      <td>NaN</td>\n",
       "      <td>NaN</td>\n",
       "      <td>NaN</td>\n",
       "      <td>adero1780</td>\n",
       "      <td>01 11, 2013</td>\n",
       "      <td>...</td>\n",
       "      <td>5.0</td>\n",
       "      <td>[0, 0]</td>\n",
       "      <td>Energizer Recharge Batteries are the reusable ...</td>\n",
       "      <td>[['Health &amp; Personal Care', 'Household Supplie...</td>\n",
       "      <td>{'bought_together': ['B000BESLQK', 'B00339NINQ...</td>\n",
       "      <td>Energizer Power Plus NiMH AA Rechargeable Batt...</td>\n",
       "      <td>{'Home Improvement': 541}</td>\n",
       "      <td>http://ecx.images-amazon.com/images/I/61g6ibWk...</td>\n",
       "      <td>10.42</td>\n",
       "      <td>Energizer</td>\n",
       "    </tr>\n",
       "    <tr>\n",
       "      <th>1</th>\n",
       "      <td>81</td>\n",
       "      <td>Health &amp; Personal Care</td>\n",
       "      <td>Household Supplies</td>\n",
       "      <td>NaN</td>\n",
       "      <td>NaN</td>\n",
       "      <td>NaN</td>\n",
       "      <td>NaN</td>\n",
       "      <td>NaN</td>\n",
       "      <td>Allan Hamilton</td>\n",
       "      <td>07 9, 2014</td>\n",
       "      <td>...</td>\n",
       "      <td>5.0</td>\n",
       "      <td>[0, 0]</td>\n",
       "      <td>Energizer Recharge Batteries are the reusable ...</td>\n",
       "      <td>[['Health &amp; Personal Care', 'Household Supplie...</td>\n",
       "      <td>{'bought_together': ['B000BESLQK', 'B00339NINQ...</td>\n",
       "      <td>Energizer Power Plus NiMH AA Rechargeable Batt...</td>\n",
       "      <td>{'Home Improvement': 541}</td>\n",
       "      <td>http://ecx.images-amazon.com/images/I/61g6ibWk...</td>\n",
       "      <td>10.42</td>\n",
       "      <td>Energizer</td>\n",
       "    </tr>\n",
       "    <tr>\n",
       "      <th>2</th>\n",
       "      <td>82</td>\n",
       "      <td>Health &amp; Personal Care</td>\n",
       "      <td>Household Supplies</td>\n",
       "      <td>NaN</td>\n",
       "      <td>NaN</td>\n",
       "      <td>NaN</td>\n",
       "      <td>NaN</td>\n",
       "      <td>NaN</td>\n",
       "      <td>Amazon Customer</td>\n",
       "      <td>11 28, 2013</td>\n",
       "      <td>...</td>\n",
       "      <td>4.0</td>\n",
       "      <td>[0, 0]</td>\n",
       "      <td>Energizer Recharge Batteries are the reusable ...</td>\n",
       "      <td>[['Health &amp; Personal Care', 'Household Supplie...</td>\n",
       "      <td>{'bought_together': ['B000BESLQK', 'B00339NINQ...</td>\n",
       "      <td>Energizer Power Plus NiMH AA Rechargeable Batt...</td>\n",
       "      <td>{'Home Improvement': 541}</td>\n",
       "      <td>http://ecx.images-amazon.com/images/I/61g6ibWk...</td>\n",
       "      <td>10.42</td>\n",
       "      <td>Energizer</td>\n",
       "    </tr>\n",
       "    <tr>\n",
       "      <th>3</th>\n",
       "      <td>83</td>\n",
       "      <td>Health &amp; Personal Care</td>\n",
       "      <td>Household Supplies</td>\n",
       "      <td>NaN</td>\n",
       "      <td>NaN</td>\n",
       "      <td>NaN</td>\n",
       "      <td>NaN</td>\n",
       "      <td>NaN</td>\n",
       "      <td>Amazon Customer</td>\n",
       "      <td>08 4, 2011</td>\n",
       "      <td>...</td>\n",
       "      <td>1.0</td>\n",
       "      <td>[1, 1]</td>\n",
       "      <td>Energizer Recharge Batteries are the reusable ...</td>\n",
       "      <td>[['Health &amp; Personal Care', 'Household Supplie...</td>\n",
       "      <td>{'bought_together': ['B000BESLQK', 'B00339NINQ...</td>\n",
       "      <td>Energizer Power Plus NiMH AA Rechargeable Batt...</td>\n",
       "      <td>{'Home Improvement': 541}</td>\n",
       "      <td>http://ecx.images-amazon.com/images/I/61g6ibWk...</td>\n",
       "      <td>10.42</td>\n",
       "      <td>Energizer</td>\n",
       "    </tr>\n",
       "    <tr>\n",
       "      <th>4</th>\n",
       "      <td>84</td>\n",
       "      <td>Health &amp; Personal Care</td>\n",
       "      <td>Household Supplies</td>\n",
       "      <td>NaN</td>\n",
       "      <td>NaN</td>\n",
       "      <td>NaN</td>\n",
       "      <td>NaN</td>\n",
       "      <td>NaN</td>\n",
       "      <td>Amazon Customer \"mikeklement.com\"</td>\n",
       "      <td>11 27, 2012</td>\n",
       "      <td>...</td>\n",
       "      <td>5.0</td>\n",
       "      <td>[0, 0]</td>\n",
       "      <td>Energizer Recharge Batteries are the reusable ...</td>\n",
       "      <td>[['Health &amp; Personal Care', 'Household Supplie...</td>\n",
       "      <td>{'bought_together': ['B000BESLQK', 'B00339NINQ...</td>\n",
       "      <td>Energizer Power Plus NiMH AA Rechargeable Batt...</td>\n",
       "      <td>{'Home Improvement': 541}</td>\n",
       "      <td>http://ecx.images-amazon.com/images/I/61g6ibWk...</td>\n",
       "      <td>10.42</td>\n",
       "      <td>Energizer</td>\n",
       "    </tr>\n",
       "  </tbody>\n",
       "</table>\n",
       "<p>5 rows × 25 columns</p>\n",
       "</div>"
      ],
      "text/plain": [
       "   Unnamed: 0                    H&PC                Cat1 Cat2 Cat3 Cat4 Cat5  \\\n",
       "0          80  Health & Personal Care  Household Supplies  NaN  NaN  NaN  NaN   \n",
       "1          81  Health & Personal Care  Household Supplies  NaN  NaN  NaN  NaN   \n",
       "2          82  Health & Personal Care  Household Supplies  NaN  NaN  NaN  NaN   \n",
       "3          83  Health & Personal Care  Household Supplies  NaN  NaN  NaN  NaN   \n",
       "4          84  Health & Personal Care  Household Supplies  NaN  NaN  NaN  NaN   \n",
       "\n",
       "   Cat6                       reviewerName   reviewTime    ...     overall  \\\n",
       "0   NaN                          adero1780  01 11, 2013    ...         5.0   \n",
       "1   NaN                     Allan Hamilton   07 9, 2014    ...         5.0   \n",
       "2   NaN                    Amazon Customer  11 28, 2013    ...         4.0   \n",
       "3   NaN                    Amazon Customer   08 4, 2011    ...         1.0   \n",
       "4   NaN  Amazon Customer \"mikeklement.com\"  11 27, 2012    ...         5.0   \n",
       "\n",
       "  helpful                                        description  \\\n",
       "0  [0, 0]  Energizer Recharge Batteries are the reusable ...   \n",
       "1  [0, 0]  Energizer Recharge Batteries are the reusable ...   \n",
       "2  [0, 0]  Energizer Recharge Batteries are the reusable ...   \n",
       "3  [1, 1]  Energizer Recharge Batteries are the reusable ...   \n",
       "4  [0, 0]  Energizer Recharge Batteries are the reusable ...   \n",
       "\n",
       "                                          categories  \\\n",
       "0  [['Health & Personal Care', 'Household Supplie...   \n",
       "1  [['Health & Personal Care', 'Household Supplie...   \n",
       "2  [['Health & Personal Care', 'Household Supplie...   \n",
       "3  [['Health & Personal Care', 'Household Supplie...   \n",
       "4  [['Health & Personal Care', 'Household Supplie...   \n",
       "\n",
       "                                             related  \\\n",
       "0  {'bought_together': ['B000BESLQK', 'B00339NINQ...   \n",
       "1  {'bought_together': ['B000BESLQK', 'B00339NINQ...   \n",
       "2  {'bought_together': ['B000BESLQK', 'B00339NINQ...   \n",
       "3  {'bought_together': ['B000BESLQK', 'B00339NINQ...   \n",
       "4  {'bought_together': ['B000BESLQK', 'B00339NINQ...   \n",
       "\n",
       "                                               title  \\\n",
       "0  Energizer Power Plus NiMH AA Rechargeable Batt...   \n",
       "1  Energizer Power Plus NiMH AA Rechargeable Batt...   \n",
       "2  Energizer Power Plus NiMH AA Rechargeable Batt...   \n",
       "3  Energizer Power Plus NiMH AA Rechargeable Batt...   \n",
       "4  Energizer Power Plus NiMH AA Rechargeable Batt...   \n",
       "\n",
       "                   salesRank  \\\n",
       "0  {'Home Improvement': 541}   \n",
       "1  {'Home Improvement': 541}   \n",
       "2  {'Home Improvement': 541}   \n",
       "3  {'Home Improvement': 541}   \n",
       "4  {'Home Improvement': 541}   \n",
       "\n",
       "                                               imUrl  price      brand  \n",
       "0  http://ecx.images-amazon.com/images/I/61g6ibWk...  10.42  Energizer  \n",
       "1  http://ecx.images-amazon.com/images/I/61g6ibWk...  10.42  Energizer  \n",
       "2  http://ecx.images-amazon.com/images/I/61g6ibWk...  10.42  Energizer  \n",
       "3  http://ecx.images-amazon.com/images/I/61g6ibWk...  10.42  Energizer  \n",
       "4  http://ecx.images-amazon.com/images/I/61g6ibWk...  10.42  Energizer  \n",
       "\n",
       "[5 rows x 25 columns]"
      ]
     },
     "execution_count": 48,
     "metadata": {},
     "output_type": "execute_result"
    }
   ],
   "source": [
    "am.head()"
   ]
  },
  {
   "cell_type": "code",
   "execution_count": 49,
   "metadata": {
    "collapsed": false
   },
   "outputs": [
    {
     "name": "stdout",
     "output_type": "stream",
     "text": [
      "<class 'pandas.core.frame.DataFrame'>\n",
      "RangeIndex: 81120 entries, 0 to 81119\n",
      "Data columns (total 25 columns):\n",
      "Unnamed: 0        81120 non-null int64\n",
      "H&PC              81120 non-null object\n",
      "Cat1              75240 non-null object\n",
      "Cat2              72318 non-null object\n",
      "Cat3              69758 non-null object\n",
      "Cat4              19550 non-null object\n",
      "Cat5              900 non-null object\n",
      "Cat6              0 non-null float64\n",
      "reviewerName      80714 non-null object\n",
      "reviewTime        81120 non-null object\n",
      "summary           81120 non-null object\n",
      "reviewText        81103 non-null object\n",
      "unixReviewTime    81120 non-null int64\n",
      "asin              81120 non-null object\n",
      "reviewerID        81120 non-null object\n",
      "overall           81120 non-null float64\n",
      "helpful           81120 non-null object\n",
      "description       56503 non-null object\n",
      "categories        81120 non-null object\n",
      "related           79362 non-null object\n",
      "title             80691 non-null object\n",
      "salesRank         77385 non-null object\n",
      "imUrl             80848 non-null object\n",
      "price             74534 non-null float64\n",
      "brand             61812 non-null object\n",
      "dtypes: float64(3), int64(2), object(20)\n",
      "memory usage: 15.5+ MB\n"
     ]
    }
   ],
   "source": [
    "am.info()"
   ]
  },
  {
   "cell_type": "code",
   "execution_count": null,
   "metadata": {
    "collapsed": true
   },
   "outputs": [],
   "source": []
  },
  {
   "cell_type": "code",
   "execution_count": null,
   "metadata": {
    "collapsed": true
   },
   "outputs": [],
   "source": []
  },
  {
   "cell_type": "code",
   "execution_count": null,
   "metadata": {
    "collapsed": true
   },
   "outputs": [],
   "source": []
  },
  {
   "cell_type": "code",
   "execution_count": null,
   "metadata": {
    "collapsed": true
   },
   "outputs": [],
   "source": []
  },
  {
   "cell_type": "code",
   "execution_count": null,
   "metadata": {
    "collapsed": true
   },
   "outputs": [],
   "source": []
  },
  {
   "cell_type": "code",
   "execution_count": null,
   "metadata": {
    "collapsed": true
   },
   "outputs": [],
   "source": []
  },
  {
   "cell_type": "code",
   "execution_count": null,
   "metadata": {
    "collapsed": true
   },
   "outputs": [],
   "source": []
  },
  {
   "cell_type": "code",
   "execution_count": null,
   "metadata": {
    "collapsed": true
   },
   "outputs": [],
   "source": []
  },
  {
   "cell_type": "code",
   "execution_count": null,
   "metadata": {
    "collapsed": true
   },
   "outputs": [],
   "source": []
  },
  {
   "cell_type": "code",
   "execution_count": null,
   "metadata": {
    "collapsed": true
   },
   "outputs": [],
   "source": []
  },
  {
   "cell_type": "code",
   "execution_count": null,
   "metadata": {
    "collapsed": true
   },
   "outputs": [],
   "source": []
  },
  {
   "cell_type": "code",
   "execution_count": 51,
   "metadata": {
    "collapsed": false
   },
   "outputs": [
    {
     "data": {
      "text/plain": [
       "Tide Original Scent Liquid Laundry Detergent ,  50 Fl Oz,  2 Count                                                                               1089\n",
       "Secret Clinical Strength Sport Advanced Solid Antiperspirant &amp; Deodorant Marathon Fresh Scent 1.6 Oz (Pack of 2)                              469\n",
       "Secret Clinical Strength Advanced Solid Antiperspirant &amp; Deodorant Light And Fresh Scent 1.6 Oz (Pack of 2)                                   431\n",
       "Tide Pods Laundry Detergent Alpine Breeze Scent 18 Count                                                                                          427\n",
       "Crest 3D White Whitestrips Professional Effects - Teeth Whitening Kit 20 Treatments (Packaging May Vary)                                          321\n",
       "Proraso Shaving Cream, Eucalyptus &amp; Menthol, 150 ml, New Formulation                                                                          298\n",
       "Proraso Shaving Soap, Eucalyptus &amp; Menthol, 5.2 oz (150 ml), New Formulation                                                                  274\n",
       "Tide Stain Release Duo Pac In-Wash Booster Twin Pack, 18-count Bag                                                                                272\n",
       "Dove Advanced Care with Nutriummoisture Antiperspirant Deodorant, Beauty Finish, 2.6 Ounce                                                        266\n",
       "Oral-B Professional Floss Action Replacement Brush Head 3 Count                                                                                   259\n",
       "Playtex Gentle Glide Tampons, Unscented Ultra Absorbency, 36 Count                                                                                239\n",
       "Playtex Sport Playtex Sport Body Wipes Travel Pack, 24 Count, Pack of 5                                                                           232\n",
       "Finish Powerball Tabs Dishwasher Detergent, Fresh Scent, 100-Count                                                                                224\n",
       "Playtex Sport Tampons, Unscented Super Absorbency, 18 Count (Pack of 2)                                                                           223\n",
       "Oral-B Professional Healthy Clean Precision 1000 Rechargeable Electric Toothbrush 1 Count                                                         220\n",
       "Playtex Gentle Glide Tampons, Fresh Scent Super Absorbency, 36 count (Pack of 2)                                                                  215\n",
       "Proraso Anti Irritation Pre-shaving Cream with Green Tea and Oatmeal 3.6 Oz.                                                                      209\n",
       "Philips Sonicare HX7002/62 e-Series Standard Replacement Brush Heads, 2-Pack                                                                      205\n",
       "Bounce 2 Month Fresh Linen Dryer Bar 1.28 Oz (Pack of 6)                                                                                          203\n",
       "Seventh Generation Liquid Laundry 4x, Baby, 40 Ounce Bottle, 2 Count                                                                              198\n",
       "Downy Unstopables In Wash Fresh Scent Booster 13.2 Oz                                                                                             194\n",
       "O'Keeffe's Healthy Feet Creme 3.2oz Jar                                                                                                           189\n",
       "Philips Sonicare HX5610/30 Essence 5600 Rechargeable Electric Toothbrush, Frustration Free Packaging                                              189\n",
       "Dropps Laundry Detergent Pacs, Fresh Scent, 20 Loads (Pack of 3)                                                                                  181\n",
       "Van Der Hagen Premium Shave Set (Soap, Bowl, Brush)                                                                                               178\n",
       "Speed Stick Gear Gel Deodorant, Fresh Force, 3 Ounce                                                                                              177\n",
       "Jarrow Formulas Coconut Oil 100% Organic, Extra Virgin, 16 Ounce                                                                                  175\n",
       "Remington King of Shaves Alphagel Cooling Menthol Shave Gel  5 oz. (Pack of 2)                                                                    170\n",
       "Remington King of Shaves Alphagel Sensitive Shave Gel 5 oz. (Pack of 2)                                                                           170\n",
       "Oral-B Professional Healthy Clean + Floss Action Precision 5000 Rechargeable Electric Toothbrush (packaging may vary)                             170\n",
       "                                                                                                                                                 ... \n",
       "IsoSensuals TIGHT | Vaginal Tightening Gel - 1 Bottle                                                                                               5\n",
       "Listerine Whitening Pen                                                                                                                             5\n",
       "Philosophy Soul Owner Exfoliating Foot Cream, 3.3 Ounce                                                                                             5\n",
       "Jelmar PB-BK-2000 CLR Fresh Scent Bath and Kitchen Cleaner, 26 oz Trigger Spray Bottle                                                              5\n",
       "Jobar International Magic Air Neck Cushion JB5650                                                                                                   5\n",
       "Super PoliGrip Denture Adhesive Cream, Extra Care, 2.2 oz                                                                                           5\n",
       "FC Female Condom 15 Pack                                                                                                                            5\n",
       "Gum Toothbrush Star Wars Flash Light,color may vary                                                                                                 5\n",
       "Arm &amp; Hammer Total, 2-in-1 Moist Dryer Cloths, Classic Fresh 40 Ct (Pack of 4)                                                                  5\n",
       "Protech Denture Cleaner                                                                                                                             5\n",
       "Febreze allergen reducer                                                                                                                            5\n",
       "Musgo Real Orange Amber Shaving Cream                                                                                                               5\n",
       "Pronto Spray for Bedbugs &amp; Dust Mites-10 oz                                                                                                     5\n",
       "Optx 20/20 Techoptx Reading Glasses, 3 Count, (+2.00)                                                                                               5\n",
       "Zud Heavy Duty Cleanser, 16-Ounce (Pack of 6)                                                                                                       5\n",
       "Zout Laundry Stain Remover, 16 Oz (Pack of 3)                                                                                                       5\n",
       "Ladygasm Slippery Sam Vibrating Dildo - Slippery Surface Eliminates Need For Lubricants                                                             5\n",
       "INSTANT WHITE SMILE optimized 20cc 36% Carbamide Peroxide Teeth Whitening Gel syringes with 2 Remineralization Gels with Shade Card- no trays       5\n",
       "Wet and Forget 800003 Wet And Forget Moss Mold Mildew &amp; Algae Stain Remover                                                                     5\n",
       "Flents Pink Nose Pads for Eyeglasses Ea                                                                                                             5\n",
       "Montmorency Tart Cherry Concentrate 16 fl oz (474 ml) Liquid                                                                                        5\n",
       "Honeyrose Herbal Cigarettes Special 20                                                                                                              5\n",
       "Eyekepper Metal Frame Spring Hinged Arms Reading Glasses Pack of 4 Pairs(1 Pair of per Color) +1.75                                                 5\n",
       "Zinc Oxide Ointment Protects Chaffed Skin -- 1 Oz                                                                                                   5\n",
       "Ezo Denture Cushions, Upper, Heavy, 12 cushions                                                                                                     5\n",
       "Mocha Crisp Coffee Bar 1.6-Ounce Bars (Pack of 12)                                                                                                  5\n",
       "Temple Tips Eyewear Comfort - 1 Pair                                                                                                                5\n",
       "ClingFree Fabric Softener Sheets, Powder Fresh, 40-Count Boxes (Pack of 6)                                                                          5\n",
       "Dental Spa Interoral Sonic &amp; UV Cleaner                                                                                                         5\n",
       "Air Wick Scented Oil Refill, Fresh Waters, 0.67 Ounce, 3 Count                                                                                      5\n",
       "Name: title, dtype: int64"
      ]
     },
     "execution_count": 51,
     "metadata": {},
     "output_type": "execute_result"
    }
   ],
   "source": [
    "am.title.value_counts()"
   ]
  },
  {
   "cell_type": "code",
   "execution_count": null,
   "metadata": {
    "collapsed": true
   },
   "outputs": [],
   "source": []
  },
  {
   "cell_type": "code",
   "execution_count": null,
   "metadata": {
    "collapsed": true
   },
   "outputs": [],
   "source": []
  },
  {
   "cell_type": "code",
   "execution_count": null,
   "metadata": {
    "collapsed": true
   },
   "outputs": [],
   "source": []
  },
  {
   "cell_type": "code",
   "execution_count": null,
   "metadata": {
    "collapsed": true
   },
   "outputs": [],
   "source": []
  },
  {
   "cell_type": "code",
   "execution_count": 9,
   "metadata": {
    "collapsed": false
   },
   "outputs": [
    {
     "data": {
      "text/html": [
       "<div>\n",
       "<table border=\"1\" class=\"dataframe\">\n",
       "  <thead>\n",
       "    <tr style=\"text-align: right;\">\n",
       "      <th></th>\n",
       "      <th>Unnamed: 0</th>\n",
       "      <th>H&amp;PC</th>\n",
       "      <th>Cat1</th>\n",
       "      <th>Cat2</th>\n",
       "      <th>Cat3</th>\n",
       "      <th>Cat4</th>\n",
       "      <th>Cat5</th>\n",
       "      <th>Cat6</th>\n",
       "      <th>reviewerName</th>\n",
       "      <th>reviewTime</th>\n",
       "      <th>...</th>\n",
       "      <th>overall</th>\n",
       "      <th>helpful</th>\n",
       "      <th>description</th>\n",
       "      <th>categories</th>\n",
       "      <th>related</th>\n",
       "      <th>title</th>\n",
       "      <th>salesRank</th>\n",
       "      <th>imUrl</th>\n",
       "      <th>price</th>\n",
       "      <th>brand</th>\n",
       "    </tr>\n",
       "  </thead>\n",
       "  <tbody>\n",
       "    <tr>\n",
       "      <th>0</th>\n",
       "      <td>80</td>\n",
       "      <td>Health &amp; Personal Care</td>\n",
       "      <td>Household Supplies</td>\n",
       "      <td>NaN</td>\n",
       "      <td>NaN</td>\n",
       "      <td>NaN</td>\n",
       "      <td>NaN</td>\n",
       "      <td>NaN</td>\n",
       "      <td>adero1780</td>\n",
       "      <td>01 11, 2013</td>\n",
       "      <td>...</td>\n",
       "      <td>5.0</td>\n",
       "      <td>[0, 0]</td>\n",
       "      <td>Energizer Recharge Batteries are the reusable ...</td>\n",
       "      <td>[['Health &amp; Personal Care', 'Household Supplie...</td>\n",
       "      <td>{'bought_together': ['B000BESLQK', 'B00339NINQ...</td>\n",
       "      <td>Energizer Power Plus NiMH AA Rechargeable Batt...</td>\n",
       "      <td>{'Home Improvement': 541}</td>\n",
       "      <td>http://ecx.images-amazon.com/images/I/61g6ibWk...</td>\n",
       "      <td>10.42</td>\n",
       "      <td>Energizer</td>\n",
       "    </tr>\n",
       "    <tr>\n",
       "      <th>1</th>\n",
       "      <td>81</td>\n",
       "      <td>Health &amp; Personal Care</td>\n",
       "      <td>Household Supplies</td>\n",
       "      <td>NaN</td>\n",
       "      <td>NaN</td>\n",
       "      <td>NaN</td>\n",
       "      <td>NaN</td>\n",
       "      <td>NaN</td>\n",
       "      <td>Allan Hamilton</td>\n",
       "      <td>07 9, 2014</td>\n",
       "      <td>...</td>\n",
       "      <td>5.0</td>\n",
       "      <td>[0, 0]</td>\n",
       "      <td>Energizer Recharge Batteries are the reusable ...</td>\n",
       "      <td>[['Health &amp; Personal Care', 'Household Supplie...</td>\n",
       "      <td>{'bought_together': ['B000BESLQK', 'B00339NINQ...</td>\n",
       "      <td>Energizer Power Plus NiMH AA Rechargeable Batt...</td>\n",
       "      <td>{'Home Improvement': 541}</td>\n",
       "      <td>http://ecx.images-amazon.com/images/I/61g6ibWk...</td>\n",
       "      <td>10.42</td>\n",
       "      <td>Energizer</td>\n",
       "    </tr>\n",
       "    <tr>\n",
       "      <th>2</th>\n",
       "      <td>82</td>\n",
       "      <td>Health &amp; Personal Care</td>\n",
       "      <td>Household Supplies</td>\n",
       "      <td>NaN</td>\n",
       "      <td>NaN</td>\n",
       "      <td>NaN</td>\n",
       "      <td>NaN</td>\n",
       "      <td>NaN</td>\n",
       "      <td>Amazon Customer</td>\n",
       "      <td>11 28, 2013</td>\n",
       "      <td>...</td>\n",
       "      <td>4.0</td>\n",
       "      <td>[0, 0]</td>\n",
       "      <td>Energizer Recharge Batteries are the reusable ...</td>\n",
       "      <td>[['Health &amp; Personal Care', 'Household Supplie...</td>\n",
       "      <td>{'bought_together': ['B000BESLQK', 'B00339NINQ...</td>\n",
       "      <td>Energizer Power Plus NiMH AA Rechargeable Batt...</td>\n",
       "      <td>{'Home Improvement': 541}</td>\n",
       "      <td>http://ecx.images-amazon.com/images/I/61g6ibWk...</td>\n",
       "      <td>10.42</td>\n",
       "      <td>Energizer</td>\n",
       "    </tr>\n",
       "    <tr>\n",
       "      <th>3</th>\n",
       "      <td>83</td>\n",
       "      <td>Health &amp; Personal Care</td>\n",
       "      <td>Household Supplies</td>\n",
       "      <td>NaN</td>\n",
       "      <td>NaN</td>\n",
       "      <td>NaN</td>\n",
       "      <td>NaN</td>\n",
       "      <td>NaN</td>\n",
       "      <td>Amazon Customer</td>\n",
       "      <td>08 4, 2011</td>\n",
       "      <td>...</td>\n",
       "      <td>1.0</td>\n",
       "      <td>[1, 1]</td>\n",
       "      <td>Energizer Recharge Batteries are the reusable ...</td>\n",
       "      <td>[['Health &amp; Personal Care', 'Household Supplie...</td>\n",
       "      <td>{'bought_together': ['B000BESLQK', 'B00339NINQ...</td>\n",
       "      <td>Energizer Power Plus NiMH AA Rechargeable Batt...</td>\n",
       "      <td>{'Home Improvement': 541}</td>\n",
       "      <td>http://ecx.images-amazon.com/images/I/61g6ibWk...</td>\n",
       "      <td>10.42</td>\n",
       "      <td>Energizer</td>\n",
       "    </tr>\n",
       "    <tr>\n",
       "      <th>4</th>\n",
       "      <td>84</td>\n",
       "      <td>Health &amp; Personal Care</td>\n",
       "      <td>Household Supplies</td>\n",
       "      <td>NaN</td>\n",
       "      <td>NaN</td>\n",
       "      <td>NaN</td>\n",
       "      <td>NaN</td>\n",
       "      <td>NaN</td>\n",
       "      <td>Amazon Customer \"mikeklement.com\"</td>\n",
       "      <td>11 27, 2012</td>\n",
       "      <td>...</td>\n",
       "      <td>5.0</td>\n",
       "      <td>[0, 0]</td>\n",
       "      <td>Energizer Recharge Batteries are the reusable ...</td>\n",
       "      <td>[['Health &amp; Personal Care', 'Household Supplie...</td>\n",
       "      <td>{'bought_together': ['B000BESLQK', 'B00339NINQ...</td>\n",
       "      <td>Energizer Power Plus NiMH AA Rechargeable Batt...</td>\n",
       "      <td>{'Home Improvement': 541}</td>\n",
       "      <td>http://ecx.images-amazon.com/images/I/61g6ibWk...</td>\n",
       "      <td>10.42</td>\n",
       "      <td>Energizer</td>\n",
       "    </tr>\n",
       "  </tbody>\n",
       "</table>\n",
       "<p>5 rows × 25 columns</p>\n",
       "</div>"
      ],
      "text/plain": [
       "   Unnamed: 0                    H&PC                Cat1 Cat2 Cat3 Cat4 Cat5  \\\n",
       "0          80  Health & Personal Care  Household Supplies  NaN  NaN  NaN  NaN   \n",
       "1          81  Health & Personal Care  Household Supplies  NaN  NaN  NaN  NaN   \n",
       "2          82  Health & Personal Care  Household Supplies  NaN  NaN  NaN  NaN   \n",
       "3          83  Health & Personal Care  Household Supplies  NaN  NaN  NaN  NaN   \n",
       "4          84  Health & Personal Care  Household Supplies  NaN  NaN  NaN  NaN   \n",
       "\n",
       "   Cat6                       reviewerName   reviewTime    ...     overall  \\\n",
       "0   NaN                          adero1780  01 11, 2013    ...         5.0   \n",
       "1   NaN                     Allan Hamilton   07 9, 2014    ...         5.0   \n",
       "2   NaN                    Amazon Customer  11 28, 2013    ...         4.0   \n",
       "3   NaN                    Amazon Customer   08 4, 2011    ...         1.0   \n",
       "4   NaN  Amazon Customer \"mikeklement.com\"  11 27, 2012    ...         5.0   \n",
       "\n",
       "  helpful                                        description  \\\n",
       "0  [0, 0]  Energizer Recharge Batteries are the reusable ...   \n",
       "1  [0, 0]  Energizer Recharge Batteries are the reusable ...   \n",
       "2  [0, 0]  Energizer Recharge Batteries are the reusable ...   \n",
       "3  [1, 1]  Energizer Recharge Batteries are the reusable ...   \n",
       "4  [0, 0]  Energizer Recharge Batteries are the reusable ...   \n",
       "\n",
       "                                          categories  \\\n",
       "0  [['Health & Personal Care', 'Household Supplie...   \n",
       "1  [['Health & Personal Care', 'Household Supplie...   \n",
       "2  [['Health & Personal Care', 'Household Supplie...   \n",
       "3  [['Health & Personal Care', 'Household Supplie...   \n",
       "4  [['Health & Personal Care', 'Household Supplie...   \n",
       "\n",
       "                                             related  \\\n",
       "0  {'bought_together': ['B000BESLQK', 'B00339NINQ...   \n",
       "1  {'bought_together': ['B000BESLQK', 'B00339NINQ...   \n",
       "2  {'bought_together': ['B000BESLQK', 'B00339NINQ...   \n",
       "3  {'bought_together': ['B000BESLQK', 'B00339NINQ...   \n",
       "4  {'bought_together': ['B000BESLQK', 'B00339NINQ...   \n",
       "\n",
       "                                               title  \\\n",
       "0  Energizer Power Plus NiMH AA Rechargeable Batt...   \n",
       "1  Energizer Power Plus NiMH AA Rechargeable Batt...   \n",
       "2  Energizer Power Plus NiMH AA Rechargeable Batt...   \n",
       "3  Energizer Power Plus NiMH AA Rechargeable Batt...   \n",
       "4  Energizer Power Plus NiMH AA Rechargeable Batt...   \n",
       "\n",
       "                   salesRank  \\\n",
       "0  {'Home Improvement': 541}   \n",
       "1  {'Home Improvement': 541}   \n",
       "2  {'Home Improvement': 541}   \n",
       "3  {'Home Improvement': 541}   \n",
       "4  {'Home Improvement': 541}   \n",
       "\n",
       "                                               imUrl  price      brand  \n",
       "0  http://ecx.images-amazon.com/images/I/61g6ibWk...  10.42  Energizer  \n",
       "1  http://ecx.images-amazon.com/images/I/61g6ibWk...  10.42  Energizer  \n",
       "2  http://ecx.images-amazon.com/images/I/61g6ibWk...  10.42  Energizer  \n",
       "3  http://ecx.images-amazon.com/images/I/61g6ibWk...  10.42  Energizer  \n",
       "4  http://ecx.images-amazon.com/images/I/61g6ibWk...  10.42  Energizer  \n",
       "\n",
       "[5 rows x 25 columns]"
      ]
     },
     "execution_count": 9,
     "metadata": {},
     "output_type": "execute_result"
    }
   ],
   "source": [
    "am.head()"
   ]
  },
  {
   "cell_type": "code",
   "execution_count": null,
   "metadata": {
    "collapsed": true
   },
   "outputs": [],
   "source": [
    "'Oral Irrigators','Power Toothbrushes','Dental Floss & Flossers','Dental Picks','Oral Irrigators',\n",
    "'Manual Toothbrushes','Gum Stimulators','Tampons','Sanitary Napkins','Panty Liners',\n",
    "'Callus Shavers','Scrubs, Salts & Soaks','Callus Stones','Moisturizing Socks','Earplugs          1143\n",
    "'Earwax Removal','Ear Drops','Ear Syringes'"
   ]
  },
  {
   "cell_type": "code",
   "execution_count": null,
   "metadata": {
    "collapsed": true
   },
   "outputs": [],
   "source": []
  },
  {
   "cell_type": "code",
   "execution_count": null,
   "metadata": {
    "collapsed": true
   },
   "outputs": [],
   "source": []
  }
 ],
 "metadata": {
  "kernelspec": {
   "display_name": "Python [conda root]",
   "language": "python",
   "name": "conda-root-py"
  },
  "language_info": {
   "codemirror_mode": {
    "name": "ipython",
    "version": 3
   },
   "file_extension": ".py",
   "mimetype": "text/x-python",
   "name": "python",
   "nbconvert_exporter": "python",
   "pygments_lexer": "ipython3",
   "version": "3.5.6"
  }
 },
 "nbformat": 4,
 "nbformat_minor": 2
}
