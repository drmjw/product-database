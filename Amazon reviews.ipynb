{
 "cells": [
  {
   "cell_type": "code",
   "execution_count": 1,
   "metadata": {
    "collapsed": true
   },
   "outputs": [],
   "source": [
    "#import relevant packages\n",
    "import pandas as pd\n",
    "import numpy as np\n",
    "import gzip"
   ]
  },
  {
   "cell_type": "markdown",
   "metadata": {},
   "source": [
    "# Thanks\n",
    "To Julian McAuly for permitting use of data scraped by him/his team\n",
    "\n",
    "WWW / SIGIR papers  \n",
    "R. He, J. McAuley. Modeling the visual evolution of fashion trends\n",
    "with one-class collaborative filtering. WWW, 2016\n",
    "J. McAuley, C. Targett, J. Shi, A. van den Hengel. Image-based\n",
    "recommendations on styles and substitutes. SIGIR, 2015"
   ]
  },
  {
   "cell_type": "code",
   "execution_count": 3,
   "metadata": {
    "collapsed": true
   },
   "outputs": [],
   "source": [
    "#use jmc's code for pulling data in\n",
    "\n",
    "def parse(path):\n",
    "    g = gzip.open(path, 'r')\n",
    "    for l in g:\n",
    "        yield eval(l)\n",
    " \n",
    "def parse(path):\n",
    "    g = gzip.open(path, 'rb')\n",
    "    for l in g:\n",
    "        yield eval(l)\n",
    "\n",
    "def getDF(path):\n",
    "    i = 0\n",
    "    df = {}\n",
    "    for d in parse(path):\n",
    "        df[i] = d\n",
    "        i += 1\n",
    "    return pd.DataFrame.from_dict(df, orient='index')\n",
    "\n",
    "df = getDF('reviews_Health_and_Personal_Care_5.json.gz')"
   ]
  },
  {
   "cell_type": "code",
   "execution_count": 5,
   "metadata": {
    "collapsed": false
   },
   "outputs": [
    {
     "name": "stdout",
     "output_type": "stream",
     "text": [
      "<class 'pandas.core.frame.DataFrame'>\n",
      "Int64Index: 346355 entries, 0 to 346354\n",
      "Data columns (total 9 columns):\n",
      "reviewerName      343304 non-null object\n",
      "reviewTime        346355 non-null object\n",
      "summary           346355 non-null object\n",
      "reviewText        346355 non-null object\n",
      "unixReviewTime    346355 non-null int64\n",
      "asin              346355 non-null object\n",
      "reviewerID        346355 non-null object\n",
      "overall           346355 non-null float64\n",
      "helpful           346355 non-null object\n",
      "dtypes: float64(1), int64(1), object(7)\n",
      "memory usage: 26.4+ MB\n"
     ]
    }
   ],
   "source": [
    "df.info()"
   ]
  },
  {
   "cell_type": "code",
   "execution_count": 7,
   "metadata": {
    "collapsed": false
   },
   "outputs": [
    {
     "data": {
      "text/plain": [
       "reviewerName                                                   AnnN\n",
       "reviewTime                                               01 5, 2011\n",
       "summary                                         Handy little gadget\n",
       "reviewText        This is a great little gadget to have around. ...\n",
       "unixReviewTime                                           1294185600\n",
       "asin                                                     159985130X\n",
       "reviewerID                                            ALC5GH8CAMAI7\n",
       "overall                                                           5\n",
       "helpful                                                      [1, 1]\n",
       "Name: 0, dtype: object"
      ]
     },
     "execution_count": 7,
     "metadata": {},
     "output_type": "execute_result"
    }
   ],
   "source": [
    "df.iloc[0]"
   ]
  },
  {
   "cell_type": "code",
   "execution_count": 8,
   "metadata": {
    "collapsed": false
   },
   "outputs": [
    {
     "data": {
      "text/plain": [
       "18534"
      ]
     },
     "execution_count": 8,
     "metadata": {},
     "output_type": "execute_result"
    }
   ],
   "source": [
    "print(df.asin.nunique())\n",
    "df.asin.value_counts()[:10]"
   ]
  },
  {
   "cell_type": "code",
   "execution_count": 24,
   "metadata": {
    "collapsed": false
   },
   "outputs": [
    {
     "name": "stdout",
     "output_type": "stream",
     "text": [
      "<class 'pandas.core.frame.DataFrame'>\n",
      "Int64Index: 263032 entries, 0 to 263031\n",
      "Data columns (total 9 columns):\n",
      "description    237839 non-null object\n",
      "categories     263032 non-null object\n",
      "related        208364 non-null object\n",
      "title          262362 non-null object\n",
      "asin           263032 non-null object\n",
      "salesRank      247665 non-null object\n",
      "imUrl          262767 non-null object\n",
      "price          196043 non-null float64\n",
      "brand          124304 non-null object\n",
      "dtypes: float64(1), object(8)\n",
      "memory usage: 20.1+ MB\n"
     ]
    }
   ],
   "source": [
    "mhp=getDF('meta_Health_and_Personal_Care.json.gz')\n",
    "mhp.info()"
   ]
  },
  {
   "cell_type": "code",
   "execution_count": 25,
   "metadata": {
    "collapsed": false
   },
   "outputs": [
    {
     "data": {
      "text/html": [
       "<div>\n",
       "<table border=\"1\" class=\"dataframe\">\n",
       "  <thead>\n",
       "    <tr style=\"text-align: right;\">\n",
       "      <th></th>\n",
       "      <th>description</th>\n",
       "      <th>categories</th>\n",
       "      <th>related</th>\n",
       "      <th>title</th>\n",
       "      <th>asin</th>\n",
       "      <th>salesRank</th>\n",
       "      <th>imUrl</th>\n",
       "      <th>price</th>\n",
       "      <th>brand</th>\n",
       "    </tr>\n",
       "  </thead>\n",
       "  <tbody>\n",
       "    <tr>\n",
       "      <th>0</th>\n",
       "      <td>This is an example product description.</td>\n",
       "      <td>[[Health &amp; Personal Care]]</td>\n",
       "      <td>{'also_bought': ['0471730726', '0132834871', '...</td>\n",
       "      <td>Principles of Mgmt + Oper-CSUF Custom C</td>\n",
       "      <td>0077614992</td>\n",
       "      <td>{'Health &amp; Personal Care': 168429}</td>\n",
       "      <td>http://ecx.images-amazon.com/images/I/51G%2BRq...</td>\n",
       "      <td>NaN</td>\n",
       "      <td>NaN</td>\n",
       "    </tr>\n",
       "    <tr>\n",
       "      <th>1</th>\n",
       "      <td>By now we all know the benefits of exercise fo...</td>\n",
       "      <td>[[Health &amp; Personal Care, Personal Care]]</td>\n",
       "      <td>NaN</td>\n",
       "      <td>Brain Fitness Exercises Software</td>\n",
       "      <td>0615208479</td>\n",
       "      <td>{'Health &amp; Personal Care': 1346973}</td>\n",
       "      <td>http://ecx.images-amazon.com/images/I/41kbZB04...</td>\n",
       "      <td>NaN</td>\n",
       "      <td>NaN</td>\n",
       "    </tr>\n",
       "    <tr>\n",
       "      <th>2</th>\n",
       "      <td>What's wrong with your patient?Do all the symp...</td>\n",
       "      <td>[[Health &amp; Personal Care, Personal Care, Shavi...</td>\n",
       "      <td>{'also_bought': ['1935660152', '0071743979', '...</td>\n",
       "      <td>Occam's Razor</td>\n",
       "      <td>0615269990</td>\n",
       "      <td>{'Toys &amp; Games': 110575}</td>\n",
       "      <td>http://ecx.images-amazon.com/images/I/51fH-ABe...</td>\n",
       "      <td>34.99</td>\n",
       "      <td>NaN</td>\n",
       "    </tr>\n",
       "    <tr>\n",
       "      <th>3</th>\n",
       "      <td>NaN</td>\n",
       "      <td>[[Health &amp; Personal Care]]</td>\n",
       "      <td>{'also_bought': ['B006VT9RBM', 'B0010JLMO8', '...</td>\n",
       "      <td>101 BlenderBottle Recipes Quick and Easy</td>\n",
       "      <td>0615315860</td>\n",
       "      <td>{'Health &amp; Personal Care': 254068}</td>\n",
       "      <td>http://ecx.images-amazon.com/images/I/21zOQu2Q...</td>\n",
       "      <td>NaN</td>\n",
       "      <td>NaN</td>\n",
       "    </tr>\n",
       "    <tr>\n",
       "      <th>4</th>\n",
       "      <td>This is an example product description.</td>\n",
       "      <td>[[Health &amp; Personal Care]]</td>\n",
       "      <td>{'also_bought': ['0966035232', '1421407205']}</td>\n",
       "      <td>Aphrodite Reborn - Women's Stories of Hope, Co...</td>\n",
       "      <td>0615406394</td>\n",
       "      <td>{'Health &amp; Personal Care': 377936}</td>\n",
       "      <td>http://ecx.images-amazon.com/images/I/51rJLgsi...</td>\n",
       "      <td>NaN</td>\n",
       "      <td>NaN</td>\n",
       "    </tr>\n",
       "  </tbody>\n",
       "</table>\n",
       "</div>"
      ],
      "text/plain": [
       "                                         description  \\\n",
       "0            This is an example product description.   \n",
       "1  By now we all know the benefits of exercise fo...   \n",
       "2  What's wrong with your patient?Do all the symp...   \n",
       "3                                                NaN   \n",
       "4            This is an example product description.   \n",
       "\n",
       "                                          categories  \\\n",
       "0                         [[Health & Personal Care]]   \n",
       "1          [[Health & Personal Care, Personal Care]]   \n",
       "2  [[Health & Personal Care, Personal Care, Shavi...   \n",
       "3                         [[Health & Personal Care]]   \n",
       "4                         [[Health & Personal Care]]   \n",
       "\n",
       "                                             related  \\\n",
       "0  {'also_bought': ['0471730726', '0132834871', '...   \n",
       "1                                                NaN   \n",
       "2  {'also_bought': ['1935660152', '0071743979', '...   \n",
       "3  {'also_bought': ['B006VT9RBM', 'B0010JLMO8', '...   \n",
       "4      {'also_bought': ['0966035232', '1421407205']}   \n",
       "\n",
       "                                               title        asin  \\\n",
       "0            Principles of Mgmt + Oper-CSUF Custom C  0077614992   \n",
       "1                   Brain Fitness Exercises Software  0615208479   \n",
       "2                                      Occam's Razor  0615269990   \n",
       "3           101 BlenderBottle Recipes Quick and Easy  0615315860   \n",
       "4  Aphrodite Reborn - Women's Stories of Hope, Co...  0615406394   \n",
       "\n",
       "                             salesRank  \\\n",
       "0   {'Health & Personal Care': 168429}   \n",
       "1  {'Health & Personal Care': 1346973}   \n",
       "2             {'Toys & Games': 110575}   \n",
       "3   {'Health & Personal Care': 254068}   \n",
       "4   {'Health & Personal Care': 377936}   \n",
       "\n",
       "                                               imUrl  price brand  \n",
       "0  http://ecx.images-amazon.com/images/I/51G%2BRq...    NaN   NaN  \n",
       "1  http://ecx.images-amazon.com/images/I/41kbZB04...    NaN   NaN  \n",
       "2  http://ecx.images-amazon.com/images/I/51fH-ABe...  34.99   NaN  \n",
       "3  http://ecx.images-amazon.com/images/I/21zOQu2Q...    NaN   NaN  \n",
       "4  http://ecx.images-amazon.com/images/I/51rJLgsi...    NaN   NaN  "
      ]
     },
     "execution_count": 25,
     "metadata": {},
     "output_type": "execute_result"
    }
   ],
   "source": [
    "mhp.head()"
   ]
  },
  {
   "cell_type": "code",
   "execution_count": 26,
   "metadata": {
    "collapsed": false
   },
   "outputs": [
    {
     "data": {
      "text/plain": [
       "263032"
      ]
     },
     "execution_count": 26,
     "metadata": {},
     "output_type": "execute_result"
    }
   ],
   "source": [
    "mhp.asin.nunique()"
   ]
  },
  {
   "cell_type": "code",
   "execution_count": 27,
   "metadata": {
    "collapsed": false,
    "scrolled": true
   },
   "outputs": [
    {
     "data": {
      "text/html": [
       "<div>\n",
       "<table border=\"1\" class=\"dataframe\">\n",
       "  <thead>\n",
       "    <tr style=\"text-align: right;\">\n",
       "      <th></th>\n",
       "      <th>reviewerName</th>\n",
       "      <th>reviewTime</th>\n",
       "      <th>summary</th>\n",
       "      <th>reviewText</th>\n",
       "      <th>unixReviewTime</th>\n",
       "      <th>asin</th>\n",
       "      <th>reviewerID</th>\n",
       "      <th>overall</th>\n",
       "      <th>helpful</th>\n",
       "      <th>description</th>\n",
       "      <th>categories</th>\n",
       "      <th>related</th>\n",
       "      <th>title</th>\n",
       "      <th>salesRank</th>\n",
       "      <th>imUrl</th>\n",
       "      <th>price</th>\n",
       "      <th>brand</th>\n",
       "    </tr>\n",
       "  </thead>\n",
       "  <tbody>\n",
       "    <tr>\n",
       "      <th>0</th>\n",
       "      <td>AnnN</td>\n",
       "      <td>01 5, 2011</td>\n",
       "      <td>Handy little gadget</td>\n",
       "      <td>This is a great little gadget to have around. ...</td>\n",
       "      <td>1294185600</td>\n",
       "      <td>159985130X</td>\n",
       "      <td>ALC5GH8CAMAI7</td>\n",
       "      <td>5.0</td>\n",
       "      <td>[1, 1]</td>\n",
       "      <td>The Pocket Magnifier is so popular, we are hav...</td>\n",
       "      <td>[[Health &amp; Personal Care, Medical Supplies &amp; E...</td>\n",
       "      <td>{'bought_together': ['B00524H8MC'], 'also_boug...</td>\n",
       "      <td>Lightwedge Lighted Pocket Magnifier, Plum</td>\n",
       "      <td>NaN</td>\n",
       "      <td>http://ecx.images-amazon.com/images/I/31eVZtZ%...</td>\n",
       "      <td>24.95</td>\n",
       "      <td>NaN</td>\n",
       "    </tr>\n",
       "    <tr>\n",
       "      <th>1</th>\n",
       "      <td>AZ buyer \"AZ buyer\"</td>\n",
       "      <td>02 18, 2012</td>\n",
       "      <td>Small &amp; may need to encourage battery</td>\n",
       "      <td>I would recommend this for a travel magnifier ...</td>\n",
       "      <td>1329523200</td>\n",
       "      <td>159985130X</td>\n",
       "      <td>AHKSURW85PJUE</td>\n",
       "      <td>4.0</td>\n",
       "      <td>[1, 1]</td>\n",
       "      <td>The Pocket Magnifier is so popular, we are hav...</td>\n",
       "      <td>[[Health &amp; Personal Care, Medical Supplies &amp; E...</td>\n",
       "      <td>{'bought_together': ['B00524H8MC'], 'also_boug...</td>\n",
       "      <td>Lightwedge Lighted Pocket Magnifier, Plum</td>\n",
       "      <td>NaN</td>\n",
       "      <td>http://ecx.images-amazon.com/images/I/31eVZtZ%...</td>\n",
       "      <td>24.95</td>\n",
       "      <td>NaN</td>\n",
       "    </tr>\n",
       "    <tr>\n",
       "      <th>2</th>\n",
       "      <td>Bob Tobias \"Robert Tobias\"</td>\n",
       "      <td>06 8, 2010</td>\n",
       "      <td>Very good but not great</td>\n",
       "      <td>What I liked was the quality of the lens and t...</td>\n",
       "      <td>1275955200</td>\n",
       "      <td>159985130X</td>\n",
       "      <td>A38RMU1Y5TDP9</td>\n",
       "      <td>4.0</td>\n",
       "      <td>[75, 77]</td>\n",
       "      <td>The Pocket Magnifier is so popular, we are hav...</td>\n",
       "      <td>[[Health &amp; Personal Care, Medical Supplies &amp; E...</td>\n",
       "      <td>{'bought_together': ['B00524H8MC'], 'also_boug...</td>\n",
       "      <td>Lightwedge Lighted Pocket Magnifier, Plum</td>\n",
       "      <td>NaN</td>\n",
       "      <td>http://ecx.images-amazon.com/images/I/31eVZtZ%...</td>\n",
       "      <td>24.95</td>\n",
       "      <td>NaN</td>\n",
       "    </tr>\n",
       "    <tr>\n",
       "      <th>3</th>\n",
       "      <td>Cat lover</td>\n",
       "      <td>02 8, 2008</td>\n",
       "      <td>great addition to your purse</td>\n",
       "      <td>Love the Great point light pocket magnifier!  ...</td>\n",
       "      <td>1202428800</td>\n",
       "      <td>159985130X</td>\n",
       "      <td>A1XZUG7DFXXOS4</td>\n",
       "      <td>4.0</td>\n",
       "      <td>[56, 60]</td>\n",
       "      <td>The Pocket Magnifier is so popular, we are hav...</td>\n",
       "      <td>[[Health &amp; Personal Care, Medical Supplies &amp; E...</td>\n",
       "      <td>{'bought_together': ['B00524H8MC'], 'also_boug...</td>\n",
       "      <td>Lightwedge Lighted Pocket Magnifier, Plum</td>\n",
       "      <td>NaN</td>\n",
       "      <td>http://ecx.images-amazon.com/images/I/31eVZtZ%...</td>\n",
       "      <td>24.95</td>\n",
       "      <td>NaN</td>\n",
       "    </tr>\n",
       "    <tr>\n",
       "      <th>4</th>\n",
       "      <td>Cricketoes</td>\n",
       "      <td>08 16, 2011</td>\n",
       "      <td>Very nice and convenient.</td>\n",
       "      <td>This is very nice. You pull out on the magnifi...</td>\n",
       "      <td>1313452800</td>\n",
       "      <td>159985130X</td>\n",
       "      <td>A1MS3M7M7AM13X</td>\n",
       "      <td>5.0</td>\n",
       "      <td>[1, 1]</td>\n",
       "      <td>The Pocket Magnifier is so popular, we are hav...</td>\n",
       "      <td>[[Health &amp; Personal Care, Medical Supplies &amp; E...</td>\n",
       "      <td>{'bought_together': ['B00524H8MC'], 'also_boug...</td>\n",
       "      <td>Lightwedge Lighted Pocket Magnifier, Plum</td>\n",
       "      <td>NaN</td>\n",
       "      <td>http://ecx.images-amazon.com/images/I/31eVZtZ%...</td>\n",
       "      <td>24.95</td>\n",
       "      <td>NaN</td>\n",
       "    </tr>\n",
       "  </tbody>\n",
       "</table>\n",
       "</div>"
      ],
      "text/plain": [
       "                 reviewerName   reviewTime  \\\n",
       "0                        AnnN   01 5, 2011   \n",
       "1         AZ buyer \"AZ buyer\"  02 18, 2012   \n",
       "2  Bob Tobias \"Robert Tobias\"   06 8, 2010   \n",
       "3                   Cat lover   02 8, 2008   \n",
       "4                  Cricketoes  08 16, 2011   \n",
       "\n",
       "                                 summary  \\\n",
       "0                    Handy little gadget   \n",
       "1  Small & may need to encourage battery   \n",
       "2                Very good but not great   \n",
       "3           great addition to your purse   \n",
       "4              Very nice and convenient.   \n",
       "\n",
       "                                          reviewText  unixReviewTime  \\\n",
       "0  This is a great little gadget to have around. ...      1294185600   \n",
       "1  I would recommend this for a travel magnifier ...      1329523200   \n",
       "2  What I liked was the quality of the lens and t...      1275955200   \n",
       "3  Love the Great point light pocket magnifier!  ...      1202428800   \n",
       "4  This is very nice. You pull out on the magnifi...      1313452800   \n",
       "\n",
       "         asin      reviewerID  overall   helpful  \\\n",
       "0  159985130X   ALC5GH8CAMAI7      5.0    [1, 1]   \n",
       "1  159985130X   AHKSURW85PJUE      4.0    [1, 1]   \n",
       "2  159985130X   A38RMU1Y5TDP9      4.0  [75, 77]   \n",
       "3  159985130X  A1XZUG7DFXXOS4      4.0  [56, 60]   \n",
       "4  159985130X  A1MS3M7M7AM13X      5.0    [1, 1]   \n",
       "\n",
       "                                         description  \\\n",
       "0  The Pocket Magnifier is so popular, we are hav...   \n",
       "1  The Pocket Magnifier is so popular, we are hav...   \n",
       "2  The Pocket Magnifier is so popular, we are hav...   \n",
       "3  The Pocket Magnifier is so popular, we are hav...   \n",
       "4  The Pocket Magnifier is so popular, we are hav...   \n",
       "\n",
       "                                          categories  \\\n",
       "0  [[Health & Personal Care, Medical Supplies & E...   \n",
       "1  [[Health & Personal Care, Medical Supplies & E...   \n",
       "2  [[Health & Personal Care, Medical Supplies & E...   \n",
       "3  [[Health & Personal Care, Medical Supplies & E...   \n",
       "4  [[Health & Personal Care, Medical Supplies & E...   \n",
       "\n",
       "                                             related  \\\n",
       "0  {'bought_together': ['B00524H8MC'], 'also_boug...   \n",
       "1  {'bought_together': ['B00524H8MC'], 'also_boug...   \n",
       "2  {'bought_together': ['B00524H8MC'], 'also_boug...   \n",
       "3  {'bought_together': ['B00524H8MC'], 'also_boug...   \n",
       "4  {'bought_together': ['B00524H8MC'], 'also_boug...   \n",
       "\n",
       "                                       title salesRank  \\\n",
       "0  Lightwedge Lighted Pocket Magnifier, Plum       NaN   \n",
       "1  Lightwedge Lighted Pocket Magnifier, Plum       NaN   \n",
       "2  Lightwedge Lighted Pocket Magnifier, Plum       NaN   \n",
       "3  Lightwedge Lighted Pocket Magnifier, Plum       NaN   \n",
       "4  Lightwedge Lighted Pocket Magnifier, Plum       NaN   \n",
       "\n",
       "                                               imUrl  price brand  \n",
       "0  http://ecx.images-amazon.com/images/I/31eVZtZ%...  24.95   NaN  \n",
       "1  http://ecx.images-amazon.com/images/I/31eVZtZ%...  24.95   NaN  \n",
       "2  http://ecx.images-amazon.com/images/I/31eVZtZ%...  24.95   NaN  \n",
       "3  http://ecx.images-amazon.com/images/I/31eVZtZ%...  24.95   NaN  \n",
       "4  http://ecx.images-amazon.com/images/I/31eVZtZ%...  24.95   NaN  "
      ]
     },
     "execution_count": 27,
     "metadata": {},
     "output_type": "execute_result"
    }
   ],
   "source": [
    "mhpdf=pd.merge(df,mhp,on='asin')\n",
    "mhpdf.head()"
   ]
  },
  {
   "cell_type": "code",
   "execution_count": 32,
   "metadata": {
    "collapsed": false
   },
   "outputs": [
    {
     "data": {
      "text/plain": [
       "[['Health & Personal Care',\n",
       "  'Medical Supplies & Equipment',\n",
       "  'Daily Living Aids',\n",
       "  'Visual Impairment Aids',\n",
       "  'Magnifiers']]"
      ]
     },
     "execution_count": 32,
     "metadata": {},
     "output_type": "execute_result"
    }
   ],
   "source": [
    "mhpdf.categories.iloc[0]."
   ]
  },
  {
   "cell_type": "code",
   "execution_count": 86,
   "metadata": {
    "collapsed": false
   },
   "outputs": [
    {
     "data": {
      "text/plain": [
       "346355"
      ]
     },
     "execution_count": 86,
     "metadata": {},
     "output_type": "execute_result"
    }
   ],
   "source": [
    "seram=[]\n",
    "for i in mhpdf.categories[mhpdf.categories.notnull()]:\n",
    "        seram.append(i[0])\n",
    " \n",
    "len(seram)\n"
   ]
  },
  {
   "cell_type": "code",
   "execution_count": 88,
   "metadata": {
    "collapsed": false
   },
   "outputs": [
    {
     "data": {
      "text/html": [
       "<div>\n",
       "<table border=\"1\" class=\"dataframe\">\n",
       "  <thead>\n",
       "    <tr style=\"text-align: right;\">\n",
       "      <th></th>\n",
       "      <th>H&amp;PC</th>\n",
       "      <th>Cat1</th>\n",
       "      <th>Cat2</th>\n",
       "      <th>Cat3</th>\n",
       "      <th>Cat4</th>\n",
       "      <th>Cat5</th>\n",
       "      <th>Cat6</th>\n",
       "    </tr>\n",
       "  </thead>\n",
       "  <tbody>\n",
       "    <tr>\n",
       "      <th>0</th>\n",
       "      <td>Health &amp; Personal Care</td>\n",
       "      <td>Medical Supplies &amp; Equipment</td>\n",
       "      <td>Daily Living Aids</td>\n",
       "      <td>Visual Impairment Aids</td>\n",
       "      <td>Magnifiers</td>\n",
       "      <td>None</td>\n",
       "      <td>None</td>\n",
       "    </tr>\n",
       "    <tr>\n",
       "      <th>1</th>\n",
       "      <td>Health &amp; Personal Care</td>\n",
       "      <td>Medical Supplies &amp; Equipment</td>\n",
       "      <td>Daily Living Aids</td>\n",
       "      <td>Visual Impairment Aids</td>\n",
       "      <td>Magnifiers</td>\n",
       "      <td>None</td>\n",
       "      <td>None</td>\n",
       "    </tr>\n",
       "    <tr>\n",
       "      <th>2</th>\n",
       "      <td>Health &amp; Personal Care</td>\n",
       "      <td>Medical Supplies &amp; Equipment</td>\n",
       "      <td>Daily Living Aids</td>\n",
       "      <td>Visual Impairment Aids</td>\n",
       "      <td>Magnifiers</td>\n",
       "      <td>None</td>\n",
       "      <td>None</td>\n",
       "    </tr>\n",
       "    <tr>\n",
       "      <th>3</th>\n",
       "      <td>Health &amp; Personal Care</td>\n",
       "      <td>Medical Supplies &amp; Equipment</td>\n",
       "      <td>Daily Living Aids</td>\n",
       "      <td>Visual Impairment Aids</td>\n",
       "      <td>Magnifiers</td>\n",
       "      <td>None</td>\n",
       "      <td>None</td>\n",
       "    </tr>\n",
       "    <tr>\n",
       "      <th>4</th>\n",
       "      <td>Health &amp; Personal Care</td>\n",
       "      <td>Medical Supplies &amp; Equipment</td>\n",
       "      <td>Daily Living Aids</td>\n",
       "      <td>Visual Impairment Aids</td>\n",
       "      <td>Magnifiers</td>\n",
       "      <td>None</td>\n",
       "      <td>None</td>\n",
       "    </tr>\n",
       "  </tbody>\n",
       "</table>\n",
       "</div>"
      ],
      "text/plain": [
       "                     H&PC                          Cat1               Cat2  \\\n",
       "0  Health & Personal Care  Medical Supplies & Equipment  Daily Living Aids   \n",
       "1  Health & Personal Care  Medical Supplies & Equipment  Daily Living Aids   \n",
       "2  Health & Personal Care  Medical Supplies & Equipment  Daily Living Aids   \n",
       "3  Health & Personal Care  Medical Supplies & Equipment  Daily Living Aids   \n",
       "4  Health & Personal Care  Medical Supplies & Equipment  Daily Living Aids   \n",
       "\n",
       "                     Cat3        Cat4  Cat5  Cat6  \n",
       "0  Visual Impairment Aids  Magnifiers  None  None  \n",
       "1  Visual Impairment Aids  Magnifiers  None  None  \n",
       "2  Visual Impairment Aids  Magnifiers  None  None  \n",
       "3  Visual Impairment Aids  Magnifiers  None  None  \n",
       "4  Visual Impairment Aids  Magnifiers  None  None  "
      ]
     },
     "execution_count": 88,
     "metadata": {},
     "output_type": "execute_result"
    }
   ],
   "source": [
    "seramdf=pd.DataFrame(seram,columns=['H&PC','Cat1','Cat2','Cat3','Cat4','Cat5','Cat6'],index=mhpdf.index)\n",
    "seramdf.head()"
   ]
  },
  {
   "cell_type": "code",
   "execution_count": 91,
   "metadata": {
    "collapsed": false
   },
   "outputs": [
    {
     "data": {
      "text/plain": [
       "Health & Personal Care       345755\n",
       "Automotive                      469\n",
       "Cell Phones & Accessories        61\n",
       "Sports & Outdoors                59\n",
       "Home & Kitchen                    6\n",
       "CDs & Vinyl                       5\n",
       "Name: H&PC, dtype: int64"
      ]
     },
     "execution_count": 91,
     "metadata": {},
     "output_type": "execute_result"
    }
   ],
   "source": [
    "seramdf['H&PC'].value_counts()"
   ]
  },
  {
   "cell_type": "code",
   "execution_count": 101,
   "metadata": {
    "collapsed": false
   },
   "outputs": [
    {
     "data": {
      "text/plain": [
       "Tools & Equipment        410\n",
       "Paints & Primers          27\n",
       "Exterior Care             24\n",
       "Electrical Appliances      8\n",
       "Name: Cat2, dtype: int64"
      ]
     },
     "execution_count": 101,
     "metadata": {},
     "output_type": "execute_result"
    }
   ],
   "source": [
    "seramdf[seramdf['H&PC']=='Automotive'].Cat2.value_counts()"
   ]
  },
  {
   "cell_type": "code",
   "execution_count": 102,
   "metadata": {
    "collapsed": false
   },
   "outputs": [
    {
     "data": {
      "text/plain": [
       "Vitamins & Dietary Supplements    83181\n",
       "Personal Care                     73828\n",
       "Health Care                       59636\n",
       "Household Supplies                59060\n",
       "Medical Supplies & Equipment      35702\n",
       "Sports Nutrition                  20787\n",
       "Sexual Wellness                    6276\n",
       "Stationery & Party Supplies         771\n",
       "Baby & Child Care                   634\n",
       "Car Care                            434\n",
       "Accessories                          90\n",
       "Paint, Body & Trim                   27\n",
       "Clothing                             22\n",
       "Interior Accessories                  8\n",
       "Outdoor Gear                          8\n",
       "Kitchen & Dining                      6\n",
       "New Age                               5\n",
       "Name: Cat1, dtype: int64"
      ]
     },
     "execution_count": 102,
     "metadata": {},
     "output_type": "execute_result"
    }
   ],
   "source": [
    "seramdf['Cat1'].value_counts()"
   ]
  },
  {
   "cell_type": "code",
   "execution_count": 111,
   "metadata": {
    "collapsed": false
   },
   "outputs": [],
   "source": [
    "mhpdfa=pd.merge(seramdf,mhpdf,left_index=True,right_index=True)"
   ]
  },
  {
   "cell_type": "code",
   "execution_count": 114,
   "metadata": {
    "collapsed": false
   },
   "outputs": [
    {
     "data": {
      "text/plain": [
       "Index(['H&PC', 'Cat1', 'Cat2', 'Cat3', 'Cat4', 'Cat5', 'Cat6', 'reviewerName',\n",
       "       'reviewTime', 'summary', 'reviewText', 'unixReviewTime', 'asin',\n",
       "       'reviewerID', 'overall', 'helpful', 'description', 'categories',\n",
       "       'related', 'title', 'salesRank', 'imUrl', 'price', 'brand'],\n",
       "      dtype='object')"
      ]
     },
     "execution_count": 114,
     "metadata": {},
     "output_type": "execute_result"
    }
   ],
   "source": [
    "mhpdfa.columns"
   ]
  },
  {
   "cell_type": "code",
   "execution_count": 120,
   "metadata": {
    "collapsed": false
   },
   "outputs": [
    {
     "data": {
      "text/html": [
       "<div>\n",
       "<table border=\"1\" class=\"dataframe\">\n",
       "  <thead>\n",
       "    <tr style=\"text-align: right;\">\n",
       "      <th></th>\n",
       "      <th>Cat1</th>\n",
       "      <th>Cat2</th>\n",
       "      <th>Cat3</th>\n",
       "      <th>Cat4</th>\n",
       "      <th>Cat5</th>\n",
       "      <th>Cat6</th>\n",
       "    </tr>\n",
       "  </thead>\n",
       "  <tbody>\n",
       "    <tr>\n",
       "      <th>0</th>\n",
       "      <td>Medical Supplies &amp; Equipment</td>\n",
       "      <td>Daily Living Aids</td>\n",
       "      <td>Visual Impairment Aids</td>\n",
       "      <td>Magnifiers</td>\n",
       "      <td>None</td>\n",
       "      <td>None</td>\n",
       "    </tr>\n",
       "    <tr>\n",
       "      <th>1</th>\n",
       "      <td>Medical Supplies &amp; Equipment</td>\n",
       "      <td>Daily Living Aids</td>\n",
       "      <td>Visual Impairment Aids</td>\n",
       "      <td>Magnifiers</td>\n",
       "      <td>None</td>\n",
       "      <td>None</td>\n",
       "    </tr>\n",
       "    <tr>\n",
       "      <th>2</th>\n",
       "      <td>Medical Supplies &amp; Equipment</td>\n",
       "      <td>Daily Living Aids</td>\n",
       "      <td>Visual Impairment Aids</td>\n",
       "      <td>Magnifiers</td>\n",
       "      <td>None</td>\n",
       "      <td>None</td>\n",
       "    </tr>\n",
       "    <tr>\n",
       "      <th>3</th>\n",
       "      <td>Medical Supplies &amp; Equipment</td>\n",
       "      <td>Daily Living Aids</td>\n",
       "      <td>Visual Impairment Aids</td>\n",
       "      <td>Magnifiers</td>\n",
       "      <td>None</td>\n",
       "      <td>None</td>\n",
       "    </tr>\n",
       "    <tr>\n",
       "      <th>4</th>\n",
       "      <td>Medical Supplies &amp; Equipment</td>\n",
       "      <td>Daily Living Aids</td>\n",
       "      <td>Visual Impairment Aids</td>\n",
       "      <td>Magnifiers</td>\n",
       "      <td>None</td>\n",
       "      <td>None</td>\n",
       "    </tr>\n",
       "  </tbody>\n",
       "</table>\n",
       "</div>"
      ],
      "text/plain": [
       "                           Cat1               Cat2                    Cat3  \\\n",
       "0  Medical Supplies & Equipment  Daily Living Aids  Visual Impairment Aids   \n",
       "1  Medical Supplies & Equipment  Daily Living Aids  Visual Impairment Aids   \n",
       "2  Medical Supplies & Equipment  Daily Living Aids  Visual Impairment Aids   \n",
       "3  Medical Supplies & Equipment  Daily Living Aids  Visual Impairment Aids   \n",
       "4  Medical Supplies & Equipment  Daily Living Aids  Visual Impairment Aids   \n",
       "\n",
       "         Cat4  Cat5  Cat6  \n",
       "0  Magnifiers  None  None  \n",
       "1  Magnifiers  None  None  \n",
       "2  Magnifiers  None  None  \n",
       "3  Magnifiers  None  None  \n",
       "4  Magnifiers  None  None  "
      ]
     },
     "execution_count": 120,
     "metadata": {},
     "output_type": "execute_result"
    }
   ],
   "source": [
    "mhpdfa[['Cat1', 'Cat2', 'Cat3', 'Cat4', 'Cat5', 'Cat6']][:5]"
   ]
  },
  {
   "cell_type": "code",
   "execution_count": 121,
   "metadata": {
    "collapsed": false
   },
   "outputs": [
    {
     "data": {
      "text/plain": [
       "Vitamins & Dietary Supplements    83181\n",
       "Personal Care                     73828\n",
       "Health Care                       59636\n",
       "Household Supplies                59060\n",
       "Medical Supplies & Equipment      35702\n",
       "Sports Nutrition                  20787\n",
       "Sexual Wellness                    6276\n",
       "Stationery & Party Supplies         771\n",
       "Baby & Child Care                   634\n",
       "Car Care                            434\n",
       "Accessories                          90\n",
       "Paint, Body & Trim                   27\n",
       "Clothing                             22\n",
       "Interior Accessories                  8\n",
       "Outdoor Gear                          8\n",
       "Kitchen & Dining                      6\n",
       "New Age                               5\n",
       "Name: Cat1, dtype: int64"
      ]
     },
     "execution_count": 121,
     "metadata": {},
     "output_type": "execute_result"
    }
   ],
   "source": [
    "mhpdfa.Cat1.value_counts()"
   ]
  },
  {
   "cell_type": "code",
   "execution_count": 175,
   "metadata": {
    "collapsed": false
   },
   "outputs": [],
   "source": [
    "colsdrop=['Vitamins & Dietary Supplements','Medical Supplies & Equipment','Sports Nutrition',\n",
    "         'Stationery & Party Supplies','Interior Accessories','Clothing','Outdoor Gear',\n",
    "         'New Age','Accessories','Baby & Child Care','Health Care','Kitchen & Dining']\n",
    "mhpdfacat1=mhpdfa[~mhpdfa['Cat1'].isin(colsdrop)]"
   ]
  },
  {
   "cell_type": "code",
   "execution_count": null,
   "metadata": {
    "collapsed": true
   },
   "outputs": [],
   "source": [
    "colsdrop2=['Cleaning Tools','Household Batteries','Paper & Plastic','Adult Toys & Games',\n",
    "           'Bondage Gear & Accessories','Fetish Wear','Tools & Equipment','Novelties','Sexual Enhancers']\n",
    "mhpdfacat1_=mhpdfacat1[~mhpdfacat1['Cat2'].isin(colsdrop2)]\n",
    "colsdrop3=['Deodorants','Alternative Protection','Panty Liners'          \n",
    "'Reading Glasses','Eyeglasses Care','Contact Lens Care','Manual Shaving','Electric Shavers',  \n",
    "'Trimmers & Clippers','Shaving Sets & Kits','Shaving Accessories','Cloths & Wipes']\n",
    "mhpdfacat2_=mhpdfacat1_[~mhpdfacat1_['Cat3'].isin(colsdrop3)]\n"
   ]
  },
  {
   "cell_type": "code",
   "execution_count": 213,
   "metadata": {
    "collapsed": false
   },
   "outputs": [
    {
     "data": {
      "text/plain": [
       "Oral Hygiene                    15338\n",
       "Shaving & Hair Removal          12464\n",
       "Laundry                         10725\n",
       "Household Cleaning               8419\n",
       "Dishwashing                      4668\n",
       "Deodorants & Antiperspirants     4432\n",
       "Feminine Care                    3077\n",
       "Lip Care                         2543\n",
       "Eye Care                         2482\n",
       "Safer Sex                        2198\n",
       "Air Fresheners                   2161\n",
       "Foot Care                        1946\n",
       "Ear Care                         1698\n",
       "Body Art                          100\n",
       "Paints & Primers                   27\n",
       "Exterior Care                      24\n",
       "Sensual Delights                   16\n",
       "Name: Cat2, dtype: int64"
      ]
     },
     "execution_count": 213,
     "metadata": {},
     "output_type": "execute_result"
    }
   ],
   "source": [
    "mhpdfacat2_.Cat.value_counts()"
   ]
  },
  {
   "cell_type": "code",
   "execution_count": 220,
   "metadata": {
    "collapsed": true
   },
   "outputs": [],
   "source": [
    "mhpdfacat2_.to_csv('amazon.csv')"
   ]
  },
  {
   "cell_type": "code",
   "execution_count": 211,
   "metadata": {
    "collapsed": false
   },
   "outputs": [
    {
     "data": {
      "text/plain": [
       "All-Purpose Cleaners             1665\n",
       "Bathroom Cleaners                1655\n",
       "Cloths & Wipes                   1461\n",
       "Carpet Cleaners & Deodorizers    1350\n",
       "Floor Cleaners                    917\n",
       "Kitchen Cleaners                  732\n",
       "Furniture & Wood Polishes         500\n",
       "Drain Openers                     447\n",
       "Metal Polishes                    361\n",
       "Glass Cleaners                    297\n",
       "Upholstery Cleaners               274\n",
       "Name: Cat3, dtype: int64"
      ]
     },
     "execution_count": 211,
     "metadata": {},
     "output_type": "execute_result"
    }
   ],
   "source": [
    "mhpdfacat1[mhpdfacat1.Cat2=='Household Cleaning']['Cat3'].value_counts()"
   ]
  },
  {
   "cell_type": "code",
   "execution_count": null,
   "metadata": {
    "collapsed": true
   },
   "outputs": [],
   "source": []
  }
 ],
 "metadata": {
  "kernelspec": {
   "display_name": "Python [conda root]",
   "language": "python",
   "name": "conda-root-py"
  },
  "language_info": {
   "codemirror_mode": {
    "name": "ipython",
    "version": 3
   },
   "file_extension": ".py",
   "mimetype": "text/x-python",
   "name": "python",
   "nbconvert_exporter": "python",
   "pygments_lexer": "ipython3",
   "version": "3.5.6"
  }
 },
 "nbformat": 4,
 "nbformat_minor": 2
}
