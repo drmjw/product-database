{
 "cells": [
  {
   "cell_type": "code",
   "execution_count": 1,
   "metadata": {
    "collapsed": false
   },
   "outputs": [
    {
     "name": "stdout",
     "output_type": "stream",
     "text": [
      "[nltk_data] Downloading package stopwords to\n",
      "[nltk_data]     /Users/meleciawright/nltk_data...\n",
      "[nltk_data]   Package stopwords is already up-to-date!\n"
     ]
    }
   ],
   "source": [
    "#import relevant packages\n",
    "import pandas as pd\n",
    "import numpy as np\n",
    "import gzip\n",
    "import matplotlib.pyplot as plt\n",
    "import re\n",
    "import nltk\n",
    "nltk.download('stopwords')\n",
    "from nltk.corpus import stopwords\n",
    "from nltk.stem.porter import PorterStemmer\n",
    "\n",
    "# fuzz is used to compare TWO strings\n",
    "from fuzzywuzzy import fuzz\n",
    "\n",
    "# process is used to compare a string to MULTIPLE other strings\n",
    "from fuzzywuzzy import process"
   ]
  },
  {
   "cell_type": "code",
   "execution_count": 2,
   "metadata": {
    "collapsed": true
   },
   "outputs": [],
   "source": [
    "amawed=pd.read_csv('amawed.csv')"
   ]
  },
  {
   "cell_type": "code",
   "execution_count": 2,
   "metadata": {
    "collapsed": false
   },
   "outputs": [
    {
     "data": {
      "text/html": [
       "<div>\n",
       "<table border=\"1\" class=\"dataframe\">\n",
       "  <thead>\n",
       "    <tr style=\"text-align: right;\">\n",
       "      <th></th>\n",
       "      <th>A1ZQZ8RJS1XVTX</th>\n",
       "      <th>0657745316</th>\n",
       "      <th>5.0</th>\n",
       "      <th>1381449600</th>\n",
       "    </tr>\n",
       "  </thead>\n",
       "  <tbody>\n",
       "    <tr>\n",
       "      <th>0</th>\n",
       "      <td>A31W38VGZAUUM4</td>\n",
       "      <td>0700026444</td>\n",
       "      <td>5.0</td>\n",
       "      <td>1354752000</td>\n",
       "    </tr>\n",
       "    <tr>\n",
       "      <th>1</th>\n",
       "      <td>A3I0AV0UJX5OH0</td>\n",
       "      <td>1403796890</td>\n",
       "      <td>1.0</td>\n",
       "      <td>1385942400</td>\n",
       "    </tr>\n",
       "    <tr>\n",
       "      <th>2</th>\n",
       "      <td>A3QAAOLIXKV383</td>\n",
       "      <td>1403796890</td>\n",
       "      <td>3.0</td>\n",
       "      <td>1307836800</td>\n",
       "    </tr>\n",
       "    <tr>\n",
       "      <th>3</th>\n",
       "      <td>AB1A5EGHHVA9M</td>\n",
       "      <td>141278509X</td>\n",
       "      <td>5.0</td>\n",
       "      <td>1332547200</td>\n",
       "    </tr>\n",
       "    <tr>\n",
       "      <th>4</th>\n",
       "      <td>A3DTB6RVENLQ9Q</td>\n",
       "      <td>1453060375</td>\n",
       "      <td>1.0</td>\n",
       "      <td>1362268800</td>\n",
       "    </tr>\n",
       "  </tbody>\n",
       "</table>\n",
       "</div>"
      ],
      "text/plain": [
       "   A1ZQZ8RJS1XVTX  0657745316  5.0  1381449600\n",
       "0  A31W38VGZAUUM4  0700026444  5.0  1354752000\n",
       "1  A3I0AV0UJX5OH0  1403796890  1.0  1385942400\n",
       "2  A3QAAOLIXKV383  1403796890  3.0  1307836800\n",
       "3   AB1A5EGHHVA9M  141278509X  5.0  1332547200\n",
       "4  A3DTB6RVENLQ9Q  1453060375  1.0  1362268800"
      ]
     },
     "execution_count": 2,
     "metadata": {},
     "output_type": "execute_result"
    }
   ],
   "source": [
    "#use jmc's code for pulling data in\n",
    "\n",
    "def parse(path):\n",
    "    g = gzip.open(path, 'r')\n",
    "    for l in g:\n",
    "        yield eval(l)\n",
    " \n",
    "def parse(path):\n",
    "    g = gzip.open(path, 'rb')\n",
    "    for l in g:\n",
    "        yield eval(l)\n",
    "\n",
    "def getDF(path):\n",
    "    i = 0\n",
    "    df = {}\n",
    "    for d in parse(path):\n",
    "        df[i] = d\n",
    "        i += 1\n",
    "    return pd.DataFrame.from_dict(df, orient='index')\n",
    "\n",
    "df = getDF('reviews_Grocery_and_Gourmet_Food_5.json.gz')\n",
    "meta=getDF('meta_Grocery_and_Gourmet_Food.json.gz')\n",
    "stars=pd.read_csv('ratings_Grocery_and_Gourmet_Food.csv')\n",
    "stars.head()"
   ]
  },
  {
   "cell_type": "code",
   "execution_count": 3,
   "metadata": {
    "collapsed": false
   },
   "outputs": [
    {
     "name": "stdout",
     "output_type": "stream",
     "text": [
      "1297156\n"
     ]
    },
    {
     "data": {
      "text/html": [
       "<div>\n",
       "<table border=\"1\" class=\"dataframe\">\n",
       "  <thead>\n",
       "    <tr style=\"text-align: right;\">\n",
       "      <th></th>\n",
       "      <th>asin</th>\n",
       "      <th>meanstars</th>\n",
       "    </tr>\n",
       "    <tr>\n",
       "      <th>asin</th>\n",
       "      <th></th>\n",
       "      <th></th>\n",
       "    </tr>\n",
       "  </thead>\n",
       "  <tbody>\n",
       "    <tr>\n",
       "      <th>0657745316</th>\n",
       "      <td>0657745316</td>\n",
       "      <td>5.0</td>\n",
       "    </tr>\n",
       "    <tr>\n",
       "      <th>0700026444</th>\n",
       "      <td>0700026444</td>\n",
       "      <td>5.0</td>\n",
       "    </tr>\n",
       "    <tr>\n",
       "      <th>1403796890</th>\n",
       "      <td>1403796890</td>\n",
       "      <td>2.0</td>\n",
       "    </tr>\n",
       "    <tr>\n",
       "      <th>141278509X</th>\n",
       "      <td>141278509X</td>\n",
       "      <td>5.0</td>\n",
       "    </tr>\n",
       "    <tr>\n",
       "      <th>1453060375</th>\n",
       "      <td>1453060375</td>\n",
       "      <td>1.0</td>\n",
       "    </tr>\n",
       "  </tbody>\n",
       "</table>\n",
       "</div>"
      ],
      "text/plain": [
       "                  asin  meanstars\n",
       "asin                             \n",
       "0657745316  0657745316        5.0\n",
       "0700026444  0700026444        5.0\n",
       "1403796890  1403796890        2.0\n",
       "141278509X  141278509X        5.0\n",
       "1453060375  1453060375        1.0"
      ]
     },
     "execution_count": 3,
     "metadata": {},
     "output_type": "execute_result"
    }
   ],
   "source": [
    "stars=pd.read_csv('ratings_Grocery_and_Gourmet_Food.csv',names=['reviewerID','asin','overall','unixReviewTime'])\n",
    "print(len(stars))\n",
    "meanstars=stars.groupby('asin').agg('mean')\n",
    "meanstars['asin']=meanstars.index\n",
    "meanstars['meanstars']=meanstars['overall']\n",
    "#meanstars=meanstars[['asin','meanstars']].reset_index()\n",
    "meanstars=meanstars[['asin','meanstars']]\n",
    "meanstars.head()"
   ]
  },
  {
   "cell_type": "markdown",
   "metadata": {},
   "source": [
    "### merge reviews and meta dfs\n",
    "WHAT'S POSITIVE OR NEGATIVE? "
   ]
  },
  {
   "cell_type": "code",
   "execution_count": 3,
   "metadata": {
    "collapsed": false
   },
   "outputs": [
    {
     "name": "stdout",
     "output_type": "stream",
     "text": [
      "<class 'pandas.core.frame.DataFrame'>\n",
      "Int64Index: 151254 entries, 0 to 151253\n",
      "Data columns (total 9 columns):\n",
      "summary           151254 non-null object\n",
      "overall           151254 non-null float64\n",
      "unixReviewTime    151254 non-null int64\n",
      "reviewTime        151254 non-null object\n",
      "helpful           151254 non-null object\n",
      "reviewText        151254 non-null object\n",
      "reviewerName      149761 non-null object\n",
      "asin              151254 non-null object\n",
      "reviewerID        151254 non-null object\n",
      "dtypes: float64(1), int64(1), object(7)\n",
      "memory usage: 11.5+ MB\n"
     ]
    }
   ],
   "source": [
    "df.info()"
   ]
  },
  {
   "cell_type": "code",
   "execution_count": 5,
   "metadata": {
    "collapsed": false
   },
   "outputs": [
    {
     "name": "stdout",
     "output_type": "stream",
     "text": [
      "<class 'pandas.core.frame.DataFrame'>\n",
      "Int64Index: 171760 entries, 0 to 171759\n",
      "Data columns (total 9 columns):\n",
      "imUrl          171616 non-null object\n",
      "categories     171760 non-null object\n",
      "description    151817 non-null object\n",
      "title          171602 non-null object\n",
      "related        127270 non-null object\n",
      "asin           171760 non-null object\n",
      "salesRank      156972 non-null object\n",
      "price          113152 non-null float64\n",
      "brand          63905 non-null object\n",
      "dtypes: float64(1), object(8)\n",
      "memory usage: 13.1+ MB\n"
     ]
    }
   ],
   "source": [
    "meta.info()"
   ]
  },
  {
   "cell_type": "code",
   "execution_count": 6,
   "metadata": {
    "collapsed": false,
    "scrolled": true
   },
   "outputs": [
    {
     "name": "stdout",
     "output_type": "stream",
     "text": [
      "171760 151254 314301\n",
      "171760 151254 314301 166049 314301\n"
     ]
    },
    {
     "data": {
      "text/html": [
       "<div>\n",
       "<table border=\"1\" class=\"dataframe\">\n",
       "  <thead>\n",
       "    <tr style=\"text-align: right;\">\n",
       "      <th></th>\n",
       "      <th>related</th>\n",
       "      <th>categories</th>\n",
       "      <th>description</th>\n",
       "      <th>imUrl</th>\n",
       "      <th>asin</th>\n",
       "      <th>title</th>\n",
       "      <th>salesRank</th>\n",
       "      <th>price</th>\n",
       "      <th>brand</th>\n",
       "      <th>overall</th>\n",
       "      <th>reviewerName</th>\n",
       "      <th>reviewText</th>\n",
       "      <th>summary</th>\n",
       "      <th>helpful</th>\n",
       "      <th>reviewerID</th>\n",
       "      <th>unixReviewTime</th>\n",
       "      <th>reviewTime</th>\n",
       "    </tr>\n",
       "  </thead>\n",
       "  <tbody>\n",
       "    <tr>\n",
       "      <th>0</th>\n",
       "      <td>{'also_viewed': ['B001GE8N4Y']}</td>\n",
       "      <td>[[Grocery &amp; Gourmet Food]]</td>\n",
       "      <td>This is real vanilla extract made with only 3 ...</td>\n",
       "      <td>http://ecx.images-amazon.com/images/I/41gFi5h0...</td>\n",
       "      <td>0657745316</td>\n",
       "      <td>100 Percent All Natural Vanilla Extract</td>\n",
       "      <td>{'Grocery &amp; Gourmet Food': 374004}</td>\n",
       "      <td>NaN</td>\n",
       "      <td>NaN</td>\n",
       "      <td>NaN</td>\n",
       "      <td>NaN</td>\n",
       "      <td>NaN</td>\n",
       "      <td>NaN</td>\n",
       "      <td>NaN</td>\n",
       "      <td>NaN</td>\n",
       "      <td>NaN</td>\n",
       "      <td>NaN</td>\n",
       "    </tr>\n",
       "    <tr>\n",
       "      <th>1</th>\n",
       "      <td>NaN</td>\n",
       "      <td>[[Grocery &amp; Gourmet Food]]</td>\n",
       "      <td>Silverpot Tea, Pure Darjeeling, is an exquisit...</td>\n",
       "      <td>http://ecx.images-amazon.com/images/I/51hs8sox...</td>\n",
       "      <td>0700026444</td>\n",
       "      <td>Pure Darjeeling Tea: Loose Leaf</td>\n",
       "      <td>{'Grocery &amp; Gourmet Food': 620307}</td>\n",
       "      <td>NaN</td>\n",
       "      <td>NaN</td>\n",
       "      <td>NaN</td>\n",
       "      <td>NaN</td>\n",
       "      <td>NaN</td>\n",
       "      <td>NaN</td>\n",
       "      <td>NaN</td>\n",
       "      <td>NaN</td>\n",
       "      <td>NaN</td>\n",
       "      <td>NaN</td>\n",
       "    </tr>\n",
       "    <tr>\n",
       "      <th>2</th>\n",
       "      <td>NaN</td>\n",
       "      <td>[[Grocery &amp; Gourmet Food]]</td>\n",
       "      <td>Must have for any WWE Fan\\n \\n \\n \\nFeaturing ...</td>\n",
       "      <td>http://ecx.images-amazon.com/images/I/518SEST5...</td>\n",
       "      <td>1403796890</td>\n",
       "      <td>WWE Kids Todler Velvet Slippers featuring John...</td>\n",
       "      <td>NaN</td>\n",
       "      <td>3.99</td>\n",
       "      <td>NaN</td>\n",
       "      <td>NaN</td>\n",
       "      <td>NaN</td>\n",
       "      <td>NaN</td>\n",
       "      <td>NaN</td>\n",
       "      <td>NaN</td>\n",
       "      <td>NaN</td>\n",
       "      <td>NaN</td>\n",
       "      <td>NaN</td>\n",
       "    </tr>\n",
       "    <tr>\n",
       "      <th>3</th>\n",
       "      <td>{'also_viewed': ['B0051IETTY']}</td>\n",
       "      <td>[[Grocery &amp; Gourmet Food]]</td>\n",
       "      <td>Infused with Vitamins and Electrolytes Good So...</td>\n",
       "      <td>http://ecx.images-amazon.com/images/I/51CFQIis...</td>\n",
       "      <td>141278509X</td>\n",
       "      <td>Archer Farms Strawberry Dragonfruit Drink Mix ...</td>\n",
       "      <td>{'Grocery &amp; Gourmet Food': 620322}</td>\n",
       "      <td>NaN</td>\n",
       "      <td>NaN</td>\n",
       "      <td>NaN</td>\n",
       "      <td>NaN</td>\n",
       "      <td>NaN</td>\n",
       "      <td>NaN</td>\n",
       "      <td>NaN</td>\n",
       "      <td>NaN</td>\n",
       "      <td>NaN</td>\n",
       "      <td>NaN</td>\n",
       "    </tr>\n",
       "    <tr>\n",
       "      <th>4</th>\n",
       "      <td>{'also_viewed': ['B006MSEOJ2', 'B005VOOQLO', '...</td>\n",
       "      <td>[[Grocery &amp; Gourmet Food]]</td>\n",
       "      <td>MiO Energy is your portable energy source givi...</td>\n",
       "      <td>http://ecx.images-amazon.com/images/I/51EUsMcn...</td>\n",
       "      <td>1453060375</td>\n",
       "      <td>Mio Energy Liquid Water Enhancer Black Cherry ...</td>\n",
       "      <td>{'Grocery &amp; Gourmet Food': 268754}</td>\n",
       "      <td>11.99</td>\n",
       "      <td>Mio</td>\n",
       "      <td>NaN</td>\n",
       "      <td>NaN</td>\n",
       "      <td>NaN</td>\n",
       "      <td>NaN</td>\n",
       "      <td>NaN</td>\n",
       "      <td>NaN</td>\n",
       "      <td>NaN</td>\n",
       "      <td>NaN</td>\n",
       "    </tr>\n",
       "  </tbody>\n",
       "</table>\n",
       "</div>"
      ],
      "text/plain": [
       "                                             related  \\\n",
       "0                    {'also_viewed': ['B001GE8N4Y']}   \n",
       "1                                                NaN   \n",
       "2                                                NaN   \n",
       "3                    {'also_viewed': ['B0051IETTY']}   \n",
       "4  {'also_viewed': ['B006MSEOJ2', 'B005VOOQLO', '...   \n",
       "\n",
       "                   categories  \\\n",
       "0  [[Grocery & Gourmet Food]]   \n",
       "1  [[Grocery & Gourmet Food]]   \n",
       "2  [[Grocery & Gourmet Food]]   \n",
       "3  [[Grocery & Gourmet Food]]   \n",
       "4  [[Grocery & Gourmet Food]]   \n",
       "\n",
       "                                         description  \\\n",
       "0  This is real vanilla extract made with only 3 ...   \n",
       "1  Silverpot Tea, Pure Darjeeling, is an exquisit...   \n",
       "2  Must have for any WWE Fan\\n \\n \\n \\nFeaturing ...   \n",
       "3  Infused with Vitamins and Electrolytes Good So...   \n",
       "4  MiO Energy is your portable energy source givi...   \n",
       "\n",
       "                                               imUrl        asin  \\\n",
       "0  http://ecx.images-amazon.com/images/I/41gFi5h0...  0657745316   \n",
       "1  http://ecx.images-amazon.com/images/I/51hs8sox...  0700026444   \n",
       "2  http://ecx.images-amazon.com/images/I/518SEST5...  1403796890   \n",
       "3  http://ecx.images-amazon.com/images/I/51CFQIis...  141278509X   \n",
       "4  http://ecx.images-amazon.com/images/I/51EUsMcn...  1453060375   \n",
       "\n",
       "                                               title  \\\n",
       "0            100 Percent All Natural Vanilla Extract   \n",
       "1                    Pure Darjeeling Tea: Loose Leaf   \n",
       "2  WWE Kids Todler Velvet Slippers featuring John...   \n",
       "3  Archer Farms Strawberry Dragonfruit Drink Mix ...   \n",
       "4  Mio Energy Liquid Water Enhancer Black Cherry ...   \n",
       "\n",
       "                            salesRank  price brand  overall reviewerName  \\\n",
       "0  {'Grocery & Gourmet Food': 374004}    NaN   NaN      NaN          NaN   \n",
       "1  {'Grocery & Gourmet Food': 620307}    NaN   NaN      NaN          NaN   \n",
       "2                                 NaN   3.99   NaN      NaN          NaN   \n",
       "3  {'Grocery & Gourmet Food': 620322}    NaN   NaN      NaN          NaN   \n",
       "4  {'Grocery & Gourmet Food': 268754}  11.99   Mio      NaN          NaN   \n",
       "\n",
       "  reviewText summary helpful reviewerID  unixReviewTime reviewTime  \n",
       "0        NaN     NaN     NaN        NaN             NaN        NaN  \n",
       "1        NaN     NaN     NaN        NaN             NaN        NaN  \n",
       "2        NaN     NaN     NaN        NaN             NaN        NaN  \n",
       "3        NaN     NaN     NaN        NaN             NaN        NaN  \n",
       "4        NaN     NaN     NaN        NaN             NaN        NaN  "
      ]
     },
     "execution_count": 6,
     "metadata": {},
     "output_type": "execute_result"
    }
   ],
   "source": [
    "metadf=pd.merge(meta,df,on='asin',how='outer')\n",
    "print(len(meta),len(df),len(metadf))\n",
    "metadf.head()\n",
    "metadfmean=pd.merge(metadf,meanstars[['asin','meanstars']],on='asin',how='outer')\n",
    "print(len(meta),len(df),len(metadf),len(meanstars),len(metadfmean))\n",
    "metadfmean.head()"
   ]
  },
  {
   "cell_type": "code",
   "execution_count": 7,
   "metadata": {
    "collapsed": false
   },
   "outputs": [
    {
     "name": "stdout",
     "output_type": "stream",
     "text": [
      "<class 'pandas.core.frame.DataFrame'>\n",
      "Int64Index: 314301 entries, 0 to 314300\n",
      "Data columns (total 17 columns):\n",
      "related           264646 non-null object\n",
      "categories        314301 non-null object\n",
      "description       290900 non-null object\n",
      "imUrl             313981 non-null object\n",
      "asin              314301 non-null object\n",
      "title             313967 non-null object\n",
      "salesRank         292953 non-null object\n",
      "price             232520 non-null float64\n",
      "brand             162188 non-null object\n",
      "overall           151254 non-null float64\n",
      "reviewerName      149761 non-null object\n",
      "reviewText        151254 non-null object\n",
      "summary           151254 non-null object\n",
      "helpful           151254 non-null object\n",
      "reviewerID        151254 non-null object\n",
      "unixReviewTime    151254 non-null float64\n",
      "reviewTime        151254 non-null object\n",
      "dtypes: float64(3), object(14)\n",
      "memory usage: 43.2+ MB\n"
     ]
    }
   ],
   "source": [
    "metadfmean.info()"
   ]
  },
  {
   "cell_type": "code",
   "execution_count": 8,
   "metadata": {
    "collapsed": true
   },
   "outputs": [],
   "source": [
    "metadfmean.to_csv('amawed.csv')"
   ]
  },
  {
   "cell_type": "code",
   "execution_count": 44,
   "metadata": {
    "collapsed": true
   },
   "outputs": [
    {
     "name": "stdout",
     "output_type": "stream",
     "text": [
      "<class 'pandas.core.frame.DataFrame'>\n",
      "Int64Index: 171760 entries, 0 to 171759\n",
      "Data columns (total 9 columns):\n",
      "imUrl          171616 non-null object\n",
      "categories     171760 non-null object\n",
      "description    151817 non-null object\n",
      "title          171602 non-null object\n",
      "related        127270 non-null object\n",
      "asin           171760 non-null object\n",
      "salesRank      156972 non-null object\n",
      "price          113152 non-null float64\n",
      "brand          63905 non-null object\n",
      "dtypes: float64(1), object(8)\n",
      "memory usage: 13.1+ MB\n",
      "None\n",
      "<class 'pandas.core.frame.DataFrame'>\n",
      "Int64Index: 151254 entries, 0 to 151253\n",
      "Data columns (total 9 columns):\n",
      "summary           151254 non-null object\n",
      "overall           151254 non-null float64\n",
      "unixReviewTime    151254 non-null int64\n",
      "reviewTime        151254 non-null object\n",
      "helpful           151254 non-null object\n",
      "reviewText        151254 non-null object\n",
      "reviewerName      149761 non-null object\n",
      "asin              151254 non-null object\n",
      "reviewerID        151254 non-null object\n",
      "dtypes: float64(1), int64(1), object(7)\n",
      "memory usage: 11.5+ MB\n",
      "None\n",
      "<class 'pandas.core.frame.DataFrame'>\n",
      "Int64Index: 314301 entries, 0 to 314300\n",
      "Data columns (total 17 columns):\n",
      "imUrl             313981 non-null object\n",
      "categories        314301 non-null object\n",
      "description       290900 non-null object\n",
      "title             313967 non-null object\n",
      "related           264646 non-null object\n",
      "asin              314301 non-null object\n",
      "salesRank         292953 non-null object\n",
      "price             232520 non-null float64\n",
      "brand             162188 non-null object\n",
      "summary           151254 non-null object\n",
      "overall           151254 non-null float64\n",
      "unixReviewTime    151254 non-null float64\n",
      "reviewTime        151254 non-null object\n",
      "helpful           151254 non-null object\n",
      "reviewText        151254 non-null object\n",
      "reviewerName      149761 non-null object\n",
      "reviewerID        151254 non-null object\n",
      "dtypes: float64(3), object(14)\n",
      "memory usage: 43.2+ MB\n",
      "None\n",
      "<class 'pandas.core.frame.DataFrame'>\n",
      "Int64Index: 314301 entries, 0 to 314300\n",
      "Data columns (total 19 columns):\n",
      "imUrl               313981 non-null object\n",
      "categories          314301 non-null object\n",
      "description         290900 non-null object\n",
      "title               313967 non-null object\n",
      "related             264646 non-null object\n",
      "asin                314301 non-null object\n",
      "salesRank           292953 non-null object\n",
      "price               232520 non-null float64\n",
      "brand               162188 non-null object\n",
      "summary             151254 non-null object\n",
      "overall_x           151254 non-null float64\n",
      "unixReviewTime_x    151254 non-null float64\n",
      "reviewTime          151254 non-null object\n",
      "helpful             151254 non-null object\n",
      "reviewText          151254 non-null object\n",
      "reviewerName        149761 non-null object\n",
      "reviewerID          151254 non-null object\n",
      "overall_y           308590 non-null float64\n",
      "unixReviewTime_y    308590 non-null float64\n",
      "dtypes: float64(5), object(14)\n",
      "memory usage: 48.0+ MB\n",
      "None\n"
     ]
    }
   ],
   "source": [
    "for x in [meta,df, metadf,metadfmean]:\n",
    "    print(x.info())"
   ]
  },
  {
   "cell_type": "code",
   "execution_count": 24,
   "metadata": {
    "collapsed": false
   },
   "outputs": [],
   "source": [
    "#GET A LIST OF BRANDS TO FACILITATE MERGING WITH USDA\n",
    "st=[]\n",
    "for b in metadfmean['brand'][metadfmean.brand.notnull()]:\n",
    "    st.append(b.replace('&#39;',\"'\").replace('&reg;','').replace('&amp;','&'))\n",
    "#metadfmean['cleanbrands']=st\n",
    "#metadfmean.info()"
   ]
  },
  {
   "cell_type": "code",
   "execution_count": 44,
   "metadata": {
    "collapsed": false
   },
   "outputs": [
    {
     "data": {
      "text/html": [
       "<div>\n",
       "<table border=\"1\" class=\"dataframe\">\n",
       "  <thead>\n",
       "    <tr style=\"text-align: right;\">\n",
       "      <th></th>\n",
       "      <th>related</th>\n",
       "      <th>categories</th>\n",
       "      <th>description</th>\n",
       "      <th>imUrl</th>\n",
       "      <th>asin</th>\n",
       "      <th>title</th>\n",
       "      <th>salesRank</th>\n",
       "      <th>price</th>\n",
       "      <th>brand</th>\n",
       "      <th>overall</th>\n",
       "      <th>reviewerName</th>\n",
       "      <th>reviewText</th>\n",
       "      <th>summary</th>\n",
       "      <th>helpful</th>\n",
       "      <th>reviewerID</th>\n",
       "      <th>unixReviewTime</th>\n",
       "      <th>reviewTime</th>\n",
       "      <th>cleanbrands</th>\n",
       "    </tr>\n",
       "  </thead>\n",
       "  <tbody>\n",
       "    <tr>\n",
       "      <th>0</th>\n",
       "      <td>{'also_viewed': ['B001GE8N4Y']}</td>\n",
       "      <td>[[Grocery &amp; Gourmet Food]]</td>\n",
       "      <td>This is real vanilla extract made with only 3 ...</td>\n",
       "      <td>http://ecx.images-amazon.com/images/I/41gFi5h0...</td>\n",
       "      <td>0657745316</td>\n",
       "      <td>100 Percent All Natural Vanilla Extract</td>\n",
       "      <td>{'Grocery &amp; Gourmet Food': 374004}</td>\n",
       "      <td>NaN</td>\n",
       "      <td>NaN</td>\n",
       "      <td>NaN</td>\n",
       "      <td>NaN</td>\n",
       "      <td>NaN</td>\n",
       "      <td>NaN</td>\n",
       "      <td>NaN</td>\n",
       "      <td>NaN</td>\n",
       "      <td>NaN</td>\n",
       "      <td>NaN</td>\n",
       "      <td>NaN</td>\n",
       "    </tr>\n",
       "    <tr>\n",
       "      <th>1</th>\n",
       "      <td>NaN</td>\n",
       "      <td>[[Grocery &amp; Gourmet Food]]</td>\n",
       "      <td>Silverpot Tea, Pure Darjeeling, is an exquisit...</td>\n",
       "      <td>http://ecx.images-amazon.com/images/I/51hs8sox...</td>\n",
       "      <td>0700026444</td>\n",
       "      <td>Pure Darjeeling Tea: Loose Leaf</td>\n",
       "      <td>{'Grocery &amp; Gourmet Food': 620307}</td>\n",
       "      <td>NaN</td>\n",
       "      <td>NaN</td>\n",
       "      <td>NaN</td>\n",
       "      <td>NaN</td>\n",
       "      <td>NaN</td>\n",
       "      <td>NaN</td>\n",
       "      <td>NaN</td>\n",
       "      <td>NaN</td>\n",
       "      <td>NaN</td>\n",
       "      <td>NaN</td>\n",
       "      <td>NaN</td>\n",
       "    </tr>\n",
       "    <tr>\n",
       "      <th>2</th>\n",
       "      <td>NaN</td>\n",
       "      <td>[[Grocery &amp; Gourmet Food]]</td>\n",
       "      <td>Must have for any WWE Fan\\n \\n \\n \\nFeaturing ...</td>\n",
       "      <td>http://ecx.images-amazon.com/images/I/518SEST5...</td>\n",
       "      <td>1403796890</td>\n",
       "      <td>WWE Kids Todler Velvet Slippers featuring John...</td>\n",
       "      <td>NaN</td>\n",
       "      <td>3.99</td>\n",
       "      <td>NaN</td>\n",
       "      <td>NaN</td>\n",
       "      <td>NaN</td>\n",
       "      <td>NaN</td>\n",
       "      <td>NaN</td>\n",
       "      <td>NaN</td>\n",
       "      <td>NaN</td>\n",
       "      <td>NaN</td>\n",
       "      <td>NaN</td>\n",
       "      <td>NaN</td>\n",
       "    </tr>\n",
       "    <tr>\n",
       "      <th>3</th>\n",
       "      <td>{'also_viewed': ['B0051IETTY']}</td>\n",
       "      <td>[[Grocery &amp; Gourmet Food]]</td>\n",
       "      <td>Infused with Vitamins and Electrolytes Good So...</td>\n",
       "      <td>http://ecx.images-amazon.com/images/I/51CFQIis...</td>\n",
       "      <td>141278509X</td>\n",
       "      <td>Archer Farms Strawberry Dragonfruit Drink Mix ...</td>\n",
       "      <td>{'Grocery &amp; Gourmet Food': 620322}</td>\n",
       "      <td>NaN</td>\n",
       "      <td>NaN</td>\n",
       "      <td>NaN</td>\n",
       "      <td>NaN</td>\n",
       "      <td>NaN</td>\n",
       "      <td>NaN</td>\n",
       "      <td>NaN</td>\n",
       "      <td>NaN</td>\n",
       "      <td>NaN</td>\n",
       "      <td>NaN</td>\n",
       "      <td>NaN</td>\n",
       "    </tr>\n",
       "    <tr>\n",
       "      <th>4</th>\n",
       "      <td>{'also_viewed': ['B006MSEOJ2', 'B005VOOQLO', '...</td>\n",
       "      <td>[[Grocery &amp; Gourmet Food]]</td>\n",
       "      <td>MiO Energy is your portable energy source givi...</td>\n",
       "      <td>http://ecx.images-amazon.com/images/I/51EUsMcn...</td>\n",
       "      <td>1453060375</td>\n",
       "      <td>Mio Energy Liquid Water Enhancer Black Cherry ...</td>\n",
       "      <td>{'Grocery &amp; Gourmet Food': 268754}</td>\n",
       "      <td>11.99</td>\n",
       "      <td>Mio</td>\n",
       "      <td>NaN</td>\n",
       "      <td>NaN</td>\n",
       "      <td>NaN</td>\n",
       "      <td>NaN</td>\n",
       "      <td>NaN</td>\n",
       "      <td>NaN</td>\n",
       "      <td>NaN</td>\n",
       "      <td>NaN</td>\n",
       "      <td>Mio</td>\n",
       "    </tr>\n",
       "  </tbody>\n",
       "</table>\n",
       "</div>"
      ],
      "text/plain": [
       "                                             related  \\\n",
       "0                    {'also_viewed': ['B001GE8N4Y']}   \n",
       "1                                                NaN   \n",
       "2                                                NaN   \n",
       "3                    {'also_viewed': ['B0051IETTY']}   \n",
       "4  {'also_viewed': ['B006MSEOJ2', 'B005VOOQLO', '...   \n",
       "\n",
       "                   categories  \\\n",
       "0  [[Grocery & Gourmet Food]]   \n",
       "1  [[Grocery & Gourmet Food]]   \n",
       "2  [[Grocery & Gourmet Food]]   \n",
       "3  [[Grocery & Gourmet Food]]   \n",
       "4  [[Grocery & Gourmet Food]]   \n",
       "\n",
       "                                         description  \\\n",
       "0  This is real vanilla extract made with only 3 ...   \n",
       "1  Silverpot Tea, Pure Darjeeling, is an exquisit...   \n",
       "2  Must have for any WWE Fan\\n \\n \\n \\nFeaturing ...   \n",
       "3  Infused with Vitamins and Electrolytes Good So...   \n",
       "4  MiO Energy is your portable energy source givi...   \n",
       "\n",
       "                                               imUrl        asin  \\\n",
       "0  http://ecx.images-amazon.com/images/I/41gFi5h0...  0657745316   \n",
       "1  http://ecx.images-amazon.com/images/I/51hs8sox...  0700026444   \n",
       "2  http://ecx.images-amazon.com/images/I/518SEST5...  1403796890   \n",
       "3  http://ecx.images-amazon.com/images/I/51CFQIis...  141278509X   \n",
       "4  http://ecx.images-amazon.com/images/I/51EUsMcn...  1453060375   \n",
       "\n",
       "                                               title  \\\n",
       "0            100 Percent All Natural Vanilla Extract   \n",
       "1                    Pure Darjeeling Tea: Loose Leaf   \n",
       "2  WWE Kids Todler Velvet Slippers featuring John...   \n",
       "3  Archer Farms Strawberry Dragonfruit Drink Mix ...   \n",
       "4  Mio Energy Liquid Water Enhancer Black Cherry ...   \n",
       "\n",
       "                            salesRank  price brand  overall reviewerName  \\\n",
       "0  {'Grocery & Gourmet Food': 374004}    NaN   NaN      NaN          NaN   \n",
       "1  {'Grocery & Gourmet Food': 620307}    NaN   NaN      NaN          NaN   \n",
       "2                                 NaN   3.99   NaN      NaN          NaN   \n",
       "3  {'Grocery & Gourmet Food': 620322}    NaN   NaN      NaN          NaN   \n",
       "4  {'Grocery & Gourmet Food': 268754}  11.99   Mio      NaN          NaN   \n",
       "\n",
       "  reviewText summary helpful reviewerID  unixReviewTime reviewTime cleanbrands  \n",
       "0        NaN     NaN     NaN        NaN             NaN        NaN         NaN  \n",
       "1        NaN     NaN     NaN        NaN             NaN        NaN         NaN  \n",
       "2        NaN     NaN     NaN        NaN             NaN        NaN         NaN  \n",
       "3        NaN     NaN     NaN        NaN             NaN        NaN         NaN  \n",
       "4        NaN     NaN     NaN        NaN             NaN        NaN         Mio  "
      ]
     },
     "execution_count": 44,
     "metadata": {},
     "output_type": "execute_result"
    }
   ],
   "source": [
    "#GET A LIST OF BRANDS TO FACILITATE MERGING WITH USDA\n",
    "st=[]\n",
    "for b in metadfmean['brand']:\n",
    "    if type(b) is float:\n",
    "        st.append(b)\n",
    "    elif type(b) is not float:\n",
    "        st.append(b.replace('&#39;',\"'\").replace('&reg;','').replace('&amp;','&'))\n",
    "metadfmean['cleanbrands']=st\n",
    "metadfmean.head()"
   ]
  },
  {
   "cell_type": "code",
   "execution_count": 45,
   "metadata": {
    "collapsed": true
   },
   "outputs": [
    {
     "name": "stdout",
     "output_type": "stream",
     "text": [
      "<class 'pandas.core.frame.DataFrame'>\n",
      "Int64Index: 314301 entries, 0 to 314300\n",
      "Data columns (total 18 columns):\n",
      "related           264646 non-null object\n",
      "categories        314301 non-null object\n",
      "description       290900 non-null object\n",
      "imUrl             313981 non-null object\n",
      "asin              314301 non-null object\n",
      "title             313967 non-null object\n",
      "salesRank         292953 non-null object\n",
      "price             232520 non-null float64\n",
      "brand             162188 non-null object\n",
      "overall           151254 non-null float64\n",
      "reviewerName      149761 non-null object\n",
      "reviewText        151254 non-null object\n",
      "summary           151254 non-null object\n",
      "helpful           151254 non-null object\n",
      "reviewerID        151254 non-null object\n",
      "unixReviewTime    151254 non-null float64\n",
      "reviewTime        151254 non-null object\n",
      "cleanbrands       162188 non-null object\n",
      "dtypes: float64(3), object(15)\n",
      "memory usage: 45.6+ MB\n"
     ]
    }
   ],
   "source": [
    "metadfmean.info()"
   ]
  },
  {
   "cell_type": "code",
   "execution_count": 52,
   "metadata": {
    "collapsed": true
   },
   "outputs": [
    {
     "data": {
      "text/plain": [
       "'This is real vanilla extract made with only 3 premium ingredients. GMO free, no fillers you find in store bought \"vanilla extract.\" \\n\\nThe taste will knock your socks off. Everyone will notice a difference in your baking and cooking and they\\'ll want to know your secret. I also use this for a special homemade coffee creamer that\\'s out of this world and I use it for tea and black coffee as well as espresso drinks. You can add this to make a vanilla latte and skip the sugary syrup for a healthier latte with more flavor! \\n\\nWhen this item arrives, there will also be instructions to refill the product as its used so that you won\\'t have to age it or repurchase it. I\\'ve been using the same vanilla for 2 years now and have friends who\\'ve had theirs for 5 years. It\\'s just as tasteful, just as sweet, strong, and yummy. \\n\\nI use only top shelf liquor and the product is aged a minimum of 4 months. \\n\\nThese also make great gifts. I currently have plenty on the shelf but they won\\'t be ready to use until February (just in time to bake your honey some sweets). Contact me for details. I also make designer jars, and can add any decorative details such as ribbon upon request. Please note, custom orders will require longer shipping and prices will vary depending on how detailed you\\'d like the jar or ribbons etc. \\n\\nMost of these will come in a small mason jar which contains approx 12-16 ounces of extract. The beans are right in the jar and I always throw in extra beans so your product will stay much longer for use in refilling. This product gets sweeter with time.. Like a fine wine it gets better with age.. So the longer you have it on the shelf the better it continues to get.'"
      ]
     },
     "execution_count": 52,
     "metadata": {},
     "output_type": "execute_result"
    }
   ],
   "source": [
    "metadfmean.description[0]"
   ]
  },
  {
   "cell_type": "code",
   "execution_count": 54,
   "metadata": {
    "collapsed": true
   },
   "outputs": [
    {
     "data": {
      "text/plain": [
       "related                                                                               {'also_viewed': ['B001GE8N4Y']}\n",
       "categories                                                                                 [[Grocery & Gourmet Food]]\n",
       "description       This is real vanilla extract made with only 3 premium ingredients. GMO free, no fillers you find...\n",
       "imUrl                                                   http://ecx.images-amazon.com/images/I/41gFi5h0jYL._SY300_.jpg\n",
       "asin                                                                                                       0657745316\n",
       "title                                                                         100 Percent All Natural Vanilla Extract\n",
       "salesRank                                                                          {'Grocery & Gourmet Food': 374004}\n",
       "price                                                                                                             NaN\n",
       "brand                                                                                                             NaN\n",
       "overall                                                                                                           NaN\n",
       "reviewerName                                                                                                      NaN\n",
       "reviewText                                                                                                        NaN\n",
       "summary                                                                                                           NaN\n",
       "helpful                                                                                                           NaN\n",
       "reviewerID                                                                                                        NaN\n",
       "unixReviewTime                                                                                                    NaN\n",
       "reviewTime                                                                                                        NaN\n",
       "cleanbrands                                                                                                       NaN\n",
       "Name: 0, dtype: object"
      ]
     },
     "execution_count": 54,
     "metadata": {},
     "output_type": "execute_result"
    }
   ],
   "source": [
    "metadfmean.iloc[0]"
   ]
  },
  {
   "cell_type": "code",
   "execution_count": 64,
   "metadata": {
    "collapsed": false
   },
   "outputs": [
    {
     "data": {
      "text/plain": [
       "[['Grocery & Gourmet Food'],\n",
       " ['Grocery & Gourmet Food'],\n",
       " ['Grocery & Gourmet Food'],\n",
       " ['Grocery & Gourmet Food'],\n",
       " ['Grocery & Gourmet Food'],\n",
       " ['Grocery & Gourmet Food'],\n",
       " ['Grocery & Gourmet Food'],\n",
       " ['Grocery & Gourmet Food'],\n",
       " ['Grocery & Gourmet Food', 'Beverages', 'Coffee', 'Coffee Substitutes'],\n",
       " ['Grocery & Gourmet Food']]"
      ]
     },
     "execution_count": 64,
     "metadata": {},
     "output_type": "execute_result"
    }
   ],
   "source": [
    "seram=[]\n",
    "for i in metadfmean.categories:#[metadfmean.categories.notnull()]:\n",
    "    seram.append(i[0])\n",
    " \n",
    "seram[:10]"
   ]
  },
  {
   "cell_type": "code",
   "execution_count": 78,
   "metadata": {
    "collapsed": false
   },
   "outputs": [
    {
     "data": {
      "text/html": [
       "<div>\n",
       "<table border=\"1\" class=\"dataframe\">\n",
       "  <thead>\n",
       "    <tr style=\"text-align: right;\">\n",
       "      <th></th>\n",
       "      <th>Maincat</th>\n",
       "      <th>cat</th>\n",
       "      <th>cat3_122</th>\n",
       "      <th>cat4_190</th>\n",
       "      <th>cat5</th>\n",
       "      <th>cat6</th>\n",
       "    </tr>\n",
       "  </thead>\n",
       "  <tbody>\n",
       "    <tr>\n",
       "      <th>0</th>\n",
       "      <td>Grocery &amp; Gourmet Food</td>\n",
       "      <td>None</td>\n",
       "      <td>None</td>\n",
       "      <td>None</td>\n",
       "      <td>None</td>\n",
       "      <td>None</td>\n",
       "    </tr>\n",
       "    <tr>\n",
       "      <th>1</th>\n",
       "      <td>Grocery &amp; Gourmet Food</td>\n",
       "      <td>None</td>\n",
       "      <td>None</td>\n",
       "      <td>None</td>\n",
       "      <td>None</td>\n",
       "      <td>None</td>\n",
       "    </tr>\n",
       "    <tr>\n",
       "      <th>2</th>\n",
       "      <td>Grocery &amp; Gourmet Food</td>\n",
       "      <td>None</td>\n",
       "      <td>None</td>\n",
       "      <td>None</td>\n",
       "      <td>None</td>\n",
       "      <td>None</td>\n",
       "    </tr>\n",
       "    <tr>\n",
       "      <th>3</th>\n",
       "      <td>Grocery &amp; Gourmet Food</td>\n",
       "      <td>None</td>\n",
       "      <td>None</td>\n",
       "      <td>None</td>\n",
       "      <td>None</td>\n",
       "      <td>None</td>\n",
       "    </tr>\n",
       "    <tr>\n",
       "      <th>4</th>\n",
       "      <td>Grocery &amp; Gourmet Food</td>\n",
       "      <td>None</td>\n",
       "      <td>None</td>\n",
       "      <td>None</td>\n",
       "      <td>None</td>\n",
       "      <td>None</td>\n",
       "    </tr>\n",
       "  </tbody>\n",
       "</table>\n",
       "</div>"
      ],
      "text/plain": [
       "                  Maincat   cat cat3_122 cat4_190  cat5  cat6\n",
       "0  Grocery & Gourmet Food  None     None     None  None  None\n",
       "1  Grocery & Gourmet Food  None     None     None  None  None\n",
       "2  Grocery & Gourmet Food  None     None     None  None  None\n",
       "3  Grocery & Gourmet Food  None     None     None  None  None\n",
       "4  Grocery & Gourmet Food  None     None     None  None  None"
      ]
     },
     "execution_count": 78,
     "metadata": {},
     "output_type": "execute_result"
    }
   ],
   "source": [
    "seramdf=pd.DataFrame(seram,columns=['Maincat','cat','cat3_122','cat4_190','cat5','cat6'])\n",
    "seramdf.head()"
   ]
  },
  {
   "cell_type": "code",
   "execution_count": 81,
   "metadata": {
    "collapsed": false
   },
   "outputs": [],
   "source": [
    "amause=metadfmean.join(seramdf)"
   ]
  },
  {
   "cell_type": "code",
   "execution_count": 88,
   "metadata": {
    "collapsed": false,
    "scrolled": true
   },
   "outputs": [
    {
     "data": {
      "text/plain": [
       "brand\n",
       "                                                   875\n",
       "&Uuml;lker                                          10\n",
       "&aacute;vitae                                      328\n",
       "&amp; Salty Popcorn Chips Baked Snacks (Pack 4)      1\n",
       "---                                                  1\n",
       "100 Calorie Packs                                   22\n",
       "100 Grand                                            3\n",
       "10K                                                  4\n",
       "123 Gluten Free                                     10\n",
       "17th Street BBQ                                      1\n",
       "18 Rabbits                                          10\n",
       "180 Snacks                                           7\n",
       "1883                                                 4\n",
       "1907                                                 1\n",
       "1st Endurance                                        3\n",
       "200000 Mg Glutathione                                1\n",
       "21st Century                                         2\n",
       "21st century snacks                                  2\n",
       "22 Days                                              8\n",
       "22 Days Nutrition                                    1\n",
       "24 Letter Mantra                                    11\n",
       "24 Mantra Organic                                    2\n",
       "3 Ballerina                                          4\n",
       "3 Ballerina Tea                                      1\n",
       "3 Ballerina Tea - Dieters Tea                        1\n",
       "3 Corazones                                          1\n",
       "3 Crab                                               1\n",
       "3 Musketeers                                        25\n",
       "3.15 pm Grain Master                                 1\n",
       "34 Degrees                                           5\n",
       "                                                  ... \n",
       "sasinee collection                                   1\n",
       "sea treasure                                         1\n",
       "shiroi koibito                                       1\n",
       "sicof                                                1\n",
       "signs up                                             1\n",
       "skybar                                               1\n",
       "smartwater                                           1\n",
       "sold by Makao Beach Trading Co.                      1\n",
       "solixir                                              2\n",
       "spiceandchili.com                                    1\n",
       "spicy king                                           1\n",
       "stacy                                                1\n",
       "steviacane                                           1\n",
       "sushihane                                            1\n",
       "tQ SPICY KING                                        1\n",
       "tahitian treat                                       1\n",
       "thegoldleafshop.com                                  1\n",
       "thinkThin                                          146\n",
       "thinkin&#39; of you                                  1\n",
       "toffee crisp                                         5\n",
       "treasuresofthesouth.com                              2\n",
       "tropical pepper                                      1\n",
       "tru sweets                                           7\n",
       "truRoots                                            51\n",
       "tsp spices                                           1\n",
       "vitaminwater                                         1\n",
       "walong marketing inc                                 1\n",
       "www.Allcoffee.com                                    2\n",
       "z                                                    1\n",
       "zaza                                                 4\n",
       "Name: title, dtype: int64"
      ]
     },
     "execution_count": 88,
     "metadata": {},
     "output_type": "execute_result"
    }
   ],
   "source": [
    "amause.groupby('brand')['title'].count()"
   ]
  },
  {
   "cell_type": "code",
   "execution_count": 93,
   "metadata": {
    "collapsed": false
   },
   "outputs": [
    {
     "data": {
      "text/plain": [
       "Index(['Bob's Red Mill', 'Green Mountain Coffee', 'Lipton', 'Barilla',\n",
       "       'Nutiva'],\n",
       "      dtype='object')"
      ]
     },
     "execution_count": 93,
     "metadata": {},
     "output_type": "execute_result"
    }
   ],
   "source": [
    "amb=amause.cleanbrands.value_counts().index \n",
    "amb[:5]\n",
    "pd.DataFrame(amb).to_csv('amb.csv')"
   ]
  },
  {
   "cell_type": "code",
   "execution_count": 98,
   "metadata": {
    "collapsed": false
   },
   "outputs": [
    {
     "name": "stdout",
     "output_type": "stream",
     "text": [
      "<class 'pandas.core.frame.DataFrame'>\n",
      "Int64Index: 314301 entries, 0 to 314300\n",
      "Data columns (total 24 columns):\n",
      "related           264646 non-null object\n",
      "categories        314301 non-null object\n",
      "description       290900 non-null object\n",
      "imUrl             313981 non-null object\n",
      "asin              314301 non-null object\n",
      "title             313967 non-null object\n",
      "salesRank         292953 non-null object\n",
      "price             232520 non-null float64\n",
      "brand             162188 non-null object\n",
      "overall           151254 non-null float64\n",
      "reviewerName      149761 non-null object\n",
      "reviewText        151254 non-null object\n",
      "summary           151254 non-null object\n",
      "helpful           151254 non-null object\n",
      "reviewerID        151254 non-null object\n",
      "unixReviewTime    151254 non-null float64\n",
      "reviewTime        151254 non-null object\n",
      "cleanbrands       162188 non-null object\n",
      "Maincat           314301 non-null object\n",
      "cat               16468 non-null object\n",
      "cat3_122          15833 non-null object\n",
      "cat4_190          10628 non-null object\n",
      "cat5              2653 non-null object\n",
      "cat6              138 non-null object\n",
      "dtypes: float64(3), object(21)\n",
      "memory usage: 59.9+ MB\n"
     ]
    }
   ],
   "source": [
    "amause.info()"
   ]
  },
  {
   "cell_type": "code",
   "execution_count": 104,
   "metadata": {
    "collapsed": false
   },
   "outputs": [
    {
     "data": {
      "text/plain": [
       "17    Just another flavor of Kit Kat but the taste is unique and a bit different.  The only thing that...\n",
       "18    I bought this on impulse and it comes from Japan,  which amused my family,  all those weird stam...\n",
       "19    Really good. Great gift for any fan of green tea! Just so expensive to purchase candy from acros...\n",
       "20    I had never had it before, was curious to see what it was like. Smooth, great subtle good flavor...\n",
       "21    I've been looking forward to trying these after hearing about how popular they were in Japan, an...\n",
       "Name: reviewText, dtype: object"
      ]
     },
     "execution_count": 104,
     "metadata": {},
     "output_type": "execute_result"
    }
   ],
   "source": [
    "amause.reviewText[amause.reviewText.notnull()].head()"
   ]
  },
  {
   "cell_type": "code",
   "execution_count": 97,
   "metadata": {
    "collapsed": false
   },
   "outputs": [
    {
     "data": {
      "text/html": [
       "<div>\n",
       "<table border=\"1\" class=\"dataframe\">\n",
       "  <thead>\n",
       "    <tr style=\"text-align: right;\">\n",
       "      <th></th>\n",
       "      <th>related</th>\n",
       "      <th>categories</th>\n",
       "      <th>description</th>\n",
       "      <th>imUrl</th>\n",
       "      <th>asin</th>\n",
       "      <th>title</th>\n",
       "      <th>salesRank</th>\n",
       "      <th>price</th>\n",
       "      <th>brand</th>\n",
       "      <th>overall</th>\n",
       "      <th>...</th>\n",
       "      <th>reviewerID</th>\n",
       "      <th>unixReviewTime</th>\n",
       "      <th>reviewTime</th>\n",
       "      <th>cleanbrands</th>\n",
       "      <th>Maincat</th>\n",
       "      <th>cat</th>\n",
       "      <th>cat3_122</th>\n",
       "      <th>cat4_190</th>\n",
       "      <th>cat5</th>\n",
       "      <th>cat6</th>\n",
       "    </tr>\n",
       "  </thead>\n",
       "  <tbody>\n",
       "    <tr>\n",
       "      <th>0</th>\n",
       "      <td>{'also_viewed': ['B001GE8N4Y']}</td>\n",
       "      <td>[[Grocery &amp; Gourmet Food]]</td>\n",
       "      <td>This is real vanilla extract made with only 3 premium ingredients. GMO free, no fillers you find...</td>\n",
       "      <td>http://ecx.images-amazon.com/images/I/41gFi5h0jYL._SY300_.jpg</td>\n",
       "      <td>0657745316</td>\n",
       "      <td>100 Percent All Natural Vanilla Extract</td>\n",
       "      <td>{'Grocery &amp; Gourmet Food': 374004}</td>\n",
       "      <td>NaN</td>\n",
       "      <td>NaN</td>\n",
       "      <td>NaN</td>\n",
       "      <td>...</td>\n",
       "      <td>NaN</td>\n",
       "      <td>NaN</td>\n",
       "      <td>NaN</td>\n",
       "      <td>NaN</td>\n",
       "      <td>Grocery &amp; Gourmet Food</td>\n",
       "      <td>None</td>\n",
       "      <td>None</td>\n",
       "      <td>None</td>\n",
       "      <td>None</td>\n",
       "      <td>None</td>\n",
       "    </tr>\n",
       "    <tr>\n",
       "      <th>1</th>\n",
       "      <td>NaN</td>\n",
       "      <td>[[Grocery &amp; Gourmet Food]]</td>\n",
       "      <td>Silverpot Tea, Pure Darjeeling, is an exquisite tea enjoyed at leisure, when you want to relax o...</td>\n",
       "      <td>http://ecx.images-amazon.com/images/I/51hs8sox%2BJL._SY300_.jpg</td>\n",
       "      <td>0700026444</td>\n",
       "      <td>Pure Darjeeling Tea: Loose Leaf</td>\n",
       "      <td>{'Grocery &amp; Gourmet Food': 620307}</td>\n",
       "      <td>NaN</td>\n",
       "      <td>NaN</td>\n",
       "      <td>NaN</td>\n",
       "      <td>...</td>\n",
       "      <td>NaN</td>\n",
       "      <td>NaN</td>\n",
       "      <td>NaN</td>\n",
       "      <td>NaN</td>\n",
       "      <td>Grocery &amp; Gourmet Food</td>\n",
       "      <td>None</td>\n",
       "      <td>None</td>\n",
       "      <td>None</td>\n",
       "      <td>None</td>\n",
       "      <td>None</td>\n",
       "    </tr>\n",
       "    <tr>\n",
       "      <th>2</th>\n",
       "      <td>NaN</td>\n",
       "      <td>[[Grocery &amp; Gourmet Food]]</td>\n",
       "      <td>Must have for any WWE Fan\\n \\n \\n \\nFeaturing John Cena slippers \\n\\nmade of velvet\\n \\ncolor Bl...</td>\n",
       "      <td>http://ecx.images-amazon.com/images/I/518SEST5DqL._SY300_.jpg</td>\n",
       "      <td>1403796890</td>\n",
       "      <td>WWE Kids Todler Velvet Slippers featuring John Cena size 7/8 Infants COLOR Black -</td>\n",
       "      <td>NaN</td>\n",
       "      <td>3.99</td>\n",
       "      <td>NaN</td>\n",
       "      <td>NaN</td>\n",
       "      <td>...</td>\n",
       "      <td>NaN</td>\n",
       "      <td>NaN</td>\n",
       "      <td>NaN</td>\n",
       "      <td>NaN</td>\n",
       "      <td>Grocery &amp; Gourmet Food</td>\n",
       "      <td>None</td>\n",
       "      <td>None</td>\n",
       "      <td>None</td>\n",
       "      <td>None</td>\n",
       "      <td>None</td>\n",
       "    </tr>\n",
       "    <tr>\n",
       "      <th>3</th>\n",
       "      <td>{'also_viewed': ['B0051IETTY']}</td>\n",
       "      <td>[[Grocery &amp; Gourmet Food]]</td>\n",
       "      <td>Infused with Vitamins and Electrolytes Good Source of Calcium</td>\n",
       "      <td>http://ecx.images-amazon.com/images/I/51CFQIisucL._SY300_.jpg</td>\n",
       "      <td>141278509X</td>\n",
       "      <td>Archer Farms Strawberry Dragonfruit Drink Mix 8-0.16 Oz Packets</td>\n",
       "      <td>{'Grocery &amp; Gourmet Food': 620322}</td>\n",
       "      <td>NaN</td>\n",
       "      <td>NaN</td>\n",
       "      <td>NaN</td>\n",
       "      <td>...</td>\n",
       "      <td>NaN</td>\n",
       "      <td>NaN</td>\n",
       "      <td>NaN</td>\n",
       "      <td>NaN</td>\n",
       "      <td>Grocery &amp; Gourmet Food</td>\n",
       "      <td>None</td>\n",
       "      <td>None</td>\n",
       "      <td>None</td>\n",
       "      <td>None</td>\n",
       "      <td>None</td>\n",
       "    </tr>\n",
       "    <tr>\n",
       "      <th>4</th>\n",
       "      <td>{'also_viewed': ['B006MSEOJ2', 'B005VOOQLO', 'B005VOOQKA', 'B00C121U9A', 'B00CEPYH6W', 'B009T6U1...</td>\n",
       "      <td>[[Grocery &amp; Gourmet Food]]</td>\n",
       "      <td>MiO Energy is your portable energy source giving you energy whenever and wherever you need it!\\n...</td>\n",
       "      <td>http://ecx.images-amazon.com/images/I/51EUsMcnVVL._SX300_.jpg</td>\n",
       "      <td>1453060375</td>\n",
       "      <td>Mio Energy Liquid Water Enhancer Black Cherry &amp;amp; Green Thunder 1.62oz</td>\n",
       "      <td>{'Grocery &amp; Gourmet Food': 268754}</td>\n",
       "      <td>11.99</td>\n",
       "      <td>Mio</td>\n",
       "      <td>NaN</td>\n",
       "      <td>...</td>\n",
       "      <td>NaN</td>\n",
       "      <td>NaN</td>\n",
       "      <td>NaN</td>\n",
       "      <td>Mio</td>\n",
       "      <td>Grocery &amp; Gourmet Food</td>\n",
       "      <td>None</td>\n",
       "      <td>None</td>\n",
       "      <td>None</td>\n",
       "      <td>None</td>\n",
       "      <td>None</td>\n",
       "    </tr>\n",
       "  </tbody>\n",
       "</table>\n",
       "<p>5 rows × 24 columns</p>\n",
       "</div>"
      ],
      "text/plain": [
       "                                                                                               related  \\\n",
       "0                                                                      {'also_viewed': ['B001GE8N4Y']}   \n",
       "1                                                                                                  NaN   \n",
       "2                                                                                                  NaN   \n",
       "3                                                                      {'also_viewed': ['B0051IETTY']}   \n",
       "4  {'also_viewed': ['B006MSEOJ2', 'B005VOOQLO', 'B005VOOQKA', 'B00C121U9A', 'B00CEPYH6W', 'B009T6U1...   \n",
       "\n",
       "                   categories  \\\n",
       "0  [[Grocery & Gourmet Food]]   \n",
       "1  [[Grocery & Gourmet Food]]   \n",
       "2  [[Grocery & Gourmet Food]]   \n",
       "3  [[Grocery & Gourmet Food]]   \n",
       "4  [[Grocery & Gourmet Food]]   \n",
       "\n",
       "                                                                                           description  \\\n",
       "0  This is real vanilla extract made with only 3 premium ingredients. GMO free, no fillers you find...   \n",
       "1  Silverpot Tea, Pure Darjeeling, is an exquisite tea enjoyed at leisure, when you want to relax o...   \n",
       "2  Must have for any WWE Fan\\n \\n \\n \\nFeaturing John Cena slippers \\n\\nmade of velvet\\n \\ncolor Bl...   \n",
       "3                                        Infused with Vitamins and Electrolytes Good Source of Calcium   \n",
       "4  MiO Energy is your portable energy source giving you energy whenever and wherever you need it!\\n...   \n",
       "\n",
       "                                                             imUrl  \\\n",
       "0    http://ecx.images-amazon.com/images/I/41gFi5h0jYL._SY300_.jpg   \n",
       "1  http://ecx.images-amazon.com/images/I/51hs8sox%2BJL._SY300_.jpg   \n",
       "2    http://ecx.images-amazon.com/images/I/518SEST5DqL._SY300_.jpg   \n",
       "3    http://ecx.images-amazon.com/images/I/51CFQIisucL._SY300_.jpg   \n",
       "4    http://ecx.images-amazon.com/images/I/51EUsMcnVVL._SX300_.jpg   \n",
       "\n",
       "         asin  \\\n",
       "0  0657745316   \n",
       "1  0700026444   \n",
       "2  1403796890   \n",
       "3  141278509X   \n",
       "4  1453060375   \n",
       "\n",
       "                                                                                title  \\\n",
       "0                                             100 Percent All Natural Vanilla Extract   \n",
       "1                                                     Pure Darjeeling Tea: Loose Leaf   \n",
       "2  WWE Kids Todler Velvet Slippers featuring John Cena size 7/8 Infants COLOR Black -   \n",
       "3                     Archer Farms Strawberry Dragonfruit Drink Mix 8-0.16 Oz Packets   \n",
       "4            Mio Energy Liquid Water Enhancer Black Cherry &amp; Green Thunder 1.62oz   \n",
       "\n",
       "                            salesRank  price brand  overall  ...  reviewerID  \\\n",
       "0  {'Grocery & Gourmet Food': 374004}    NaN   NaN      NaN  ...         NaN   \n",
       "1  {'Grocery & Gourmet Food': 620307}    NaN   NaN      NaN  ...         NaN   \n",
       "2                                 NaN   3.99   NaN      NaN  ...         NaN   \n",
       "3  {'Grocery & Gourmet Food': 620322}    NaN   NaN      NaN  ...         NaN   \n",
       "4  {'Grocery & Gourmet Food': 268754}  11.99   Mio      NaN  ...         NaN   \n",
       "\n",
       "  unixReviewTime reviewTime cleanbrands                 Maincat   cat  \\\n",
       "0            NaN        NaN         NaN  Grocery & Gourmet Food  None   \n",
       "1            NaN        NaN         NaN  Grocery & Gourmet Food  None   \n",
       "2            NaN        NaN         NaN  Grocery & Gourmet Food  None   \n",
       "3            NaN        NaN         NaN  Grocery & Gourmet Food  None   \n",
       "4            NaN        NaN         Mio  Grocery & Gourmet Food  None   \n",
       "\n",
       "  cat3_122 cat4_190  cat5  cat6  \n",
       "0     None     None  None  None  \n",
       "1     None     None  None  None  \n",
       "2     None     None  None  None  \n",
       "3     None     None  None  None  \n",
       "4     None     None  None  None  \n",
       "\n",
       "[5 rows x 24 columns]"
      ]
     },
     "execution_count": 97,
     "metadata": {},
     "output_type": "execute_result"
    }
   ],
   "source": [
    "amause.head()"
   ]
  },
  {
   "cell_type": "markdown",
   "metadata": {},
   "source": [
    "# Natural Language Processing\n",
    "## packages"
   ]
  },
  {
   "cell_type": "code",
   "execution_count": 105,
   "metadata": {
    "collapsed": false
   },
   "outputs": [
    {
     "data": {
      "text/plain": [
       "151254"
      ]
     },
     "execution_count": 105,
     "metadata": {},
     "output_type": "execute_result"
    }
   ],
   "source": [
    "amareviews=amause[amause.reviewText.notnull()]\n",
    "len(amareviews)"
   ]
  },
  {
   "cell_type": "code",
   "execution_count": 167,
   "metadata": {
    "collapsed": false
   },
   "outputs": [
    {
     "name": "stderr",
     "output_type": "stream",
     "text": [
      "/Users/meleciawright/anaconda/lib/python3.5/site-packages/ipykernel/__main__.py:1: SettingWithCopyWarning: \n",
      "A value is trying to be set on a copy of a slice from a DataFrame.\n",
      "Try using .loc[row_indexer,col_indexer] = value instead\n",
      "\n",
      "See the caveats in the documentation: http://pandas.pydata.org/pandas-docs/stable/indexing.html#indexing-view-versus-copy\n",
      "  if __name__ == '__main__':\n"
     ]
    }
   ],
   "source": [
    "amareviews['bistar'] = np.where(amareviews['overall']>4, 1, 0) "
   ]
  },
  {
   "cell_type": "code",
   "execution_count": 238,
   "metadata": {
    "collapsed": false
   },
   "outputs": [
    {
     "data": {
      "text/plain": [
       "Grocery & Gourmet Food    151254\n",
       "Name: Maincat, dtype: int64"
      ]
     },
     "execution_count": 238,
     "metadata": {},
     "output_type": "execute_result"
    }
   ],
   "source": [
    "amareviews.Maincat.value_counts()"
   ]
  },
  {
   "cell_type": "code",
   "execution_count": 239,
   "metadata": {
    "collapsed": false
   },
   "outputs": [
    {
     "data": {
      "text/plain": [
       "Cooking & Baking                      1668\n",
       "Beverages                             1420\n",
       "Canned, Dry & Packaged Foods           910\n",
       "Baby Foods                             656\n",
       "Snack Foods                            315\n",
       "Candy & Chocolate                      236\n",
       "Breakfast Foods                        208\n",
       "Gourmet Gifts                            7\n",
       "Fresh Flowers & Live Indoor Plants       5\n",
       "Name: cat, dtype: int64"
      ]
     },
     "execution_count": 239,
     "metadata": {},
     "output_type": "execute_result"
    }
   ],
   "source": [
    "amareviews.cat.value_counts()"
   ]
  },
  {
   "cell_type": "code",
   "execution_count": 240,
   "metadata": {
    "collapsed": false
   },
   "outputs": [
    {
     "data": {
      "text/plain": [
       "Tea                                 648\n",
       "Herbs, Spices & Seasonings          622\n",
       "Baby Formula                        533\n",
       "Cooking Oils, Vinegars & Sprays     511\n",
       "Coffee                              309\n",
       "Sugar Substitutes                   304\n",
       "Syrups, Sugars & Sweeteners         290\n",
       "Nuts & Seeds                        263\n",
       "Breakfast & Cereal Bars             177\n",
       "Jams, Jellies & Sweet Spreads       165\n",
       "Chewing Gum                         149\n",
       "Soda Syrups                         135\n",
       "Meal Replacement Drinks             108\n",
       "Fruit Leather                        85\n",
       "Fruit                                81\n",
       "Popcorn                              77\n",
       "Leaveners & Yeasts                   76\n",
       "Frosting, Icing & Decorations        70\n",
       "Powdered Drink Mixes                 63\n",
       "Flours & Meals                       57\n",
       "Packaged Meals & Side Dishes         50\n",
       "Hot Cocoa                            43\n",
       "Canned & Jarred Food                 43\n",
       "Fruit Snacks                         38\n",
       "Cereals                              31\n",
       "Pudding & Gelatin                    29\n",
       "Beverages                            28\n",
       "Assortments                          28\n",
       "Food Coloring                        21\n",
       "Granola & Trail Mix Bars             21\n",
       "Energy Drinks                        19\n",
       "Caramels                             19\n",
       "Crackers                             18\n",
       "Soft Drinks                          17\n",
       "Cookies                              15\n",
       "Party Mix                            13\n",
       "Water                                13\n",
       "Juices                               12\n",
       "Baking Mixes                         12\n",
       "Condiments, Pickles & Relishes       11\n",
       "Sauces, Gravies & Marinades          10\n",
       "Pasta & Noodles                       9\n",
       "Halva                                 9\n",
       "Applesauce & Fruit Cups               9\n",
       "Gummy Candy                           8\n",
       "Chips & Crisps                        7\n",
       "Baking Chocolates, Carob & Cocoa      6\n",
       "Ginger Candy                          6\n",
       "Sports Drinks                         6\n",
       "Hard Candy                            6\n",
       "Licorice                              6\n",
       "Live Indoor Plants                    5\n",
       "Jerky & Dried Meats                   5\n",
       "Rice Cakes, Chips & Crackers          5\n",
       "Bars                                  5\n",
       "Pretzels                              5\n",
       "Name: cat3_122, dtype: int64"
      ]
     },
     "execution_count": 240,
     "metadata": {},
     "output_type": "execute_result"
    }
   ],
   "source": [
    "amareviews.cat3_122.value_counts()"
   ]
  },
  {
   "cell_type": "code",
   "execution_count": 234,
   "metadata": {
    "collapsed": false
   },
   "outputs": [
    {
     "name": "stdout",
     "output_type": "stream",
     "text": [
      "<class 'pandas.core.frame.DataFrame'>\n",
      "Int64Index: 151254 entries, 17 to 314036\n",
      "Data columns (total 25 columns):\n",
      "related           145832 non-null object\n",
      "categories        151254 non-null object\n",
      "description       147553 non-null object\n",
      "imUrl             151065 non-null object\n",
      "asin              151254 non-null object\n",
      "title             151065 non-null object\n",
      "salesRank         144292 non-null object\n",
      "price             126734 non-null float64\n",
      "brand             104238 non-null object\n",
      "overall           151254 non-null float64\n",
      "reviewerName      149761 non-null object\n",
      "reviewText        151254 non-null object\n",
      "summary           151254 non-null object\n",
      "helpful           151254 non-null object\n",
      "reviewerID        151254 non-null object\n",
      "unixReviewTime    151254 non-null float64\n",
      "reviewTime        151254 non-null object\n",
      "cleanbrands       104238 non-null object\n",
      "Maincat           151254 non-null object\n",
      "cat               5425 non-null object\n",
      "cat3_122          5311 non-null object\n",
      "cat4_190          3402 non-null object\n",
      "cat5              1036 non-null object\n",
      "cat6              5 non-null object\n",
      "bistar            151254 non-null int64\n",
      "dtypes: float64(3), int64(1), object(21)\n",
      "memory usage: 30.0+ MB\n"
     ]
    }
   ],
   "source": [
    "amareviews.info()"
   ]
  },
  {
   "cell_type": "code",
   "execution_count": 149,
   "metadata": {
    "collapsed": false
   },
   "outputs": [
    {
     "data": {
      "text/plain": [
       "['Tea',\n",
       " 'Herbs, Spices & Seasonings',\n",
       " 'Baby Formula',\n",
       " 'Cooking Oils, Vinegars & Sprays',\n",
       " 'Coffee']"
      ]
     },
     "execution_count": 149,
     "metadata": {},
     "output_type": "execute_result"
    }
   ],
   "source": [
    "catind=amareviews.cat3_122.value_counts().index.tolist()\n",
    "for i,val in enumerate(catind):\n",
    "    catind[i]=val.lower()\n",
    "catind[:5]"
   ]
  },
  {
   "cell_type": "code",
   "execution_count": 153,
   "metadata": {
    "collapsed": true
   },
   "outputs": [],
   "source": [
    "(pd.DataFrame(catind)).to_csv('catind.csv')"
   ]
  },
  {
   "cell_type": "code",
   "execution_count": 271,
   "metadata": {
    "collapsed": false
   },
   "outputs": [],
   "source": [
    "short=[('tomato'and'sauce'),\n",
    "                 'bread', 'flour','pasta','noodle',\n",
    "            'creamer',\n",
    "             'soda', 'soft drink' , 'drink' , 'beverage',\n",
    "             'candy','ice cream',\n",
    "             'juice','yogurt','ketchup',\n",
    " 'peanut' , 'walnut' , 'cashew' , 'macadamia' , 'pecans' ,\n",
    "'salsa',  \n",
    "'cracker' , 'cake' , 'cookie' , 'bak','frosting', ('can'and 'beans'),\n",
    "('protein' and 'bar'),             ('energy' and 'bar'),\n",
    "'cereal','granola', 'oatmeal' ,'chips' ,'crisps']\n",
    " "
   ]
  },
  {
   "cell_type": "code",
   "execution_count": 289,
   "metadata": {
    "collapsed": true
   },
   "outputs": [],
   "source": [
    "shortlist=[('tomato'and'sauce'), ('can'and 'beans'),\n",
    "('protein' and 'bar'),             ('energy' and 'bar'),\n",
    "                 'bread', 'pasta','noodle',\n",
    "            'creamer',\n",
    "             'soda', 'soft drink' , 'drink' , 'beverage',\n",
    "             'candy','ice cream',\n",
    "'cracker' , 'cake' , 'cookie' , 'frosting',\n",
    "             'juice','yogurt','ketchup','salsa',  \n",
    " 'peanut' , 'walnut' , 'cashew' , 'macadamia' , 'pecans' ,\n",
    "\n",
    "'cereal','granola', 'oatmeal' ,'chips' ,'crisps', 'chocolate','seed' ]\n",
    " "
   ]
  },
  {
   "cell_type": "code",
   "execution_count": 216,
   "metadata": {
    "collapsed": true
   },
   "outputs": [],
   "source": [
    "amti=metadfmean[metadfmean.title.notnull()]"
   ]
  },
  {
   "cell_type": "code",
   "execution_count": 272,
   "metadata": {
    "collapsed": false
   },
   "outputs": [],
   "source": [
    "al={} \n",
    "for j in short:\n",
    "    ticat=[]\n",
    "    for i in amti.title:\n",
    "        if j in i.lower():ticat.append(i)\n",
    "        else:continue \n",
    "    al[j]=ticat\n",
    " al={} \n",
    "for i in amti.title:\n",
    "    for j in short:\n",
    "        ticat=[]\n",
    "        if j in i.lower():al[j]=i\n",
    "        else:continue \n",
    "    al[j]=ticat\n",
    " dicount=[]\n",
    "for i in al:\n",
    "    dicount.append([i,len(al[i])])\n",
    "dicount"
   ]
  },
  {
   "cell_type": "code",
   "execution_count": null,
   "metadata": {
    "collapsed": true
   },
   "outputs": [],
   "source": [
    "shortlist=[('tomato'and'sauce'), ('can'and 'beans'),\n",
    "('protein' and 'bar'),             ('energy' and 'bar'),\n",
    "                 'bread', 'pasta','noodle',\n",
    "            'creamer',\n",
    "             'soda', 'soft drink' , 'drink' , 'beverage',\n",
    "             'candy','ice cream',\n",
    "'cracker' , 'cake' , 'cookie' , 'frosting',\n",
    "             'juice','yogurt','ketchup','salsa',  \n",
    " 'peanut' , 'walnut' , 'cashew' , 'macadamia' , 'pecans' ,\n",
    "\n",
    "'cereal','granola', 'oatmeal' ,'chips' ,'crisps', 'chocolate','seed' ]\n",
    " "
   ]
  },
  {
   "cell_type": "code",
   "execution_count": 301,
   "metadata": {
    "collapsed": true
   },
   "outputs": [
    {
     "name": "stdout",
     "output_type": "stream",
     "text": [
      "The history saving thread hit an unexpected error (OperationalError('unable to open database file',)).History will not be written to the database.\n"
     ]
    },
    {
     "ename": "KeyboardInterrupt",
     "evalue": "",
     "output_type": "error",
     "traceback": [
      "\u001b[0;31m---------------------------------------------------------------------------\u001b[0m",
      "\u001b[0;31mKeyboardInterrupt\u001b[0m                         Traceback (most recent call last)",
      "\u001b[0;32m<ipython-input-301-3eae26afab7b>\u001b[0m in \u001b[0;36m<module>\u001b[0;34m()\u001b[0m\n\u001b[1;32m      6\u001b[0m         \u001b[0;32mfor\u001b[0m \u001b[0mpos\u001b[0m \u001b[0;32min\u001b[0m \u001b[0mrange\u001b[0m\u001b[0;34m(\u001b[0m\u001b[0mlen\u001b[0m\u001b[0;34m(\u001b[0m\u001b[0mamti\u001b[0m\u001b[0;34m.\u001b[0m\u001b[0mtitle\u001b[0m\u001b[0;34m)\u001b[0m\u001b[0;34m-\u001b[0m\u001b[0;36m1\u001b[0m\u001b[0;34m)\u001b[0m\u001b[0;34m:\u001b[0m\u001b[0;34m\u001b[0m\u001b[0m\n\u001b[1;32m      7\u001b[0m             \u001b[0;32mif\u001b[0m \u001b[0;34m(\u001b[0m\u001b[0mj\u001b[0m \u001b[0;32mnot\u001b[0m \u001b[0;32min\u001b[0m \u001b[0mi\u001b[0m\u001b[0;34m.\u001b[0m\u001b[0mlower\u001b[0m\u001b[0;34m(\u001b[0m\u001b[0;34m)\u001b[0m\u001b[0;34m)\u001b[0m\u001b[0;34m:\u001b[0m\u001b[0mmelcat\u001b[0m\u001b[0;34m.\u001b[0m\u001b[0mappend\u001b[0m\u001b[0;34m(\u001b[0m\u001b[0;32mNone\u001b[0m\u001b[0;34m)\u001b[0m\u001b[0;34m\u001b[0m\u001b[0m\n\u001b[0;32m----> 8\u001b[0;31m             \u001b[0;32melif\u001b[0m \u001b[0;34m(\u001b[0m\u001b[0mj\u001b[0m \u001b[0;32min\u001b[0m \u001b[0mi\u001b[0m\u001b[0;34m.\u001b[0m\u001b[0mlower\u001b[0m\u001b[0;34m(\u001b[0m\u001b[0;34m)\u001b[0m\u001b[0;34m)\u001b[0m \u001b[0;32mand\u001b[0m \u001b[0mmelcat\u001b[0m\u001b[0;34m[\u001b[0m\u001b[0mpos\u001b[0m\u001b[0;34m]\u001b[0m \u001b[0;32mis\u001b[0m \u001b[0;32mNone\u001b[0m\u001b[0;34m:\u001b[0m\u001b[0mmelcat\u001b[0m\u001b[0;34m.\u001b[0m\u001b[0mappend\u001b[0m\u001b[0;34m(\u001b[0m\u001b[0mi\u001b[0m\u001b[0;34m)\u001b[0m\u001b[0;34m\u001b[0m\u001b[0m\n\u001b[0m\u001b[1;32m      9\u001b[0m \u001b[0mlen\u001b[0m\u001b[0;34m(\u001b[0m\u001b[0mmelcat\u001b[0m\u001b[0;34m)\u001b[0m\u001b[0;34m\u001b[0m\u001b[0m\n",
      "\u001b[0;31mKeyboardInterrupt\u001b[0m: "
     ]
    }
   ],
   "source": [
    "al={} \n",
    "melcat=[]\n",
    "for j in [('tomato'and'sauce')]:\n",
    "    for i in amti.title:\n",
    "        for pos in range(len(amti.title)-1):\n",
    "            if (j not in i.lower()):melcat.append(None)\n",
    "            elif (j in i.lower()) and melcat[pos] is None:melcat.append(i)\n",
    "len(melcat) "
   ]
  },
  {
   "cell_type": "code",
   "execution_count": 303,
   "metadata": {
    "collapsed": false
   },
   "outputs": [
    {
     "data": {
      "text/html": [
       "<div>\n",
       "<table border=\"1\" class=\"dataframe\">\n",
       "  <thead>\n",
       "    <tr style=\"text-align: right;\">\n",
       "      <th></th>\n",
       "      <th>categories</th>\n",
       "      <th>review_count</th>\n",
       "    </tr>\n",
       "  </thead>\n",
       "  <tbody>\n",
       "    <tr>\n",
       "      <th>0</th>\n",
       "      <td>[fast_food, restaurant]</td>\n",
       "      <td>137</td>\n",
       "    </tr>\n",
       "    <tr>\n",
       "      <th>2</th>\n",
       "      <td>[burger, restaurant]</td>\n",
       "      <td>390</td>\n",
       "    </tr>\n",
       "  </tbody>\n",
       "</table>\n",
       "</div>"
      ],
      "text/plain": [
       "                categories  review_count\n",
       "0  [fast_food, restaurant]           137\n",
       "2     [burger, restaurant]           390"
      ]
     },
     "execution_count": 303,
     "metadata": {},
     "output_type": "execute_result"
    }
   ],
   "source": [
    "categories = [['fast_food', 'restaurant'], ['coffee', 'cafe'], ['burger', 'restaurant']]\n",
    "counts = [137, 176, 390]\n",
    "aadf = pd.DataFrame({'categories': categories, 'review_count': counts})\n",
    "# Show which rows contain 'restaurant'\n",
    "aadf.categories.map(lambda x: 'restaurant' in x)\n",
    "# Subset the dataframe using this:\n",
    "aadf[aadf.categories.map(lambda x: 'restaurant' in x)]"
   ]
  },
  {
   "cell_type": "code",
   "execution_count": 310,
   "metadata": {
    "collapsed": false
   },
   "outputs": [
    {
     "name": "stderr",
     "output_type": "stream",
     "text": [
      "/Users/meleciawright/anaconda/lib/python3.5/site-packages/ipykernel/__main__.py:2: SettingWithCopyWarning: \n",
      "A value is trying to be set on a copy of a slice from a DataFrame.\n",
      "Try using .loc[row_indexer,col_indexer] = value instead\n",
      "\n",
      "See the caveats in the documentation: http://pandas.pydata.org/pandas-docs/stable/indexing.html#indexing-view-versus-copy\n",
      "  from ipykernel import kernelapp as app\n"
     ]
    }
   ],
   "source": [
    "amtidf=metadfmean[metadfmean.title.notnull()]\n",
    "amtidf['icecream']=1*amtidf['title'].str.contains(\"ice cream\")"
   ]
  },
  {
   "cell_type": "code",
   "execution_count": 319,
   "metadata": {
    "collapsed": false,
    "scrolled": true
   },
   "outputs": [
    {
     "name": "stderr",
     "output_type": "stream",
     "text": [
      "/Users/meleciawright/anaconda/lib/python3.5/site-packages/ipykernel/__main__.py:1: SettingWithCopyWarning: \n",
      "A value is trying to be set on a copy of a slice from a DataFrame.\n",
      "Try using .loc[row_indexer,col_indexer] = value instead\n",
      "\n",
      "See the caveats in the documentation: http://pandas.pydata.org/pandas-docs/stable/indexing.html#indexing-view-versus-copy\n",
      "  if __name__ == '__main__':\n"
     ]
    }
   ],
   "source": [
    "amtidf['sauce']=amtidf.ix[:,'title'].str.contains('sauce')"
   ]
  },
  {
   "cell_type": "code",
   "execution_count": 4,
   "metadata": {
    "collapsed": true
   },
   "outputs": [],
   "source": [
    "amtidf=amawed[amawed.title.notnull()]"
   ]
  },
  {
   "cell_type": "code",
   "execution_count": 5,
   "metadata": {
    "collapsed": false
   },
   "outputs": [
    {
     "name": "stderr",
     "output_type": "stream",
     "text": [
      "/Users/meleciawright/anaconda/lib/python3.5/site-packages/ipykernel/__main__.py:1: SettingWithCopyWarning: \n",
      "A value is trying to be set on a copy of a slice from a DataFrame.\n",
      "Try using .loc[row_indexer,col_indexer] = value instead\n",
      "\n",
      "See the caveats in the documentation: http://pandas.pydata.org/pandas-docs/stable/indexing.html#indexing-view-versus-copy\n",
      "  if __name__ == '__main__':\n",
      "/Users/meleciawright/anaconda/lib/python3.5/site-packages/pandas/core/indexing.py:465: SettingWithCopyWarning: \n",
      "A value is trying to be set on a copy of a slice from a DataFrame.\n",
      "Try using .loc[row_indexer,col_indexer] = value instead\n",
      "\n",
      "See the caveats in the documentation: http://pandas.pydata.org/pandas-docs/stable/indexing.html#indexing-view-versus-copy\n",
      "  self.obj[item] = s\n"
     ]
    }
   ],
   "source": [
    "amtidf['newcat']=amtidf.loc[amtidf.title.str.contains('cashew')]='cashew'"
   ]
  },
  {
   "cell_type": "code",
   "execution_count": 6,
   "metadata": {
    "collapsed": false
   },
   "outputs": [
    {
     "name": "stderr",
     "output_type": "stream",
     "text": [
      "/Users/meleciawright/anaconda/lib/python3.5/site-packages/ipykernel/__main__.py:1: SettingWithCopyWarning: \n",
      "A value is trying to be set on a copy of a slice from a DataFrame.\n",
      "Try using .loc[row_indexer,col_indexer] = value instead\n",
      "\n",
      "See the caveats in the documentation: http://pandas.pydata.org/pandas-docs/stable/indexing.html#indexing-view-versus-copy\n",
      "  if __name__ == '__main__':\n",
      "/Users/meleciawright/anaconda/lib/python3.5/site-packages/pandas/core/indexing.py:132: SettingWithCopyWarning: \n",
      "A value is trying to be set on a copy of a slice from a DataFrame\n",
      "\n",
      "See the caveats in the documentation: http://pandas.pydata.org/pandas-docs/stable/indexing.html#indexing-view-versus-copy\n",
      "  self._setitem_with_indexer(indexer, value)\n",
      "/Users/meleciawright/anaconda/lib/python3.5/site-packages/ipykernel/__main__.py:1: SettingWithCopyWarning: \n",
      "A value is trying to be set on a copy of a slice from a DataFrame\n",
      "\n",
      "See the caveats in the documentation: http://pandas.pydata.org/pandas-docs/stable/indexing.html#indexing-view-versus-copy\n",
      "  if __name__ == '__main__':\n"
     ]
    }
   ],
   "source": [
    "amtidf['newcat']=amtidf.loc[amtidf.title.str.contains('chocolate')]='chocolate'"
   ]
  },
  {
   "cell_type": "code",
   "execution_count": 20,
   "metadata": {
    "collapsed": false
   },
   "outputs": [
    {
     "name": "stderr",
     "output_type": "stream",
     "text": [
      "/Users/meleciawright/anaconda/lib/python3.5/site-packages/pandas/core/indexing.py:132: SettingWithCopyWarning: \n",
      "A value is trying to be set on a copy of a slice from a DataFrame\n",
      "\n",
      "See the caveats in the documentation: http://pandas.pydata.org/pandas-docs/stable/indexing.html#indexing-view-versus-copy\n",
      "  self._setitem_with_indexer(indexer, value)\n",
      "/Users/meleciawright/anaconda/lib/python3.5/site-packages/ipykernel/__main__.py:2: SettingWithCopyWarning: \n",
      "A value is trying to be set on a copy of a slice from a DataFrame\n",
      "\n",
      "See the caveats in the documentation: http://pandas.pydata.org/pandas-docs/stable/indexing.html#indexing-view-versus-copy\n",
      "  from ipykernel import kernelapp as app\n"
     ]
    },
    {
     "data": {
      "text/plain": [
       "count      1742\n",
       "unique        2\n",
       "top       bread\n",
       "freq       1582\n",
       "Name: newcat2, dtype: object"
      ]
     },
     "execution_count": 20,
     "metadata": {},
     "output_type": "execute_result"
    }
   ],
   "source": [
    "#amtidf['newcat']=amtidf.loc[amtidf.title.str.contains('chocolate')]='chocolate'\n",
    "amtidf.loc[amtidf['title'].str.contains(\"bread\"),'newcat2'] = 'bread'\n",
    "\n",
    "amtidf.newcat2.describe()"
   ]
  },
  {
   "cell_type": "code",
   "execution_count": 21,
   "metadata": {
    "collapsed": false
   },
   "outputs": [
    {
     "data": {
      "text/plain": [
       "bread        1582\n",
       "chocolate     160\n",
       "Name: newcat2, dtype: int64"
      ]
     },
     "execution_count": 21,
     "metadata": {},
     "output_type": "execute_result"
    }
   ],
   "source": [
    "amtidf.newcat2.value_counts()"
   ]
  },
  {
   "cell_type": "code",
   "execution_count": 22,
   "metadata": {
    "collapsed": true
   },
   "outputs": [],
   "source": [
    "bread=amtidf[amtidf.newcat2=='bread']"
   ]
  },
  {
   "cell_type": "code",
   "execution_count": 23,
   "metadata": {
    "collapsed": true
   },
   "outputs": [],
   "source": [
    "bread.to_csv('bread.csv')"
   ]
  },
  {
   "cell_type": "code",
   "execution_count": 24,
   "metadata": {
    "collapsed": false
   },
   "outputs": [
    {
     "data": {
      "text/plain": [
       "1582"
      ]
     },
     "execution_count": 24,
     "metadata": {},
     "output_type": "execute_result"
    }
   ],
   "source": [
    "len(bread)"
   ]
  },
  {
   "cell_type": "code",
   "execution_count": null,
   "metadata": {
    "collapsed": true
   },
   "outputs": [],
   "source": [
    "shortlist=[('tomato'and'sauce'), ('can'and 'beans'),\n",
    "('protein' and 'bar'),             ('energy' and 'bar'),\n",
    "                 'bread', 'pasta','noodle',\n",
    "            'creamer',\n",
    "             'soda', 'soft drink' , 'drink' , 'beverage',\n",
    "             'candy','ice cream',\n",
    "'cracker' , 'cake' , 'cookie' , 'frosting',\n",
    "             'juice','yogurt','ketchup','salsa',  \n",
    " 'peanut' , 'walnut' , 'cashew' , 'macadamia' , 'pecans' ,\n",
    "\n",
    "'cereal','granola', 'oatmeal' ,'chips' ,'crisps', 'chocolate','seed' ]\n",
    " "
   ]
  },
  {
   "cell_type": "markdown",
   "metadata": {
    "collapsed": true
   },
   "source": [
    "categories = [['fast_food', 'restaurant'], ['coffee', 'cafe'], ['burger', 'restaurant']]\n",
    "counts = [137, 176, 390]\n",
    "df = pd.DataFrame({'categories': categories, 'review_count': counts})\n",
    "# Show which rows contain 'restaurant'\n",
    "df.categories.map(lambda x: 'restaurant' in x)\n",
    "# Subset the dataframe using this:\n",
    "df[df.categories.map(lambda x: 'restaurant' in x)]"
   ]
  },
  {
   "cell_type": "code",
   "execution_count": null,
   "metadata": {
    "collapsed": true
   },
   "outputs": [],
   "source": [
    "al={} \n",
    "melcat=[]\n",
    "for j in shortlist:\n",
    "    for i in amti.title:\n",
    "        for pos in range(len(amti.title)-1):\n",
    "            if (j not in i.lower()):continue\n",
    "            elif (j in i.lower()):\n",
    "                if melcat[pos] is not none:continue\n",
    "                elif melcat[pos] is None:melcat.append(i)\n",
    "                 \n",
    "len(melcat) \n",
    "al={} \n",
    "melcat=[]\n",
    "for j in shortlist:\n",
    "    for i in amti.title:\n",
    "        if j in i.lower():melcat.append(j)\n",
    "        else:melcat.append('nocat') \n",
    "len(melcat) \n",
    "al={} \n",
    "for j in short:\n",
    "    ticat=[]\n",
    "    for i in metadfmean[:10].title:\n",
    "        if j in i:ticat.append(i)\n",
    "        else:ticat.append(1*(j in i)) \n",
    "    al[j]=ticat\n",
    "al={} \n",
    "for j in short:\n",
    "    ticat=[]\n",
    "    for i in metadfmean[:10].title:\n",
    "        ticat.append(1*(j in i)) \n",
    "    al[j]=ticat\n",
    "al"
   ]
  },
  {
   "cell_type": "code",
   "execution_count": null,
   "metadata": {
    "collapsed": true
   },
   "outputs": [],
   "source": [
    "fuzz.ratio('Emjoi AP-18MS Emagine Epilator for Men, Black','ortho bug-b-gon max insect killer for lawns 1')\n",
    "fuzz.partial_ratio('Emjoi AP-18MS Emagine Epilator for Men, Black','ortho bug-b-gon max insect killer for lawns 1')\n",
    "possibilities = process.extract(x.uniquename[20], a.names, limit=100, scorer=fuzz.token_sort_ratio)"
   ]
  },
  {
   "cell_type": "code",
   "execution_count": 25,
   "metadata": {
    "collapsed": false
   },
   "outputs": [
    {
     "name": "stdout",
     "output_type": "stream",
     "text": [
      "<class 'pandas.core.frame.DataFrame'>\n",
      "Int64Index: 1582 entries, 41 to 311743\n",
      "Data columns (total 20 columns):\n",
      "Unnamed: 0        1582 non-null object\n",
      "related           1243 non-null object\n",
      "categories        1582 non-null object\n",
      "description       1469 non-null object\n",
      "imUrl             1582 non-null object\n",
      "asin              1582 non-null object\n",
      "title             1582 non-null object\n",
      "salesRank         1485 non-null object\n",
      "price             1049 non-null object\n",
      "brand             742 non-null object\n",
      "overall           701 non-null object\n",
      "reviewerName      700 non-null object\n",
      "reviewText        700 non-null object\n",
      "summary           701 non-null object\n",
      "helpful           701 non-null object\n",
      "reviewerID        701 non-null object\n",
      "unixReviewTime    701 non-null object\n",
      "reviewTime        701 non-null object\n",
      "newcat            1582 non-null object\n",
      "newcat2           1582 non-null object\n",
      "dtypes: object(20)\n",
      "memory usage: 259.5+ KB\n"
     ]
    }
   ],
   "source": [
    "bread.info()"
   ]
  },
  {
   "cell_type": "code",
   "execution_count": 43,
   "metadata": {
    "collapsed": true
   },
   "outputs": [],
   "source": [
    "from nltk.stem import WordNetLemmatizer\n",
    "wordnet_lemmatizer = WordNetLemmatizer()\n"
   ]
  },
  {
   "cell_type": "code",
   "execution_count": 59,
   "metadata": {
    "collapsed": true
   },
   "outputs": [],
   "source": [
    "b=bread[bread.reviewText.notnull()]"
   ]
  },
  {
   "cell_type": "code",
   "execution_count": null,
   "metadata": {
    "collapsed": true
   },
   "outputs": [],
   "source": []
  },
  {
   "cell_type": "code",
   "execution_count": 61,
   "metadata": {
    "collapsed": false
   },
   "outputs": [],
   "source": [
    "review=''\n",
    "corpus = []\n",
    "for i in b.index.tolist() :\n",
    "    review = re.sub('[^a-zA-Z]', ' ', b.reviewText[i])\n",
    "    review = review.lower()\n",
    "    review = review.split()\n",
    "    ps = PorterStemmer()\n",
    "    review = [ps.stem(word) for word in review if not word in set(stopwords.words('english'))]\n",
    "    review = ' '.join(review)\n",
    "    corpus.append(review)"
   ]
  },
  {
   "cell_type": "code",
   "execution_count": 62,
   "metadata": {
    "collapsed": false,
    "scrolled": true
   },
   "outputs": [
    {
     "name": "stderr",
     "output_type": "stream",
     "text": [
      "/Users/meleciawright/anaconda/lib/python3.5/site-packages/ipykernel/__main__.py:1: SettingWithCopyWarning: \n",
      "A value is trying to be set on a copy of a slice from a DataFrame.\n",
      "Try using .loc[row_indexer,col_indexer] = value instead\n",
      "\n",
      "See the caveats in the documentation: http://pandas.pydata.org/pandas-docs/stable/indexing.html#indexing-view-versus-copy\n",
      "  if __name__ == '__main__':\n"
     ]
    },
    {
     "data": {
      "text/plain": [
       "1    477\n",
       "0    223\n",
       "Name: bistar, dtype: int64"
      ]
     },
     "execution_count": 62,
     "metadata": {},
     "output_type": "execute_result"
    }
   ],
   "source": [
    "b['bistar'] = np.where(b['overall']>4, 1, 0) \n",
    "b.bistar.value_counts()"
   ]
  },
  {
   "cell_type": "code",
   "execution_count": 92,
   "metadata": {
    "collapsed": true
   },
   "outputs": [],
   "source": [
    "\n",
    "# Creating the Bag of Words model\n",
    "from sklearn.feature_extraction.text import CountVectorizer\n",
    "cv = CountVectorizer(max_features = 1500)\n",
    "X = cv.fit_transform(corpus).toarray()\n",
    "y = b['bistar'].values\n"
   ]
  },
  {
   "cell_type": "markdown",
   "metadata": {
    "collapsed": true
   },
   "source": [
    "\n",
    "# Creating the Bag of Words model\n",
    "from sklearn.feature_extraction.text import CountVectorizer\n",
    "cv = CountVectorizer(max_features = 1500)\n",
    "X = corpus\n",
    "y = b['bistar'].values\n",
    "\n",
    "\n",
    "list_corpus = corpus\n",
    "list_labels = b['bistar'].values\n",
    "\n",
    "X_train, X_test, y_train, y_test = train_test_split(list_corpus, list_labels, test_size=0.2, \n",
    "                                                                                random_state=40)\n",
    "\n",
    "X_train_counts= cv.fit_transform(X_train)\n",
    "X_test_counts = cv.transform(X_test)"
   ]
  },
  {
   "cell_type": "code",
   "execution_count": 93,
   "metadata": {
    "collapsed": false
   },
   "outputs": [],
   "source": [
    "# Splitting the dataset into the Training set and Test set\n",
    "from sklearn.model_selection import train_test_split\n",
    "X_train, X_test, y_train, y_test = train_test_split(X, y, test_size = 0.20, random_state = 0)\n"
   ]
  },
  {
   "cell_type": "code",
   "execution_count": 100,
   "metadata": {
    "collapsed": false
   },
   "outputs": [],
   "source": [
    "#lets try tfidf\n",
    "#from sklearn.feature_extraction.text import   TfidfVectorizer\n",
    "\n",
    "tfidf_vectorizer = TfidfVectorizer()\n",
    "\n",
    "Xtfv=tfidf_vectorizer.fit_transform(corpus).toarray()\n",
    "X_traintfv, X_testtfv, y_traintfv, y_testtfv = train_test_split(Xtfv, y, test_size = 0.20, random_state = 0)\n"
   ]
  },
  {
   "cell_type": "code",
   "execution_count": 101,
   "metadata": {
    "collapsed": false
   },
   "outputs": [
    {
     "data": {
      "text/plain": [
       "array([[20, 20],\n",
       "       [41, 59]])"
      ]
     },
     "execution_count": 101,
     "metadata": {},
     "output_type": "execute_result"
    }
   ],
   "source": [
    "\n",
    "# Fitting Naive Bayes to the Training set\n",
    "from sklearn.naive_bayes import GaussianNB\n",
    "classifier = GaussianNB()\n",
    "classifier.fit(X_train, y_train)\n",
    "\n",
    "\n",
    "# Predicting the Test set results\n",
    "y_pred = classifier.predict(X_test)\n",
    "\n",
    "# Making the Confusion Matrix\n",
    "from sklearn.metrics import confusion_matrix\n",
    "cm = confusion_matrix(y_test, y_pred)\n",
    "cm #first array([[20, 20],  [41, 59]])"
   ]
  },
  {
   "cell_type": "code",
   "execution_count": 103,
   "metadata": {
    "collapsed": false
   },
   "outputs": [
    {
     "data": {
      "text/plain": [
       "array([[16, 24],\n",
       "       [33, 67]])"
      ]
     },
     "execution_count": 103,
     "metadata": {},
     "output_type": "execute_result"
    }
   ],
   "source": [
    "\n",
    "# Fitting Naive Bayes to the Training set\n",
    "from sklearn.naive_bayes import GaussianNB\n",
    "classifier = GaussianNB()\n",
    "classifier.fit(X_traintfv, y_traintfv)\n",
    "\n",
    "\n",
    "# Predicting the Test set results\n",
    "y_pred = classifier.predict(X_testtfv)\n",
    "\n",
    "# Making the Confusion Matrix\n",
    "from sklearn.metrics import confusion_matrix\n",
    "cm = confusion_matrix(y_testtfv, y_pred)\n",
    "cm #first array([[20, 20],  [41, 59]]); array([[16, 24], [33, 67]])\n"
   ]
  },
  {
   "cell_type": "markdown",
   "metadata": {},
   "source": [
    "# Now Analyze sentiment"
   ]
  },
  {
   "cell_type": "code",
   "execution_count": 108,
   "metadata": {
    "collapsed": false
   },
   "outputs": [],
   "source": [
    "from textblob import TextBlob"
   ]
  },
  {
   "cell_type": "code",
   "execution_count": 109,
   "metadata": {
    "collapsed": true
   },
   "outputs": [],
   "source": [
    "wiki = TextBlob(\"Python is a high-level, general-purpose programming language.\")\n"
   ]
  },
  {
   "cell_type": "code",
   "execution_count": 112,
   "metadata": {
    "collapsed": false
   },
   "outputs": [
    {
     "data": {
      "text/plain": [
       "[('Python', 'NNP'),\n",
       " ('is', 'VBZ'),\n",
       " ('a', 'DT'),\n",
       " ('high-level', 'JJ'),\n",
       " ('general-purpose', 'JJ'),\n",
       " ('programming', 'NN'),\n",
       " ('language', 'NN')]"
      ]
     },
     "execution_count": 112,
     "metadata": {},
     "output_type": "execute_result"
    }
   ],
   "source": [
    "wiki.tags"
   ]
  },
  {
   "cell_type": "code",
   "execution_count": 113,
   "metadata": {
    "collapsed": false
   },
   "outputs": [
    {
     "data": {
      "text/plain": [
       "WordList(['python'])"
      ]
     },
     "execution_count": 113,
     "metadata": {},
     "output_type": "execute_result"
    }
   ],
   "source": [
    "wiki.noun_phrases"
   ]
  },
  {
   "cell_type": "code",
   "execution_count": 114,
   "metadata": {
    "collapsed": false
   },
   "outputs": [
    {
     "data": {
      "text/plain": [
       "Sentiment(polarity=0.0, subjectivity=0.0)"
      ]
     },
     "execution_count": 114,
     "metadata": {},
     "output_type": "execute_result"
    }
   ],
   "source": [
    "wiki.sentiment"
   ]
  },
  {
   "cell_type": "code",
   "execution_count": 118,
   "metadata": {
    "collapsed": false
   },
   "outputs": [
    {
     "data": {
      "text/plain": [
       "0.3666666666666667"
      ]
     },
     "execution_count": 118,
     "metadata": {},
     "output_type": "execute_result"
    }
   ],
   "source": [
    "testimonial = TextBlob(\"textblob is amazingly simple to use what great fun\")\n",
    "testimonial.sentiment.polarity"
   ]
  },
  {
   "cell_type": "code",
   "execution_count": 135,
   "metadata": {
    "collapsed": false
   },
   "outputs": [
    {
     "ename": "TypeError",
     "evalue": "can only join an iterable",
     "output_type": "error",
     "traceback": [
      "\u001b[0;31m---------------------------------------------------------------------------\u001b[0m",
      "\u001b[0;31mTypeError\u001b[0m                                 Traceback (most recent call last)",
      "\u001b[0;32m<ipython-input-135-e8d52591f80b>\u001b[0m in \u001b[0;36m<module>\u001b[0;34m()\u001b[0m\n\u001b[1;32m      3\u001b[0m \u001b[0;32mfor\u001b[0m \u001b[0mi\u001b[0m \u001b[0;32min\u001b[0m \u001b[0mb\u001b[0m\u001b[0;34m.\u001b[0m\u001b[0mindex\u001b[0m\u001b[0;34m.\u001b[0m\u001b[0mtolist\u001b[0m\u001b[0;34m(\u001b[0m\u001b[0;34m)\u001b[0m \u001b[0;34m:\u001b[0m\u001b[0;34m\u001b[0m\u001b[0m\n\u001b[1;32m      4\u001b[0m     \u001b[0mreview\u001b[0m \u001b[0;34m=\u001b[0m  \u001b[0mTextBlob\u001b[0m\u001b[0;34m(\u001b[0m\u001b[0mb\u001b[0m\u001b[0;34m.\u001b[0m\u001b[0mreviewText\u001b[0m\u001b[0;34m[\u001b[0m\u001b[0mi\u001b[0m\u001b[0;34m]\u001b[0m\u001b[0;34m)\u001b[0m\u001b[0;34m.\u001b[0m\u001b[0msentiment\u001b[0m\u001b[0;34m.\u001b[0m\u001b[0mpolarity\u001b[0m\u001b[0;34m\u001b[0m\u001b[0m\n\u001b[0;32m----> 5\u001b[0;31m     \u001b[0mreview\u001b[0m \u001b[0;34m=\u001b[0m \u001b[0;34m' '\u001b[0m\u001b[0;34m.\u001b[0m\u001b[0mjoin\u001b[0m\u001b[0;34m(\u001b[0m\u001b[0mreview\u001b[0m\u001b[0;34m)\u001b[0m\u001b[0;34m\u001b[0m\u001b[0m\n\u001b[0m\u001b[1;32m      6\u001b[0m     \u001b[0msentcorpus\u001b[0m\u001b[0;34m.\u001b[0m\u001b[0mappend\u001b[0m\u001b[0;34m(\u001b[0m\u001b[0mreview\u001b[0m\u001b[0;34m)\u001b[0m\u001b[0;34m\u001b[0m\u001b[0m\n\u001b[1;32m      7\u001b[0m \u001b[0msentcorpus\u001b[0m\u001b[0;34m\u001b[0m\u001b[0m\n",
      "\u001b[0;31mTypeError\u001b[0m: can only join an iterable"
     ]
    }
   ],
   "source": [
    "TextBlob(b.reviewText[:1].values.item()).sentiment.polarity\n",
    "sentcorpus = []\n",
    "for i in b.index.tolist() :\n",
    "    review =  TextBlob(b.reviewText[i]).sentiment.polarity \n",
    "    review = ' '.join(review)\n",
    "    sentcorpus.append(review)\n",
    "sentcorpus"
   ]
  },
  {
   "cell_type": "code",
   "execution_count": 141,
   "metadata": {
    "collapsed": false
   },
   "outputs": [
    {
     "data": {
      "text/plain": [
       "Sentiment(polarity=0.1989285714285714, subjectivity=0.3342857142857143)"
      ]
     },
     "execution_count": 141,
     "metadata": {},
     "output_type": "execute_result"
    }
   ],
   "source": [
    "TextBlob(b.reviewText[i]).sentiment"
   ]
  },
  {
   "cell_type": "code",
   "execution_count": null,
   "metadata": {
    "collapsed": true
   },
   "outputs": [],
   "source": []
  },
  {
   "cell_type": "code",
   "execution_count": null,
   "metadata": {
    "collapsed": true
   },
   "outputs": [],
   "source": []
  },
  {
   "cell_type": "code",
   "execution_count": null,
   "metadata": {
    "collapsed": true
   },
   "outputs": [],
   "source": []
  },
  {
   "cell_type": "code",
   "execution_count": null,
   "metadata": {
    "collapsed": true
   },
   "outputs": [],
   "source": []
  },
  {
   "cell_type": "code",
   "execution_count": 145,
   "metadata": {
    "collapsed": false
   },
   "outputs": [
    {
     "name": "stderr",
     "output_type": "stream",
     "text": [
      "/Users/meleciawright/anaconda/lib/python3.5/site-packages/ipykernel/__main__.py:3: SettingWithCopyWarning: \n",
      "A value is trying to be set on a copy of a slice from a DataFrame.\n",
      "Try using .loc[row_indexer,col_indexer] = value instead\n",
      "\n",
      "See the caveats in the documentation: http://pandas.pydata.org/pandas-docs/stable/indexing.html#indexing-view-versus-copy\n",
      "  app.launch_new_instance()\n"
     ]
    }
   ],
   "source": [
    "def sentfun(text):\n",
    "    return TextBlob(text).sentiment.polarity\n",
    "def subfun(text):\n",
    "    return TextBlob(text).sentiment.subjectivity\n",
    "b['revsentiment']=b['reviewText'].apply(sentfun) \n",
    "\n",
    "def subfun(text):\n",
    "    return TextBlob(text).sentiment.subjectivity\n",
    "b['revsubjec']=b['reviewText'].apply(subfun) "
   ]
  },
  {
   "cell_type": "code",
   "execution_count": 149,
   "metadata": {
    "collapsed": false
   },
   "outputs": [
    {
     "data": {
      "image/png": "[encoded data removed]",
      "text/plain": [
       "<matplotlib.figure.Figure at 0x122205828>"
      ]
     },
     "metadata": {},
     "output_type": "display_data"
    }
   ],
   "source": [
    "plt.hist(b.revsubjec)\n",
    "plt.show()"
   ]
  },
  {
   "cell_type": "code",
   "execution_count": 150,
   "metadata": {
    "collapsed": false
   },
   "outputs": [
    {
     "data": {
      "image/png": "[encoded data removed]",
      "text/plain": [
       "<matplotlib.figure.Figure at 0x1329a5390>"
      ]
     },
     "metadata": {},
     "output_type": "display_data"
    }
   ],
   "source": [
    "plt.hist(b.revsentiment)\n",
    "plt.show()"
   ]
  },
  {
   "cell_type": "code",
   "execution_count": 152,
   "metadata": {
    "collapsed": false
   },
   "outputs": [
    {
     "data": {
      "image/png": "[encoded data removed]",
      "text/plain": [
       "<matplotlib.figure.Figure at 0x134e8c390>"
      ]
     },
     "metadata": {},
     "output_type": "display_data"
    }
   ],
   "source": [
    "plt.scatter(b.revsentiment, b.revsubjec)\n",
    "plt.show()"
   ]
  },
  {
   "cell_type": "code",
   "execution_count": null,
   "metadata": {
    "collapsed": true
   },
   "outputs": [],
   "source": []
  },
  {
   "cell_type": "markdown",
   "metadata": {
    "collapsed": true
   },
   "source": [
    "# Natural Language Processing\n",
    "\n",
    "# Importing the libraries\n",
    "import numpy as np\n",
    "import matplotlib.pyplot as plt\n",
    "import pandas as pd\n",
    "\n",
    "# Importing the dataset\n",
    "dataset = pd.read_csv('Restaurant_Reviews.tsv', delimiter = '\\t', quoting = 3)\n",
    "\n",
    "# Cleaning the texts\n",
    "import re\n",
    "import nltk\n",
    "nltk.download('stopwords')\n",
    "from nltk.corpus import stopwords\n",
    "from nltk.stem.porter import PorterStemmer\n",
    "corpus = []\n",
    "for i in range(0, 1000):\n",
    "    review = re.sub('[^a-zA-Z]', ' ', dataset['Review'][i])\n",
    "    review = review.lower()\n",
    "    review = review.split()\n",
    "    ps = PorterStemmer()\n",
    "    review = [ps.stem(word) for word in review if not word in set(stopwords.words('english'))]\n",
    "    review = ' '.join(review)\n",
    "    corpus.append(review)\n",
    "\n",
    "# Creating the Bag of Words model\n",
    "from sklearn.feature_extraction.text import CountVectorizer\n",
    "cv = CountVectorizer(max_features = 1500)\n",
    "X = cv.fit_transform(corpus).toarray()\n",
    "y = dataset.iloc[:, 1].values\n",
    "\n",
    "# Splitting the dataset into the Training set and Test set\n",
    "from sklearn.model_selection import train_test_split\n",
    "X_train, X_test, y_train, y_test = train_test_split(X, y, test_size = 0.20, random_state = 0)\n",
    "\n",
    "# Fitting Naive Bayes to the Training set\n",
    "from sklearn.naive_bayes import GaussianNB\n",
    "classifier = GaussianNB()\n",
    "classifier.fit(X_train, y_train)\n",
    "\n",
    "# Predicting the Test set results\n",
    "y_pred = classifier.predict(X_test)\n",
    "\n",
    "# Making the Confusion Matrix\n",
    "from sklearn.metrics import confusion_matrix\n",
    "cm = confusion_matrix(y_test, y_pred)\n",
    "# Thanks\n",
    "To Julian McAuly for permitting use of data scraped by him/his team\n",
    "\n",
    "WWW / SIGIR papers  \n",
    "R. He, J. McAuley. Modeling the visual evolution of fashion trends\n",
    "with one-class collaborative filtering. WWW, 2016\n",
    "J. McAuley, C. Targett, J. Shi, A. van den Hengel. Image-based\n",
    "recommendations on styles and substitutes. SIGIR, 2015"
   ]
  },
  {
   "cell_type": "code",
   "execution_count": null,
   "metadata": {
    "collapsed": true
   },
   "outputs": [],
   "source": []
  },
  {
   "cell_type": "code",
   "execution_count": null,
   "metadata": {
    "collapsed": true
   },
   "outputs": [],
   "source": []
  }
 ],
 "metadata": {
  "anaconda-cloud": {},
  "kernelspec": {
   "display_name": "Python [conda root]",
   "language": "python",
   "name": "conda-root-py"
  },
  "language_info": {
   "codemirror_mode": {
    "name": "ipython",
    "version": 3
   },
   "file_extension": ".py",
   "mimetype": "text/x-python",
   "name": "python",
   "nbconvert_exporter": "python",
   "pygments_lexer": "ipython3",
   "version": "3.5.6"
  }
 },
 "nbformat": 4,
 "nbformat_minor": 2
}
