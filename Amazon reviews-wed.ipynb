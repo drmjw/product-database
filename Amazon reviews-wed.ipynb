{
 "cells": [
  {
   "cell_type": "code",
   "execution_count": 1,
   "metadata": {
    "collapsed": true
   },
   "outputs": [],
   "source": [
    "#import relevant packages\n",
    "import pandas as pd\n",
    "import numpy as np\n",
    "import gzip\n",
    "import matplotlib.pyplot as plt\n"
   ]
  },
  {
   "cell_type": "code",
   "execution_count": 2,
   "metadata": {
    "collapsed": false
   },
   "outputs": [
    {
     "data": {
      "text/html": [
       "<div>\n",
       "<table border=\"1\" class=\"dataframe\">\n",
       "  <thead>\n",
       "    <tr style=\"text-align: right;\">\n",
       "      <th></th>\n",
       "      <th>A1ZQZ8RJS1XVTX</th>\n",
       "      <th>0657745316</th>\n",
       "      <th>5.0</th>\n",
       "      <th>1381449600</th>\n",
       "    </tr>\n",
       "  </thead>\n",
       "  <tbody>\n",
       "    <tr>\n",
       "      <th>0</th>\n",
       "      <td>A31W38VGZAUUM4</td>\n",
       "      <td>0700026444</td>\n",
       "      <td>5.0</td>\n",
       "      <td>1354752000</td>\n",
       "    </tr>\n",
       "    <tr>\n",
       "      <th>1</th>\n",
       "      <td>A3I0AV0UJX5OH0</td>\n",
       "      <td>1403796890</td>\n",
       "      <td>1.0</td>\n",
       "      <td>1385942400</td>\n",
       "    </tr>\n",
       "    <tr>\n",
       "      <th>2</th>\n",
       "      <td>A3QAAOLIXKV383</td>\n",
       "      <td>1403796890</td>\n",
       "      <td>3.0</td>\n",
       "      <td>1307836800</td>\n",
       "    </tr>\n",
       "    <tr>\n",
       "      <th>3</th>\n",
       "      <td>AB1A5EGHHVA9M</td>\n",
       "      <td>141278509X</td>\n",
       "      <td>5.0</td>\n",
       "      <td>1332547200</td>\n",
       "    </tr>\n",
       "    <tr>\n",
       "      <th>4</th>\n",
       "      <td>A3DTB6RVENLQ9Q</td>\n",
       "      <td>1453060375</td>\n",
       "      <td>1.0</td>\n",
       "      <td>1362268800</td>\n",
       "    </tr>\n",
       "  </tbody>\n",
       "</table>\n",
       "</div>"
      ],
      "text/plain": [
       "   A1ZQZ8RJS1XVTX  0657745316  5.0  1381449600\n",
       "0  A31W38VGZAUUM4  0700026444  5.0  1354752000\n",
       "1  A3I0AV0UJX5OH0  1403796890  1.0  1385942400\n",
       "2  A3QAAOLIXKV383  1403796890  3.0  1307836800\n",
       "3   AB1A5EGHHVA9M  141278509X  5.0  1332547200\n",
       "4  A3DTB6RVENLQ9Q  1453060375  1.0  1362268800"
      ]
     },
     "execution_count": 2,
     "metadata": {},
     "output_type": "execute_result"
    }
   ],
   "source": [
    "#use jmc's code for pulling data in\n",
    "\n",
    "def parse(path):\n",
    "    g = gzip.open(path, 'r')\n",
    "    for l in g:\n",
    "        yield eval(l)\n",
    " \n",
    "def parse(path):\n",
    "    g = gzip.open(path, 'rb')\n",
    "    for l in g:\n",
    "        yield eval(l)\n",
    "\n",
    "def getDF(path):\n",
    "    i = 0\n",
    "    df = {}\n",
    "    for d in parse(path):\n",
    "        df[i] = d\n",
    "        i += 1\n",
    "    return pd.DataFrame.from_dict(df, orient='index')\n",
    "\n",
    "df = getDF('reviews_Grocery_and_Gourmet_Food_5.json.gz')\n",
    "meta=getDF('meta_Grocery_and_Gourmet_Food.json.gz')\n",
    "stars=pd.read_csv('ratings_Grocery_and_Gourmet_Food.csv')\n",
    "stars.head()"
   ]
  },
  {
   "cell_type": "code",
   "execution_count": 3,
   "metadata": {
    "collapsed": false
   },
   "outputs": [
    {
     "name": "stdout",
     "output_type": "stream",
     "text": [
      "1297156\n"
     ]
    },
    {
     "data": {
      "text/html": [
       "<div>\n",
       "<table border=\"1\" class=\"dataframe\">\n",
       "  <thead>\n",
       "    <tr style=\"text-align: right;\">\n",
       "      <th></th>\n",
       "      <th>asin</th>\n",
       "      <th>meanstars</th>\n",
       "    </tr>\n",
       "    <tr>\n",
       "      <th>asin</th>\n",
       "      <th></th>\n",
       "      <th></th>\n",
       "    </tr>\n",
       "  </thead>\n",
       "  <tbody>\n",
       "    <tr>\n",
       "      <th>0657745316</th>\n",
       "      <td>0657745316</td>\n",
       "      <td>5.0</td>\n",
       "    </tr>\n",
       "    <tr>\n",
       "      <th>0700026444</th>\n",
       "      <td>0700026444</td>\n",
       "      <td>5.0</td>\n",
       "    </tr>\n",
       "    <tr>\n",
       "      <th>1403796890</th>\n",
       "      <td>1403796890</td>\n",
       "      <td>2.0</td>\n",
       "    </tr>\n",
       "    <tr>\n",
       "      <th>141278509X</th>\n",
       "      <td>141278509X</td>\n",
       "      <td>5.0</td>\n",
       "    </tr>\n",
       "    <tr>\n",
       "      <th>1453060375</th>\n",
       "      <td>1453060375</td>\n",
       "      <td>1.0</td>\n",
       "    </tr>\n",
       "  </tbody>\n",
       "</table>\n",
       "</div>"
      ],
      "text/plain": [
       "                  asin  meanstars\n",
       "asin                             \n",
       "0657745316  0657745316        5.0\n",
       "0700026444  0700026444        5.0\n",
       "1403796890  1403796890        2.0\n",
       "141278509X  141278509X        5.0\n",
       "1453060375  1453060375        1.0"
      ]
     },
     "execution_count": 3,
     "metadata": {},
     "output_type": "execute_result"
    }
   ],
   "source": [
    "stars=pd.read_csv('ratings_Grocery_and_Gourmet_Food.csv',names=['reviewerID','asin','overall','unixReviewTime'])\n",
    "print(len(stars))\n",
    "meanstars=stars.groupby('asin').agg('mean')\n",
    "meanstars['asin']=meanstars.index\n",
    "meanstars['meanstars']=meanstars['overall']\n",
    "#meanstars=meanstars[['asin','meanstars']].reset_index()\n",
    "meanstars=meanstars[['asin','meanstars']]\n",
    "meanstars.head()"
   ]
  },
  {
   "cell_type": "markdown",
   "metadata": {},
   "source": [
    "### merge reviews and meta dfs\n",
    "WHAT'S POSITIVE OR NEGATIVE? "
   ]
  },
  {
   "cell_type": "code",
   "execution_count": 3,
   "metadata": {
    "collapsed": false
   },
   "outputs": [
    {
     "name": "stdout",
     "output_type": "stream",
     "text": [
      "<class 'pandas.core.frame.DataFrame'>\n",
      "Int64Index: 151254 entries, 0 to 151253\n",
      "Data columns (total 9 columns):\n",
      "summary           151254 non-null object\n",
      "overall           151254 non-null float64\n",
      "unixReviewTime    151254 non-null int64\n",
      "reviewTime        151254 non-null object\n",
      "helpful           151254 non-null object\n",
      "reviewText        151254 non-null object\n",
      "reviewerName      149761 non-null object\n",
      "asin              151254 non-null object\n",
      "reviewerID        151254 non-null object\n",
      "dtypes: float64(1), int64(1), object(7)\n",
      "memory usage: 11.5+ MB\n"
     ]
    }
   ],
   "source": [
    "df.info()"
   ]
  },
  {
   "cell_type": "code",
   "execution_count": 5,
   "metadata": {
    "collapsed": false
   },
   "outputs": [
    {
     "name": "stdout",
     "output_type": "stream",
     "text": [
      "<class 'pandas.core.frame.DataFrame'>\n",
      "Int64Index: 171760 entries, 0 to 171759\n",
      "Data columns (total 9 columns):\n",
      "imUrl          171616 non-null object\n",
      "categories     171760 non-null object\n",
      "description    151817 non-null object\n",
      "title          171602 non-null object\n",
      "related        127270 non-null object\n",
      "asin           171760 non-null object\n",
      "salesRank      156972 non-null object\n",
      "price          113152 non-null float64\n",
      "brand          63905 non-null object\n",
      "dtypes: float64(1), object(8)\n",
      "memory usage: 13.1+ MB\n"
     ]
    }
   ],
   "source": [
    "meta.info()"
   ]
  },
  {
   "cell_type": "code",
   "execution_count": 6,
   "metadata": {
    "collapsed": false,
    "scrolled": true
   },
   "outputs": [
    {
     "name": "stdout",
     "output_type": "stream",
     "text": [
      "171760 151254 314301\n",
      "171760 151254 314301 166049 314301\n"
     ]
    },
    {
     "data": {
      "text/html": [
       "<div>\n",
       "<table border=\"1\" class=\"dataframe\">\n",
       "  <thead>\n",
       "    <tr style=\"text-align: right;\">\n",
       "      <th></th>\n",
       "      <th>related</th>\n",
       "      <th>categories</th>\n",
       "      <th>description</th>\n",
       "      <th>imUrl</th>\n",
       "      <th>asin</th>\n",
       "      <th>title</th>\n",
       "      <th>salesRank</th>\n",
       "      <th>price</th>\n",
       "      <th>brand</th>\n",
       "      <th>overall</th>\n",
       "      <th>reviewerName</th>\n",
       "      <th>reviewText</th>\n",
       "      <th>summary</th>\n",
       "      <th>helpful</th>\n",
       "      <th>reviewerID</th>\n",
       "      <th>unixReviewTime</th>\n",
       "      <th>reviewTime</th>\n",
       "    </tr>\n",
       "  </thead>\n",
       "  <tbody>\n",
       "    <tr>\n",
       "      <th>0</th>\n",
       "      <td>{'also_viewed': ['B001GE8N4Y']}</td>\n",
       "      <td>[[Grocery &amp; Gourmet Food]]</td>\n",
       "      <td>This is real vanilla extract made with only 3 ...</td>\n",
       "      <td>http://ecx.images-amazon.com/images/I/41gFi5h0...</td>\n",
       "      <td>0657745316</td>\n",
       "      <td>100 Percent All Natural Vanilla Extract</td>\n",
       "      <td>{'Grocery &amp; Gourmet Food': 374004}</td>\n",
       "      <td>NaN</td>\n",
       "      <td>NaN</td>\n",
       "      <td>NaN</td>\n",
       "      <td>NaN</td>\n",
       "      <td>NaN</td>\n",
       "      <td>NaN</td>\n",
       "      <td>NaN</td>\n",
       "      <td>NaN</td>\n",
       "      <td>NaN</td>\n",
       "      <td>NaN</td>\n",
       "    </tr>\n",
       "    <tr>\n",
       "      <th>1</th>\n",
       "      <td>NaN</td>\n",
       "      <td>[[Grocery &amp; Gourmet Food]]</td>\n",
       "      <td>Silverpot Tea, Pure Darjeeling, is an exquisit...</td>\n",
       "      <td>http://ecx.images-amazon.com/images/I/51hs8sox...</td>\n",
       "      <td>0700026444</td>\n",
       "      <td>Pure Darjeeling Tea: Loose Leaf</td>\n",
       "      <td>{'Grocery &amp; Gourmet Food': 620307}</td>\n",
       "      <td>NaN</td>\n",
       "      <td>NaN</td>\n",
       "      <td>NaN</td>\n",
       "      <td>NaN</td>\n",
       "      <td>NaN</td>\n",
       "      <td>NaN</td>\n",
       "      <td>NaN</td>\n",
       "      <td>NaN</td>\n",
       "      <td>NaN</td>\n",
       "      <td>NaN</td>\n",
       "    </tr>\n",
       "    <tr>\n",
       "      <th>2</th>\n",
       "      <td>NaN</td>\n",
       "      <td>[[Grocery &amp; Gourmet Food]]</td>\n",
       "      <td>Must have for any WWE Fan\\n \\n \\n \\nFeaturing ...</td>\n",
       "      <td>http://ecx.images-amazon.com/images/I/518SEST5...</td>\n",
       "      <td>1403796890</td>\n",
       "      <td>WWE Kids Todler Velvet Slippers featuring John...</td>\n",
       "      <td>NaN</td>\n",
       "      <td>3.99</td>\n",
       "      <td>NaN</td>\n",
       "      <td>NaN</td>\n",
       "      <td>NaN</td>\n",
       "      <td>NaN</td>\n",
       "      <td>NaN</td>\n",
       "      <td>NaN</td>\n",
       "      <td>NaN</td>\n",
       "      <td>NaN</td>\n",
       "      <td>NaN</td>\n",
       "    </tr>\n",
       "    <tr>\n",
       "      <th>3</th>\n",
       "      <td>{'also_viewed': ['B0051IETTY']}</td>\n",
       "      <td>[[Grocery &amp; Gourmet Food]]</td>\n",
       "      <td>Infused with Vitamins and Electrolytes Good So...</td>\n",
       "      <td>http://ecx.images-amazon.com/images/I/51CFQIis...</td>\n",
       "      <td>141278509X</td>\n",
       "      <td>Archer Farms Strawberry Dragonfruit Drink Mix ...</td>\n",
       "      <td>{'Grocery &amp; Gourmet Food': 620322}</td>\n",
       "      <td>NaN</td>\n",
       "      <td>NaN</td>\n",
       "      <td>NaN</td>\n",
       "      <td>NaN</td>\n",
       "      <td>NaN</td>\n",
       "      <td>NaN</td>\n",
       "      <td>NaN</td>\n",
       "      <td>NaN</td>\n",
       "      <td>NaN</td>\n",
       "      <td>NaN</td>\n",
       "    </tr>\n",
       "    <tr>\n",
       "      <th>4</th>\n",
       "      <td>{'also_viewed': ['B006MSEOJ2', 'B005VOOQLO', '...</td>\n",
       "      <td>[[Grocery &amp; Gourmet Food]]</td>\n",
       "      <td>MiO Energy is your portable energy source givi...</td>\n",
       "      <td>http://ecx.images-amazon.com/images/I/51EUsMcn...</td>\n",
       "      <td>1453060375</td>\n",
       "      <td>Mio Energy Liquid Water Enhancer Black Cherry ...</td>\n",
       "      <td>{'Grocery &amp; Gourmet Food': 268754}</td>\n",
       "      <td>11.99</td>\n",
       "      <td>Mio</td>\n",
       "      <td>NaN</td>\n",
       "      <td>NaN</td>\n",
       "      <td>NaN</td>\n",
       "      <td>NaN</td>\n",
       "      <td>NaN</td>\n",
       "      <td>NaN</td>\n",
       "      <td>NaN</td>\n",
       "      <td>NaN</td>\n",
       "    </tr>\n",
       "  </tbody>\n",
       "</table>\n",
       "</div>"
      ],
      "text/plain": [
       "                                             related  \\\n",
       "0                    {'also_viewed': ['B001GE8N4Y']}   \n",
       "1                                                NaN   \n",
       "2                                                NaN   \n",
       "3                    {'also_viewed': ['B0051IETTY']}   \n",
       "4  {'also_viewed': ['B006MSEOJ2', 'B005VOOQLO', '...   \n",
       "\n",
       "                   categories  \\\n",
       "0  [[Grocery & Gourmet Food]]   \n",
       "1  [[Grocery & Gourmet Food]]   \n",
       "2  [[Grocery & Gourmet Food]]   \n",
       "3  [[Grocery & Gourmet Food]]   \n",
       "4  [[Grocery & Gourmet Food]]   \n",
       "\n",
       "                                         description  \\\n",
       "0  This is real vanilla extract made with only 3 ...   \n",
       "1  Silverpot Tea, Pure Darjeeling, is an exquisit...   \n",
       "2  Must have for any WWE Fan\\n \\n \\n \\nFeaturing ...   \n",
       "3  Infused with Vitamins and Electrolytes Good So...   \n",
       "4  MiO Energy is your portable energy source givi...   \n",
       "\n",
       "                                               imUrl        asin  \\\n",
       "0  http://ecx.images-amazon.com/images/I/41gFi5h0...  0657745316   \n",
       "1  http://ecx.images-amazon.com/images/I/51hs8sox...  0700026444   \n",
       "2  http://ecx.images-amazon.com/images/I/518SEST5...  1403796890   \n",
       "3  http://ecx.images-amazon.com/images/I/51CFQIis...  141278509X   \n",
       "4  http://ecx.images-amazon.com/images/I/51EUsMcn...  1453060375   \n",
       "\n",
       "                                               title  \\\n",
       "0            100 Percent All Natural Vanilla Extract   \n",
       "1                    Pure Darjeeling Tea: Loose Leaf   \n",
       "2  WWE Kids Todler Velvet Slippers featuring John...   \n",
       "3  Archer Farms Strawberry Dragonfruit Drink Mix ...   \n",
       "4  Mio Energy Liquid Water Enhancer Black Cherry ...   \n",
       "\n",
       "                            salesRank  price brand  overall reviewerName  \\\n",
       "0  {'Grocery & Gourmet Food': 374004}    NaN   NaN      NaN          NaN   \n",
       "1  {'Grocery & Gourmet Food': 620307}    NaN   NaN      NaN          NaN   \n",
       "2                                 NaN   3.99   NaN      NaN          NaN   \n",
       "3  {'Grocery & Gourmet Food': 620322}    NaN   NaN      NaN          NaN   \n",
       "4  {'Grocery & Gourmet Food': 268754}  11.99   Mio      NaN          NaN   \n",
       "\n",
       "  reviewText summary helpful reviewerID  unixReviewTime reviewTime  \n",
       "0        NaN     NaN     NaN        NaN             NaN        NaN  \n",
       "1        NaN     NaN     NaN        NaN             NaN        NaN  \n",
       "2        NaN     NaN     NaN        NaN             NaN        NaN  \n",
       "3        NaN     NaN     NaN        NaN             NaN        NaN  \n",
       "4        NaN     NaN     NaN        NaN             NaN        NaN  "
      ]
     },
     "execution_count": 6,
     "metadata": {},
     "output_type": "execute_result"
    }
   ],
   "source": [
    "metadf=pd.merge(meta,df,on='asin',how='outer')\n",
    "print(len(meta),len(df),len(metadf))\n",
    "metadf.head()\n",
    "metadfmean=pd.merge(metadf,meanstars[['asin','meanstars']],on='asin',how='outer')\n",
    "print(len(meta),len(df),len(metadf),len(meanstars),len(metadfmean))\n",
    "metadfmean.head()"
   ]
  },
  {
   "cell_type": "code",
   "execution_count": 7,
   "metadata": {
    "collapsed": false
   },
   "outputs": [
    {
     "name": "stdout",
     "output_type": "stream",
     "text": [
      "<class 'pandas.core.frame.DataFrame'>\n",
      "Int64Index: 314301 entries, 0 to 314300\n",
      "Data columns (total 17 columns):\n",
      "related           264646 non-null object\n",
      "categories        314301 non-null object\n",
      "description       290900 non-null object\n",
      "imUrl             313981 non-null object\n",
      "asin              314301 non-null object\n",
      "title             313967 non-null object\n",
      "salesRank         292953 non-null object\n",
      "price             232520 non-null float64\n",
      "brand             162188 non-null object\n",
      "overall           151254 non-null float64\n",
      "reviewerName      149761 non-null object\n",
      "reviewText        151254 non-null object\n",
      "summary           151254 non-null object\n",
      "helpful           151254 non-null object\n",
      "reviewerID        151254 non-null object\n",
      "unixReviewTime    151254 non-null float64\n",
      "reviewTime        151254 non-null object\n",
      "dtypes: float64(3), object(14)\n",
      "memory usage: 43.2+ MB\n"
     ]
    }
   ],
   "source": [
    "metadfmean.info()"
   ]
  },
  {
   "cell_type": "code",
   "execution_count": 8,
   "metadata": {
    "collapsed": true
   },
   "outputs": [],
   "source": [
    "metadfmean.to_csv('amawed.csv')"
   ]
  },
  {
   "cell_type": "code",
   "execution_count": 44,
   "metadata": {
    "collapsed": true
   },
   "outputs": [
    {
     "name": "stdout",
     "output_type": "stream",
     "text": [
      "<class 'pandas.core.frame.DataFrame'>\n",
      "Int64Index: 171760 entries, 0 to 171759\n",
      "Data columns (total 9 columns):\n",
      "imUrl          171616 non-null object\n",
      "categories     171760 non-null object\n",
      "description    151817 non-null object\n",
      "title          171602 non-null object\n",
      "related        127270 non-null object\n",
      "asin           171760 non-null object\n",
      "salesRank      156972 non-null object\n",
      "price          113152 non-null float64\n",
      "brand          63905 non-null object\n",
      "dtypes: float64(1), object(8)\n",
      "memory usage: 13.1+ MB\n",
      "None\n",
      "<class 'pandas.core.frame.DataFrame'>\n",
      "Int64Index: 151254 entries, 0 to 151253\n",
      "Data columns (total 9 columns):\n",
      "summary           151254 non-null object\n",
      "overall           151254 non-null float64\n",
      "unixReviewTime    151254 non-null int64\n",
      "reviewTime        151254 non-null object\n",
      "helpful           151254 non-null object\n",
      "reviewText        151254 non-null object\n",
      "reviewerName      149761 non-null object\n",
      "asin              151254 non-null object\n",
      "reviewerID        151254 non-null object\n",
      "dtypes: float64(1), int64(1), object(7)\n",
      "memory usage: 11.5+ MB\n",
      "None\n",
      "<class 'pandas.core.frame.DataFrame'>\n",
      "Int64Index: 314301 entries, 0 to 314300\n",
      "Data columns (total 17 columns):\n",
      "imUrl             313981 non-null object\n",
      "categories        314301 non-null object\n",
      "description       290900 non-null object\n",
      "title             313967 non-null object\n",
      "related           264646 non-null object\n",
      "asin              314301 non-null object\n",
      "salesRank         292953 non-null object\n",
      "price             232520 non-null float64\n",
      "brand             162188 non-null object\n",
      "summary           151254 non-null object\n",
      "overall           151254 non-null float64\n",
      "unixReviewTime    151254 non-null float64\n",
      "reviewTime        151254 non-null object\n",
      "helpful           151254 non-null object\n",
      "reviewText        151254 non-null object\n",
      "reviewerName      149761 non-null object\n",
      "reviewerID        151254 non-null object\n",
      "dtypes: float64(3), object(14)\n",
      "memory usage: 43.2+ MB\n",
      "None\n",
      "<class 'pandas.core.frame.DataFrame'>\n",
      "Int64Index: 314301 entries, 0 to 314300\n",
      "Data columns (total 19 columns):\n",
      "imUrl               313981 non-null object\n",
      "categories          314301 non-null object\n",
      "description         290900 non-null object\n",
      "title               313967 non-null object\n",
      "related             264646 non-null object\n",
      "asin                314301 non-null object\n",
      "salesRank           292953 non-null object\n",
      "price               232520 non-null float64\n",
      "brand               162188 non-null object\n",
      "summary             151254 non-null object\n",
      "overall_x           151254 non-null float64\n",
      "unixReviewTime_x    151254 non-null float64\n",
      "reviewTime          151254 non-null object\n",
      "helpful             151254 non-null object\n",
      "reviewText          151254 non-null object\n",
      "reviewerName        149761 non-null object\n",
      "reviewerID          151254 non-null object\n",
      "overall_y           308590 non-null float64\n",
      "unixReviewTime_y    308590 non-null float64\n",
      "dtypes: float64(5), object(14)\n",
      "memory usage: 48.0+ MB\n",
      "None\n"
     ]
    }
   ],
   "source": [
    "for x in [meta,df, metadf,metadfmean]:\n",
    "    print(x.info())"
   ]
  },
  {
   "cell_type": "code",
   "execution_count": 24,
   "metadata": {
    "collapsed": false
   },
   "outputs": [],
   "source": [
    "#GET A LIST OF BRANDS TO FACILITATE MERGING WITH USDA\n",
    "st=[]\n",
    "for b in metadfmean['brand'][metadfmean.brand.notnull()]:\n",
    "    st.append(b.replace('&#39;',\"'\").replace('&reg;','').replace('&amp;','&'))\n",
    "#metadfmean['cleanbrands']=st\n",
    "#metadfmean.info()"
   ]
  },
  {
   "cell_type": "code",
   "execution_count": 44,
   "metadata": {
    "collapsed": false
   },
   "outputs": [
    {
     "data": {
      "text/html": [
       "<div>\n",
       "<table border=\"1\" class=\"dataframe\">\n",
       "  <thead>\n",
       "    <tr style=\"text-align: right;\">\n",
       "      <th></th>\n",
       "      <th>related</th>\n",
       "      <th>categories</th>\n",
       "      <th>description</th>\n",
       "      <th>imUrl</th>\n",
       "      <th>asin</th>\n",
       "      <th>title</th>\n",
       "      <th>salesRank</th>\n",
       "      <th>price</th>\n",
       "      <th>brand</th>\n",
       "      <th>overall</th>\n",
       "      <th>reviewerName</th>\n",
       "      <th>reviewText</th>\n",
       "      <th>summary</th>\n",
       "      <th>helpful</th>\n",
       "      <th>reviewerID</th>\n",
       "      <th>unixReviewTime</th>\n",
       "      <th>reviewTime</th>\n",
       "      <th>cleanbrands</th>\n",
       "    </tr>\n",
       "  </thead>\n",
       "  <tbody>\n",
       "    <tr>\n",
       "      <th>0</th>\n",
       "      <td>{'also_viewed': ['B001GE8N4Y']}</td>\n",
       "      <td>[[Grocery &amp; Gourmet Food]]</td>\n",
       "      <td>This is real vanilla extract made with only 3 ...</td>\n",
       "      <td>http://ecx.images-amazon.com/images/I/41gFi5h0...</td>\n",
       "      <td>0657745316</td>\n",
       "      <td>100 Percent All Natural Vanilla Extract</td>\n",
       "      <td>{'Grocery &amp; Gourmet Food': 374004}</td>\n",
       "      <td>NaN</td>\n",
       "      <td>NaN</td>\n",
       "      <td>NaN</td>\n",
       "      <td>NaN</td>\n",
       "      <td>NaN</td>\n",
       "      <td>NaN</td>\n",
       "      <td>NaN</td>\n",
       "      <td>NaN</td>\n",
       "      <td>NaN</td>\n",
       "      <td>NaN</td>\n",
       "      <td>NaN</td>\n",
       "    </tr>\n",
       "    <tr>\n",
       "      <th>1</th>\n",
       "      <td>NaN</td>\n",
       "      <td>[[Grocery &amp; Gourmet Food]]</td>\n",
       "      <td>Silverpot Tea, Pure Darjeeling, is an exquisit...</td>\n",
       "      <td>http://ecx.images-amazon.com/images/I/51hs8sox...</td>\n",
       "      <td>0700026444</td>\n",
       "      <td>Pure Darjeeling Tea: Loose Leaf</td>\n",
       "      <td>{'Grocery &amp; Gourmet Food': 620307}</td>\n",
       "      <td>NaN</td>\n",
       "      <td>NaN</td>\n",
       "      <td>NaN</td>\n",
       "      <td>NaN</td>\n",
       "      <td>NaN</td>\n",
       "      <td>NaN</td>\n",
       "      <td>NaN</td>\n",
       "      <td>NaN</td>\n",
       "      <td>NaN</td>\n",
       "      <td>NaN</td>\n",
       "      <td>NaN</td>\n",
       "    </tr>\n",
       "    <tr>\n",
       "      <th>2</th>\n",
       "      <td>NaN</td>\n",
       "      <td>[[Grocery &amp; Gourmet Food]]</td>\n",
       "      <td>Must have for any WWE Fan\\n \\n \\n \\nFeaturing ...</td>\n",
       "      <td>http://ecx.images-amazon.com/images/I/518SEST5...</td>\n",
       "      <td>1403796890</td>\n",
       "      <td>WWE Kids Todler Velvet Slippers featuring John...</td>\n",
       "      <td>NaN</td>\n",
       "      <td>3.99</td>\n",
       "      <td>NaN</td>\n",
       "      <td>NaN</td>\n",
       "      <td>NaN</td>\n",
       "      <td>NaN</td>\n",
       "      <td>NaN</td>\n",
       "      <td>NaN</td>\n",
       "      <td>NaN</td>\n",
       "      <td>NaN</td>\n",
       "      <td>NaN</td>\n",
       "      <td>NaN</td>\n",
       "    </tr>\n",
       "    <tr>\n",
       "      <th>3</th>\n",
       "      <td>{'also_viewed': ['B0051IETTY']}</td>\n",
       "      <td>[[Grocery &amp; Gourmet Food]]</td>\n",
       "      <td>Infused with Vitamins and Electrolytes Good So...</td>\n",
       "      <td>http://ecx.images-amazon.com/images/I/51CFQIis...</td>\n",
       "      <td>141278509X</td>\n",
       "      <td>Archer Farms Strawberry Dragonfruit Drink Mix ...</td>\n",
       "      <td>{'Grocery &amp; Gourmet Food': 620322}</td>\n",
       "      <td>NaN</td>\n",
       "      <td>NaN</td>\n",
       "      <td>NaN</td>\n",
       "      <td>NaN</td>\n",
       "      <td>NaN</td>\n",
       "      <td>NaN</td>\n",
       "      <td>NaN</td>\n",
       "      <td>NaN</td>\n",
       "      <td>NaN</td>\n",
       "      <td>NaN</td>\n",
       "      <td>NaN</td>\n",
       "    </tr>\n",
       "    <tr>\n",
       "      <th>4</th>\n",
       "      <td>{'also_viewed': ['B006MSEOJ2', 'B005VOOQLO', '...</td>\n",
       "      <td>[[Grocery &amp; Gourmet Food]]</td>\n",
       "      <td>MiO Energy is your portable energy source givi...</td>\n",
       "      <td>http://ecx.images-amazon.com/images/I/51EUsMcn...</td>\n",
       "      <td>1453060375</td>\n",
       "      <td>Mio Energy Liquid Water Enhancer Black Cherry ...</td>\n",
       "      <td>{'Grocery &amp; Gourmet Food': 268754}</td>\n",
       "      <td>11.99</td>\n",
       "      <td>Mio</td>\n",
       "      <td>NaN</td>\n",
       "      <td>NaN</td>\n",
       "      <td>NaN</td>\n",
       "      <td>NaN</td>\n",
       "      <td>NaN</td>\n",
       "      <td>NaN</td>\n",
       "      <td>NaN</td>\n",
       "      <td>NaN</td>\n",
       "      <td>Mio</td>\n",
       "    </tr>\n",
       "  </tbody>\n",
       "</table>\n",
       "</div>"
      ],
      "text/plain": [
       "                                             related  \\\n",
       "0                    {'also_viewed': ['B001GE8N4Y']}   \n",
       "1                                                NaN   \n",
       "2                                                NaN   \n",
       "3                    {'also_viewed': ['B0051IETTY']}   \n",
       "4  {'also_viewed': ['B006MSEOJ2', 'B005VOOQLO', '...   \n",
       "\n",
       "                   categories  \\\n",
       "0  [[Grocery & Gourmet Food]]   \n",
       "1  [[Grocery & Gourmet Food]]   \n",
       "2  [[Grocery & Gourmet Food]]   \n",
       "3  [[Grocery & Gourmet Food]]   \n",
       "4  [[Grocery & Gourmet Food]]   \n",
       "\n",
       "                                         description  \\\n",
       "0  This is real vanilla extract made with only 3 ...   \n",
       "1  Silverpot Tea, Pure Darjeeling, is an exquisit...   \n",
       "2  Must have for any WWE Fan\\n \\n \\n \\nFeaturing ...   \n",
       "3  Infused with Vitamins and Electrolytes Good So...   \n",
       "4  MiO Energy is your portable energy source givi...   \n",
       "\n",
       "                                               imUrl        asin  \\\n",
       "0  http://ecx.images-amazon.com/images/I/41gFi5h0...  0657745316   \n",
       "1  http://ecx.images-amazon.com/images/I/51hs8sox...  0700026444   \n",
       "2  http://ecx.images-amazon.com/images/I/518SEST5...  1403796890   \n",
       "3  http://ecx.images-amazon.com/images/I/51CFQIis...  141278509X   \n",
       "4  http://ecx.images-amazon.com/images/I/51EUsMcn...  1453060375   \n",
       "\n",
       "                                               title  \\\n",
       "0            100 Percent All Natural Vanilla Extract   \n",
       "1                    Pure Darjeeling Tea: Loose Leaf   \n",
       "2  WWE Kids Todler Velvet Slippers featuring John...   \n",
       "3  Archer Farms Strawberry Dragonfruit Drink Mix ...   \n",
       "4  Mio Energy Liquid Water Enhancer Black Cherry ...   \n",
       "\n",
       "                            salesRank  price brand  overall reviewerName  \\\n",
       "0  {'Grocery & Gourmet Food': 374004}    NaN   NaN      NaN          NaN   \n",
       "1  {'Grocery & Gourmet Food': 620307}    NaN   NaN      NaN          NaN   \n",
       "2                                 NaN   3.99   NaN      NaN          NaN   \n",
       "3  {'Grocery & Gourmet Food': 620322}    NaN   NaN      NaN          NaN   \n",
       "4  {'Grocery & Gourmet Food': 268754}  11.99   Mio      NaN          NaN   \n",
       "\n",
       "  reviewText summary helpful reviewerID  unixReviewTime reviewTime cleanbrands  \n",
       "0        NaN     NaN     NaN        NaN             NaN        NaN         NaN  \n",
       "1        NaN     NaN     NaN        NaN             NaN        NaN         NaN  \n",
       "2        NaN     NaN     NaN        NaN             NaN        NaN         NaN  \n",
       "3        NaN     NaN     NaN        NaN             NaN        NaN         NaN  \n",
       "4        NaN     NaN     NaN        NaN             NaN        NaN         Mio  "
      ]
     },
     "execution_count": 44,
     "metadata": {},
     "output_type": "execute_result"
    }
   ],
   "source": [
    "#GET A LIST OF BRANDS TO FACILITATE MERGING WITH USDA\n",
    "st=[]\n",
    "for b in metadfmean['brand']:\n",
    "    if type(b) is float:\n",
    "        st.append(b)\n",
    "    elif type(b) is not float:\n",
    "        st.append(b.replace('&#39;',\"'\").replace('&reg;','').replace('&amp;','&'))\n",
    "metadfmean['cleanbrands']=st\n",
    "metadfmean.head()"
   ]
  },
  {
   "cell_type": "code",
   "execution_count": 45,
   "metadata": {
    "collapsed": true
   },
   "outputs": [
    {
     "name": "stdout",
     "output_type": "stream",
     "text": [
      "<class 'pandas.core.frame.DataFrame'>\n",
      "Int64Index: 314301 entries, 0 to 314300\n",
      "Data columns (total 18 columns):\n",
      "related           264646 non-null object\n",
      "categories        314301 non-null object\n",
      "description       290900 non-null object\n",
      "imUrl             313981 non-null object\n",
      "asin              314301 non-null object\n",
      "title             313967 non-null object\n",
      "salesRank         292953 non-null object\n",
      "price             232520 non-null float64\n",
      "brand             162188 non-null object\n",
      "overall           151254 non-null float64\n",
      "reviewerName      149761 non-null object\n",
      "reviewText        151254 non-null object\n",
      "summary           151254 non-null object\n",
      "helpful           151254 non-null object\n",
      "reviewerID        151254 non-null object\n",
      "unixReviewTime    151254 non-null float64\n",
      "reviewTime        151254 non-null object\n",
      "cleanbrands       162188 non-null object\n",
      "dtypes: float64(3), object(15)\n",
      "memory usage: 45.6+ MB\n"
     ]
    }
   ],
   "source": [
    "metadfmean.info()"
   ]
  },
  {
   "cell_type": "code",
   "execution_count": 52,
   "metadata": {
    "collapsed": true
   },
   "outputs": [
    {
     "data": {
      "text/plain": [
       "'This is real vanilla extract made with only 3 premium ingredients. GMO free, no fillers you find in store bought \"vanilla extract.\" \\n\\nThe taste will knock your socks off. Everyone will notice a difference in your baking and cooking and they\\'ll want to know your secret. I also use this for a special homemade coffee creamer that\\'s out of this world and I use it for tea and black coffee as well as espresso drinks. You can add this to make a vanilla latte and skip the sugary syrup for a healthier latte with more flavor! \\n\\nWhen this item arrives, there will also be instructions to refill the product as its used so that you won\\'t have to age it or repurchase it. I\\'ve been using the same vanilla for 2 years now and have friends who\\'ve had theirs for 5 years. It\\'s just as tasteful, just as sweet, strong, and yummy. \\n\\nI use only top shelf liquor and the product is aged a minimum of 4 months. \\n\\nThese also make great gifts. I currently have plenty on the shelf but they won\\'t be ready to use until February (just in time to bake your honey some sweets). Contact me for details. I also make designer jars, and can add any decorative details such as ribbon upon request. Please note, custom orders will require longer shipping and prices will vary depending on how detailed you\\'d like the jar or ribbons etc. \\n\\nMost of these will come in a small mason jar which contains approx 12-16 ounces of extract. The beans are right in the jar and I always throw in extra beans so your product will stay much longer for use in refilling. This product gets sweeter with time.. Like a fine wine it gets better with age.. So the longer you have it on the shelf the better it continues to get.'"
      ]
     },
     "execution_count": 52,
     "metadata": {},
     "output_type": "execute_result"
    }
   ],
   "source": [
    "metadfmean.description[0]"
   ]
  },
  {
   "cell_type": "code",
   "execution_count": 54,
   "metadata": {
    "collapsed": true
   },
   "outputs": [
    {
     "data": {
      "text/plain": [
       "related                                                                               {'also_viewed': ['B001GE8N4Y']}\n",
       "categories                                                                                 [[Grocery & Gourmet Food]]\n",
       "description       This is real vanilla extract made with only 3 premium ingredients. GMO free, no fillers you find...\n",
       "imUrl                                                   http://ecx.images-amazon.com/images/I/41gFi5h0jYL._SY300_.jpg\n",
       "asin                                                                                                       0657745316\n",
       "title                                                                         100 Percent All Natural Vanilla Extract\n",
       "salesRank                                                                          {'Grocery & Gourmet Food': 374004}\n",
       "price                                                                                                             NaN\n",
       "brand                                                                                                             NaN\n",
       "overall                                                                                                           NaN\n",
       "reviewerName                                                                                                      NaN\n",
       "reviewText                                                                                                        NaN\n",
       "summary                                                                                                           NaN\n",
       "helpful                                                                                                           NaN\n",
       "reviewerID                                                                                                        NaN\n",
       "unixReviewTime                                                                                                    NaN\n",
       "reviewTime                                                                                                        NaN\n",
       "cleanbrands                                                                                                       NaN\n",
       "Name: 0, dtype: object"
      ]
     },
     "execution_count": 54,
     "metadata": {},
     "output_type": "execute_result"
    }
   ],
   "source": [
    "metadfmean.iloc[0]"
   ]
  },
  {
   "cell_type": "code",
   "execution_count": 64,
   "metadata": {
    "collapsed": false
   },
   "outputs": [
    {
     "data": {
      "text/plain": [
       "[['Grocery & Gourmet Food'],\n",
       " ['Grocery & Gourmet Food'],\n",
       " ['Grocery & Gourmet Food'],\n",
       " ['Grocery & Gourmet Food'],\n",
       " ['Grocery & Gourmet Food'],\n",
       " ['Grocery & Gourmet Food'],\n",
       " ['Grocery & Gourmet Food'],\n",
       " ['Grocery & Gourmet Food'],\n",
       " ['Grocery & Gourmet Food', 'Beverages', 'Coffee', 'Coffee Substitutes'],\n",
       " ['Grocery & Gourmet Food']]"
      ]
     },
     "execution_count": 64,
     "metadata": {},
     "output_type": "execute_result"
    }
   ],
   "source": [
    "seram=[]\n",
    "for i in metadfmean.categories:#[metadfmean.categories.notnull()]:\n",
    "    seram.append(i[0])\n",
    " \n",
    "seram[:10]"
   ]
  },
  {
   "cell_type": "code",
   "execution_count": 78,
   "metadata": {
    "collapsed": false
   },
   "outputs": [
    {
     "data": {
      "text/html": [
       "<div>\n",
       "<table border=\"1\" class=\"dataframe\">\n",
       "  <thead>\n",
       "    <tr style=\"text-align: right;\">\n",
       "      <th></th>\n",
       "      <th>Maincat</th>\n",
       "      <th>cat</th>\n",
       "      <th>cat3_122</th>\n",
       "      <th>cat4_190</th>\n",
       "      <th>cat5</th>\n",
       "      <th>cat6</th>\n",
       "    </tr>\n",
       "  </thead>\n",
       "  <tbody>\n",
       "    <tr>\n",
       "      <th>0</th>\n",
       "      <td>Grocery &amp; Gourmet Food</td>\n",
       "      <td>None</td>\n",
       "      <td>None</td>\n",
       "      <td>None</td>\n",
       "      <td>None</td>\n",
       "      <td>None</td>\n",
       "    </tr>\n",
       "    <tr>\n",
       "      <th>1</th>\n",
       "      <td>Grocery &amp; Gourmet Food</td>\n",
       "      <td>None</td>\n",
       "      <td>None</td>\n",
       "      <td>None</td>\n",
       "      <td>None</td>\n",
       "      <td>None</td>\n",
       "    </tr>\n",
       "    <tr>\n",
       "      <th>2</th>\n",
       "      <td>Grocery &amp; Gourmet Food</td>\n",
       "      <td>None</td>\n",
       "      <td>None</td>\n",
       "      <td>None</td>\n",
       "      <td>None</td>\n",
       "      <td>None</td>\n",
       "    </tr>\n",
       "    <tr>\n",
       "      <th>3</th>\n",
       "      <td>Grocery &amp; Gourmet Food</td>\n",
       "      <td>None</td>\n",
       "      <td>None</td>\n",
       "      <td>None</td>\n",
       "      <td>None</td>\n",
       "      <td>None</td>\n",
       "    </tr>\n",
       "    <tr>\n",
       "      <th>4</th>\n",
       "      <td>Grocery &amp; Gourmet Food</td>\n",
       "      <td>None</td>\n",
       "      <td>None</td>\n",
       "      <td>None</td>\n",
       "      <td>None</td>\n",
       "      <td>None</td>\n",
       "    </tr>\n",
       "  </tbody>\n",
       "</table>\n",
       "</div>"
      ],
      "text/plain": [
       "                  Maincat   cat cat3_122 cat4_190  cat5  cat6\n",
       "0  Grocery & Gourmet Food  None     None     None  None  None\n",
       "1  Grocery & Gourmet Food  None     None     None  None  None\n",
       "2  Grocery & Gourmet Food  None     None     None  None  None\n",
       "3  Grocery & Gourmet Food  None     None     None  None  None\n",
       "4  Grocery & Gourmet Food  None     None     None  None  None"
      ]
     },
     "execution_count": 78,
     "metadata": {},
     "output_type": "execute_result"
    }
   ],
   "source": [
    "seramdf=pd.DataFrame(seram,columns=['Maincat','cat','cat3_122','cat4_190','cat5','cat6'])\n",
    "seramdf.head()"
   ]
  },
  {
   "cell_type": "code",
   "execution_count": 81,
   "metadata": {
    "collapsed": false
   },
   "outputs": [],
   "source": [
    "amause=metadfmean.join(seramdf)"
   ]
  },
  {
   "cell_type": "code",
   "execution_count": 88,
   "metadata": {
    "collapsed": false,
    "scrolled": true
   },
   "outputs": [
    {
     "data": {
      "text/plain": [
       "brand\n",
       "                                                   875\n",
       "&Uuml;lker                                          10\n",
       "&aacute;vitae                                      328\n",
       "&amp; Salty Popcorn Chips Baked Snacks (Pack 4)      1\n",
       "---                                                  1\n",
       "100 Calorie Packs                                   22\n",
       "100 Grand                                            3\n",
       "10K                                                  4\n",
       "123 Gluten Free                                     10\n",
       "17th Street BBQ                                      1\n",
       "18 Rabbits                                          10\n",
       "180 Snacks                                           7\n",
       "1883                                                 4\n",
       "1907                                                 1\n",
       "1st Endurance                                        3\n",
       "200000 Mg Glutathione                                1\n",
       "21st Century                                         2\n",
       "21st century snacks                                  2\n",
       "22 Days                                              8\n",
       "22 Days Nutrition                                    1\n",
       "24 Letter Mantra                                    11\n",
       "24 Mantra Organic                                    2\n",
       "3 Ballerina                                          4\n",
       "3 Ballerina Tea                                      1\n",
       "3 Ballerina Tea - Dieters Tea                        1\n",
       "3 Corazones                                          1\n",
       "3 Crab                                               1\n",
       "3 Musketeers                                        25\n",
       "3.15 pm Grain Master                                 1\n",
       "34 Degrees                                           5\n",
       "                                                  ... \n",
       "sasinee collection                                   1\n",
       "sea treasure                                         1\n",
       "shiroi koibito                                       1\n",
       "sicof                                                1\n",
       "signs up                                             1\n",
       "skybar                                               1\n",
       "smartwater                                           1\n",
       "sold by Makao Beach Trading Co.                      1\n",
       "solixir                                              2\n",
       "spiceandchili.com                                    1\n",
       "spicy king                                           1\n",
       "stacy                                                1\n",
       "steviacane                                           1\n",
       "sushihane                                            1\n",
       "tQ SPICY KING                                        1\n",
       "tahitian treat                                       1\n",
       "thegoldleafshop.com                                  1\n",
       "thinkThin                                          146\n",
       "thinkin&#39; of you                                  1\n",
       "toffee crisp                                         5\n",
       "treasuresofthesouth.com                              2\n",
       "tropical pepper                                      1\n",
       "tru sweets                                           7\n",
       "truRoots                                            51\n",
       "tsp spices                                           1\n",
       "vitaminwater                                         1\n",
       "walong marketing inc                                 1\n",
       "www.Allcoffee.com                                    2\n",
       "z                                                    1\n",
       "zaza                                                 4\n",
       "Name: title, dtype: int64"
      ]
     },
     "execution_count": 88,
     "metadata": {},
     "output_type": "execute_result"
    }
   ],
   "source": [
    "amause.groupby('brand')['title'].count()"
   ]
  },
  {
   "cell_type": "code",
   "execution_count": 93,
   "metadata": {
    "collapsed": false
   },
   "outputs": [
    {
     "data": {
      "text/plain": [
       "Index(['Bob's Red Mill', 'Green Mountain Coffee', 'Lipton', 'Barilla',\n",
       "       'Nutiva'],\n",
       "      dtype='object')"
      ]
     },
     "execution_count": 93,
     "metadata": {},
     "output_type": "execute_result"
    }
   ],
   "source": [
    "amb=amause.cleanbrands.value_counts().index \n",
    "amb[:5]\n",
    "pd.DataFrame(amb).to_csv('amb.csv')"
   ]
  },
  {
   "cell_type": "code",
   "execution_count": 98,
   "metadata": {
    "collapsed": false
   },
   "outputs": [
    {
     "name": "stdout",
     "output_type": "stream",
     "text": [
      "<class 'pandas.core.frame.DataFrame'>\n",
      "Int64Index: 314301 entries, 0 to 314300\n",
      "Data columns (total 24 columns):\n",
      "related           264646 non-null object\n",
      "categories        314301 non-null object\n",
      "description       290900 non-null object\n",
      "imUrl             313981 non-null object\n",
      "asin              314301 non-null object\n",
      "title             313967 non-null object\n",
      "salesRank         292953 non-null object\n",
      "price             232520 non-null float64\n",
      "brand             162188 non-null object\n",
      "overall           151254 non-null float64\n",
      "reviewerName      149761 non-null object\n",
      "reviewText        151254 non-null object\n",
      "summary           151254 non-null object\n",
      "helpful           151254 non-null object\n",
      "reviewerID        151254 non-null object\n",
      "unixReviewTime    151254 non-null float64\n",
      "reviewTime        151254 non-null object\n",
      "cleanbrands       162188 non-null object\n",
      "Maincat           314301 non-null object\n",
      "cat               16468 non-null object\n",
      "cat3_122          15833 non-null object\n",
      "cat4_190          10628 non-null object\n",
      "cat5              2653 non-null object\n",
      "cat6              138 non-null object\n",
      "dtypes: float64(3), object(21)\n",
      "memory usage: 59.9+ MB\n"
     ]
    }
   ],
   "source": [
    "amause.info()"
   ]
  },
  {
   "cell_type": "code",
   "execution_count": 104,
   "metadata": {
    "collapsed": false
   },
   "outputs": [
    {
     "data": {
      "text/plain": [
       "17    Just another flavor of Kit Kat but the taste is unique and a bit different.  The only thing that...\n",
       "18    I bought this on impulse and it comes from Japan,  which amused my family,  all those weird stam...\n",
       "19    Really good. Great gift for any fan of green tea! Just so expensive to purchase candy from acros...\n",
       "20    I had never had it before, was curious to see what it was like. Smooth, great subtle good flavor...\n",
       "21    I've been looking forward to trying these after hearing about how popular they were in Japan, an...\n",
       "Name: reviewText, dtype: object"
      ]
     },
     "execution_count": 104,
     "metadata": {},
     "output_type": "execute_result"
    }
   ],
   "source": [
    "amause.reviewText[amause.reviewText.notnull()].head()"
   ]
  },
  {
   "cell_type": "code",
   "execution_count": 97,
   "metadata": {
    "collapsed": false
   },
   "outputs": [
    {
     "data": {
      "text/html": [
       "<div>\n",
       "<table border=\"1\" class=\"dataframe\">\n",
       "  <thead>\n",
       "    <tr style=\"text-align: right;\">\n",
       "      <th></th>\n",
       "      <th>related</th>\n",
       "      <th>categories</th>\n",
       "      <th>description</th>\n",
       "      <th>imUrl</th>\n",
       "      <th>asin</th>\n",
       "      <th>title</th>\n",
       "      <th>salesRank</th>\n",
       "      <th>price</th>\n",
       "      <th>brand</th>\n",
       "      <th>overall</th>\n",
       "      <th>...</th>\n",
       "      <th>reviewerID</th>\n",
       "      <th>unixReviewTime</th>\n",
       "      <th>reviewTime</th>\n",
       "      <th>cleanbrands</th>\n",
       "      <th>Maincat</th>\n",
       "      <th>cat</th>\n",
       "      <th>cat3_122</th>\n",
       "      <th>cat4_190</th>\n",
       "      <th>cat5</th>\n",
       "      <th>cat6</th>\n",
       "    </tr>\n",
       "  </thead>\n",
       "  <tbody>\n",
       "    <tr>\n",
       "      <th>0</th>\n",
       "      <td>{'also_viewed': ['B001GE8N4Y']}</td>\n",
       "      <td>[[Grocery &amp; Gourmet Food]]</td>\n",
       "      <td>This is real vanilla extract made with only 3 premium ingredients. GMO free, no fillers you find...</td>\n",
       "      <td>http://ecx.images-amazon.com/images/I/41gFi5h0jYL._SY300_.jpg</td>\n",
       "      <td>0657745316</td>\n",
       "      <td>100 Percent All Natural Vanilla Extract</td>\n",
       "      <td>{'Grocery &amp; Gourmet Food': 374004}</td>\n",
       "      <td>NaN</td>\n",
       "      <td>NaN</td>\n",
       "      <td>NaN</td>\n",
       "      <td>...</td>\n",
       "      <td>NaN</td>\n",
       "      <td>NaN</td>\n",
       "      <td>NaN</td>\n",
       "      <td>NaN</td>\n",
       "      <td>Grocery &amp; Gourmet Food</td>\n",
       "      <td>None</td>\n",
       "      <td>None</td>\n",
       "      <td>None</td>\n",
       "      <td>None</td>\n",
       "      <td>None</td>\n",
       "    </tr>\n",
       "    <tr>\n",
       "      <th>1</th>\n",
       "      <td>NaN</td>\n",
       "      <td>[[Grocery &amp; Gourmet Food]]</td>\n",
       "      <td>Silverpot Tea, Pure Darjeeling, is an exquisite tea enjoyed at leisure, when you want to relax o...</td>\n",
       "      <td>http://ecx.images-amazon.com/images/I/51hs8sox%2BJL._SY300_.jpg</td>\n",
       "      <td>0700026444</td>\n",
       "      <td>Pure Darjeeling Tea: Loose Leaf</td>\n",
       "      <td>{'Grocery &amp; Gourmet Food': 620307}</td>\n",
       "      <td>NaN</td>\n",
       "      <td>NaN</td>\n",
       "      <td>NaN</td>\n",
       "      <td>...</td>\n",
       "      <td>NaN</td>\n",
       "      <td>NaN</td>\n",
       "      <td>NaN</td>\n",
       "      <td>NaN</td>\n",
       "      <td>Grocery &amp; Gourmet Food</td>\n",
       "      <td>None</td>\n",
       "      <td>None</td>\n",
       "      <td>None</td>\n",
       "      <td>None</td>\n",
       "      <td>None</td>\n",
       "    </tr>\n",
       "    <tr>\n",
       "      <th>2</th>\n",
       "      <td>NaN</td>\n",
       "      <td>[[Grocery &amp; Gourmet Food]]</td>\n",
       "      <td>Must have for any WWE Fan\\n \\n \\n \\nFeaturing John Cena slippers \\n\\nmade of velvet\\n \\ncolor Bl...</td>\n",
       "      <td>http://ecx.images-amazon.com/images/I/518SEST5DqL._SY300_.jpg</td>\n",
       "      <td>1403796890</td>\n",
       "      <td>WWE Kids Todler Velvet Slippers featuring John Cena size 7/8 Infants COLOR Black -</td>\n",
       "      <td>NaN</td>\n",
       "      <td>3.99</td>\n",
       "      <td>NaN</td>\n",
       "      <td>NaN</td>\n",
       "      <td>...</td>\n",
       "      <td>NaN</td>\n",
       "      <td>NaN</td>\n",
       "      <td>NaN</td>\n",
       "      <td>NaN</td>\n",
       "      <td>Grocery &amp; Gourmet Food</td>\n",
       "      <td>None</td>\n",
       "      <td>None</td>\n",
       "      <td>None</td>\n",
       "      <td>None</td>\n",
       "      <td>None</td>\n",
       "    </tr>\n",
       "    <tr>\n",
       "      <th>3</th>\n",
       "      <td>{'also_viewed': ['B0051IETTY']}</td>\n",
       "      <td>[[Grocery &amp; Gourmet Food]]</td>\n",
       "      <td>Infused with Vitamins and Electrolytes Good Source of Calcium</td>\n",
       "      <td>http://ecx.images-amazon.com/images/I/51CFQIisucL._SY300_.jpg</td>\n",
       "      <td>141278509X</td>\n",
       "      <td>Archer Farms Strawberry Dragonfruit Drink Mix 8-0.16 Oz Packets</td>\n",
       "      <td>{'Grocery &amp; Gourmet Food': 620322}</td>\n",
       "      <td>NaN</td>\n",
       "      <td>NaN</td>\n",
       "      <td>NaN</td>\n",
       "      <td>...</td>\n",
       "      <td>NaN</td>\n",
       "      <td>NaN</td>\n",
       "      <td>NaN</td>\n",
       "      <td>NaN</td>\n",
       "      <td>Grocery &amp; Gourmet Food</td>\n",
       "      <td>None</td>\n",
       "      <td>None</td>\n",
       "      <td>None</td>\n",
       "      <td>None</td>\n",
       "      <td>None</td>\n",
       "    </tr>\n",
       "    <tr>\n",
       "      <th>4</th>\n",
       "      <td>{'also_viewed': ['B006MSEOJ2', 'B005VOOQLO', 'B005VOOQKA', 'B00C121U9A', 'B00CEPYH6W', 'B009T6U1...</td>\n",
       "      <td>[[Grocery &amp; Gourmet Food]]</td>\n",
       "      <td>MiO Energy is your portable energy source giving you energy whenever and wherever you need it!\\n...</td>\n",
       "      <td>http://ecx.images-amazon.com/images/I/51EUsMcnVVL._SX300_.jpg</td>\n",
       "      <td>1453060375</td>\n",
       "      <td>Mio Energy Liquid Water Enhancer Black Cherry &amp;amp; Green Thunder 1.62oz</td>\n",
       "      <td>{'Grocery &amp; Gourmet Food': 268754}</td>\n",
       "      <td>11.99</td>\n",
       "      <td>Mio</td>\n",
       "      <td>NaN</td>\n",
       "      <td>...</td>\n",
       "      <td>NaN</td>\n",
       "      <td>NaN</td>\n",
       "      <td>NaN</td>\n",
       "      <td>Mio</td>\n",
       "      <td>Grocery &amp; Gourmet Food</td>\n",
       "      <td>None</td>\n",
       "      <td>None</td>\n",
       "      <td>None</td>\n",
       "      <td>None</td>\n",
       "      <td>None</td>\n",
       "    </tr>\n",
       "  </tbody>\n",
       "</table>\n",
       "<p>5 rows × 24 columns</p>\n",
       "</div>"
      ],
      "text/plain": [
       "                                                                                               related  \\\n",
       "0                                                                      {'also_viewed': ['B001GE8N4Y']}   \n",
       "1                                                                                                  NaN   \n",
       "2                                                                                                  NaN   \n",
       "3                                                                      {'also_viewed': ['B0051IETTY']}   \n",
       "4  {'also_viewed': ['B006MSEOJ2', 'B005VOOQLO', 'B005VOOQKA', 'B00C121U9A', 'B00CEPYH6W', 'B009T6U1...   \n",
       "\n",
       "                   categories  \\\n",
       "0  [[Grocery & Gourmet Food]]   \n",
       "1  [[Grocery & Gourmet Food]]   \n",
       "2  [[Grocery & Gourmet Food]]   \n",
       "3  [[Grocery & Gourmet Food]]   \n",
       "4  [[Grocery & Gourmet Food]]   \n",
       "\n",
       "                                                                                           description  \\\n",
       "0  This is real vanilla extract made with only 3 premium ingredients. GMO free, no fillers you find...   \n",
       "1  Silverpot Tea, Pure Darjeeling, is an exquisite tea enjoyed at leisure, when you want to relax o...   \n",
       "2  Must have for any WWE Fan\\n \\n \\n \\nFeaturing John Cena slippers \\n\\nmade of velvet\\n \\ncolor Bl...   \n",
       "3                                        Infused with Vitamins and Electrolytes Good Source of Calcium   \n",
       "4  MiO Energy is your portable energy source giving you energy whenever and wherever you need it!\\n...   \n",
       "\n",
       "                                                             imUrl  \\\n",
       "0    http://ecx.images-amazon.com/images/I/41gFi5h0jYL._SY300_.jpg   \n",
       "1  http://ecx.images-amazon.com/images/I/51hs8sox%2BJL._SY300_.jpg   \n",
       "2    http://ecx.images-amazon.com/images/I/518SEST5DqL._SY300_.jpg   \n",
       "3    http://ecx.images-amazon.com/images/I/51CFQIisucL._SY300_.jpg   \n",
       "4    http://ecx.images-amazon.com/images/I/51EUsMcnVVL._SX300_.jpg   \n",
       "\n",
       "         asin  \\\n",
       "0  0657745316   \n",
       "1  0700026444   \n",
       "2  1403796890   \n",
       "3  141278509X   \n",
       "4  1453060375   \n",
       "\n",
       "                                                                                title  \\\n",
       "0                                             100 Percent All Natural Vanilla Extract   \n",
       "1                                                     Pure Darjeeling Tea: Loose Leaf   \n",
       "2  WWE Kids Todler Velvet Slippers featuring John Cena size 7/8 Infants COLOR Black -   \n",
       "3                     Archer Farms Strawberry Dragonfruit Drink Mix 8-0.16 Oz Packets   \n",
       "4            Mio Energy Liquid Water Enhancer Black Cherry &amp; Green Thunder 1.62oz   \n",
       "\n",
       "                            salesRank  price brand  overall  ...  reviewerID  \\\n",
       "0  {'Grocery & Gourmet Food': 374004}    NaN   NaN      NaN  ...         NaN   \n",
       "1  {'Grocery & Gourmet Food': 620307}    NaN   NaN      NaN  ...         NaN   \n",
       "2                                 NaN   3.99   NaN      NaN  ...         NaN   \n",
       "3  {'Grocery & Gourmet Food': 620322}    NaN   NaN      NaN  ...         NaN   \n",
       "4  {'Grocery & Gourmet Food': 268754}  11.99   Mio      NaN  ...         NaN   \n",
       "\n",
       "  unixReviewTime reviewTime cleanbrands                 Maincat   cat  \\\n",
       "0            NaN        NaN         NaN  Grocery & Gourmet Food  None   \n",
       "1            NaN        NaN         NaN  Grocery & Gourmet Food  None   \n",
       "2            NaN        NaN         NaN  Grocery & Gourmet Food  None   \n",
       "3            NaN        NaN         NaN  Grocery & Gourmet Food  None   \n",
       "4            NaN        NaN         Mio  Grocery & Gourmet Food  None   \n",
       "\n",
       "  cat3_122 cat4_190  cat5  cat6  \n",
       "0     None     None  None  None  \n",
       "1     None     None  None  None  \n",
       "2     None     None  None  None  \n",
       "3     None     None  None  None  \n",
       "4     None     None  None  None  \n",
       "\n",
       "[5 rows x 24 columns]"
      ]
     },
     "execution_count": 97,
     "metadata": {},
     "output_type": "execute_result"
    }
   ],
   "source": [
    "amause.head()"
   ]
  },
  {
   "cell_type": "markdown",
   "metadata": {},
   "source": [
    "# Natural Language Processing\n",
    "## packages"
   ]
  },
  {
   "cell_type": "code",
   "execution_count": 96,
   "metadata": {
    "collapsed": false
   },
   "outputs": [
    {
     "name": "stdout",
     "output_type": "stream",
     "text": [
      "[nltk_data] Downloading package stopwords to\n",
      "[nltk_data]     /Users/meleciawright/nltk_data...\n",
      "[nltk_data]   Package stopwords is already up-to-date!\n"
     ]
    }
   ],
   "source": [
    "import re\n",
    "import nltk\n",
    "nltk.download('stopwords')\n",
    "from nltk.corpus import stopwords\n",
    "from nltk.stem.porter import PorterStemmer"
   ]
  },
  {
   "cell_type": "code",
   "execution_count": 105,
   "metadata": {
    "collapsed": false
   },
   "outputs": [
    {
     "data": {
      "text/plain": [
       "151254"
      ]
     },
     "execution_count": 105,
     "metadata": {},
     "output_type": "execute_result"
    }
   ],
   "source": [
    "amareviews=amause[amause.reviewText.notnull()]\n",
    "len(amareviews)"
   ]
  },
  {
   "cell_type": "code",
   "execution_count": 167,
   "metadata": {
    "collapsed": false
   },
   "outputs": [
    {
     "name": "stderr",
     "output_type": "stream",
     "text": [
      "/Users/meleciawright/anaconda/lib/python3.5/site-packages/ipykernel/__main__.py:1: SettingWithCopyWarning: \n",
      "A value is trying to be set on a copy of a slice from a DataFrame.\n",
      "Try using .loc[row_indexer,col_indexer] = value instead\n",
      "\n",
      "See the caveats in the documentation: http://pandas.pydata.org/pandas-docs/stable/indexing.html#indexing-view-versus-copy\n",
      "  if __name__ == '__main__':\n"
     ]
    }
   ],
   "source": [
    "amareviews['bistar'] = np.where(amareviews['overall']>4, 1, 0) "
   ]
  },
  {
   "cell_type": "code",
   "execution_count": 115,
   "metadata": {
    "collapsed": false
   },
   "outputs": [
    {
     "data": {
      "text/plain": [
       "'Just another flavor of Kit Kat but the taste is unique and a bit different.  The only thing that is bothersome is the price.  I thought it was a bit expensive....'"
      ]
     },
     "execution_count": 115,
     "metadata": {},
     "output_type": "execute_result"
    }
   ],
   "source": [
    "amareviews.reviewText[17]"
   ]
  },
  {
   "cell_type": "code",
   "execution_count": 149,
   "metadata": {
    "collapsed": false
   },
   "outputs": [
    {
     "data": {
      "text/plain": [
       "['Tea',\n",
       " 'Herbs, Spices & Seasonings',\n",
       " 'Baby Formula',\n",
       " 'Cooking Oils, Vinegars & Sprays',\n",
       " 'Coffee']"
      ]
     },
     "execution_count": 149,
     "metadata": {},
     "output_type": "execute_result"
    }
   ],
   "source": [
    "catind=amareviews.cat3_122.value_counts().index.tolist()\n",
    "for i,val in enumerate(catind):\n",
    "    catind[i]=val.lower()\n",
    "catind[:5]"
   ]
  },
  {
   "cell_type": "code",
   "execution_count": 153,
   "metadata": {
    "collapsed": true
   },
   "outputs": [],
   "source": [
    "(pd.DataFrame(catind)).to_csv('catind.csv')"
   ]
  },
  {
   "cell_type": "code",
   "execution_count": 154,
   "metadata": {
    "collapsed": true
   },
   "outputs": [],
   "source": [
    "# fuzz is used to compare TWO strings\n",
    "from fuzzywuzzy import fuzz\n",
    "\n",
    "# process is used to compare a string to MULTIPLE other strings\n",
    "from fuzzywuzzy import process"
   ]
  },
  {
   "cell_type": "code",
   "execution_count": 156,
   "metadata": {
    "collapsed": true
   },
   "outputs": [],
   "source": [
    "try1=process.extract('Japanese Kit Kat Maccha Green Tea Flavor (5 Bag) (4.91oz x 5)',\n",
    "                catind, limit=100, scorer=fuzz.token_sort_ratio)\n"
   ]
  },
  {
   "cell_type": "code",
   "execution_count": 157,
   "metadata": {
    "collapsed": false
   },
   "outputs": [
    {
     "data": {
      "text/plain": [
       "[('breakfast & cereal bars', 36),\n",
       " ('granola & trail mix bars', 35),\n",
       " ('baking chocolates, carob & cocoa', 33),\n",
       " ('sauces, gravies & marinades', 32),\n",
       " ('herbs, spices & seasonings', 28),\n",
       " ('cooking oils, vinegars & sprays', 28),\n",
       " ('meal replacement drinks', 28),\n",
       " ('leaveners & yeasts', 27),\n",
       " ('packaged meals & side dishes', 27),\n",
       " ('live indoor plants', 27),\n",
       " ('jerky & dried meats', 27),\n",
       " ('rice cakes, chips & crackers', 27),\n",
       " ('flours & meals', 26),\n",
       " ('condiments, pickles & relishes', 26),\n",
       " ('pasta & noodles', 26),\n",
       " ('applesauce & fruit cups', 26),\n",
       " ('syrups, sugars & sweeteners', 25),\n",
       " ('jams, jellies & sweet spreads', 24),\n",
       " ('frosting, icing & decorations', 24),\n",
       " ('baby formula', 23),\n",
       " ('fruit leather', 23),\n",
       " ('sugar substitutes', 22),\n",
       " ('canned & jarred food', 21),\n",
       " ('fruit snacks', 20),\n",
       " ('baking mixes', 20),\n",
       " ('pudding & gelatin', 19),\n",
       " ('soda syrups', 18),\n",
       " ('powdered drink mixes', 18),\n",
       " ('hot cocoa', 18),\n",
       " ('beverages', 18),\n",
       " ('assortments', 18),\n",
       " ('licorice', 18),\n",
       " ('food coloring', 17),\n",
       " ('cookies', 16),\n",
       " ('nuts & seeds', 15),\n",
       " ('caramels', 15),\n",
       " ('soft drinks', 15),\n",
       " ('hard candy', 15),\n",
       " ('energy drinks', 14),\n",
       " ('ginger candy', 14),\n",
       " ('sports drinks', 14),\n",
       " ('coffee', 13),\n",
       " ('fruit', 13),\n",
       " ('juices', 13),\n",
       " ('halva', 13),\n",
       " ('bars', 13),\n",
       " ('chewing gum', 12),\n",
       " ('popcorn', 12),\n",
       " ('cereals', 12),\n",
       " ('crackers', 12),\n",
       " ('party mix', 12),\n",
       " ('gummy candy', 12),\n",
       " ('chips & crisps', 12),\n",
       " ('pretzels', 12),\n",
       " ('tea', 10),\n",
       " ('water', 10)]"
      ]
     },
     "execution_count": 157,
     "metadata": {},
     "output_type": "execute_result"
    }
   ],
   "source": [
    "try1"
   ]
  },
  {
   "cell_type": "code",
   "execution_count": null,
   "metadata": {
    "collapsed": true
   },
   "outputs": [],
   "source": []
  },
  {
   "cell_type": "code",
   "execution_count": 155,
   "metadata": {
    "collapsed": false
   },
   "outputs": [
    {
     "data": {
      "text/plain": [
       "'Japanese Kit Kat Maccha Green Tea Flavor (5 Bag) (4.91oz x 5)'"
      ]
     },
     "execution_count": 155,
     "metadata": {},
     "output_type": "execute_result"
    }
   ],
   "source": [
    "metadfmean.title[20]"
   ]
  },
  {
   "cell_type": "code",
   "execution_count": null,
   "metadata": {
    "collapsed": true
   },
   "outputs": [],
   "source": []
  },
  {
   "cell_type": "code",
   "execution_count": null,
   "metadata": {
    "collapsed": true
   },
   "outputs": [],
   "source": [
    "for i in metadfmean[:1000].title:\n",
    "    possibilities = process.extract(metadfmean[:1000].title[20], a.names, limit=100, scorer=fuzz.token_sort_ratio)\n"
   ]
  },
  {
   "cell_type": "code",
   "execution_count": null,
   "metadata": {
    "collapsed": true
   },
   "outputs": [],
   "source": [
    "\n",
    "fuzz.ratio('Emjoi AP-18MS Emagine Epilator for Men, Black','ortho bug-b-gon max insect killer for lawns 1')\n",
    "fuzz.partial_ratio('Emjoi AP-18MS Emagine Epilator for Men, Black','ortho bug-b-gon max insect killer for lawns 1')\n",
    "possibilities = process.extract(x.uniquename[20], a.names, limit=100, scorer=fuzz.token_sort_ratio)\n"
   ]
  },
  {
   "cell_type": "code",
   "execution_count": 136,
   "metadata": {
    "collapsed": false
   },
   "outputs": [
    {
     "name": "stdout",
     "output_type": "stream",
     "text": [
      "<class 'pandas.core.frame.DataFrame'>\n",
      "Int64Index: 151254 entries, 17 to 314036\n",
      "Data columns (total 24 columns):\n",
      "related           145832 non-null object\n",
      "categories        151254 non-null object\n",
      "description       147553 non-null object\n",
      "imUrl             151065 non-null object\n",
      "asin              151254 non-null object\n",
      "title             151065 non-null object\n",
      "salesRank         144292 non-null object\n",
      "price             126734 non-null float64\n",
      "brand             104238 non-null object\n",
      "overall           151254 non-null float64\n",
      "reviewerName      149761 non-null object\n",
      "reviewText        151254 non-null object\n",
      "summary           151254 non-null object\n",
      "helpful           151254 non-null object\n",
      "reviewerID        151254 non-null object\n",
      "unixReviewTime    151254 non-null float64\n",
      "reviewTime        151254 non-null object\n",
      "cleanbrands       104238 non-null object\n",
      "Maincat           151254 non-null object\n",
      "cat               5425 non-null object\n",
      "cat3_122          5311 non-null object\n",
      "cat4_190          3402 non-null object\n",
      "cat5              1036 non-null object\n",
      "cat6              5 non-null object\n",
      "dtypes: float64(3), object(21)\n",
      "memory usage: 28.8+ MB\n"
     ]
    }
   ],
   "source": [
    "amareviews.info()"
   ]
  },
  {
   "cell_type": "code",
   "execution_count": null,
   "metadata": {
    "collapsed": true
   },
   "outputs": [],
   "source": []
  },
  {
   "cell_type": "code",
   "execution_count": null,
   "metadata": {
    "collapsed": true
   },
   "outputs": [],
   "source": []
  },
  {
   "cell_type": "code",
   "execution_count": 158,
   "metadata": {
    "collapsed": true
   },
   "outputs": [],
   "source": [
    "review=''\n",
    "corpus = []\n",
    "for i in (amareviews[:1000].index.tolist()):\n",
    "    review = re.sub('[^a-zA-Z]', ' ', amareviews.reviewText[i])\n",
    "    review = review.lower()\n",
    "    review = review.split()\n",
    "    ps = PorterStemmer()\n",
    "    review = [ps.stem(word) for word in review if not word in set(stopwords.words('english'))]\n",
    "    review = ' '.join(review)\n",
    "    corpus.append(review)"
   ]
  },
  {
   "cell_type": "code",
   "execution_count": 175,
   "metadata": {
    "collapsed": false
   },
   "outputs": [
    {
     "data": {
      "text/plain": [
       "(1000, 1500)"
      ]
     },
     "execution_count": 175,
     "metadata": {},
     "output_type": "execute_result"
    }
   ],
   "source": [
    "X.shape"
   ]
  },
  {
   "cell_type": "code",
   "execution_count": 176,
   "metadata": {
    "collapsed": false
   },
   "outputs": [
    {
     "data": {
      "text/plain": [
       "0.20634165046874794"
      ]
     },
     "execution_count": 176,
     "metadata": {},
     "output_type": "execute_result"
    }
   ],
   "source": [
    "31210/(120044+31210)"
   ]
  },
  {
   "cell_type": "code",
   "execution_count": null,
   "metadata": {
    "collapsed": true
   },
   "outputs": [],
   "source": []
  },
  {
   "cell_type": "code",
   "execution_count": null,
   "metadata": {
    "collapsed": true
   },
   "outputs": [],
   "source": []
  },
  {
   "cell_type": "code",
   "execution_count": 164,
   "metadata": {
    "collapsed": false
   },
   "outputs": [
    {
     "data": {
      "text/plain": [
       "1    120044\n",
       "0     31210\n",
       "Name: bistar, dtype: int64"
      ]
     },
     "execution_count": 164,
     "metadata": {},
     "output_type": "execute_result"
    }
   ],
   "source": [
    "amareviews.bistar.value_counts()"
   ]
  },
  {
   "cell_type": "code",
   "execution_count": 168,
   "metadata": {
    "collapsed": true
   },
   "outputs": [],
   "source": [
    "\n",
    "# Creating the Bag of Words model\n",
    "from sklearn.feature_extraction.text import CountVectorizer\n",
    "cv = CountVectorizer(max_features = 1500)\n",
    "X = cv.fit_transform(corpus).toarray()\n",
    "y = amareviews[:1000]['bistar'].values\n"
   ]
  },
  {
   "cell_type": "code",
   "execution_count": 169,
   "metadata": {
    "collapsed": false
   },
   "outputs": [
    {
     "data": {
      "text/plain": [
       "array([[41, 15],\n",
       "       [86, 58]])"
      ]
     },
     "execution_count": 169,
     "metadata": {},
     "output_type": "execute_result"
    }
   ],
   "source": [
    "# Splitting the dataset into the Training set and Test set\n",
    "from sklearn.model_selection import train_test_split\n",
    "X_train, X_test, y_train, y_test = train_test_split(X, y, test_size = 0.20, random_state = 0)\n",
    "\n",
    "# Fitting Naive Bayes to the Training set\n",
    "from sklearn.naive_bayes import GaussianNB\n",
    "classifier = GaussianNB()\n",
    "classifier.fit(X_train, y_train)\n",
    "\n",
    "# Predicting the Test set results\n",
    "y_pred = classifier.predict(X_test)\n",
    "\n",
    "# Making the Confusion Matrix\n",
    "from sklearn.metrics import confusion_matrix\n",
    "cm = confusion_matrix(y_test, y_pred)\n",
    "cm"
   ]
  },
  {
   "cell_type": "code",
   "execution_count": null,
   "metadata": {
    "collapsed": true
   },
   "outputs": [],
   "source": [
    "#cm 5 stars array([[41, 15],  [86, 58]]) "
   ]
  },
  {
   "cell_type": "code",
   "execution_count": 166,
   "metadata": {
    "collapsed": false
   },
   "outputs": [
    {
     "data": {
      "text/plain": [
       "array([[  9,  25],\n",
       "       [ 36, 130]])"
      ]
     },
     "execution_count": 166,
     "metadata": {},
     "output_type": "execute_result"
    }
   ],
   "source": [
    "#cm 4 or 5 array([[  9,  25],  [ 36, 130]])"
   ]
  },
  {
   "cell_type": "markdown",
   "metadata": {
    "collapsed": true
   },
   "source": [
    "# Natural Language Processing\n",
    "\n",
    "# Importing the libraries\n",
    "import numpy as np\n",
    "import matplotlib.pyplot as plt\n",
    "import pandas as pd\n",
    "\n",
    "# Importing the dataset\n",
    "dataset = pd.read_csv('Restaurant_Reviews.tsv', delimiter = '\\t', quoting = 3)\n",
    "\n",
    "# Cleaning the texts\n",
    "import re\n",
    "import nltk\n",
    "nltk.download('stopwords')\n",
    "from nltk.corpus import stopwords\n",
    "from nltk.stem.porter import PorterStemmer\n",
    "corpus = []\n",
    "for i in range(0, 1000):\n",
    "    review = re.sub('[^a-zA-Z]', ' ', dataset['Review'][i])\n",
    "    review = review.lower()\n",
    "    review = review.split()\n",
    "    ps = PorterStemmer()\n",
    "    review = [ps.stem(word) for word in review if not word in set(stopwords.words('english'))]\n",
    "    review = ' '.join(review)\n",
    "    corpus.append(review)\n",
    "\n",
    "# Creating the Bag of Words model\n",
    "from sklearn.feature_extraction.text import CountVectorizer\n",
    "cv = CountVectorizer(max_features = 1500)\n",
    "X = cv.fit_transform(corpus).toarray()\n",
    "y = dataset.iloc[:, 1].values\n",
    "\n",
    "# Splitting the dataset into the Training set and Test set\n",
    "from sklearn.model_selection import train_test_split\n",
    "X_train, X_test, y_train, y_test = train_test_split(X, y, test_size = 0.20, random_state = 0)\n",
    "\n",
    "# Fitting Naive Bayes to the Training set\n",
    "from sklearn.naive_bayes import GaussianNB\n",
    "classifier = GaussianNB()\n",
    "classifier.fit(X_train, y_train)\n",
    "\n",
    "# Predicting the Test set results\n",
    "y_pred = classifier.predict(X_test)\n",
    "\n",
    "# Making the Confusion Matrix\n",
    "from sklearn.metrics import confusion_matrix\n",
    "cm = confusion_matrix(y_test, y_pred)\n",
    "# Thanks\n",
    "To Julian McAuly for permitting use of data scraped by him/his team\n",
    "\n",
    "WWW / SIGIR papers  \n",
    "R. He, J. McAuley. Modeling the visual evolution of fashion trends\n",
    "with one-class collaborative filtering. WWW, 2016\n",
    "J. McAuley, C. Targett, J. Shi, A. van den Hengel. Image-based\n",
    "recommendations on styles and substitutes. SIGIR, 2015"
   ]
  },
  {
   "cell_type": "code",
   "execution_count": null,
   "metadata": {
    "collapsed": true
   },
   "outputs": [],
   "source": []
  },
  {
   "cell_type": "code",
   "execution_count": null,
   "metadata": {
    "collapsed": true
   },
   "outputs": [],
   "source": []
  }
 ],
 "metadata": {
  "anaconda-cloud": {},
  "kernelspec": {
   "display_name": "Python [conda root]",
   "language": "python",
   "name": "conda-root-py"
  },
  "language_info": {
   "codemirror_mode": {
    "name": "ipython",
    "version": 3
   },
   "file_extension": ".py",
   "mimetype": "text/x-python",
   "name": "python",
   "nbconvert_exporter": "python",
   "pygments_lexer": "ipython3",
   "version": "3.5.6"
  }
 },
 "nbformat": 4,
 "nbformat_minor": 2
}
