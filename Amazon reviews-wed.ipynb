{
 "cells": [
  {
   "cell_type": "code",
   "execution_count": 1,
   "metadata": {
    "collapsed": true
   },
   "outputs": [],
   "source": [
    "#import relevant packages\n",
    "import pandas as pd\n",
    "import numpy as np\n",
    "import gzip\n",
    "import matplotlib.pyplot as plt\n"
   ]
  },
  {
   "cell_type": "code",
   "execution_count": 2,
   "metadata": {
    "collapsed": false
   },
   "outputs": [
    {
     "data": {
      "text/html": [
       "<div>\n",
       "<table border=\"1\" class=\"dataframe\">\n",
       "  <thead>\n",
       "    <tr style=\"text-align: right;\">\n",
       "      <th></th>\n",
       "      <th>A1ZQZ8RJS1XVTX</th>\n",
       "      <th>0657745316</th>\n",
       "      <th>5.0</th>\n",
       "      <th>1381449600</th>\n",
       "    </tr>\n",
       "  </thead>\n",
       "  <tbody>\n",
       "    <tr>\n",
       "      <th>0</th>\n",
       "      <td>A31W38VGZAUUM4</td>\n",
       "      <td>0700026444</td>\n",
       "      <td>5.0</td>\n",
       "      <td>1354752000</td>\n",
       "    </tr>\n",
       "    <tr>\n",
       "      <th>1</th>\n",
       "      <td>A3I0AV0UJX5OH0</td>\n",
       "      <td>1403796890</td>\n",
       "      <td>1.0</td>\n",
       "      <td>1385942400</td>\n",
       "    </tr>\n",
       "    <tr>\n",
       "      <th>2</th>\n",
       "      <td>A3QAAOLIXKV383</td>\n",
       "      <td>1403796890</td>\n",
       "      <td>3.0</td>\n",
       "      <td>1307836800</td>\n",
       "    </tr>\n",
       "    <tr>\n",
       "      <th>3</th>\n",
       "      <td>AB1A5EGHHVA9M</td>\n",
       "      <td>141278509X</td>\n",
       "      <td>5.0</td>\n",
       "      <td>1332547200</td>\n",
       "    </tr>\n",
       "    <tr>\n",
       "      <th>4</th>\n",
       "      <td>A3DTB6RVENLQ9Q</td>\n",
       "      <td>1453060375</td>\n",
       "      <td>1.0</td>\n",
       "      <td>1362268800</td>\n",
       "    </tr>\n",
       "  </tbody>\n",
       "</table>\n",
       "</div>"
      ],
      "text/plain": [
       "   A1ZQZ8RJS1XVTX  0657745316  5.0  1381449600\n",
       "0  A31W38VGZAUUM4  0700026444  5.0  1354752000\n",
       "1  A3I0AV0UJX5OH0  1403796890  1.0  1385942400\n",
       "2  A3QAAOLIXKV383  1403796890  3.0  1307836800\n",
       "3   AB1A5EGHHVA9M  141278509X  5.0  1332547200\n",
       "4  A3DTB6RVENLQ9Q  1453060375  1.0  1362268800"
      ]
     },
     "execution_count": 2,
     "metadata": {},
     "output_type": "execute_result"
    }
   ],
   "source": [
    "#use jmc's code for pulling data in\n",
    "\n",
    "def parse(path):\n",
    "    g = gzip.open(path, 'r')\n",
    "    for l in g:\n",
    "        yield eval(l)\n",
    " \n",
    "def parse(path):\n",
    "    g = gzip.open(path, 'rb')\n",
    "    for l in g:\n",
    "        yield eval(l)\n",
    "\n",
    "def getDF(path):\n",
    "    i = 0\n",
    "    df = {}\n",
    "    for d in parse(path):\n",
    "        df[i] = d\n",
    "        i += 1\n",
    "    return pd.DataFrame.from_dict(df, orient='index')\n",
    "\n",
    "df = getDF('reviews_Grocery_and_Gourmet_Food_5.json.gz')\n",
    "meta=getDF('meta_Grocery_and_Gourmet_Food.json.gz')\n",
    "stars=pd.read_csv('ratings_Grocery_and_Gourmet_Food.csv')\n",
    "stars.head()"
   ]
  },
  {
   "cell_type": "code",
   "execution_count": 3,
   "metadata": {
    "collapsed": false
   },
   "outputs": [
    {
     "name": "stdout",
     "output_type": "stream",
     "text": [
      "1297156\n"
     ]
    },
    {
     "data": {
      "text/html": [
       "<div>\n",
       "<table border=\"1\" class=\"dataframe\">\n",
       "  <thead>\n",
       "    <tr style=\"text-align: right;\">\n",
       "      <th></th>\n",
       "      <th>asin</th>\n",
       "      <th>meanstars</th>\n",
       "    </tr>\n",
       "    <tr>\n",
       "      <th>asin</th>\n",
       "      <th></th>\n",
       "      <th></th>\n",
       "    </tr>\n",
       "  </thead>\n",
       "  <tbody>\n",
       "    <tr>\n",
       "      <th>0657745316</th>\n",
       "      <td>0657745316</td>\n",
       "      <td>5.0</td>\n",
       "    </tr>\n",
       "    <tr>\n",
       "      <th>0700026444</th>\n",
       "      <td>0700026444</td>\n",
       "      <td>5.0</td>\n",
       "    </tr>\n",
       "    <tr>\n",
       "      <th>1403796890</th>\n",
       "      <td>1403796890</td>\n",
       "      <td>2.0</td>\n",
       "    </tr>\n",
       "    <tr>\n",
       "      <th>141278509X</th>\n",
       "      <td>141278509X</td>\n",
       "      <td>5.0</td>\n",
       "    </tr>\n",
       "    <tr>\n",
       "      <th>1453060375</th>\n",
       "      <td>1453060375</td>\n",
       "      <td>1.0</td>\n",
       "    </tr>\n",
       "  </tbody>\n",
       "</table>\n",
       "</div>"
      ],
      "text/plain": [
       "                  asin  meanstars\n",
       "asin                             \n",
       "0657745316  0657745316        5.0\n",
       "0700026444  0700026444        5.0\n",
       "1403796890  1403796890        2.0\n",
       "141278509X  141278509X        5.0\n",
       "1453060375  1453060375        1.0"
      ]
     },
     "execution_count": 3,
     "metadata": {},
     "output_type": "execute_result"
    }
   ],
   "source": [
    "stars=pd.read_csv('ratings_Grocery_and_Gourmet_Food.csv',names=['reviewerID','asin','overall','unixReviewTime'])\n",
    "print(len(stars))\n",
    "meanstars=stars.groupby('asin').agg('mean')\n",
    "meanstars['asin']=meanstars.index\n",
    "meanstars['meanstars']=meanstars['overall']\n",
    "#meanstars=meanstars[['asin','meanstars']].reset_index()\n",
    "meanstars=meanstars[['asin','meanstars']]\n",
    "meanstars.head()"
   ]
  },
  {
   "cell_type": "code",
   "execution_count": null,
   "metadata": {
    "collapsed": true
   },
   "outputs": [],
   "source": [
    "# Cleaning the texts\n",
    "import re\n",
    "import nltk\n",
    "nltk.download('stopwords')\n",
    "from nltk.corpus import stopwords\n",
    "from nltk.stem.porter import PorterStemmer\n"
   ]
  },
  {
   "cell_type": "code",
   "execution_count": null,
   "metadata": {
    "collapsed": true
   },
   "outputs": [],
   "source": [
    "corpus = []\n",
    "for i in range(0, 1000):\n",
    "    review = re.sub('[^a-zA-Z]', ' ', dataset['Review'][i])\n",
    "    review = review.lower()\n",
    "    review = review.split()\n",
    "    ps = PorterStemmer()\n",
    "    review = [ps.stem(word) for word in review if not word in set(stopwords.words('english'))]\n",
    "    review = ' '.join(review)\n",
    "    corpus.append(review)\n"
   ]
  },
  {
   "cell_type": "markdown",
   "metadata": {},
   "source": [
    "### merge reviews and meta dfs\n",
    "WHAT'S POSITIVE OR NEGATIVE? "
   ]
  },
  {
   "cell_type": "code",
   "execution_count": 3,
   "metadata": {
    "collapsed": false
   },
   "outputs": [
    {
     "name": "stdout",
     "output_type": "stream",
     "text": [
      "<class 'pandas.core.frame.DataFrame'>\n",
      "Int64Index: 151254 entries, 0 to 151253\n",
      "Data columns (total 9 columns):\n",
      "summary           151254 non-null object\n",
      "overall           151254 non-null float64\n",
      "unixReviewTime    151254 non-null int64\n",
      "reviewTime        151254 non-null object\n",
      "helpful           151254 non-null object\n",
      "reviewText        151254 non-null object\n",
      "reviewerName      149761 non-null object\n",
      "asin              151254 non-null object\n",
      "reviewerID        151254 non-null object\n",
      "dtypes: float64(1), int64(1), object(7)\n",
      "memory usage: 11.5+ MB\n"
     ]
    }
   ],
   "source": [
    "df.info()"
   ]
  },
  {
   "cell_type": "code",
   "execution_count": 5,
   "metadata": {
    "collapsed": false
   },
   "outputs": [
    {
     "name": "stdout",
     "output_type": "stream",
     "text": [
      "<class 'pandas.core.frame.DataFrame'>\n",
      "Int64Index: 171760 entries, 0 to 171759\n",
      "Data columns (total 9 columns):\n",
      "imUrl          171616 non-null object\n",
      "categories     171760 non-null object\n",
      "description    151817 non-null object\n",
      "title          171602 non-null object\n",
      "related        127270 non-null object\n",
      "asin           171760 non-null object\n",
      "salesRank      156972 non-null object\n",
      "price          113152 non-null float64\n",
      "brand          63905 non-null object\n",
      "dtypes: float64(1), object(8)\n",
      "memory usage: 13.1+ MB\n"
     ]
    }
   ],
   "source": [
    "meta.info()"
   ]
  },
  {
   "cell_type": "code",
   "execution_count": 6,
   "metadata": {
    "collapsed": false,
    "scrolled": true
   },
   "outputs": [
    {
     "name": "stdout",
     "output_type": "stream",
     "text": [
      "171760 151254 314301\n",
      "171760 151254 314301 166049 314301\n"
     ]
    },
    {
     "data": {
      "text/html": [
       "<div>\n",
       "<table border=\"1\" class=\"dataframe\">\n",
       "  <thead>\n",
       "    <tr style=\"text-align: right;\">\n",
       "      <th></th>\n",
       "      <th>related</th>\n",
       "      <th>categories</th>\n",
       "      <th>description</th>\n",
       "      <th>imUrl</th>\n",
       "      <th>asin</th>\n",
       "      <th>title</th>\n",
       "      <th>salesRank</th>\n",
       "      <th>price</th>\n",
       "      <th>brand</th>\n",
       "      <th>overall</th>\n",
       "      <th>reviewerName</th>\n",
       "      <th>reviewText</th>\n",
       "      <th>summary</th>\n",
       "      <th>helpful</th>\n",
       "      <th>reviewerID</th>\n",
       "      <th>unixReviewTime</th>\n",
       "      <th>reviewTime</th>\n",
       "    </tr>\n",
       "  </thead>\n",
       "  <tbody>\n",
       "    <tr>\n",
       "      <th>0</th>\n",
       "      <td>{'also_viewed': ['B001GE8N4Y']}</td>\n",
       "      <td>[[Grocery &amp; Gourmet Food]]</td>\n",
       "      <td>This is real vanilla extract made with only 3 ...</td>\n",
       "      <td>http://ecx.images-amazon.com/images/I/41gFi5h0...</td>\n",
       "      <td>0657745316</td>\n",
       "      <td>100 Percent All Natural Vanilla Extract</td>\n",
       "      <td>{'Grocery &amp; Gourmet Food': 374004}</td>\n",
       "      <td>NaN</td>\n",
       "      <td>NaN</td>\n",
       "      <td>NaN</td>\n",
       "      <td>NaN</td>\n",
       "      <td>NaN</td>\n",
       "      <td>NaN</td>\n",
       "      <td>NaN</td>\n",
       "      <td>NaN</td>\n",
       "      <td>NaN</td>\n",
       "      <td>NaN</td>\n",
       "    </tr>\n",
       "    <tr>\n",
       "      <th>1</th>\n",
       "      <td>NaN</td>\n",
       "      <td>[[Grocery &amp; Gourmet Food]]</td>\n",
       "      <td>Silverpot Tea, Pure Darjeeling, is an exquisit...</td>\n",
       "      <td>http://ecx.images-amazon.com/images/I/51hs8sox...</td>\n",
       "      <td>0700026444</td>\n",
       "      <td>Pure Darjeeling Tea: Loose Leaf</td>\n",
       "      <td>{'Grocery &amp; Gourmet Food': 620307}</td>\n",
       "      <td>NaN</td>\n",
       "      <td>NaN</td>\n",
       "      <td>NaN</td>\n",
       "      <td>NaN</td>\n",
       "      <td>NaN</td>\n",
       "      <td>NaN</td>\n",
       "      <td>NaN</td>\n",
       "      <td>NaN</td>\n",
       "      <td>NaN</td>\n",
       "      <td>NaN</td>\n",
       "    </tr>\n",
       "    <tr>\n",
       "      <th>2</th>\n",
       "      <td>NaN</td>\n",
       "      <td>[[Grocery &amp; Gourmet Food]]</td>\n",
       "      <td>Must have for any WWE Fan\\n \\n \\n \\nFeaturing ...</td>\n",
       "      <td>http://ecx.images-amazon.com/images/I/518SEST5...</td>\n",
       "      <td>1403796890</td>\n",
       "      <td>WWE Kids Todler Velvet Slippers featuring John...</td>\n",
       "      <td>NaN</td>\n",
       "      <td>3.99</td>\n",
       "      <td>NaN</td>\n",
       "      <td>NaN</td>\n",
       "      <td>NaN</td>\n",
       "      <td>NaN</td>\n",
       "      <td>NaN</td>\n",
       "      <td>NaN</td>\n",
       "      <td>NaN</td>\n",
       "      <td>NaN</td>\n",
       "      <td>NaN</td>\n",
       "    </tr>\n",
       "    <tr>\n",
       "      <th>3</th>\n",
       "      <td>{'also_viewed': ['B0051IETTY']}</td>\n",
       "      <td>[[Grocery &amp; Gourmet Food]]</td>\n",
       "      <td>Infused with Vitamins and Electrolytes Good So...</td>\n",
       "      <td>http://ecx.images-amazon.com/images/I/51CFQIis...</td>\n",
       "      <td>141278509X</td>\n",
       "      <td>Archer Farms Strawberry Dragonfruit Drink Mix ...</td>\n",
       "      <td>{'Grocery &amp; Gourmet Food': 620322}</td>\n",
       "      <td>NaN</td>\n",
       "      <td>NaN</td>\n",
       "      <td>NaN</td>\n",
       "      <td>NaN</td>\n",
       "      <td>NaN</td>\n",
       "      <td>NaN</td>\n",
       "      <td>NaN</td>\n",
       "      <td>NaN</td>\n",
       "      <td>NaN</td>\n",
       "      <td>NaN</td>\n",
       "    </tr>\n",
       "    <tr>\n",
       "      <th>4</th>\n",
       "      <td>{'also_viewed': ['B006MSEOJ2', 'B005VOOQLO', '...</td>\n",
       "      <td>[[Grocery &amp; Gourmet Food]]</td>\n",
       "      <td>MiO Energy is your portable energy source givi...</td>\n",
       "      <td>http://ecx.images-amazon.com/images/I/51EUsMcn...</td>\n",
       "      <td>1453060375</td>\n",
       "      <td>Mio Energy Liquid Water Enhancer Black Cherry ...</td>\n",
       "      <td>{'Grocery &amp; Gourmet Food': 268754}</td>\n",
       "      <td>11.99</td>\n",
       "      <td>Mio</td>\n",
       "      <td>NaN</td>\n",
       "      <td>NaN</td>\n",
       "      <td>NaN</td>\n",
       "      <td>NaN</td>\n",
       "      <td>NaN</td>\n",
       "      <td>NaN</td>\n",
       "      <td>NaN</td>\n",
       "      <td>NaN</td>\n",
       "    </tr>\n",
       "  </tbody>\n",
       "</table>\n",
       "</div>"
      ],
      "text/plain": [
       "                                             related  \\\n",
       "0                    {'also_viewed': ['B001GE8N4Y']}   \n",
       "1                                                NaN   \n",
       "2                                                NaN   \n",
       "3                    {'also_viewed': ['B0051IETTY']}   \n",
       "4  {'also_viewed': ['B006MSEOJ2', 'B005VOOQLO', '...   \n",
       "\n",
       "                   categories  \\\n",
       "0  [[Grocery & Gourmet Food]]   \n",
       "1  [[Grocery & Gourmet Food]]   \n",
       "2  [[Grocery & Gourmet Food]]   \n",
       "3  [[Grocery & Gourmet Food]]   \n",
       "4  [[Grocery & Gourmet Food]]   \n",
       "\n",
       "                                         description  \\\n",
       "0  This is real vanilla extract made with only 3 ...   \n",
       "1  Silverpot Tea, Pure Darjeeling, is an exquisit...   \n",
       "2  Must have for any WWE Fan\\n \\n \\n \\nFeaturing ...   \n",
       "3  Infused with Vitamins and Electrolytes Good So...   \n",
       "4  MiO Energy is your portable energy source givi...   \n",
       "\n",
       "                                               imUrl        asin  \\\n",
       "0  http://ecx.images-amazon.com/images/I/41gFi5h0...  0657745316   \n",
       "1  http://ecx.images-amazon.com/images/I/51hs8sox...  0700026444   \n",
       "2  http://ecx.images-amazon.com/images/I/518SEST5...  1403796890   \n",
       "3  http://ecx.images-amazon.com/images/I/51CFQIis...  141278509X   \n",
       "4  http://ecx.images-amazon.com/images/I/51EUsMcn...  1453060375   \n",
       "\n",
       "                                               title  \\\n",
       "0            100 Percent All Natural Vanilla Extract   \n",
       "1                    Pure Darjeeling Tea: Loose Leaf   \n",
       "2  WWE Kids Todler Velvet Slippers featuring John...   \n",
       "3  Archer Farms Strawberry Dragonfruit Drink Mix ...   \n",
       "4  Mio Energy Liquid Water Enhancer Black Cherry ...   \n",
       "\n",
       "                            salesRank  price brand  overall reviewerName  \\\n",
       "0  {'Grocery & Gourmet Food': 374004}    NaN   NaN      NaN          NaN   \n",
       "1  {'Grocery & Gourmet Food': 620307}    NaN   NaN      NaN          NaN   \n",
       "2                                 NaN   3.99   NaN      NaN          NaN   \n",
       "3  {'Grocery & Gourmet Food': 620322}    NaN   NaN      NaN          NaN   \n",
       "4  {'Grocery & Gourmet Food': 268754}  11.99   Mio      NaN          NaN   \n",
       "\n",
       "  reviewText summary helpful reviewerID  unixReviewTime reviewTime  \n",
       "0        NaN     NaN     NaN        NaN             NaN        NaN  \n",
       "1        NaN     NaN     NaN        NaN             NaN        NaN  \n",
       "2        NaN     NaN     NaN        NaN             NaN        NaN  \n",
       "3        NaN     NaN     NaN        NaN             NaN        NaN  \n",
       "4        NaN     NaN     NaN        NaN             NaN        NaN  "
      ]
     },
     "execution_count": 6,
     "metadata": {},
     "output_type": "execute_result"
    }
   ],
   "source": [
    "metadf=pd.merge(meta,df,on='asin',how='outer')\n",
    "print(len(meta),len(df),len(metadf))\n",
    "metadf.head()\n",
    "metadfmean=pd.merge(metadf,meanstars[['asin']],on='asin',how='outer')\n",
    "print(len(meta),len(df),len(metadf),len(meanstars),len(metadfmean))\n",
    "metadfmean.head()"
   ]
  },
  {
   "cell_type": "code",
   "execution_count": 7,
   "metadata": {
    "collapsed": false
   },
   "outputs": [
    {
     "name": "stdout",
     "output_type": "stream",
     "text": [
      "<class 'pandas.core.frame.DataFrame'>\n",
      "Int64Index: 314301 entries, 0 to 314300\n",
      "Data columns (total 17 columns):\n",
      "related           264646 non-null object\n",
      "categories        314301 non-null object\n",
      "description       290900 non-null object\n",
      "imUrl             313981 non-null object\n",
      "asin              314301 non-null object\n",
      "title             313967 non-null object\n",
      "salesRank         292953 non-null object\n",
      "price             232520 non-null float64\n",
      "brand             162188 non-null object\n",
      "overall           151254 non-null float64\n",
      "reviewerName      149761 non-null object\n",
      "reviewText        151254 non-null object\n",
      "summary           151254 non-null object\n",
      "helpful           151254 non-null object\n",
      "reviewerID        151254 non-null object\n",
      "unixReviewTime    151254 non-null float64\n",
      "reviewTime        151254 non-null object\n",
      "dtypes: float64(3), object(14)\n",
      "memory usage: 43.2+ MB\n"
     ]
    }
   ],
   "source": [
    "metadfmean.info()"
   ]
  },
  {
   "cell_type": "code",
   "execution_count": 8,
   "metadata": {
    "collapsed": true
   },
   "outputs": [],
   "source": [
    "metadfmean.to_csv('amawed.csv')"
   ]
  },
  {
   "cell_type": "code",
   "execution_count": 44,
   "metadata": {
    "collapsed": true
   },
   "outputs": [
    {
     "name": "stdout",
     "output_type": "stream",
     "text": [
      "<class 'pandas.core.frame.DataFrame'>\n",
      "Int64Index: 171760 entries, 0 to 171759\n",
      "Data columns (total 9 columns):\n",
      "imUrl          171616 non-null object\n",
      "categories     171760 non-null object\n",
      "description    151817 non-null object\n",
      "title          171602 non-null object\n",
      "related        127270 non-null object\n",
      "asin           171760 non-null object\n",
      "salesRank      156972 non-null object\n",
      "price          113152 non-null float64\n",
      "brand          63905 non-null object\n",
      "dtypes: float64(1), object(8)\n",
      "memory usage: 13.1+ MB\n",
      "None\n",
      "<class 'pandas.core.frame.DataFrame'>\n",
      "Int64Index: 151254 entries, 0 to 151253\n",
      "Data columns (total 9 columns):\n",
      "summary           151254 non-null object\n",
      "overall           151254 non-null float64\n",
      "unixReviewTime    151254 non-null int64\n",
      "reviewTime        151254 non-null object\n",
      "helpful           151254 non-null object\n",
      "reviewText        151254 non-null object\n",
      "reviewerName      149761 non-null object\n",
      "asin              151254 non-null object\n",
      "reviewerID        151254 non-null object\n",
      "dtypes: float64(1), int64(1), object(7)\n",
      "memory usage: 11.5+ MB\n",
      "None\n",
      "<class 'pandas.core.frame.DataFrame'>\n",
      "Int64Index: 314301 entries, 0 to 314300\n",
      "Data columns (total 17 columns):\n",
      "imUrl             313981 non-null object\n",
      "categories        314301 non-null object\n",
      "description       290900 non-null object\n",
      "title             313967 non-null object\n",
      "related           264646 non-null object\n",
      "asin              314301 non-null object\n",
      "salesRank         292953 non-null object\n",
      "price             232520 non-null float64\n",
      "brand             162188 non-null object\n",
      "summary           151254 non-null object\n",
      "overall           151254 non-null float64\n",
      "unixReviewTime    151254 non-null float64\n",
      "reviewTime        151254 non-null object\n",
      "helpful           151254 non-null object\n",
      "reviewText        151254 non-null object\n",
      "reviewerName      149761 non-null object\n",
      "reviewerID        151254 non-null object\n",
      "dtypes: float64(3), object(14)\n",
      "memory usage: 43.2+ MB\n",
      "None\n",
      "<class 'pandas.core.frame.DataFrame'>\n",
      "Int64Index: 314301 entries, 0 to 314300\n",
      "Data columns (total 19 columns):\n",
      "imUrl               313981 non-null object\n",
      "categories          314301 non-null object\n",
      "description         290900 non-null object\n",
      "title               313967 non-null object\n",
      "related             264646 non-null object\n",
      "asin                314301 non-null object\n",
      "salesRank           292953 non-null object\n",
      "price               232520 non-null float64\n",
      "brand               162188 non-null object\n",
      "summary             151254 non-null object\n",
      "overall_x           151254 non-null float64\n",
      "unixReviewTime_x    151254 non-null float64\n",
      "reviewTime          151254 non-null object\n",
      "helpful             151254 non-null object\n",
      "reviewText          151254 non-null object\n",
      "reviewerName        149761 non-null object\n",
      "reviewerID          151254 non-null object\n",
      "overall_y           308590 non-null float64\n",
      "unixReviewTime_y    308590 non-null float64\n",
      "dtypes: float64(5), object(14)\n",
      "memory usage: 48.0+ MB\n",
      "None\n"
     ]
    }
   ],
   "source": [
    "for x in [meta,df, metadf,metadfmean]:\n",
    "    print(x.info())"
   ]
  },
  {
   "cell_type": "code",
   "execution_count": 24,
   "metadata": {
    "collapsed": false
   },
   "outputs": [],
   "source": [
    "#GET A LIST OF BRANDS TO FACILITATE MERGING WITH USDA\n",
    "st=[]\n",
    "for b in metadfmean['brand'][metadfmean.brand.notnull()]:\n",
    "    st.append(b.replace('&#39;',\"'\").replace('&reg;','').replace('&amp;','&'))\n",
    "#metadfmean['cleanbrands']=st\n",
    "#metadfmean.info()"
   ]
  },
  {
   "cell_type": "code",
   "execution_count": 44,
   "metadata": {
    "collapsed": false
   },
   "outputs": [
    {
     "data": {
      "text/html": [
       "<div>\n",
       "<table border=\"1\" class=\"dataframe\">\n",
       "  <thead>\n",
       "    <tr style=\"text-align: right;\">\n",
       "      <th></th>\n",
       "      <th>related</th>\n",
       "      <th>categories</th>\n",
       "      <th>description</th>\n",
       "      <th>imUrl</th>\n",
       "      <th>asin</th>\n",
       "      <th>title</th>\n",
       "      <th>salesRank</th>\n",
       "      <th>price</th>\n",
       "      <th>brand</th>\n",
       "      <th>overall</th>\n",
       "      <th>reviewerName</th>\n",
       "      <th>reviewText</th>\n",
       "      <th>summary</th>\n",
       "      <th>helpful</th>\n",
       "      <th>reviewerID</th>\n",
       "      <th>unixReviewTime</th>\n",
       "      <th>reviewTime</th>\n",
       "      <th>cleanbrands</th>\n",
       "    </tr>\n",
       "  </thead>\n",
       "  <tbody>\n",
       "    <tr>\n",
       "      <th>0</th>\n",
       "      <td>{'also_viewed': ['B001GE8N4Y']}</td>\n",
       "      <td>[[Grocery &amp; Gourmet Food]]</td>\n",
       "      <td>This is real vanilla extract made with only 3 ...</td>\n",
       "      <td>http://ecx.images-amazon.com/images/I/41gFi5h0...</td>\n",
       "      <td>0657745316</td>\n",
       "      <td>100 Percent All Natural Vanilla Extract</td>\n",
       "      <td>{'Grocery &amp; Gourmet Food': 374004}</td>\n",
       "      <td>NaN</td>\n",
       "      <td>NaN</td>\n",
       "      <td>NaN</td>\n",
       "      <td>NaN</td>\n",
       "      <td>NaN</td>\n",
       "      <td>NaN</td>\n",
       "      <td>NaN</td>\n",
       "      <td>NaN</td>\n",
       "      <td>NaN</td>\n",
       "      <td>NaN</td>\n",
       "      <td>NaN</td>\n",
       "    </tr>\n",
       "    <tr>\n",
       "      <th>1</th>\n",
       "      <td>NaN</td>\n",
       "      <td>[[Grocery &amp; Gourmet Food]]</td>\n",
       "      <td>Silverpot Tea, Pure Darjeeling, is an exquisit...</td>\n",
       "      <td>http://ecx.images-amazon.com/images/I/51hs8sox...</td>\n",
       "      <td>0700026444</td>\n",
       "      <td>Pure Darjeeling Tea: Loose Leaf</td>\n",
       "      <td>{'Grocery &amp; Gourmet Food': 620307}</td>\n",
       "      <td>NaN</td>\n",
       "      <td>NaN</td>\n",
       "      <td>NaN</td>\n",
       "      <td>NaN</td>\n",
       "      <td>NaN</td>\n",
       "      <td>NaN</td>\n",
       "      <td>NaN</td>\n",
       "      <td>NaN</td>\n",
       "      <td>NaN</td>\n",
       "      <td>NaN</td>\n",
       "      <td>NaN</td>\n",
       "    </tr>\n",
       "    <tr>\n",
       "      <th>2</th>\n",
       "      <td>NaN</td>\n",
       "      <td>[[Grocery &amp; Gourmet Food]]</td>\n",
       "      <td>Must have for any WWE Fan\\n \\n \\n \\nFeaturing ...</td>\n",
       "      <td>http://ecx.images-amazon.com/images/I/518SEST5...</td>\n",
       "      <td>1403796890</td>\n",
       "      <td>WWE Kids Todler Velvet Slippers featuring John...</td>\n",
       "      <td>NaN</td>\n",
       "      <td>3.99</td>\n",
       "      <td>NaN</td>\n",
       "      <td>NaN</td>\n",
       "      <td>NaN</td>\n",
       "      <td>NaN</td>\n",
       "      <td>NaN</td>\n",
       "      <td>NaN</td>\n",
       "      <td>NaN</td>\n",
       "      <td>NaN</td>\n",
       "      <td>NaN</td>\n",
       "      <td>NaN</td>\n",
       "    </tr>\n",
       "    <tr>\n",
       "      <th>3</th>\n",
       "      <td>{'also_viewed': ['B0051IETTY']}</td>\n",
       "      <td>[[Grocery &amp; Gourmet Food]]</td>\n",
       "      <td>Infused with Vitamins and Electrolytes Good So...</td>\n",
       "      <td>http://ecx.images-amazon.com/images/I/51CFQIis...</td>\n",
       "      <td>141278509X</td>\n",
       "      <td>Archer Farms Strawberry Dragonfruit Drink Mix ...</td>\n",
       "      <td>{'Grocery &amp; Gourmet Food': 620322}</td>\n",
       "      <td>NaN</td>\n",
       "      <td>NaN</td>\n",
       "      <td>NaN</td>\n",
       "      <td>NaN</td>\n",
       "      <td>NaN</td>\n",
       "      <td>NaN</td>\n",
       "      <td>NaN</td>\n",
       "      <td>NaN</td>\n",
       "      <td>NaN</td>\n",
       "      <td>NaN</td>\n",
       "      <td>NaN</td>\n",
       "    </tr>\n",
       "    <tr>\n",
       "      <th>4</th>\n",
       "      <td>{'also_viewed': ['B006MSEOJ2', 'B005VOOQLO', '...</td>\n",
       "      <td>[[Grocery &amp; Gourmet Food]]</td>\n",
       "      <td>MiO Energy is your portable energy source givi...</td>\n",
       "      <td>http://ecx.images-amazon.com/images/I/51EUsMcn...</td>\n",
       "      <td>1453060375</td>\n",
       "      <td>Mio Energy Liquid Water Enhancer Black Cherry ...</td>\n",
       "      <td>{'Grocery &amp; Gourmet Food': 268754}</td>\n",
       "      <td>11.99</td>\n",
       "      <td>Mio</td>\n",
       "      <td>NaN</td>\n",
       "      <td>NaN</td>\n",
       "      <td>NaN</td>\n",
       "      <td>NaN</td>\n",
       "      <td>NaN</td>\n",
       "      <td>NaN</td>\n",
       "      <td>NaN</td>\n",
       "      <td>NaN</td>\n",
       "      <td>Mio</td>\n",
       "    </tr>\n",
       "  </tbody>\n",
       "</table>\n",
       "</div>"
      ],
      "text/plain": [
       "                                             related  \\\n",
       "0                    {'also_viewed': ['B001GE8N4Y']}   \n",
       "1                                                NaN   \n",
       "2                                                NaN   \n",
       "3                    {'also_viewed': ['B0051IETTY']}   \n",
       "4  {'also_viewed': ['B006MSEOJ2', 'B005VOOQLO', '...   \n",
       "\n",
       "                   categories  \\\n",
       "0  [[Grocery & Gourmet Food]]   \n",
       "1  [[Grocery & Gourmet Food]]   \n",
       "2  [[Grocery & Gourmet Food]]   \n",
       "3  [[Grocery & Gourmet Food]]   \n",
       "4  [[Grocery & Gourmet Food]]   \n",
       "\n",
       "                                         description  \\\n",
       "0  This is real vanilla extract made with only 3 ...   \n",
       "1  Silverpot Tea, Pure Darjeeling, is an exquisit...   \n",
       "2  Must have for any WWE Fan\\n \\n \\n \\nFeaturing ...   \n",
       "3  Infused with Vitamins and Electrolytes Good So...   \n",
       "4  MiO Energy is your portable energy source givi...   \n",
       "\n",
       "                                               imUrl        asin  \\\n",
       "0  http://ecx.images-amazon.com/images/I/41gFi5h0...  0657745316   \n",
       "1  http://ecx.images-amazon.com/images/I/51hs8sox...  0700026444   \n",
       "2  http://ecx.images-amazon.com/images/I/518SEST5...  1403796890   \n",
       "3  http://ecx.images-amazon.com/images/I/51CFQIis...  141278509X   \n",
       "4  http://ecx.images-amazon.com/images/I/51EUsMcn...  1453060375   \n",
       "\n",
       "                                               title  \\\n",
       "0            100 Percent All Natural Vanilla Extract   \n",
       "1                    Pure Darjeeling Tea: Loose Leaf   \n",
       "2  WWE Kids Todler Velvet Slippers featuring John...   \n",
       "3  Archer Farms Strawberry Dragonfruit Drink Mix ...   \n",
       "4  Mio Energy Liquid Water Enhancer Black Cherry ...   \n",
       "\n",
       "                            salesRank  price brand  overall reviewerName  \\\n",
       "0  {'Grocery & Gourmet Food': 374004}    NaN   NaN      NaN          NaN   \n",
       "1  {'Grocery & Gourmet Food': 620307}    NaN   NaN      NaN          NaN   \n",
       "2                                 NaN   3.99   NaN      NaN          NaN   \n",
       "3  {'Grocery & Gourmet Food': 620322}    NaN   NaN      NaN          NaN   \n",
       "4  {'Grocery & Gourmet Food': 268754}  11.99   Mio      NaN          NaN   \n",
       "\n",
       "  reviewText summary helpful reviewerID  unixReviewTime reviewTime cleanbrands  \n",
       "0        NaN     NaN     NaN        NaN             NaN        NaN         NaN  \n",
       "1        NaN     NaN     NaN        NaN             NaN        NaN         NaN  \n",
       "2        NaN     NaN     NaN        NaN             NaN        NaN         NaN  \n",
       "3        NaN     NaN     NaN        NaN             NaN        NaN         NaN  \n",
       "4        NaN     NaN     NaN        NaN             NaN        NaN         Mio  "
      ]
     },
     "execution_count": 44,
     "metadata": {},
     "output_type": "execute_result"
    }
   ],
   "source": [
    "#GET A LIST OF BRANDS TO FACILITATE MERGING WITH USDA\n",
    "st=[]\n",
    "for b in metadfmean['brand']:\n",
    "    if type(b) is float:\n",
    "        st.append(b)\n",
    "    elif type(b) is not float:\n",
    "        st.append(b.replace('&#39;',\"'\").replace('&reg;','').replace('&amp;','&'))\n",
    "metadfmean['cleanbrands']=st\n",
    "metadfmean.head()"
   ]
  },
  {
   "cell_type": "code",
   "execution_count": 45,
   "metadata": {
    "collapsed": true
   },
   "outputs": [
    {
     "name": "stdout",
     "output_type": "stream",
     "text": [
      "<class 'pandas.core.frame.DataFrame'>\n",
      "Int64Index: 314301 entries, 0 to 314300\n",
      "Data columns (total 18 columns):\n",
      "related           264646 non-null object\n",
      "categories        314301 non-null object\n",
      "description       290900 non-null object\n",
      "imUrl             313981 non-null object\n",
      "asin              314301 non-null object\n",
      "title             313967 non-null object\n",
      "salesRank         292953 non-null object\n",
      "price             232520 non-null float64\n",
      "brand             162188 non-null object\n",
      "overall           151254 non-null float64\n",
      "reviewerName      149761 non-null object\n",
      "reviewText        151254 non-null object\n",
      "summary           151254 non-null object\n",
      "helpful           151254 non-null object\n",
      "reviewerID        151254 non-null object\n",
      "unixReviewTime    151254 non-null float64\n",
      "reviewTime        151254 non-null object\n",
      "cleanbrands       162188 non-null object\n",
      "dtypes: float64(3), object(15)\n",
      "memory usage: 45.6+ MB\n"
     ]
    }
   ],
   "source": [
    "metadfmean.info()"
   ]
  },
  {
   "cell_type": "code",
   "execution_count": 52,
   "metadata": {
    "collapsed": true
   },
   "outputs": [
    {
     "data": {
      "text/plain": [
       "'This is real vanilla extract made with only 3 premium ingredients. GMO free, no fillers you find in store bought \"vanilla extract.\" \\n\\nThe taste will knock your socks off. Everyone will notice a difference in your baking and cooking and they\\'ll want to know your secret. I also use this for a special homemade coffee creamer that\\'s out of this world and I use it for tea and black coffee as well as espresso drinks. You can add this to make a vanilla latte and skip the sugary syrup for a healthier latte with more flavor! \\n\\nWhen this item arrives, there will also be instructions to refill the product as its used so that you won\\'t have to age it or repurchase it. I\\'ve been using the same vanilla for 2 years now and have friends who\\'ve had theirs for 5 years. It\\'s just as tasteful, just as sweet, strong, and yummy. \\n\\nI use only top shelf liquor and the product is aged a minimum of 4 months. \\n\\nThese also make great gifts. I currently have plenty on the shelf but they won\\'t be ready to use until February (just in time to bake your honey some sweets). Contact me for details. I also make designer jars, and can add any decorative details such as ribbon upon request. Please note, custom orders will require longer shipping and prices will vary depending on how detailed you\\'d like the jar or ribbons etc. \\n\\nMost of these will come in a small mason jar which contains approx 12-16 ounces of extract. The beans are right in the jar and I always throw in extra beans so your product will stay much longer for use in refilling. This product gets sweeter with time.. Like a fine wine it gets better with age.. So the longer you have it on the shelf the better it continues to get.'"
      ]
     },
     "execution_count": 52,
     "metadata": {},
     "output_type": "execute_result"
    }
   ],
   "source": [
    "metadfmean.description[0]"
   ]
  },
  {
   "cell_type": "code",
   "execution_count": 54,
   "metadata": {
    "collapsed": true
   },
   "outputs": [
    {
     "data": {
      "text/plain": [
       "related                                                                               {'also_viewed': ['B001GE8N4Y']}\n",
       "categories                                                                                 [[Grocery & Gourmet Food]]\n",
       "description       This is real vanilla extract made with only 3 premium ingredients. GMO free, no fillers you find...\n",
       "imUrl                                                   http://ecx.images-amazon.com/images/I/41gFi5h0jYL._SY300_.jpg\n",
       "asin                                                                                                       0657745316\n",
       "title                                                                         100 Percent All Natural Vanilla Extract\n",
       "salesRank                                                                          {'Grocery & Gourmet Food': 374004}\n",
       "price                                                                                                             NaN\n",
       "brand                                                                                                             NaN\n",
       "overall                                                                                                           NaN\n",
       "reviewerName                                                                                                      NaN\n",
       "reviewText                                                                                                        NaN\n",
       "summary                                                                                                           NaN\n",
       "helpful                                                                                                           NaN\n",
       "reviewerID                                                                                                        NaN\n",
       "unixReviewTime                                                                                                    NaN\n",
       "reviewTime                                                                                                        NaN\n",
       "cleanbrands                                                                                                       NaN\n",
       "Name: 0, dtype: object"
      ]
     },
     "execution_count": 54,
     "metadata": {},
     "output_type": "execute_result"
    }
   ],
   "source": [
    "metadfmean.iloc[0]"
   ]
  },
  {
   "cell_type": "code",
   "execution_count": 64,
   "metadata": {
    "collapsed": false
   },
   "outputs": [
    {
     "data": {
      "text/plain": [
       "[['Grocery & Gourmet Food'],\n",
       " ['Grocery & Gourmet Food'],\n",
       " ['Grocery & Gourmet Food'],\n",
       " ['Grocery & Gourmet Food'],\n",
       " ['Grocery & Gourmet Food'],\n",
       " ['Grocery & Gourmet Food'],\n",
       " ['Grocery & Gourmet Food'],\n",
       " ['Grocery & Gourmet Food'],\n",
       " ['Grocery & Gourmet Food', 'Beverages', 'Coffee', 'Coffee Substitutes'],\n",
       " ['Grocery & Gourmet Food']]"
      ]
     },
     "execution_count": 64,
     "metadata": {},
     "output_type": "execute_result"
    }
   ],
   "source": [
    "seram=[]\n",
    "for i in metadfmean.categories:#[metadfmean.categories.notnull()]:\n",
    "    seram.append(i[0])\n",
    " \n",
    "seram[:10]"
   ]
  },
  {
   "cell_type": "code",
   "execution_count": 78,
   "metadata": {
    "collapsed": false
   },
   "outputs": [
    {
     "data": {
      "text/html": [
       "<div>\n",
       "<table border=\"1\" class=\"dataframe\">\n",
       "  <thead>\n",
       "    <tr style=\"text-align: right;\">\n",
       "      <th></th>\n",
       "      <th>Maincat</th>\n",
       "      <th>cat</th>\n",
       "      <th>cat3_122</th>\n",
       "      <th>cat4_190</th>\n",
       "      <th>cat5</th>\n",
       "      <th>cat6</th>\n",
       "    </tr>\n",
       "  </thead>\n",
       "  <tbody>\n",
       "    <tr>\n",
       "      <th>0</th>\n",
       "      <td>Grocery &amp; Gourmet Food</td>\n",
       "      <td>None</td>\n",
       "      <td>None</td>\n",
       "      <td>None</td>\n",
       "      <td>None</td>\n",
       "      <td>None</td>\n",
       "    </tr>\n",
       "    <tr>\n",
       "      <th>1</th>\n",
       "      <td>Grocery &amp; Gourmet Food</td>\n",
       "      <td>None</td>\n",
       "      <td>None</td>\n",
       "      <td>None</td>\n",
       "      <td>None</td>\n",
       "      <td>None</td>\n",
       "    </tr>\n",
       "    <tr>\n",
       "      <th>2</th>\n",
       "      <td>Grocery &amp; Gourmet Food</td>\n",
       "      <td>None</td>\n",
       "      <td>None</td>\n",
       "      <td>None</td>\n",
       "      <td>None</td>\n",
       "      <td>None</td>\n",
       "    </tr>\n",
       "    <tr>\n",
       "      <th>3</th>\n",
       "      <td>Grocery &amp; Gourmet Food</td>\n",
       "      <td>None</td>\n",
       "      <td>None</td>\n",
       "      <td>None</td>\n",
       "      <td>None</td>\n",
       "      <td>None</td>\n",
       "    </tr>\n",
       "    <tr>\n",
       "      <th>4</th>\n",
       "      <td>Grocery &amp; Gourmet Food</td>\n",
       "      <td>None</td>\n",
       "      <td>None</td>\n",
       "      <td>None</td>\n",
       "      <td>None</td>\n",
       "      <td>None</td>\n",
       "    </tr>\n",
       "  </tbody>\n",
       "</table>\n",
       "</div>"
      ],
      "text/plain": [
       "                  Maincat   cat cat3_122 cat4_190  cat5  cat6\n",
       "0  Grocery & Gourmet Food  None     None     None  None  None\n",
       "1  Grocery & Gourmet Food  None     None     None  None  None\n",
       "2  Grocery & Gourmet Food  None     None     None  None  None\n",
       "3  Grocery & Gourmet Food  None     None     None  None  None\n",
       "4  Grocery & Gourmet Food  None     None     None  None  None"
      ]
     },
     "execution_count": 78,
     "metadata": {},
     "output_type": "execute_result"
    }
   ],
   "source": [
    "seramdf=pd.DataFrame(seram,columns=['Maincat','cat','cat3_122','cat4_190','cat5','cat6'])\n",
    "seramdf.head()"
   ]
  },
  {
   "cell_type": "code",
   "execution_count": 81,
   "metadata": {
    "collapsed": false
   },
   "outputs": [],
   "source": [
    "amause=metadfmean.join(seramdf)"
   ]
  },
  {
   "cell_type": "code",
   "execution_count": 88,
   "metadata": {
    "collapsed": false,
    "scrolled": true
   },
   "outputs": [
    {
     "data": {
      "text/plain": [
       "brand\n",
       "                                                   875\n",
       "&Uuml;lker                                          10\n",
       "&aacute;vitae                                      328\n",
       "&amp; Salty Popcorn Chips Baked Snacks (Pack 4)      1\n",
       "---                                                  1\n",
       "100 Calorie Packs                                   22\n",
       "100 Grand                                            3\n",
       "10K                                                  4\n",
       "123 Gluten Free                                     10\n",
       "17th Street BBQ                                      1\n",
       "18 Rabbits                                          10\n",
       "180 Snacks                                           7\n",
       "1883                                                 4\n",
       "1907                                                 1\n",
       "1st Endurance                                        3\n",
       "200000 Mg Glutathione                                1\n",
       "21st Century                                         2\n",
       "21st century snacks                                  2\n",
       "22 Days                                              8\n",
       "22 Days Nutrition                                    1\n",
       "24 Letter Mantra                                    11\n",
       "24 Mantra Organic                                    2\n",
       "3 Ballerina                                          4\n",
       "3 Ballerina Tea                                      1\n",
       "3 Ballerina Tea - Dieters Tea                        1\n",
       "3 Corazones                                          1\n",
       "3 Crab                                               1\n",
       "3 Musketeers                                        25\n",
       "3.15 pm Grain Master                                 1\n",
       "34 Degrees                                           5\n",
       "                                                  ... \n",
       "sasinee collection                                   1\n",
       "sea treasure                                         1\n",
       "shiroi koibito                                       1\n",
       "sicof                                                1\n",
       "signs up                                             1\n",
       "skybar                                               1\n",
       "smartwater                                           1\n",
       "sold by Makao Beach Trading Co.                      1\n",
       "solixir                                              2\n",
       "spiceandchili.com                                    1\n",
       "spicy king                                           1\n",
       "stacy                                                1\n",
       "steviacane                                           1\n",
       "sushihane                                            1\n",
       "tQ SPICY KING                                        1\n",
       "tahitian treat                                       1\n",
       "thegoldleafshop.com                                  1\n",
       "thinkThin                                          146\n",
       "thinkin&#39; of you                                  1\n",
       "toffee crisp                                         5\n",
       "treasuresofthesouth.com                              2\n",
       "tropical pepper                                      1\n",
       "tru sweets                                           7\n",
       "truRoots                                            51\n",
       "tsp spices                                           1\n",
       "vitaminwater                                         1\n",
       "walong marketing inc                                 1\n",
       "www.Allcoffee.com                                    2\n",
       "z                                                    1\n",
       "zaza                                                 4\n",
       "Name: title, dtype: int64"
      ]
     },
     "execution_count": 88,
     "metadata": {},
     "output_type": "execute_result"
    }
   ],
   "source": [
    "amause.groupby('brand')['title'].count()"
   ]
  },
  {
   "cell_type": "code",
   "execution_count": 93,
   "metadata": {
    "collapsed": false
   },
   "outputs": [
    {
     "data": {
      "text/plain": [
       "Index(['Bob's Red Mill', 'Green Mountain Coffee', 'Lipton', 'Barilla',\n",
       "       'Nutiva'],\n",
       "      dtype='object')"
      ]
     },
     "execution_count": 93,
     "metadata": {},
     "output_type": "execute_result"
    }
   ],
   "source": [
    "amb=amause.cleanbrands.value_counts().index \n",
    "amb[:5]"
   ]
  },
  {
   "cell_type": "code",
   "execution_count": 95,
   "metadata": {
    "collapsed": false
   },
   "outputs": [],
   "source": [
    "pd.DataFrame(amb).to_csv('amb.csv')"
   ]
  },
  {
   "cell_type": "code",
   "execution_count": null,
   "metadata": {
    "collapsed": true
   },
   "outputs": [],
   "source": []
  },
  {
   "cell_type": "code",
   "execution_count": null,
   "metadata": {
    "collapsed": true
   },
   "outputs": [],
   "source": []
  },
  {
   "cell_type": "code",
   "execution_count": null,
   "metadata": {
    "collapsed": true
   },
   "outputs": [],
   "source": []
  },
  {
   "cell_type": "code",
   "execution_count": null,
   "metadata": {
    "collapsed": true
   },
   "outputs": [],
   "source": []
  },
  {
   "cell_type": "code",
   "execution_count": null,
   "metadata": {
    "collapsed": true
   },
   "outputs": [],
   "source": []
  },
  {
   "cell_type": "code",
   "execution_count": null,
   "metadata": {
    "collapsed": true
   },
   "outputs": [],
   "source": []
  },
  {
   "cell_type": "code",
   "execution_count": null,
   "metadata": {
    "collapsed": true
   },
   "outputs": [],
   "source": []
  },
  {
   "cell_type": "code",
   "execution_count": null,
   "metadata": {
    "collapsed": true
   },
   "outputs": [],
   "source": []
  },
  {
   "cell_type": "code",
   "execution_count": null,
   "metadata": {
    "collapsed": true
   },
   "outputs": [],
   "source": []
  },
  {
   "cell_type": "code",
   "execution_count": null,
   "metadata": {
    "collapsed": true
   },
   "outputs": [],
   "source": []
  },
  {
   "cell_type": "code",
   "execution_count": null,
   "metadata": {
    "collapsed": true
   },
   "outputs": [],
   "source": []
  },
  {
   "cell_type": "code",
   "execution_count": null,
   "metadata": {
    "collapsed": true
   },
   "outputs": [],
   "source": []
  },
  {
   "cell_type": "code",
   "execution_count": null,
   "metadata": {
    "collapsed": true
   },
   "outputs": [],
   "source": [
    "\n",
    "# Creating the Bag of Words model\n",
    "from sklearn.feature_extraction.text import CountVectorizer\n",
    "cv = CountVectorizer(max_features = 1500)\n",
    "X = cv.fit_transform(corpus).toarray()\n",
    "y = dataset.iloc[:, 1].values\n",
    "\n",
    "# Splitting the dataset into the Training set and Test set\n",
    "from sklearn.model_selection import train_test_split\n",
    "X_train, X_test, y_train, y_test = train_test_split(X, y, test_size = 0.20, random_state = 0)\n",
    "\n",
    "# Fitting Naive Bayes to the Training set\n",
    "from sklearn.naive_bayes import GaussianNB\n",
    "classifier = GaussianNB()\n",
    "classifier.fit(X_train, y_train)\n",
    "\n",
    "# Predicting the Test set results\n",
    "y_pred = classifier.predict(X_test)\n",
    "\n",
    "# Making the Confusion Matrix\n",
    "from sklearn.metrics import confusion_matrix\n",
    "cm = confusion_matrix(y_test, y_pred)"
   ]
  },
  {
   "cell_type": "code",
   "execution_count": 32,
   "metadata": {
    "collapsed": false
   },
   "outputs": [
    {
     "data": {
      "text/plain": [
       "[['Health & Personal Care',\n",
       "  'Medical Supplies & Equipment',\n",
       "  'Daily Living Aids',\n",
       "  'Visual Impairment Aids',\n",
       "  'Magnifiers']]"
      ]
     },
     "execution_count": 32,
     "metadata": {},
     "output_type": "execute_result"
    }
   ],
   "source": [
    "mhpdf.categories.iloc[0]."
   ]
  },
  {
   "cell_type": "code",
   "execution_count": null,
   "metadata": {
    "collapsed": true
   },
   "outputs": [],
   "source": []
  },
  {
   "cell_type": "code",
   "execution_count": 86,
   "metadata": {
    "collapsed": false
   },
   "outputs": [
    {
     "data": {
      "text/plain": [
       "346355"
      ]
     },
     "execution_count": 86,
     "metadata": {},
     "output_type": "execute_result"
    }
   ],
   "source": [
    "seram=[]\n",
    "for i in mhpdf.categories[mhpdf.categories.notnull()]:\n",
    "        seram.append(i[0])\n",
    " \n",
    "len(seram)\n"
   ]
  },
  {
   "cell_type": "code",
   "execution_count": 88,
   "metadata": {
    "collapsed": false
   },
   "outputs": [
    {
     "data": {
      "text/html": [
       "<div>\n",
       "<table border=\"1\" class=\"dataframe\">\n",
       "  <thead>\n",
       "    <tr style=\"text-align: right;\">\n",
       "      <th></th>\n",
       "      <th>H&amp;PC</th>\n",
       "      <th>Cat1</th>\n",
       "      <th>Cat2</th>\n",
       "      <th>Cat3</th>\n",
       "      <th>Cat4</th>\n",
       "      <th>Cat5</th>\n",
       "      <th>Cat6</th>\n",
       "    </tr>\n",
       "  </thead>\n",
       "  <tbody>\n",
       "    <tr>\n",
       "      <th>0</th>\n",
       "      <td>Health &amp; Personal Care</td>\n",
       "      <td>Medical Supplies &amp; Equipment</td>\n",
       "      <td>Daily Living Aids</td>\n",
       "      <td>Visual Impairment Aids</td>\n",
       "      <td>Magnifiers</td>\n",
       "      <td>None</td>\n",
       "      <td>None</td>\n",
       "    </tr>\n",
       "    <tr>\n",
       "      <th>1</th>\n",
       "      <td>Health &amp; Personal Care</td>\n",
       "      <td>Medical Supplies &amp; Equipment</td>\n",
       "      <td>Daily Living Aids</td>\n",
       "      <td>Visual Impairment Aids</td>\n",
       "      <td>Magnifiers</td>\n",
       "      <td>None</td>\n",
       "      <td>None</td>\n",
       "    </tr>\n",
       "    <tr>\n",
       "      <th>2</th>\n",
       "      <td>Health &amp; Personal Care</td>\n",
       "      <td>Medical Supplies &amp; Equipment</td>\n",
       "      <td>Daily Living Aids</td>\n",
       "      <td>Visual Impairment Aids</td>\n",
       "      <td>Magnifiers</td>\n",
       "      <td>None</td>\n",
       "      <td>None</td>\n",
       "    </tr>\n",
       "    <tr>\n",
       "      <th>3</th>\n",
       "      <td>Health &amp; Personal Care</td>\n",
       "      <td>Medical Supplies &amp; Equipment</td>\n",
       "      <td>Daily Living Aids</td>\n",
       "      <td>Visual Impairment Aids</td>\n",
       "      <td>Magnifiers</td>\n",
       "      <td>None</td>\n",
       "      <td>None</td>\n",
       "    </tr>\n",
       "    <tr>\n",
       "      <th>4</th>\n",
       "      <td>Health &amp; Personal Care</td>\n",
       "      <td>Medical Supplies &amp; Equipment</td>\n",
       "      <td>Daily Living Aids</td>\n",
       "      <td>Visual Impairment Aids</td>\n",
       "      <td>Magnifiers</td>\n",
       "      <td>None</td>\n",
       "      <td>None</td>\n",
       "    </tr>\n",
       "  </tbody>\n",
       "</table>\n",
       "</div>"
      ],
      "text/plain": [
       "                     H&PC                          Cat1               Cat2  \\\n",
       "0  Health & Personal Care  Medical Supplies & Equipment  Daily Living Aids   \n",
       "1  Health & Personal Care  Medical Supplies & Equipment  Daily Living Aids   \n",
       "2  Health & Personal Care  Medical Supplies & Equipment  Daily Living Aids   \n",
       "3  Health & Personal Care  Medical Supplies & Equipment  Daily Living Aids   \n",
       "4  Health & Personal Care  Medical Supplies & Equipment  Daily Living Aids   \n",
       "\n",
       "                     Cat3        Cat4  Cat5  Cat6  \n",
       "0  Visual Impairment Aids  Magnifiers  None  None  \n",
       "1  Visual Impairment Aids  Magnifiers  None  None  \n",
       "2  Visual Impairment Aids  Magnifiers  None  None  \n",
       "3  Visual Impairment Aids  Magnifiers  None  None  \n",
       "4  Visual Impairment Aids  Magnifiers  None  None  "
      ]
     },
     "execution_count": 88,
     "metadata": {},
     "output_type": "execute_result"
    }
   ],
   "source": [
    "seramdf=pd.DataFrame(seram,columns=['H&PC','Cat1','Cat2','Cat3','Cat4','Cat5','Cat6'],index=mhpdf.index)\n",
    "seramdf.head()"
   ]
  },
  {
   "cell_type": "code",
   "execution_count": 91,
   "metadata": {
    "collapsed": false
   },
   "outputs": [
    {
     "data": {
      "text/plain": [
       "Health & Personal Care       345755\n",
       "Automotive                      469\n",
       "Cell Phones & Accessories        61\n",
       "Sports & Outdoors                59\n",
       "Home & Kitchen                    6\n",
       "CDs & Vinyl                       5\n",
       "Name: H&PC, dtype: int64"
      ]
     },
     "execution_count": 91,
     "metadata": {},
     "output_type": "execute_result"
    }
   ],
   "source": [
    "seramdf['H&PC'].value_counts()"
   ]
  },
  {
   "cell_type": "code",
   "execution_count": 101,
   "metadata": {
    "collapsed": false
   },
   "outputs": [
    {
     "data": {
      "text/plain": [
       "Tools & Equipment        410\n",
       "Paints & Primers          27\n",
       "Exterior Care             24\n",
       "Electrical Appliances      8\n",
       "Name: Cat2, dtype: int64"
      ]
     },
     "execution_count": 101,
     "metadata": {},
     "output_type": "execute_result"
    }
   ],
   "source": [
    "seramdf[seramdf['H&PC']=='Automotive'].Cat2.value_counts()"
   ]
  },
  {
   "cell_type": "code",
   "execution_count": 102,
   "metadata": {
    "collapsed": false
   },
   "outputs": [
    {
     "data": {
      "text/plain": [
       "Vitamins & Dietary Supplements    83181\n",
       "Personal Care                     73828\n",
       "Health Care                       59636\n",
       "Household Supplies                59060\n",
       "Medical Supplies & Equipment      35702\n",
       "Sports Nutrition                  20787\n",
       "Sexual Wellness                    6276\n",
       "Stationery & Party Supplies         771\n",
       "Baby & Child Care                   634\n",
       "Car Care                            434\n",
       "Accessories                          90\n",
       "Paint, Body & Trim                   27\n",
       "Clothing                             22\n",
       "Interior Accessories                  8\n",
       "Outdoor Gear                          8\n",
       "Kitchen & Dining                      6\n",
       "New Age                               5\n",
       "Name: Cat1, dtype: int64"
      ]
     },
     "execution_count": 102,
     "metadata": {},
     "output_type": "execute_result"
    }
   ],
   "source": [
    "seramdf['Cat1'].value_counts()"
   ]
  },
  {
   "cell_type": "code",
   "execution_count": 111,
   "metadata": {
    "collapsed": false
   },
   "outputs": [],
   "source": [
    "mhpdfa=pd.merge(seramdf,mhpdf,left_index=True,right_index=True)"
   ]
  },
  {
   "cell_type": "code",
   "execution_count": 114,
   "metadata": {
    "collapsed": false
   },
   "outputs": [
    {
     "data": {
      "text/plain": [
       "Index(['H&PC', 'Cat1', 'Cat2', 'Cat3', 'Cat4', 'Cat5', 'Cat6', 'reviewerName',\n",
       "       'reviewTime', 'summary', 'reviewText', 'unixReviewTime', 'asin',\n",
       "       'reviewerID', 'overall', 'helpful', 'description', 'categories',\n",
       "       'related', 'title', 'salesRank', 'imUrl', 'price', 'brand'],\n",
       "      dtype='object')"
      ]
     },
     "execution_count": 114,
     "metadata": {},
     "output_type": "execute_result"
    }
   ],
   "source": [
    "mhpdfa.columns"
   ]
  },
  {
   "cell_type": "code",
   "execution_count": 120,
   "metadata": {
    "collapsed": false
   },
   "outputs": [
    {
     "data": {
      "text/html": [
       "<div>\n",
       "<table border=\"1\" class=\"dataframe\">\n",
       "  <thead>\n",
       "    <tr style=\"text-align: right;\">\n",
       "      <th></th>\n",
       "      <th>Cat1</th>\n",
       "      <th>Cat2</th>\n",
       "      <th>Cat3</th>\n",
       "      <th>Cat4</th>\n",
       "      <th>Cat5</th>\n",
       "      <th>Cat6</th>\n",
       "    </tr>\n",
       "  </thead>\n",
       "  <tbody>\n",
       "    <tr>\n",
       "      <th>0</th>\n",
       "      <td>Medical Supplies &amp; Equipment</td>\n",
       "      <td>Daily Living Aids</td>\n",
       "      <td>Visual Impairment Aids</td>\n",
       "      <td>Magnifiers</td>\n",
       "      <td>None</td>\n",
       "      <td>None</td>\n",
       "    </tr>\n",
       "    <tr>\n",
       "      <th>1</th>\n",
       "      <td>Medical Supplies &amp; Equipment</td>\n",
       "      <td>Daily Living Aids</td>\n",
       "      <td>Visual Impairment Aids</td>\n",
       "      <td>Magnifiers</td>\n",
       "      <td>None</td>\n",
       "      <td>None</td>\n",
       "    </tr>\n",
       "    <tr>\n",
       "      <th>2</th>\n",
       "      <td>Medical Supplies &amp; Equipment</td>\n",
       "      <td>Daily Living Aids</td>\n",
       "      <td>Visual Impairment Aids</td>\n",
       "      <td>Magnifiers</td>\n",
       "      <td>None</td>\n",
       "      <td>None</td>\n",
       "    </tr>\n",
       "    <tr>\n",
       "      <th>3</th>\n",
       "      <td>Medical Supplies &amp; Equipment</td>\n",
       "      <td>Daily Living Aids</td>\n",
       "      <td>Visual Impairment Aids</td>\n",
       "      <td>Magnifiers</td>\n",
       "      <td>None</td>\n",
       "      <td>None</td>\n",
       "    </tr>\n",
       "    <tr>\n",
       "      <th>4</th>\n",
       "      <td>Medical Supplies &amp; Equipment</td>\n",
       "      <td>Daily Living Aids</td>\n",
       "      <td>Visual Impairment Aids</td>\n",
       "      <td>Magnifiers</td>\n",
       "      <td>None</td>\n",
       "      <td>None</td>\n",
       "    </tr>\n",
       "  </tbody>\n",
       "</table>\n",
       "</div>"
      ],
      "text/plain": [
       "                           Cat1               Cat2                    Cat3  \\\n",
       "0  Medical Supplies & Equipment  Daily Living Aids  Visual Impairment Aids   \n",
       "1  Medical Supplies & Equipment  Daily Living Aids  Visual Impairment Aids   \n",
       "2  Medical Supplies & Equipment  Daily Living Aids  Visual Impairment Aids   \n",
       "3  Medical Supplies & Equipment  Daily Living Aids  Visual Impairment Aids   \n",
       "4  Medical Supplies & Equipment  Daily Living Aids  Visual Impairment Aids   \n",
       "\n",
       "         Cat4  Cat5  Cat6  \n",
       "0  Magnifiers  None  None  \n",
       "1  Magnifiers  None  None  \n",
       "2  Magnifiers  None  None  \n",
       "3  Magnifiers  None  None  \n",
       "4  Magnifiers  None  None  "
      ]
     },
     "execution_count": 120,
     "metadata": {},
     "output_type": "execute_result"
    }
   ],
   "source": [
    "mhpdfa[['Cat1', 'Cat2', 'Cat3', 'Cat4', 'Cat5', 'Cat6']][:5]"
   ]
  },
  {
   "cell_type": "code",
   "execution_count": 121,
   "metadata": {
    "collapsed": false
   },
   "outputs": [
    {
     "data": {
      "text/plain": [
       "Vitamins & Dietary Supplements    83181\n",
       "Personal Care                     73828\n",
       "Health Care                       59636\n",
       "Household Supplies                59060\n",
       "Medical Supplies & Equipment      35702\n",
       "Sports Nutrition                  20787\n",
       "Sexual Wellness                    6276\n",
       "Stationery & Party Supplies         771\n",
       "Baby & Child Care                   634\n",
       "Car Care                            434\n",
       "Accessories                          90\n",
       "Paint, Body & Trim                   27\n",
       "Clothing                             22\n",
       "Interior Accessories                  8\n",
       "Outdoor Gear                          8\n",
       "Kitchen & Dining                      6\n",
       "New Age                               5\n",
       "Name: Cat1, dtype: int64"
      ]
     },
     "execution_count": 121,
     "metadata": {},
     "output_type": "execute_result"
    }
   ],
   "source": [
    "mhpdfa.Cat1.value_counts()"
   ]
  },
  {
   "cell_type": "code",
   "execution_count": 175,
   "metadata": {
    "collapsed": false
   },
   "outputs": [],
   "source": [
    "colsdrop=['Vitamins & Dietary Supplements','Medical Supplies & Equipment','Sports Nutrition',\n",
    "         'Stationery & Party Supplies','Interior Accessories','Clothing','Outdoor Gear',\n",
    "         'New Age','Accessories','Baby & Child Care','Health Care','Kitchen & Dining']\n",
    "mhpdfacat1=mhpdfa[~mhpdfa['Cat1'].isin(colsdrop)]"
   ]
  },
  {
   "cell_type": "code",
   "execution_count": null,
   "metadata": {
    "collapsed": true
   },
   "outputs": [],
   "source": [
    "colsdrop2=['Cleaning Tools','Household Batteries','Paper & Plastic','Adult Toys & Games',\n",
    "           'Bondage Gear & Accessories','Fetish Wear','Tools & Equipment','Novelties','Sexual Enhancers']\n",
    "mhpdfacat1_=mhpdfacat1[~mhpdfacat1['Cat2'].isin(colsdrop2)]\n",
    "colsdrop3=['Deodorants','Alternative Protection','Panty Liners'          \n",
    "'Reading Glasses','Eyeglasses Care','Contact Lens Care','Manual Shaving','Electric Shavers',  \n",
    "'Trimmers & Clippers','Shaving Sets & Kits','Shaving Accessories','Cloths & Wipes']\n",
    "mhpdfacat2_=mhpdfacat1_[~mhpdfacat1_['Cat3'].isin(colsdrop3)]\n"
   ]
  },
  {
   "cell_type": "code",
   "execution_count": 213,
   "metadata": {
    "collapsed": false
   },
   "outputs": [
    {
     "data": {
      "text/plain": [
       "Oral Hygiene                    15338\n",
       "Shaving & Hair Removal          12464\n",
       "Laundry                         10725\n",
       "Household Cleaning               8419\n",
       "Dishwashing                      4668\n",
       "Deodorants & Antiperspirants     4432\n",
       "Feminine Care                    3077\n",
       "Lip Care                         2543\n",
       "Eye Care                         2482\n",
       "Safer Sex                        2198\n",
       "Air Fresheners                   2161\n",
       "Foot Care                        1946\n",
       "Ear Care                         1698\n",
       "Body Art                          100\n",
       "Paints & Primers                   27\n",
       "Exterior Care                      24\n",
       "Sensual Delights                   16\n",
       "Name: Cat2, dtype: int64"
      ]
     },
     "execution_count": 213,
     "metadata": {},
     "output_type": "execute_result"
    }
   ],
   "source": [
    "mhpdfacat2_.Cat.value_counts()"
   ]
  },
  {
   "cell_type": "code",
   "execution_count": 220,
   "metadata": {
    "collapsed": true
   },
   "outputs": [],
   "source": [
    "mhpdfacat2_.to_csv('amazon.csv')"
   ]
  },
  {
   "cell_type": "code",
   "execution_count": 211,
   "metadata": {
    "collapsed": false
   },
   "outputs": [
    {
     "data": {
      "text/plain": [
       "All-Purpose Cleaners             1665\n",
       "Bathroom Cleaners                1655\n",
       "Cloths & Wipes                   1461\n",
       "Carpet Cleaners & Deodorizers    1350\n",
       "Floor Cleaners                    917\n",
       "Kitchen Cleaners                  732\n",
       "Furniture & Wood Polishes         500\n",
       "Drain Openers                     447\n",
       "Metal Polishes                    361\n",
       "Glass Cleaners                    297\n",
       "Upholstery Cleaners               274\n",
       "Name: Cat3, dtype: int64"
      ]
     },
     "execution_count": 211,
     "metadata": {},
     "output_type": "execute_result"
    }
   ],
   "source": [
    "mhpdfacat1[mhpdfacat1.Cat2=='Household Cleaning']['Cat3'].value_counts()"
   ]
  },
  {
   "cell_type": "code",
   "execution_count": 1,
   "metadata": {
    "collapsed": true
   },
   "outputs": [],
   "source": [
    "import pandas as pd\n",
    "import numpy as np"
   ]
  },
  {
   "cell_type": "code",
   "execution_count": 2,
   "metadata": {
    "collapsed": true
   },
   "outputs": [],
   "source": [
    "am=pd.read_csv('amazon.csv')"
   ]
  },
  {
   "cell_type": "code",
   "execution_count": 46,
   "metadata": {
    "collapsed": false
   },
   "outputs": [
    {
     "data": {
      "text/plain": [
       "Oral Hygiene                    15338\n",
       "Shaving & Hair Removal          12464\n",
       "Laundry                         10725\n",
       "Household Cleaning               8419\n",
       "Dishwashing                      4668\n",
       "Deodorants & Antiperspirants     4432\n",
       "Feminine Care                    3077\n",
       "Lip Care                         2543\n",
       "Eye Care                         2482\n",
       "Safer Sex                        2198\n",
       "Air Fresheners                   2161\n",
       "Foot Care                        1946\n",
       "Ear Care                         1698\n",
       "Body Art                          100\n",
       "Paints & Primers                   27\n",
       "Exterior Care                      24\n",
       "Sensual Delights                   16\n",
       "Name: Cat2, dtype: int64"
      ]
     },
     "execution_count": 46,
     "metadata": {},
     "output_type": "execute_result"
    }
   ],
   "source": [
    "am.Cat2.value_counts()"
   ]
  },
  {
   "cell_type": "code",
   "execution_count": 47,
   "metadata": {
    "collapsed": false
   },
   "outputs": [
    {
     "data": {
      "text/plain": [
       "63615000"
      ]
     },
     "execution_count": 47,
     "metadata": {},
     "output_type": "execute_result"
    }
   ],
   "source": [
    "4241*15000"
   ]
  },
  {
   "cell_type": "code",
   "execution_count": 48,
   "metadata": {
    "collapsed": false
   },
   "outputs": [
    {
     "data": {
      "text/html": [
       "<div>\n",
       "<table border=\"1\" class=\"dataframe\">\n",
       "  <thead>\n",
       "    <tr style=\"text-align: right;\">\n",
       "      <th></th>\n",
       "      <th>Unnamed: 0</th>\n",
       "      <th>H&amp;PC</th>\n",
       "      <th>Cat1</th>\n",
       "      <th>Cat2</th>\n",
       "      <th>Cat3</th>\n",
       "      <th>Cat4</th>\n",
       "      <th>Cat5</th>\n",
       "      <th>Cat6</th>\n",
       "      <th>reviewerName</th>\n",
       "      <th>reviewTime</th>\n",
       "      <th>...</th>\n",
       "      <th>overall</th>\n",
       "      <th>helpful</th>\n",
       "      <th>description</th>\n",
       "      <th>categories</th>\n",
       "      <th>related</th>\n",
       "      <th>title</th>\n",
       "      <th>salesRank</th>\n",
       "      <th>imUrl</th>\n",
       "      <th>price</th>\n",
       "      <th>brand</th>\n",
       "    </tr>\n",
       "  </thead>\n",
       "  <tbody>\n",
       "    <tr>\n",
       "      <th>0</th>\n",
       "      <td>80</td>\n",
       "      <td>Health &amp; Personal Care</td>\n",
       "      <td>Household Supplies</td>\n",
       "      <td>NaN</td>\n",
       "      <td>NaN</td>\n",
       "      <td>NaN</td>\n",
       "      <td>NaN</td>\n",
       "      <td>NaN</td>\n",
       "      <td>adero1780</td>\n",
       "      <td>01 11, 2013</td>\n",
       "      <td>...</td>\n",
       "      <td>5.0</td>\n",
       "      <td>[0, 0]</td>\n",
       "      <td>Energizer Recharge Batteries are the reusable ...</td>\n",
       "      <td>[['Health &amp; Personal Care', 'Household Supplie...</td>\n",
       "      <td>{'bought_together': ['B000BESLQK', 'B00339NINQ...</td>\n",
       "      <td>Energizer Power Plus NiMH AA Rechargeable Batt...</td>\n",
       "      <td>{'Home Improvement': 541}</td>\n",
       "      <td>http://ecx.images-amazon.com/images/I/61g6ibWk...</td>\n",
       "      <td>10.42</td>\n",
       "      <td>Energizer</td>\n",
       "    </tr>\n",
       "    <tr>\n",
       "      <th>1</th>\n",
       "      <td>81</td>\n",
       "      <td>Health &amp; Personal Care</td>\n",
       "      <td>Household Supplies</td>\n",
       "      <td>NaN</td>\n",
       "      <td>NaN</td>\n",
       "      <td>NaN</td>\n",
       "      <td>NaN</td>\n",
       "      <td>NaN</td>\n",
       "      <td>Allan Hamilton</td>\n",
       "      <td>07 9, 2014</td>\n",
       "      <td>...</td>\n",
       "      <td>5.0</td>\n",
       "      <td>[0, 0]</td>\n",
       "      <td>Energizer Recharge Batteries are the reusable ...</td>\n",
       "      <td>[['Health &amp; Personal Care', 'Household Supplie...</td>\n",
       "      <td>{'bought_together': ['B000BESLQK', 'B00339NINQ...</td>\n",
       "      <td>Energizer Power Plus NiMH AA Rechargeable Batt...</td>\n",
       "      <td>{'Home Improvement': 541}</td>\n",
       "      <td>http://ecx.images-amazon.com/images/I/61g6ibWk...</td>\n",
       "      <td>10.42</td>\n",
       "      <td>Energizer</td>\n",
       "    </tr>\n",
       "    <tr>\n",
       "      <th>2</th>\n",
       "      <td>82</td>\n",
       "      <td>Health &amp; Personal Care</td>\n",
       "      <td>Household Supplies</td>\n",
       "      <td>NaN</td>\n",
       "      <td>NaN</td>\n",
       "      <td>NaN</td>\n",
       "      <td>NaN</td>\n",
       "      <td>NaN</td>\n",
       "      <td>Amazon Customer</td>\n",
       "      <td>11 28, 2013</td>\n",
       "      <td>...</td>\n",
       "      <td>4.0</td>\n",
       "      <td>[0, 0]</td>\n",
       "      <td>Energizer Recharge Batteries are the reusable ...</td>\n",
       "      <td>[['Health &amp; Personal Care', 'Household Supplie...</td>\n",
       "      <td>{'bought_together': ['B000BESLQK', 'B00339NINQ...</td>\n",
       "      <td>Energizer Power Plus NiMH AA Rechargeable Batt...</td>\n",
       "      <td>{'Home Improvement': 541}</td>\n",
       "      <td>http://ecx.images-amazon.com/images/I/61g6ibWk...</td>\n",
       "      <td>10.42</td>\n",
       "      <td>Energizer</td>\n",
       "    </tr>\n",
       "    <tr>\n",
       "      <th>3</th>\n",
       "      <td>83</td>\n",
       "      <td>Health &amp; Personal Care</td>\n",
       "      <td>Household Supplies</td>\n",
       "      <td>NaN</td>\n",
       "      <td>NaN</td>\n",
       "      <td>NaN</td>\n",
       "      <td>NaN</td>\n",
       "      <td>NaN</td>\n",
       "      <td>Amazon Customer</td>\n",
       "      <td>08 4, 2011</td>\n",
       "      <td>...</td>\n",
       "      <td>1.0</td>\n",
       "      <td>[1, 1]</td>\n",
       "      <td>Energizer Recharge Batteries are the reusable ...</td>\n",
       "      <td>[['Health &amp; Personal Care', 'Household Supplie...</td>\n",
       "      <td>{'bought_together': ['B000BESLQK', 'B00339NINQ...</td>\n",
       "      <td>Energizer Power Plus NiMH AA Rechargeable Batt...</td>\n",
       "      <td>{'Home Improvement': 541}</td>\n",
       "      <td>http://ecx.images-amazon.com/images/I/61g6ibWk...</td>\n",
       "      <td>10.42</td>\n",
       "      <td>Energizer</td>\n",
       "    </tr>\n",
       "    <tr>\n",
       "      <th>4</th>\n",
       "      <td>84</td>\n",
       "      <td>Health &amp; Personal Care</td>\n",
       "      <td>Household Supplies</td>\n",
       "      <td>NaN</td>\n",
       "      <td>NaN</td>\n",
       "      <td>NaN</td>\n",
       "      <td>NaN</td>\n",
       "      <td>NaN</td>\n",
       "      <td>Amazon Customer \"mikeklement.com\"</td>\n",
       "      <td>11 27, 2012</td>\n",
       "      <td>...</td>\n",
       "      <td>5.0</td>\n",
       "      <td>[0, 0]</td>\n",
       "      <td>Energizer Recharge Batteries are the reusable ...</td>\n",
       "      <td>[['Health &amp; Personal Care', 'Household Supplie...</td>\n",
       "      <td>{'bought_together': ['B000BESLQK', 'B00339NINQ...</td>\n",
       "      <td>Energizer Power Plus NiMH AA Rechargeable Batt...</td>\n",
       "      <td>{'Home Improvement': 541}</td>\n",
       "      <td>http://ecx.images-amazon.com/images/I/61g6ibWk...</td>\n",
       "      <td>10.42</td>\n",
       "      <td>Energizer</td>\n",
       "    </tr>\n",
       "  </tbody>\n",
       "</table>\n",
       "<p>5 rows × 25 columns</p>\n",
       "</div>"
      ],
      "text/plain": [
       "   Unnamed: 0                    H&PC                Cat1 Cat2 Cat3 Cat4 Cat5  \\\n",
       "0          80  Health & Personal Care  Household Supplies  NaN  NaN  NaN  NaN   \n",
       "1          81  Health & Personal Care  Household Supplies  NaN  NaN  NaN  NaN   \n",
       "2          82  Health & Personal Care  Household Supplies  NaN  NaN  NaN  NaN   \n",
       "3          83  Health & Personal Care  Household Supplies  NaN  NaN  NaN  NaN   \n",
       "4          84  Health & Personal Care  Household Supplies  NaN  NaN  NaN  NaN   \n",
       "\n",
       "   Cat6                       reviewerName   reviewTime    ...     overall  \\\n",
       "0   NaN                          adero1780  01 11, 2013    ...         5.0   \n",
       "1   NaN                     Allan Hamilton   07 9, 2014    ...         5.0   \n",
       "2   NaN                    Amazon Customer  11 28, 2013    ...         4.0   \n",
       "3   NaN                    Amazon Customer   08 4, 2011    ...         1.0   \n",
       "4   NaN  Amazon Customer \"mikeklement.com\"  11 27, 2012    ...         5.0   \n",
       "\n",
       "  helpful                                        description  \\\n",
       "0  [0, 0]  Energizer Recharge Batteries are the reusable ...   \n",
       "1  [0, 0]  Energizer Recharge Batteries are the reusable ...   \n",
       "2  [0, 0]  Energizer Recharge Batteries are the reusable ...   \n",
       "3  [1, 1]  Energizer Recharge Batteries are the reusable ...   \n",
       "4  [0, 0]  Energizer Recharge Batteries are the reusable ...   \n",
       "\n",
       "                                          categories  \\\n",
       "0  [['Health & Personal Care', 'Household Supplie...   \n",
       "1  [['Health & Personal Care', 'Household Supplie...   \n",
       "2  [['Health & Personal Care', 'Household Supplie...   \n",
       "3  [['Health & Personal Care', 'Household Supplie...   \n",
       "4  [['Health & Personal Care', 'Household Supplie...   \n",
       "\n",
       "                                             related  \\\n",
       "0  {'bought_together': ['B000BESLQK', 'B00339NINQ...   \n",
       "1  {'bought_together': ['B000BESLQK', 'B00339NINQ...   \n",
       "2  {'bought_together': ['B000BESLQK', 'B00339NINQ...   \n",
       "3  {'bought_together': ['B000BESLQK', 'B00339NINQ...   \n",
       "4  {'bought_together': ['B000BESLQK', 'B00339NINQ...   \n",
       "\n",
       "                                               title  \\\n",
       "0  Energizer Power Plus NiMH AA Rechargeable Batt...   \n",
       "1  Energizer Power Plus NiMH AA Rechargeable Batt...   \n",
       "2  Energizer Power Plus NiMH AA Rechargeable Batt...   \n",
       "3  Energizer Power Plus NiMH AA Rechargeable Batt...   \n",
       "4  Energizer Power Plus NiMH AA Rechargeable Batt...   \n",
       "\n",
       "                   salesRank  \\\n",
       "0  {'Home Improvement': 541}   \n",
       "1  {'Home Improvement': 541}   \n",
       "2  {'Home Improvement': 541}   \n",
       "3  {'Home Improvement': 541}   \n",
       "4  {'Home Improvement': 541}   \n",
       "\n",
       "                                               imUrl  price      brand  \n",
       "0  http://ecx.images-amazon.com/images/I/61g6ibWk...  10.42  Energizer  \n",
       "1  http://ecx.images-amazon.com/images/I/61g6ibWk...  10.42  Energizer  \n",
       "2  http://ecx.images-amazon.com/images/I/61g6ibWk...  10.42  Energizer  \n",
       "3  http://ecx.images-amazon.com/images/I/61g6ibWk...  10.42  Energizer  \n",
       "4  http://ecx.images-amazon.com/images/I/61g6ibWk...  10.42  Energizer  \n",
       "\n",
       "[5 rows x 25 columns]"
      ]
     },
     "execution_count": 48,
     "metadata": {},
     "output_type": "execute_result"
    }
   ],
   "source": [
    "am.head()"
   ]
  },
  {
   "cell_type": "code",
   "execution_count": 49,
   "metadata": {
    "collapsed": false
   },
   "outputs": [
    {
     "name": "stdout",
     "output_type": "stream",
     "text": [
      "<class 'pandas.core.frame.DataFrame'>\n",
      "RangeIndex: 81120 entries, 0 to 81119\n",
      "Data columns (total 25 columns):\n",
      "Unnamed: 0        81120 non-null int64\n",
      "H&PC              81120 non-null object\n",
      "Cat1              75240 non-null object\n",
      "Cat2              72318 non-null object\n",
      "Cat3              69758 non-null object\n",
      "Cat4              19550 non-null object\n",
      "Cat5              900 non-null object\n",
      "Cat6              0 non-null float64\n",
      "reviewerName      80714 non-null object\n",
      "reviewTime        81120 non-null object\n",
      "summary           81120 non-null object\n",
      "reviewText        81103 non-null object\n",
      "unixReviewTime    81120 non-null int64\n",
      "asin              81120 non-null object\n",
      "reviewerID        81120 non-null object\n",
      "overall           81120 non-null float64\n",
      "helpful           81120 non-null object\n",
      "description       56503 non-null object\n",
      "categories        81120 non-null object\n",
      "related           79362 non-null object\n",
      "title             80691 non-null object\n",
      "salesRank         77385 non-null object\n",
      "imUrl             80848 non-null object\n",
      "price             74534 non-null float64\n",
      "brand             61812 non-null object\n",
      "dtypes: float64(3), int64(2), object(20)\n",
      "memory usage: 15.5+ MB\n"
     ]
    }
   ],
   "source": [
    "am.info()"
   ]
  },
  {
   "cell_type": "code",
   "execution_count": null,
   "metadata": {
    "collapsed": true
   },
   "outputs": [],
   "source": []
  },
  {
   "cell_type": "code",
   "execution_count": null,
   "metadata": {
    "collapsed": true
   },
   "outputs": [],
   "source": []
  },
  {
   "cell_type": "code",
   "execution_count": null,
   "metadata": {
    "collapsed": true
   },
   "outputs": [],
   "source": []
  },
  {
   "cell_type": "code",
   "execution_count": null,
   "metadata": {
    "collapsed": true
   },
   "outputs": [],
   "source": []
  },
  {
   "cell_type": "code",
   "execution_count": null,
   "metadata": {
    "collapsed": true
   },
   "outputs": [],
   "source": []
  },
  {
   "cell_type": "code",
   "execution_count": null,
   "metadata": {
    "collapsed": true
   },
   "outputs": [],
   "source": []
  },
  {
   "cell_type": "code",
   "execution_count": null,
   "metadata": {
    "collapsed": true
   },
   "outputs": [],
   "source": []
  },
  {
   "cell_type": "code",
   "execution_count": null,
   "metadata": {
    "collapsed": true
   },
   "outputs": [],
   "source": []
  },
  {
   "cell_type": "code",
   "execution_count": null,
   "metadata": {
    "collapsed": true
   },
   "outputs": [],
   "source": []
  },
  {
   "cell_type": "code",
   "execution_count": null,
   "metadata": {
    "collapsed": true
   },
   "outputs": [],
   "source": []
  },
  {
   "cell_type": "code",
   "execution_count": null,
   "metadata": {
    "collapsed": true
   },
   "outputs": [],
   "source": []
  },
  {
   "cell_type": "code",
   "execution_count": 51,
   "metadata": {
    "collapsed": false
   },
   "outputs": [
    {
     "data": {
      "text/plain": [
       "Tide Original Scent Liquid Laundry Detergent ,  50 Fl Oz,  2 Count                                                                               1089\n",
       "Secret Clinical Strength Sport Advanced Solid Antiperspirant &amp; Deodorant Marathon Fresh Scent 1.6 Oz (Pack of 2)                              469\n",
       "Secret Clinical Strength Advanced Solid Antiperspirant &amp; Deodorant Light And Fresh Scent 1.6 Oz (Pack of 2)                                   431\n",
       "Tide Pods Laundry Detergent Alpine Breeze Scent 18 Count                                                                                          427\n",
       "Crest 3D White Whitestrips Professional Effects - Teeth Whitening Kit 20 Treatments (Packaging May Vary)                                          321\n",
       "Proraso Shaving Cream, Eucalyptus &amp; Menthol, 150 ml, New Formulation                                                                          298\n",
       "Proraso Shaving Soap, Eucalyptus &amp; Menthol, 5.2 oz (150 ml), New Formulation                                                                  274\n",
       "Tide Stain Release Duo Pac In-Wash Booster Twin Pack, 18-count Bag                                                                                272\n",
       "Dove Advanced Care with Nutriummoisture Antiperspirant Deodorant, Beauty Finish, 2.6 Ounce                                                        266\n",
       "Oral-B Professional Floss Action Replacement Brush Head 3 Count                                                                                   259\n",
       "Playtex Gentle Glide Tampons, Unscented Ultra Absorbency, 36 Count                                                                                239\n",
       "Playtex Sport Playtex Sport Body Wipes Travel Pack, 24 Count, Pack of 5                                                                           232\n",
       "Finish Powerball Tabs Dishwasher Detergent, Fresh Scent, 100-Count                                                                                224\n",
       "Playtex Sport Tampons, Unscented Super Absorbency, 18 Count (Pack of 2)                                                                           223\n",
       "Oral-B Professional Healthy Clean Precision 1000 Rechargeable Electric Toothbrush 1 Count                                                         220\n",
       "Playtex Gentle Glide Tampons, Fresh Scent Super Absorbency, 36 count (Pack of 2)                                                                  215\n",
       "Proraso Anti Irritation Pre-shaving Cream with Green Tea and Oatmeal 3.6 Oz.                                                                      209\n",
       "Philips Sonicare HX7002/62 e-Series Standard Replacement Brush Heads, 2-Pack                                                                      205\n",
       "Bounce 2 Month Fresh Linen Dryer Bar 1.28 Oz (Pack of 6)                                                                                          203\n",
       "Seventh Generation Liquid Laundry 4x, Baby, 40 Ounce Bottle, 2 Count                                                                              198\n",
       "Downy Unstopables In Wash Fresh Scent Booster 13.2 Oz                                                                                             194\n",
       "O'Keeffe's Healthy Feet Creme 3.2oz Jar                                                                                                           189\n",
       "Philips Sonicare HX5610/30 Essence 5600 Rechargeable Electric Toothbrush, Frustration Free Packaging                                              189\n",
       "Dropps Laundry Detergent Pacs, Fresh Scent, 20 Loads (Pack of 3)                                                                                  181\n",
       "Van Der Hagen Premium Shave Set (Soap, Bowl, Brush)                                                                                               178\n",
       "Speed Stick Gear Gel Deodorant, Fresh Force, 3 Ounce                                                                                              177\n",
       "Jarrow Formulas Coconut Oil 100% Organic, Extra Virgin, 16 Ounce                                                                                  175\n",
       "Remington King of Shaves Alphagel Cooling Menthol Shave Gel  5 oz. (Pack of 2)                                                                    170\n",
       "Remington King of Shaves Alphagel Sensitive Shave Gel 5 oz. (Pack of 2)                                                                           170\n",
       "Oral-B Professional Healthy Clean + Floss Action Precision 5000 Rechargeable Electric Toothbrush (packaging may vary)                             170\n",
       "                                                                                                                                                 ... \n",
       "IsoSensuals TIGHT | Vaginal Tightening Gel - 1 Bottle                                                                                               5\n",
       "Listerine Whitening Pen                                                                                                                             5\n",
       "Philosophy Soul Owner Exfoliating Foot Cream, 3.3 Ounce                                                                                             5\n",
       "Jelmar PB-BK-2000 CLR Fresh Scent Bath and Kitchen Cleaner, 26 oz Trigger Spray Bottle                                                              5\n",
       "Jobar International Magic Air Neck Cushion JB5650                                                                                                   5\n",
       "Super PoliGrip Denture Adhesive Cream, Extra Care, 2.2 oz                                                                                           5\n",
       "FC Female Condom 15 Pack                                                                                                                            5\n",
       "Gum Toothbrush Star Wars Flash Light,color may vary                                                                                                 5\n",
       "Arm &amp; Hammer Total, 2-in-1 Moist Dryer Cloths, Classic Fresh 40 Ct (Pack of 4)                                                                  5\n",
       "Protech Denture Cleaner                                                                                                                             5\n",
       "Febreze allergen reducer                                                                                                                            5\n",
       "Musgo Real Orange Amber Shaving Cream                                                                                                               5\n",
       "Pronto Spray for Bedbugs &amp; Dust Mites-10 oz                                                                                                     5\n",
       "Optx 20/20 Techoptx Reading Glasses, 3 Count, (+2.00)                                                                                               5\n",
       "Zud Heavy Duty Cleanser, 16-Ounce (Pack of 6)                                                                                                       5\n",
       "Zout Laundry Stain Remover, 16 Oz (Pack of 3)                                                                                                       5\n",
       "Ladygasm Slippery Sam Vibrating Dildo - Slippery Surface Eliminates Need For Lubricants                                                             5\n",
       "INSTANT WHITE SMILE optimized 20cc 36% Carbamide Peroxide Teeth Whitening Gel syringes with 2 Remineralization Gels with Shade Card- no trays       5\n",
       "Wet and Forget 800003 Wet And Forget Moss Mold Mildew &amp; Algae Stain Remover                                                                     5\n",
       "Flents Pink Nose Pads for Eyeglasses Ea                                                                                                             5\n",
       "Montmorency Tart Cherry Concentrate 16 fl oz (474 ml) Liquid                                                                                        5\n",
       "Honeyrose Herbal Cigarettes Special 20                                                                                                              5\n",
       "Eyekepper Metal Frame Spring Hinged Arms Reading Glasses Pack of 4 Pairs(1 Pair of per Color) +1.75                                                 5\n",
       "Zinc Oxide Ointment Protects Chaffed Skin -- 1 Oz                                                                                                   5\n",
       "Ezo Denture Cushions, Upper, Heavy, 12 cushions                                                                                                     5\n",
       "Mocha Crisp Coffee Bar 1.6-Ounce Bars (Pack of 12)                                                                                                  5\n",
       "Temple Tips Eyewear Comfort - 1 Pair                                                                                                                5\n",
       "ClingFree Fabric Softener Sheets, Powder Fresh, 40-Count Boxes (Pack of 6)                                                                          5\n",
       "Dental Spa Interoral Sonic &amp; UV Cleaner                                                                                                         5\n",
       "Air Wick Scented Oil Refill, Fresh Waters, 0.67 Ounce, 3 Count                                                                                      5\n",
       "Name: title, dtype: int64"
      ]
     },
     "execution_count": 51,
     "metadata": {},
     "output_type": "execute_result"
    }
   ],
   "source": [
    "am.title.value_counts()"
   ]
  },
  {
   "cell_type": "code",
   "execution_count": null,
   "metadata": {
    "collapsed": true
   },
   "outputs": [],
   "source": []
  },
  {
   "cell_type": "code",
   "execution_count": null,
   "metadata": {
    "collapsed": true
   },
   "outputs": [],
   "source": []
  },
  {
   "cell_type": "code",
   "execution_count": null,
   "metadata": {
    "collapsed": true
   },
   "outputs": [],
   "source": []
  },
  {
   "cell_type": "code",
   "execution_count": null,
   "metadata": {
    "collapsed": true
   },
   "outputs": [],
   "source": []
  },
  {
   "cell_type": "code",
   "execution_count": 9,
   "metadata": {
    "collapsed": false
   },
   "outputs": [
    {
     "data": {
      "text/html": [
       "<div>\n",
       "<table border=\"1\" class=\"dataframe\">\n",
       "  <thead>\n",
       "    <tr style=\"text-align: right;\">\n",
       "      <th></th>\n",
       "      <th>Unnamed: 0</th>\n",
       "      <th>H&amp;PC</th>\n",
       "      <th>Cat1</th>\n",
       "      <th>Cat2</th>\n",
       "      <th>Cat3</th>\n",
       "      <th>Cat4</th>\n",
       "      <th>Cat5</th>\n",
       "      <th>Cat6</th>\n",
       "      <th>reviewerName</th>\n",
       "      <th>reviewTime</th>\n",
       "      <th>...</th>\n",
       "      <th>overall</th>\n",
       "      <th>helpful</th>\n",
       "      <th>description</th>\n",
       "      <th>categories</th>\n",
       "      <th>related</th>\n",
       "      <th>title</th>\n",
       "      <th>salesRank</th>\n",
       "      <th>imUrl</th>\n",
       "      <th>price</th>\n",
       "      <th>brand</th>\n",
       "    </tr>\n",
       "  </thead>\n",
       "  <tbody>\n",
       "    <tr>\n",
       "      <th>0</th>\n",
       "      <td>80</td>\n",
       "      <td>Health &amp; Personal Care</td>\n",
       "      <td>Household Supplies</td>\n",
       "      <td>NaN</td>\n",
       "      <td>NaN</td>\n",
       "      <td>NaN</td>\n",
       "      <td>NaN</td>\n",
       "      <td>NaN</td>\n",
       "      <td>adero1780</td>\n",
       "      <td>01 11, 2013</td>\n",
       "      <td>...</td>\n",
       "      <td>5.0</td>\n",
       "      <td>[0, 0]</td>\n",
       "      <td>Energizer Recharge Batteries are the reusable ...</td>\n",
       "      <td>[['Health &amp; Personal Care', 'Household Supplie...</td>\n",
       "      <td>{'bought_together': ['B000BESLQK', 'B00339NINQ...</td>\n",
       "      <td>Energizer Power Plus NiMH AA Rechargeable Batt...</td>\n",
       "      <td>{'Home Improvement': 541}</td>\n",
       "      <td>http://ecx.images-amazon.com/images/I/61g6ibWk...</td>\n",
       "      <td>10.42</td>\n",
       "      <td>Energizer</td>\n",
       "    </tr>\n",
       "    <tr>\n",
       "      <th>1</th>\n",
       "      <td>81</td>\n",
       "      <td>Health &amp; Personal Care</td>\n",
       "      <td>Household Supplies</td>\n",
       "      <td>NaN</td>\n",
       "      <td>NaN</td>\n",
       "      <td>NaN</td>\n",
       "      <td>NaN</td>\n",
       "      <td>NaN</td>\n",
       "      <td>Allan Hamilton</td>\n",
       "      <td>07 9, 2014</td>\n",
       "      <td>...</td>\n",
       "      <td>5.0</td>\n",
       "      <td>[0, 0]</td>\n",
       "      <td>Energizer Recharge Batteries are the reusable ...</td>\n",
       "      <td>[['Health &amp; Personal Care', 'Household Supplie...</td>\n",
       "      <td>{'bought_together': ['B000BESLQK', 'B00339NINQ...</td>\n",
       "      <td>Energizer Power Plus NiMH AA Rechargeable Batt...</td>\n",
       "      <td>{'Home Improvement': 541}</td>\n",
       "      <td>http://ecx.images-amazon.com/images/I/61g6ibWk...</td>\n",
       "      <td>10.42</td>\n",
       "      <td>Energizer</td>\n",
       "    </tr>\n",
       "    <tr>\n",
       "      <th>2</th>\n",
       "      <td>82</td>\n",
       "      <td>Health &amp; Personal Care</td>\n",
       "      <td>Household Supplies</td>\n",
       "      <td>NaN</td>\n",
       "      <td>NaN</td>\n",
       "      <td>NaN</td>\n",
       "      <td>NaN</td>\n",
       "      <td>NaN</td>\n",
       "      <td>Amazon Customer</td>\n",
       "      <td>11 28, 2013</td>\n",
       "      <td>...</td>\n",
       "      <td>4.0</td>\n",
       "      <td>[0, 0]</td>\n",
       "      <td>Energizer Recharge Batteries are the reusable ...</td>\n",
       "      <td>[['Health &amp; Personal Care', 'Household Supplie...</td>\n",
       "      <td>{'bought_together': ['B000BESLQK', 'B00339NINQ...</td>\n",
       "      <td>Energizer Power Plus NiMH AA Rechargeable Batt...</td>\n",
       "      <td>{'Home Improvement': 541}</td>\n",
       "      <td>http://ecx.images-amazon.com/images/I/61g6ibWk...</td>\n",
       "      <td>10.42</td>\n",
       "      <td>Energizer</td>\n",
       "    </tr>\n",
       "    <tr>\n",
       "      <th>3</th>\n",
       "      <td>83</td>\n",
       "      <td>Health &amp; Personal Care</td>\n",
       "      <td>Household Supplies</td>\n",
       "      <td>NaN</td>\n",
       "      <td>NaN</td>\n",
       "      <td>NaN</td>\n",
       "      <td>NaN</td>\n",
       "      <td>NaN</td>\n",
       "      <td>Amazon Customer</td>\n",
       "      <td>08 4, 2011</td>\n",
       "      <td>...</td>\n",
       "      <td>1.0</td>\n",
       "      <td>[1, 1]</td>\n",
       "      <td>Energizer Recharge Batteries are the reusable ...</td>\n",
       "      <td>[['Health &amp; Personal Care', 'Household Supplie...</td>\n",
       "      <td>{'bought_together': ['B000BESLQK', 'B00339NINQ...</td>\n",
       "      <td>Energizer Power Plus NiMH AA Rechargeable Batt...</td>\n",
       "      <td>{'Home Improvement': 541}</td>\n",
       "      <td>http://ecx.images-amazon.com/images/I/61g6ibWk...</td>\n",
       "      <td>10.42</td>\n",
       "      <td>Energizer</td>\n",
       "    </tr>\n",
       "    <tr>\n",
       "      <th>4</th>\n",
       "      <td>84</td>\n",
       "      <td>Health &amp; Personal Care</td>\n",
       "      <td>Household Supplies</td>\n",
       "      <td>NaN</td>\n",
       "      <td>NaN</td>\n",
       "      <td>NaN</td>\n",
       "      <td>NaN</td>\n",
       "      <td>NaN</td>\n",
       "      <td>Amazon Customer \"mikeklement.com\"</td>\n",
       "      <td>11 27, 2012</td>\n",
       "      <td>...</td>\n",
       "      <td>5.0</td>\n",
       "      <td>[0, 0]</td>\n",
       "      <td>Energizer Recharge Batteries are the reusable ...</td>\n",
       "      <td>[['Health &amp; Personal Care', 'Household Supplie...</td>\n",
       "      <td>{'bought_together': ['B000BESLQK', 'B00339NINQ...</td>\n",
       "      <td>Energizer Power Plus NiMH AA Rechargeable Batt...</td>\n",
       "      <td>{'Home Improvement': 541}</td>\n",
       "      <td>http://ecx.images-amazon.com/images/I/61g6ibWk...</td>\n",
       "      <td>10.42</td>\n",
       "      <td>Energizer</td>\n",
       "    </tr>\n",
       "  </tbody>\n",
       "</table>\n",
       "<p>5 rows × 25 columns</p>\n",
       "</div>"
      ],
      "text/plain": [
       "   Unnamed: 0                    H&PC                Cat1 Cat2 Cat3 Cat4 Cat5  \\\n",
       "0          80  Health & Personal Care  Household Supplies  NaN  NaN  NaN  NaN   \n",
       "1          81  Health & Personal Care  Household Supplies  NaN  NaN  NaN  NaN   \n",
       "2          82  Health & Personal Care  Household Supplies  NaN  NaN  NaN  NaN   \n",
       "3          83  Health & Personal Care  Household Supplies  NaN  NaN  NaN  NaN   \n",
       "4          84  Health & Personal Care  Household Supplies  NaN  NaN  NaN  NaN   \n",
       "\n",
       "   Cat6                       reviewerName   reviewTime    ...     overall  \\\n",
       "0   NaN                          adero1780  01 11, 2013    ...         5.0   \n",
       "1   NaN                     Allan Hamilton   07 9, 2014    ...         5.0   \n",
       "2   NaN                    Amazon Customer  11 28, 2013    ...         4.0   \n",
       "3   NaN                    Amazon Customer   08 4, 2011    ...         1.0   \n",
       "4   NaN  Amazon Customer \"mikeklement.com\"  11 27, 2012    ...         5.0   \n",
       "\n",
       "  helpful                                        description  \\\n",
       "0  [0, 0]  Energizer Recharge Batteries are the reusable ...   \n",
       "1  [0, 0]  Energizer Recharge Batteries are the reusable ...   \n",
       "2  [0, 0]  Energizer Recharge Batteries are the reusable ...   \n",
       "3  [1, 1]  Energizer Recharge Batteries are the reusable ...   \n",
       "4  [0, 0]  Energizer Recharge Batteries are the reusable ...   \n",
       "\n",
       "                                          categories  \\\n",
       "0  [['Health & Personal Care', 'Household Supplie...   \n",
       "1  [['Health & Personal Care', 'Household Supplie...   \n",
       "2  [['Health & Personal Care', 'Household Supplie...   \n",
       "3  [['Health & Personal Care', 'Household Supplie...   \n",
       "4  [['Health & Personal Care', 'Household Supplie...   \n",
       "\n",
       "                                             related  \\\n",
       "0  {'bought_together': ['B000BESLQK', 'B00339NINQ...   \n",
       "1  {'bought_together': ['B000BESLQK', 'B00339NINQ...   \n",
       "2  {'bought_together': ['B000BESLQK', 'B00339NINQ...   \n",
       "3  {'bought_together': ['B000BESLQK', 'B00339NINQ...   \n",
       "4  {'bought_together': ['B000BESLQK', 'B00339NINQ...   \n",
       "\n",
       "                                               title  \\\n",
       "0  Energizer Power Plus NiMH AA Rechargeable Batt...   \n",
       "1  Energizer Power Plus NiMH AA Rechargeable Batt...   \n",
       "2  Energizer Power Plus NiMH AA Rechargeable Batt...   \n",
       "3  Energizer Power Plus NiMH AA Rechargeable Batt...   \n",
       "4  Energizer Power Plus NiMH AA Rechargeable Batt...   \n",
       "\n",
       "                   salesRank  \\\n",
       "0  {'Home Improvement': 541}   \n",
       "1  {'Home Improvement': 541}   \n",
       "2  {'Home Improvement': 541}   \n",
       "3  {'Home Improvement': 541}   \n",
       "4  {'Home Improvement': 541}   \n",
       "\n",
       "                                               imUrl  price      brand  \n",
       "0  http://ecx.images-amazon.com/images/I/61g6ibWk...  10.42  Energizer  \n",
       "1  http://ecx.images-amazon.com/images/I/61g6ibWk...  10.42  Energizer  \n",
       "2  http://ecx.images-amazon.com/images/I/61g6ibWk...  10.42  Energizer  \n",
       "3  http://ecx.images-amazon.com/images/I/61g6ibWk...  10.42  Energizer  \n",
       "4  http://ecx.images-amazon.com/images/I/61g6ibWk...  10.42  Energizer  \n",
       "\n",
       "[5 rows x 25 columns]"
      ]
     },
     "execution_count": 9,
     "metadata": {},
     "output_type": "execute_result"
    }
   ],
   "source": [
    "am.head()"
   ]
  },
  {
   "cell_type": "code",
   "execution_count": null,
   "metadata": {
    "collapsed": true
   },
   "outputs": [],
   "source": [
    "'Oral Irrigators','Power Toothbrushes','Dental Floss & Flossers','Dental Picks','Oral Irrigators',\n",
    "'Manual Toothbrushes','Gum Stimulators','Tampons','Sanitary Napkins','Panty Liners',\n",
    "'Callus Shavers','Scrubs, Salts & Soaks','Callus Stones','Moisturizing Socks','Earplugs          1143\n",
    "'Earwax Removal','Ear Drops','Ear Syringes'"
   ]
  },
  {
   "cell_type": "markdown",
   "metadata": {
    "collapsed": true
   },
   "source": [
    "# Natural Language Processing\n",
    "\n",
    "# Importing the libraries\n",
    "import numpy as np\n",
    "import matplotlib.pyplot as plt\n",
    "import pandas as pd\n",
    "\n",
    "# Importing the dataset\n",
    "dataset = pd.read_csv('Restaurant_Reviews.tsv', delimiter = '\\t', quoting = 3)\n",
    "\n",
    "# Cleaning the texts\n",
    "import re\n",
    "import nltk\n",
    "nltk.download('stopwords')\n",
    "from nltk.corpus import stopwords\n",
    "from nltk.stem.porter import PorterStemmer\n",
    "corpus = []\n",
    "for i in range(0, 1000):\n",
    "    review = re.sub('[^a-zA-Z]', ' ', dataset['Review'][i])\n",
    "    review = review.lower()\n",
    "    review = review.split()\n",
    "    ps = PorterStemmer()\n",
    "    review = [ps.stem(word) for word in review if not word in set(stopwords.words('english'))]\n",
    "    review = ' '.join(review)\n",
    "    corpus.append(review)\n",
    "\n",
    "# Creating the Bag of Words model\n",
    "from sklearn.feature_extraction.text import CountVectorizer\n",
    "cv = CountVectorizer(max_features = 1500)\n",
    "X = cv.fit_transform(corpus).toarray()\n",
    "y = dataset.iloc[:, 1].values\n",
    "\n",
    "# Splitting the dataset into the Training set and Test set\n",
    "from sklearn.model_selection import train_test_split\n",
    "X_train, X_test, y_train, y_test = train_test_split(X, y, test_size = 0.20, random_state = 0)\n",
    "\n",
    "# Fitting Naive Bayes to the Training set\n",
    "from sklearn.naive_bayes import GaussianNB\n",
    "classifier = GaussianNB()\n",
    "classifier.fit(X_train, y_train)\n",
    "\n",
    "# Predicting the Test set results\n",
    "y_pred = classifier.predict(X_test)\n",
    "\n",
    "# Making the Confusion Matrix\n",
    "from sklearn.metrics import confusion_matrix\n",
    "cm = confusion_matrix(y_test, y_pred)\n",
    "# Thanks\n",
    "To Julian McAuly for permitting use of data scraped by him/his team\n",
    "\n",
    "WWW / SIGIR papers  \n",
    "R. He, J. McAuley. Modeling the visual evolution of fashion trends\n",
    "with one-class collaborative filtering. WWW, 2016\n",
    "J. McAuley, C. Targett, J. Shi, A. van den Hengel. Image-based\n",
    "recommendations on styles and substitutes. SIGIR, 2015"
   ]
  },
  {
   "cell_type": "code",
   "execution_count": null,
   "metadata": {
    "collapsed": true
   },
   "outputs": [],
   "source": []
  }
 ],
 "metadata": {
  "anaconda-cloud": {},
  "kernelspec": {
   "display_name": "Python [conda root]",
   "language": "python",
   "name": "conda-root-py"
  },
  "language_info": {
   "codemirror_mode": {
    "name": "ipython",
    "version": 3
   },
   "file_extension": ".py",
   "mimetype": "text/x-python",
   "name": "python",
   "nbconvert_exporter": "python",
   "pygments_lexer": "ipython3",
   "version": "3.5.6"
  }
 },
 "nbformat": 4,
 "nbformat_minor": 2
}
