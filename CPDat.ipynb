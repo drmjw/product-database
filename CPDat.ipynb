{
 "cells": [
  {
   "cell_type": "code",
   "execution_count": 2,
   "metadata": {
    "collapsed": true
   },
   "outputs": [],
   "source": [
    "import pandas as pd\n",
    "import numpy as np"
   ]
  },
  {
   "cell_type": "code",
   "execution_count": null,
   "metadata": {
    "collapsed": false
   },
   "outputs": [],
   "source": [
    "function=pd.read_excel('functional_uses.xlsx')\n",
    "function.head()\n",
    "function.info()\n",
    "products=pd.read_excel('products.xlsx')\n",
    "products.head()\n",
    "ingredients=pd.read_excel('ingredients.xlsx')\n",
    "ingredients.head()\n",
    "ingredients.info()\n",
    "proding.info(), function.info()\n",
    "prodingfunc=pd.merge(proding,function, on= ['cpdat_substance_record_id','ingredients_id','source'],how='left')\n",
    "prodingfunc.info()\n",
    "prodingfunc=pd.merge(proding,function, on= ['cpdat_substance_record_id','ingredients_id','source'],how='left')\n",
    "prodingfunc.info()\n",
    "prodingfunc.cpdat_substance_record_id.nunique()\n",
    "proding[proding.download_date=='2015-07-17']\n",
    "function[function.download_date=='2015-07-17'][function.cpdat_substance_record_id==724995]\n",
    "proding[proding.download_date=='2015-07-17'][proding.cpdat_substance_record_id==724995]\n",
    "proding=pd.merge(ingredients, products, on='products_id')\n",
    "print(len(ingredients),len(products),len(proding))\n",
    "proding.head()\n",
    "funcuse=pd.read_excel('predicted_functional_uses.xlsx')\n",
    "funcuse.info()\n",
    "funcuse.head()\n",
    "source=pd.read_excel('cpdat_source_substances.xlsx')\n",
    "source.info()\n",
    "source.head()\n",
    "sourcfunc=pd.merge(source, funcuse, on='cpdat_substance_record_id')\n",
    "print(len(source),len(funcuse),len(sourcfunc))\n",
    "sourcfunc.head()\n",
    "funcuse.info(), source.info(),function.info()"
   ]
  },
  {
   "cell_type": "markdown",
   "metadata": {},
   "source": [
    "chemcat.info()]\n",
    "funcat=pd.merge(function, chemcat, on=['cpdat_substance_record_id','source'])\n",
    "print(len(funcat), len(function), len(chemcat) )\n",
    "funcat.head()\n",
    "function[function.cpdat_substance_record_id==379365]\n",
    "del  chemcat funcat\n",
    "chemterms=pd.read_excel('chemical_and_product_category_terms.xlsx')\n",
    "chemterms.head()\n",
    "#chemterms also just a dictionary, not necessary to merge, use as a reference tool\n",
    "del chemterms\n",
    "#chemcat has this variable, cassette which shows all the different uses for the chemical of interest. One variable\n",
    "#can show up in a myriad of different product types. I don't think this is useful for our purposes, and would\n",
    "#rather stick to the less granular 'harmonized_functional_use'"
   ]
  },
  {
   "cell_type": "code",
   "execution_count": 4,
   "metadata": {
    "collapsed": false
   },
   "outputs": [
    {
     "name": "stdout",
     "output_type": "stream",
     "text": [
      "<class 'pandas.core.frame.DataFrame'>\n",
      "RangeIndex: 15917 entries, 0 to 15916\n",
      "Data columns (total 8 columns):\n",
      "products_id                         15917 non-null int64\n",
      "product_name                        15917 non-null object\n",
      "data_type                           15692 non-null object\n",
      "product_use_category                10952 non-null object\n",
      "source                              15692 non-null object\n",
      "download_date                       15692 non-null object\n",
      "web_url                             15692 non-null object\n",
      "product_use_category_description    15869 non-null object\n",
      "dtypes: int64(1), object(7)\n",
      "memory usage: 994.9+ KB\n"
     ]
    },
    {
     "data": {
      "text/plain": [
       "(   products_id                                       product_name  \\\n",
       " 0            0                            clean shower mtr ing en   \n",
       " 1           11            arm & hammer liquid laundry concentrate   \n",
       " 2           22  xtra powdered laundry detergent bucket formula...   \n",
       " 3           33  arm & hammer essentials liquid laundry concent...   \n",
       " 4           44                       kaboom shower tub mtr ing en   \n",
       " \n",
       "          data_type                        product_use_category  \\\n",
       " 0  ingredient list      inside the home: bathroom cleaner; NOC   \n",
       " 1  ingredient list  inside the home: laundry detergent; liquid   \n",
       " 2  ingredient list  inside the home: laundry detergent; powder   \n",
       " 3  ingredient list  inside the home: laundry detergent; liquid   \n",
       " 4  ingredient list      inside the home: bathroom cleaner; NOC   \n",
       " \n",
       "             source download_date  \\\n",
       " 0  Church & Dwight    2015-07-16   \n",
       " 1  Church & Dwight    2015-07-16   \n",
       " 2  Church & Dwight    2015-07-16   \n",
       " 3  Church & Dwight    2015-07-16   \n",
       " 4  Church & Dwight    2015-07-16   \n",
       " \n",
       "                                              web_url  \\\n",
       " 0  http://www.churchdwight.com/brands-and-product...   \n",
       " 1  http://www.churchdwight.com/brands-and-product...   \n",
       " 2  http://www.churchdwight.com/brands-and-product...   \n",
       " 3  http://www.churchdwight.com/brands-and-product...   \n",
       " 4  http://www.churchdwight.com/brands-and-product...   \n",
       " \n",
       "                     product_use_category_description  \n",
       " 0         bathtub, tile, and toilet surface cleaners  \n",
       " 1  laundry detergents and soaps (liquid formulati...  \n",
       " 2  laundry detergents and soaps (powder formulati...  \n",
       " 3  laundry detergents and soaps (liquid formulati...  \n",
       " 4         bathtub, tile, and toilet surface cleaners  , None)"
      ]
     },
     "execution_count": 4,
     "metadata": {},
     "output_type": "execute_result"
    }
   ],
   "source": [
    "products=pd.read_excel('products.xlsx')\n",
    "products.head(),products.info()"
   ]
  },
  {
   "cell_type": "code",
   "execution_count": 5,
   "metadata": {
    "collapsed": false
   },
   "outputs": [
    {
     "name": "stdout",
     "output_type": "stream",
     "text": [
      "<class 'pandas.core.frame.DataFrame'>\n",
      "RangeIndex: 161215 entries, 0 to 161214\n",
      "Data columns (total 10 columns):\n",
      "ingredients_id                               161215 non-null int64\n",
      "products_id                                  161215 non-null int64\n",
      "cpdat_substance_record_id                    161215 non-null int64\n",
      "minimum_reported_weight_fraction             29373 non-null float64\n",
      "maximum_reported_weight_fraction             29373 non-null float64\n",
      "ingredient_list_rank                         161215 non-null int64\n",
      "predicted_weight_fraction_mean               24003 non-null float64\n",
      "predicted_weight_fraction_05th_percentile    24003 non-null float64\n",
      "predicted_weight_fraction_50th_percentile    24003 non-null float64\n",
      "predicted_weight_fraction_95th_percentile    24003 non-null float64\n",
      "dtypes: float64(6), int64(4)\n",
      "memory usage: 12.3 MB\n",
      "None\n"
     ]
    },
    {
     "data": {
      "text/html": [
       "<div>\n",
       "<table border=\"1\" class=\"dataframe\">\n",
       "  <thead>\n",
       "    <tr style=\"text-align: right;\">\n",
       "      <th></th>\n",
       "      <th>ingredients_id</th>\n",
       "      <th>products_id</th>\n",
       "      <th>cpdat_substance_record_id</th>\n",
       "      <th>minimum_reported_weight_fraction</th>\n",
       "      <th>maximum_reported_weight_fraction</th>\n",
       "      <th>ingredient_list_rank</th>\n",
       "      <th>predicted_weight_fraction_mean</th>\n",
       "      <th>predicted_weight_fraction_05th_percentile</th>\n",
       "      <th>predicted_weight_fraction_50th_percentile</th>\n",
       "      <th>predicted_weight_fraction_95th_percentile</th>\n",
       "    </tr>\n",
       "  </thead>\n",
       "  <tbody>\n",
       "    <tr>\n",
       "      <th>0</th>\n",
       "      <td>0</td>\n",
       "      <td>8510</td>\n",
       "      <td>553545</td>\n",
       "      <td>NaN</td>\n",
       "      <td>NaN</td>\n",
       "      <td>17</td>\n",
       "      <td>0.009119</td>\n",
       "      <td>0.000002</td>\n",
       "      <td>0.004320</td>\n",
       "      <td>0.029592</td>\n",
       "    </tr>\n",
       "    <tr>\n",
       "      <th>1</th>\n",
       "      <td>11</td>\n",
       "      <td>8510</td>\n",
       "      <td>444364</td>\n",
       "      <td>NaN</td>\n",
       "      <td>NaN</td>\n",
       "      <td>22</td>\n",
       "      <td>0.009101</td>\n",
       "      <td>0.000002</td>\n",
       "      <td>0.004305</td>\n",
       "      <td>0.029591</td>\n",
       "    </tr>\n",
       "    <tr>\n",
       "      <th>2</th>\n",
       "      <td>22</td>\n",
       "      <td>8510</td>\n",
       "      <td>455845</td>\n",
       "      <td>NaN</td>\n",
       "      <td>NaN</td>\n",
       "      <td>28</td>\n",
       "      <td>0.009112</td>\n",
       "      <td>0.000002</td>\n",
       "      <td>0.004468</td>\n",
       "      <td>0.029591</td>\n",
       "    </tr>\n",
       "    <tr>\n",
       "      <th>3</th>\n",
       "      <td>33</td>\n",
       "      <td>8510</td>\n",
       "      <td>484461</td>\n",
       "      <td>NaN</td>\n",
       "      <td>NaN</td>\n",
       "      <td>24</td>\n",
       "      <td>0.009136</td>\n",
       "      <td>0.000002</td>\n",
       "      <td>0.004470</td>\n",
       "      <td>0.029591</td>\n",
       "    </tr>\n",
       "    <tr>\n",
       "      <th>4</th>\n",
       "      <td>44</td>\n",
       "      <td>8510</td>\n",
       "      <td>462975</td>\n",
       "      <td>NaN</td>\n",
       "      <td>NaN</td>\n",
       "      <td>15</td>\n",
       "      <td>0.009160</td>\n",
       "      <td>0.000003</td>\n",
       "      <td>0.004521</td>\n",
       "      <td>0.029610</td>\n",
       "    </tr>\n",
       "  </tbody>\n",
       "</table>\n",
       "</div>"
      ],
      "text/plain": [
       "   ingredients_id  products_id  cpdat_substance_record_id  \\\n",
       "0               0         8510                     553545   \n",
       "1              11         8510                     444364   \n",
       "2              22         8510                     455845   \n",
       "3              33         8510                     484461   \n",
       "4              44         8510                     462975   \n",
       "\n",
       "   minimum_reported_weight_fraction  maximum_reported_weight_fraction  \\\n",
       "0                               NaN                               NaN   \n",
       "1                               NaN                               NaN   \n",
       "2                               NaN                               NaN   \n",
       "3                               NaN                               NaN   \n",
       "4                               NaN                               NaN   \n",
       "\n",
       "   ingredient_list_rank  predicted_weight_fraction_mean  \\\n",
       "0                    17                        0.009119   \n",
       "1                    22                        0.009101   \n",
       "2                    28                        0.009112   \n",
       "3                    24                        0.009136   \n",
       "4                    15                        0.009160   \n",
       "\n",
       "   predicted_weight_fraction_05th_percentile  \\\n",
       "0                                   0.000002   \n",
       "1                                   0.000002   \n",
       "2                                   0.000002   \n",
       "3                                   0.000002   \n",
       "4                                   0.000003   \n",
       "\n",
       "   predicted_weight_fraction_50th_percentile  \\\n",
       "0                                   0.004320   \n",
       "1                                   0.004305   \n",
       "2                                   0.004468   \n",
       "3                                   0.004470   \n",
       "4                                   0.004521   \n",
       "\n",
       "   predicted_weight_fraction_95th_percentile  \n",
       "0                                   0.029592  \n",
       "1                                   0.029591  \n",
       "2                                   0.029591  \n",
       "3                                   0.029591  \n",
       "4                                   0.029610  "
      ]
     },
     "execution_count": 5,
     "metadata": {},
     "output_type": "execute_result"
    }
   ],
   "source": [
    "ingredients=pd.read_excel('ingredients.xlsx')\n",
    "print(ingredients.info())\n",
    "ingredients.head()"
   ]
  },
  {
   "cell_type": "code",
   "execution_count": 6,
   "metadata": {
    "collapsed": false
   },
   "outputs": [
    {
     "name": "stdout",
     "output_type": "stream",
     "text": [
      "161215 15917 161215\n"
     ]
    },
    {
     "data": {
      "text/html": [
       "<div>\n",
       "<table border=\"1\" class=\"dataframe\">\n",
       "  <thead>\n",
       "    <tr style=\"text-align: right;\">\n",
       "      <th></th>\n",
       "      <th>ingredients_id</th>\n",
       "      <th>products_id</th>\n",
       "      <th>cpdat_substance_record_id</th>\n",
       "      <th>minimum_reported_weight_fraction</th>\n",
       "      <th>maximum_reported_weight_fraction</th>\n",
       "      <th>ingredient_list_rank</th>\n",
       "      <th>predicted_weight_fraction_mean</th>\n",
       "      <th>predicted_weight_fraction_05th_percentile</th>\n",
       "      <th>predicted_weight_fraction_50th_percentile</th>\n",
       "      <th>predicted_weight_fraction_95th_percentile</th>\n",
       "      <th>product_name</th>\n",
       "      <th>data_type</th>\n",
       "      <th>product_use_category</th>\n",
       "      <th>source</th>\n",
       "      <th>download_date</th>\n",
       "      <th>web_url</th>\n",
       "      <th>product_use_category_description</th>\n",
       "    </tr>\n",
       "  </thead>\n",
       "  <tbody>\n",
       "    <tr>\n",
       "      <th>0</th>\n",
       "      <td>0</td>\n",
       "      <td>8510</td>\n",
       "      <td>553545</td>\n",
       "      <td>NaN</td>\n",
       "      <td>NaN</td>\n",
       "      <td>17</td>\n",
       "      <td>0.009119</td>\n",
       "      <td>0.000002</td>\n",
       "      <td>0.004320</td>\n",
       "      <td>0.029592</td>\n",
       "      <td>alberto balsam conditioner antioxidant blueberry</td>\n",
       "      <td>ingredient list</td>\n",
       "      <td>personal care: hair conditioner; NOC</td>\n",
       "      <td>Unilever</td>\n",
       "      <td>2015-07-17</td>\n",
       "      <td>https://pioti.unilever.com/PIOTI/EN/p2.asp</td>\n",
       "      <td>rinse-out everyday hair conditioners (excludin...</td>\n",
       "    </tr>\n",
       "    <tr>\n",
       "      <th>1</th>\n",
       "      <td>11</td>\n",
       "      <td>8510</td>\n",
       "      <td>444364</td>\n",
       "      <td>NaN</td>\n",
       "      <td>NaN</td>\n",
       "      <td>22</td>\n",
       "      <td>0.009101</td>\n",
       "      <td>0.000002</td>\n",
       "      <td>0.004305</td>\n",
       "      <td>0.029591</td>\n",
       "      <td>alberto balsam conditioner antioxidant blueberry</td>\n",
       "      <td>ingredient list</td>\n",
       "      <td>personal care: hair conditioner; NOC</td>\n",
       "      <td>Unilever</td>\n",
       "      <td>2015-07-17</td>\n",
       "      <td>https://pioti.unilever.com/PIOTI/EN/p2.asp</td>\n",
       "      <td>rinse-out everyday hair conditioners (excludin...</td>\n",
       "    </tr>\n",
       "    <tr>\n",
       "      <th>2</th>\n",
       "      <td>22</td>\n",
       "      <td>8510</td>\n",
       "      <td>455845</td>\n",
       "      <td>NaN</td>\n",
       "      <td>NaN</td>\n",
       "      <td>28</td>\n",
       "      <td>0.009112</td>\n",
       "      <td>0.000002</td>\n",
       "      <td>0.004468</td>\n",
       "      <td>0.029591</td>\n",
       "      <td>alberto balsam conditioner antioxidant blueberry</td>\n",
       "      <td>ingredient list</td>\n",
       "      <td>personal care: hair conditioner; NOC</td>\n",
       "      <td>Unilever</td>\n",
       "      <td>2015-07-17</td>\n",
       "      <td>https://pioti.unilever.com/PIOTI/EN/p2.asp</td>\n",
       "      <td>rinse-out everyday hair conditioners (excludin...</td>\n",
       "    </tr>\n",
       "    <tr>\n",
       "      <th>3</th>\n",
       "      <td>33</td>\n",
       "      <td>8510</td>\n",
       "      <td>484461</td>\n",
       "      <td>NaN</td>\n",
       "      <td>NaN</td>\n",
       "      <td>24</td>\n",
       "      <td>0.009136</td>\n",
       "      <td>0.000002</td>\n",
       "      <td>0.004470</td>\n",
       "      <td>0.029591</td>\n",
       "      <td>alberto balsam conditioner antioxidant blueberry</td>\n",
       "      <td>ingredient list</td>\n",
       "      <td>personal care: hair conditioner; NOC</td>\n",
       "      <td>Unilever</td>\n",
       "      <td>2015-07-17</td>\n",
       "      <td>https://pioti.unilever.com/PIOTI/EN/p2.asp</td>\n",
       "      <td>rinse-out everyday hair conditioners (excludin...</td>\n",
       "    </tr>\n",
       "    <tr>\n",
       "      <th>4</th>\n",
       "      <td>44</td>\n",
       "      <td>8510</td>\n",
       "      <td>462975</td>\n",
       "      <td>NaN</td>\n",
       "      <td>NaN</td>\n",
       "      <td>15</td>\n",
       "      <td>0.009160</td>\n",
       "      <td>0.000003</td>\n",
       "      <td>0.004521</td>\n",
       "      <td>0.029610</td>\n",
       "      <td>alberto balsam conditioner antioxidant blueberry</td>\n",
       "      <td>ingredient list</td>\n",
       "      <td>personal care: hair conditioner; NOC</td>\n",
       "      <td>Unilever</td>\n",
       "      <td>2015-07-17</td>\n",
       "      <td>https://pioti.unilever.com/PIOTI/EN/p2.asp</td>\n",
       "      <td>rinse-out everyday hair conditioners (excludin...</td>\n",
       "    </tr>\n",
       "  </tbody>\n",
       "</table>\n",
       "</div>"
      ],
      "text/plain": [
       "   ingredients_id  products_id  cpdat_substance_record_id  \\\n",
       "0               0         8510                     553545   \n",
       "1              11         8510                     444364   \n",
       "2              22         8510                     455845   \n",
       "3              33         8510                     484461   \n",
       "4              44         8510                     462975   \n",
       "\n",
       "   minimum_reported_weight_fraction  maximum_reported_weight_fraction  \\\n",
       "0                               NaN                               NaN   \n",
       "1                               NaN                               NaN   \n",
       "2                               NaN                               NaN   \n",
       "3                               NaN                               NaN   \n",
       "4                               NaN                               NaN   \n",
       "\n",
       "   ingredient_list_rank  predicted_weight_fraction_mean  \\\n",
       "0                    17                        0.009119   \n",
       "1                    22                        0.009101   \n",
       "2                    28                        0.009112   \n",
       "3                    24                        0.009136   \n",
       "4                    15                        0.009160   \n",
       "\n",
       "   predicted_weight_fraction_05th_percentile  \\\n",
       "0                                   0.000002   \n",
       "1                                   0.000002   \n",
       "2                                   0.000002   \n",
       "3                                   0.000002   \n",
       "4                                   0.000003   \n",
       "\n",
       "   predicted_weight_fraction_50th_percentile  \\\n",
       "0                                   0.004320   \n",
       "1                                   0.004305   \n",
       "2                                   0.004468   \n",
       "3                                   0.004470   \n",
       "4                                   0.004521   \n",
       "\n",
       "   predicted_weight_fraction_95th_percentile  \\\n",
       "0                                   0.029592   \n",
       "1                                   0.029591   \n",
       "2                                   0.029591   \n",
       "3                                   0.029591   \n",
       "4                                   0.029610   \n",
       "\n",
       "                                       product_name        data_type  \\\n",
       "0  alberto balsam conditioner antioxidant blueberry  ingredient list   \n",
       "1  alberto balsam conditioner antioxidant blueberry  ingredient list   \n",
       "2  alberto balsam conditioner antioxidant blueberry  ingredient list   \n",
       "3  alberto balsam conditioner antioxidant blueberry  ingredient list   \n",
       "4  alberto balsam conditioner antioxidant blueberry  ingredient list   \n",
       "\n",
       "                   product_use_category    source download_date  \\\n",
       "0  personal care: hair conditioner; NOC  Unilever    2015-07-17   \n",
       "1  personal care: hair conditioner; NOC  Unilever    2015-07-17   \n",
       "2  personal care: hair conditioner; NOC  Unilever    2015-07-17   \n",
       "3  personal care: hair conditioner; NOC  Unilever    2015-07-17   \n",
       "4  personal care: hair conditioner; NOC  Unilever    2015-07-17   \n",
       "\n",
       "                                      web_url  \\\n",
       "0  https://pioti.unilever.com/PIOTI/EN/p2.asp   \n",
       "1  https://pioti.unilever.com/PIOTI/EN/p2.asp   \n",
       "2  https://pioti.unilever.com/PIOTI/EN/p2.asp   \n",
       "3  https://pioti.unilever.com/PIOTI/EN/p2.asp   \n",
       "4  https://pioti.unilever.com/PIOTI/EN/p2.asp   \n",
       "\n",
       "                    product_use_category_description  \n",
       "0  rinse-out everyday hair conditioners (excludin...  \n",
       "1  rinse-out everyday hair conditioners (excludin...  \n",
       "2  rinse-out everyday hair conditioners (excludin...  \n",
       "3  rinse-out everyday hair conditioners (excludin...  \n",
       "4  rinse-out everyday hair conditioners (excludin...  "
      ]
     },
     "execution_count": 6,
     "metadata": {},
     "output_type": "execute_result"
    }
   ],
   "source": [
    "proding=pd.merge(ingredients, products, on=['products_id',])\n",
    "print(len(ingredients),len(products),len(proding))\n",
    "proding.head()"
   ]
  },
  {
   "cell_type": "code",
   "execution_count": 13,
   "metadata": {
    "collapsed": false
   },
   "outputs": [
    {
     "data": {
      "text/plain": [
       "(75054, 161215)"
      ]
     },
     "execution_count": 13,
     "metadata": {},
     "output_type": "execute_result"
    }
   ],
   "source": [
    "source=pd.read_excel('cpdat_source_substances.xlsx')\n",
    "\n",
    "prodingsub=pd.merge(proding,source,on='cpdat_substance_record_id')\n",
    "len(source),len(proding),len(prodingsub)"
   ]
  },
  {
   "cell_type": "code",
   "execution_count": 21,
   "metadata": {
    "collapsed": false
   },
   "outputs": [
    {
     "data": {
      "text/html": [
       "<div>\n",
       "<table border=\"1\" class=\"dataframe\">\n",
       "  <thead>\n",
       "    <tr style=\"text-align: right;\">\n",
       "      <th></th>\n",
       "      <th>products_id</th>\n",
       "      <th>product_name</th>\n",
       "      <th>source</th>\n",
       "      <th>product_use_category_description</th>\n",
       "      <th>product_use_category</th>\n",
       "      <th>ingredient_list_rank</th>\n",
       "      <th>chemical_name</th>\n",
       "      <th>predicted_weight_fraction_mean</th>\n",
       "      <th>cpdat_substance_record_id</th>\n",
       "    </tr>\n",
       "  </thead>\n",
       "  <tbody>\n",
       "    <tr>\n",
       "      <th>35289</th>\n",
       "      <td>0</td>\n",
       "      <td>clean shower mtr ing en</td>\n",
       "      <td>Church &amp; Dwight</td>\n",
       "      <td>bathtub, tile, and toilet surface cleaners</td>\n",
       "      <td>inside the home: bathroom cleaner; NOC</td>\n",
       "      <td>1</td>\n",
       "      <td>water</td>\n",
       "      <td>0.553310</td>\n",
       "      <td>724995</td>\n",
       "    </tr>\n",
       "    <tr>\n",
       "      <th>56728</th>\n",
       "      <td>0</td>\n",
       "      <td>clean shower mtr ing en</td>\n",
       "      <td>Church &amp; Dwight</td>\n",
       "      <td>bathtub, tile, and toilet surface cleaners</td>\n",
       "      <td>inside the home: bathroom cleaner; NOC</td>\n",
       "      <td>2</td>\n",
       "      <td>c8-10 alkyl glucoside|d-glucopyranose oligomet...</td>\n",
       "      <td>0.164790</td>\n",
       "      <td>230045</td>\n",
       "    </tr>\n",
       "    <tr>\n",
       "      <th>56730</th>\n",
       "      <td>0</td>\n",
       "      <td>clean shower mtr ing en</td>\n",
       "      <td>Church &amp; Dwight</td>\n",
       "      <td>bathtub, tile, and toilet surface cleaners</td>\n",
       "      <td>inside the home: bathroom cleaner; NOC</td>\n",
       "      <td>3</td>\n",
       "      <td>c8-16 alkyl glucoside|d-glucopyranose_ oligome...</td>\n",
       "      <td>0.078491</td>\n",
       "      <td>230071</td>\n",
       "    </tr>\n",
       "    <tr>\n",
       "      <th>38620</th>\n",
       "      <td>0</td>\n",
       "      <td>clean shower mtr ing en</td>\n",
       "      <td>Church &amp; Dwight</td>\n",
       "      <td>bathtub, tile, and toilet surface cleaners</td>\n",
       "      <td>inside the home: bathroom cleaner; NOC</td>\n",
       "      <td>4</td>\n",
       "      <td>edta</td>\n",
       "      <td>0.048837</td>\n",
       "      <td>342520</td>\n",
       "    </tr>\n",
       "    <tr>\n",
       "      <th>3568</th>\n",
       "      <td>0</td>\n",
       "      <td>clean shower mtr ing en</td>\n",
       "      <td>Church &amp; Dwight</td>\n",
       "      <td>bathtub, tile, and toilet surface cleaners</td>\n",
       "      <td>inside the home: bathroom cleaner; NOC</td>\n",
       "      <td>5</td>\n",
       "      <td>propylene glycol</td>\n",
       "      <td>0.037282</td>\n",
       "      <td>607991</td>\n",
       "    </tr>\n",
       "  </tbody>\n",
       "</table>\n",
       "</div>"
      ],
      "text/plain": [
       "       products_id             product_name           source  \\\n",
       "35289            0  clean shower mtr ing en  Church & Dwight   \n",
       "56728            0  clean shower mtr ing en  Church & Dwight   \n",
       "56730            0  clean shower mtr ing en  Church & Dwight   \n",
       "38620            0  clean shower mtr ing en  Church & Dwight   \n",
       "3568             0  clean shower mtr ing en  Church & Dwight   \n",
       "\n",
       "                 product_use_category_description  \\\n",
       "35289  bathtub, tile, and toilet surface cleaners   \n",
       "56728  bathtub, tile, and toilet surface cleaners   \n",
       "56730  bathtub, tile, and toilet surface cleaners   \n",
       "38620  bathtub, tile, and toilet surface cleaners   \n",
       "3568   bathtub, tile, and toilet surface cleaners   \n",
       "\n",
       "                         product_use_category  ingredient_list_rank  \\\n",
       "35289  inside the home: bathroom cleaner; NOC                     1   \n",
       "56728  inside the home: bathroom cleaner; NOC                     2   \n",
       "56730  inside the home: bathroom cleaner; NOC                     3   \n",
       "38620  inside the home: bathroom cleaner; NOC                     4   \n",
       "3568   inside the home: bathroom cleaner; NOC                     5   \n",
       "\n",
       "                                           chemical_name  \\\n",
       "35289                                              water   \n",
       "56728  c8-10 alkyl glucoside|d-glucopyranose oligomet...   \n",
       "56730  c8-16 alkyl glucoside|d-glucopyranose_ oligome...   \n",
       "38620                                               edta   \n",
       "3568                                    propylene glycol   \n",
       "\n",
       "       predicted_weight_fraction_mean  cpdat_substance_record_id  \n",
       "35289                        0.553310                     724995  \n",
       "56728                        0.164790                     230045  \n",
       "56730                        0.078491                     230071  \n",
       "38620                        0.048837                     342520  \n",
       "3568                         0.037282                     607991  "
      ]
     },
     "execution_count": 21,
     "metadata": {},
     "output_type": "execute_result"
    }
   ],
   "source": [
    "df=prodingsub[['products_id','product_name','source','product_use_category_description',\n",
    "              'product_use_category','ingredient_list_rank','chemical_name','predicted_weight_fraction_mean',\n",
    "              'cpdat_substance_record_id']].sort_values(by=['products_id','ingredient_list_rank'])\n",
    "df.head()"
   ]
  },
  {
   "cell_type": "code",
   "execution_count": 24,
   "metadata": {
    "collapsed": false
   },
   "outputs": [
    {
     "data": {
      "text/html": [
       "<div>\n",
       "<table border=\"1\" class=\"dataframe\">\n",
       "  <thead>\n",
       "    <tr style=\"text-align: right;\">\n",
       "      <th></th>\n",
       "      <th>products_id</th>\n",
       "      <th>product_name</th>\n",
       "      <th>source</th>\n",
       "      <th>product_use_category_description</th>\n",
       "      <th>product_use_category</th>\n",
       "      <th>ingredient_list_rank</th>\n",
       "      <th>chemical_name</th>\n",
       "      <th>predicted_weight_fraction_mean</th>\n",
       "      <th>cpdat_substance_record_id</th>\n",
       "    </tr>\n",
       "  </thead>\n",
       "  <tbody>\n",
       "    <tr>\n",
       "      <th>35289</th>\n",
       "      <td>0</td>\n",
       "      <td>clean shower mtr ing en</td>\n",
       "      <td>Church &amp; Dwight</td>\n",
       "      <td>bathtub, tile, and toilet surface cleaners</td>\n",
       "      <td>inside the home: bathroom cleaner; NOC</td>\n",
       "      <td>1</td>\n",
       "      <td>water</td>\n",
       "      <td>0.553310</td>\n",
       "      <td>724995</td>\n",
       "    </tr>\n",
       "    <tr>\n",
       "      <th>56728</th>\n",
       "      <td>0</td>\n",
       "      <td>clean shower mtr ing en</td>\n",
       "      <td>Church &amp; Dwight</td>\n",
       "      <td>bathtub, tile, and toilet surface cleaners</td>\n",
       "      <td>inside the home: bathroom cleaner; NOC</td>\n",
       "      <td>2</td>\n",
       "      <td>c8-10 alkyl glucoside|d-glucopyranose oligomet...</td>\n",
       "      <td>0.164790</td>\n",
       "      <td>230045</td>\n",
       "    </tr>\n",
       "    <tr>\n",
       "      <th>56730</th>\n",
       "      <td>0</td>\n",
       "      <td>clean shower mtr ing en</td>\n",
       "      <td>Church &amp; Dwight</td>\n",
       "      <td>bathtub, tile, and toilet surface cleaners</td>\n",
       "      <td>inside the home: bathroom cleaner; NOC</td>\n",
       "      <td>3</td>\n",
       "      <td>c8-16 alkyl glucoside|d-glucopyranose_ oligome...</td>\n",
       "      <td>0.078491</td>\n",
       "      <td>230071</td>\n",
       "    </tr>\n",
       "    <tr>\n",
       "      <th>38620</th>\n",
       "      <td>0</td>\n",
       "      <td>clean shower mtr ing en</td>\n",
       "      <td>Church &amp; Dwight</td>\n",
       "      <td>bathtub, tile, and toilet surface cleaners</td>\n",
       "      <td>inside the home: bathroom cleaner; NOC</td>\n",
       "      <td>4</td>\n",
       "      <td>edta</td>\n",
       "      <td>0.048837</td>\n",
       "      <td>342520</td>\n",
       "    </tr>\n",
       "    <tr>\n",
       "      <th>3568</th>\n",
       "      <td>0</td>\n",
       "      <td>clean shower mtr ing en</td>\n",
       "      <td>Church &amp; Dwight</td>\n",
       "      <td>bathtub, tile, and toilet surface cleaners</td>\n",
       "      <td>inside the home: bathroom cleaner; NOC</td>\n",
       "      <td>5</td>\n",
       "      <td>propylene glycol</td>\n",
       "      <td>0.037282</td>\n",
       "      <td>607991</td>\n",
       "    </tr>\n",
       "    <tr>\n",
       "      <th>50428</th>\n",
       "      <td>0</td>\n",
       "      <td>clean shower mtr ing en</td>\n",
       "      <td>Church &amp; Dwight</td>\n",
       "      <td>bathtub, tile, and toilet surface cleaners</td>\n",
       "      <td>inside the home: bathroom cleaner; NOC</td>\n",
       "      <td>6</td>\n",
       "      <td>ethanolamine</td>\n",
       "      <td>0.032444</td>\n",
       "      <td>351270</td>\n",
       "    </tr>\n",
       "    <tr>\n",
       "      <th>56729</th>\n",
       "      <td>0</td>\n",
       "      <td>clean shower mtr ing en</td>\n",
       "      <td>Church &amp; Dwight</td>\n",
       "      <td>bathtub, tile, and toilet surface cleaners</td>\n",
       "      <td>inside the home: bathroom cleaner; NOC</td>\n",
       "      <td>7</td>\n",
       "      <td>mixed dialkyl (c8-10) dimethyl ammonium chlori...</td>\n",
       "      <td>0.029779</td>\n",
       "      <td>489735</td>\n",
       "    </tr>\n",
       "    <tr>\n",
       "      <th>38838</th>\n",
       "      <td>0</td>\n",
       "      <td>clean shower mtr ing en</td>\n",
       "      <td>Church &amp; Dwight</td>\n",
       "      <td>bathtub, tile, and toilet surface cleaners</td>\n",
       "      <td>inside the home: bathroom cleaner; NOC</td>\n",
       "      <td>8</td>\n",
       "      <td>fragrance</td>\n",
       "      <td>0.028269</td>\n",
       "      <td>381552</td>\n",
       "    </tr>\n",
       "    <tr>\n",
       "      <th>38428</th>\n",
       "      <td>0</td>\n",
       "      <td>clean shower mtr ing en</td>\n",
       "      <td>Church &amp; Dwight</td>\n",
       "      <td>bathtub, tile, and toilet surface cleaners</td>\n",
       "      <td>inside the home: bathroom cleaner; NOC</td>\n",
       "      <td>9</td>\n",
       "      <td>colorant</td>\n",
       "      <td>0.026788</td>\n",
       "      <td>283301</td>\n",
       "    </tr>\n",
       "  </tbody>\n",
       "</table>\n",
       "</div>"
      ],
      "text/plain": [
       "       products_id             product_name           source  \\\n",
       "35289            0  clean shower mtr ing en  Church & Dwight   \n",
       "56728            0  clean shower mtr ing en  Church & Dwight   \n",
       "56730            0  clean shower mtr ing en  Church & Dwight   \n",
       "38620            0  clean shower mtr ing en  Church & Dwight   \n",
       "3568             0  clean shower mtr ing en  Church & Dwight   \n",
       "50428            0  clean shower mtr ing en  Church & Dwight   \n",
       "56729            0  clean shower mtr ing en  Church & Dwight   \n",
       "38838            0  clean shower mtr ing en  Church & Dwight   \n",
       "38428            0  clean shower mtr ing en  Church & Dwight   \n",
       "\n",
       "                 product_use_category_description  \\\n",
       "35289  bathtub, tile, and toilet surface cleaners   \n",
       "56728  bathtub, tile, and toilet surface cleaners   \n",
       "56730  bathtub, tile, and toilet surface cleaners   \n",
       "38620  bathtub, tile, and toilet surface cleaners   \n",
       "3568   bathtub, tile, and toilet surface cleaners   \n",
       "50428  bathtub, tile, and toilet surface cleaners   \n",
       "56729  bathtub, tile, and toilet surface cleaners   \n",
       "38838  bathtub, tile, and toilet surface cleaners   \n",
       "38428  bathtub, tile, and toilet surface cleaners   \n",
       "\n",
       "                         product_use_category  ingredient_list_rank  \\\n",
       "35289  inside the home: bathroom cleaner; NOC                     1   \n",
       "56728  inside the home: bathroom cleaner; NOC                     2   \n",
       "56730  inside the home: bathroom cleaner; NOC                     3   \n",
       "38620  inside the home: bathroom cleaner; NOC                     4   \n",
       "3568   inside the home: bathroom cleaner; NOC                     5   \n",
       "50428  inside the home: bathroom cleaner; NOC                     6   \n",
       "56729  inside the home: bathroom cleaner; NOC                     7   \n",
       "38838  inside the home: bathroom cleaner; NOC                     8   \n",
       "38428  inside the home: bathroom cleaner; NOC                     9   \n",
       "\n",
       "                                           chemical_name  \\\n",
       "35289                                              water   \n",
       "56728  c8-10 alkyl glucoside|d-glucopyranose oligomet...   \n",
       "56730  c8-16 alkyl glucoside|d-glucopyranose_ oligome...   \n",
       "38620                                               edta   \n",
       "3568                                    propylene glycol   \n",
       "50428                                       ethanolamine   \n",
       "56729  mixed dialkyl (c8-10) dimethyl ammonium chlori...   \n",
       "38838                                          fragrance   \n",
       "38428                                           colorant   \n",
       "\n",
       "       predicted_weight_fraction_mean  cpdat_substance_record_id  \n",
       "35289                        0.553310                     724995  \n",
       "56728                        0.164790                     230045  \n",
       "56730                        0.078491                     230071  \n",
       "38620                        0.048837                     342520  \n",
       "3568                         0.037282                     607991  \n",
       "50428                        0.032444                     351270  \n",
       "56729                        0.029779                     489735  \n",
       "38838                        0.028269                     381552  \n",
       "38428                        0.026788                     283301  "
      ]
     },
     "execution_count": 24,
     "metadata": {},
     "output_type": "execute_result"
    }
   ],
   "source": [
    "df[df['products_id']==0]"
   ]
  },
  {
   "cell_type": "code",
   "execution_count": 37,
   "metadata": {
    "collapsed": false
   },
   "outputs": [
    {
     "data": {
      "text/plain": [
       "35289    water                                                                                    \n",
       "56728    c8-10 alkyl glucoside|d-glucopyranose oligometric c8-10 alkyl glycoside                  \n",
       "56730    c8-16 alkyl glucoside|d-glucopyranose_ oligometric_ c8-16 alkyl glycoside                \n",
       "38620    edta                                                                                     \n",
       "3568     propylene glycol                                                                         \n",
       "50428    ethanolamine                                                                             \n",
       "56729    mixed dialkyl (c8-10) dimethyl ammonium chloride  quaternary ammonium compounds_di-c8-10-\n",
       "38838    fragrance                                                                                \n",
       "38428    colorant                                                                                 \n",
       "Name: chemical_name, dtype: object"
      ]
     },
     "execution_count": 37,
     "metadata": {},
     "output_type": "execute_result"
    }
   ],
   "source": [
    "#df[df['products_id']==0].chemical_name.tolist()\n",
    "df[df['products_id']==0].chemical_name "
   ]
  },
  {
   "cell_type": "code",
   "execution_count": 105,
   "metadata": {
    "collapsed": false
   },
   "outputs": [
    {
     "data": {
      "text/html": [
       "<div>\n",
       "<table border=\"1\" class=\"dataframe\">\n",
       "  <thead>\n",
       "    <tr style=\"text-align: right;\">\n",
       "      <th></th>\n",
       "      <th>product_name</th>\n",
       "      <th>source</th>\n",
       "      <th>product_use_category_description</th>\n",
       "      <th>chemical_name</th>\n",
       "    </tr>\n",
       "  </thead>\n",
       "  <tbody>\n",
       "    <tr>\n",
       "      <th>35289</th>\n",
       "      <td>clean shower mtr ing en</td>\n",
       "      <td>Church &amp; Dwight</td>\n",
       "      <td>bathtub, tile, and toilet surface cleaners</td>\n",
       "      <td>water</td>\n",
       "    </tr>\n",
       "    <tr>\n",
       "      <th>56728</th>\n",
       "      <td>clean shower mtr ing en</td>\n",
       "      <td>Church &amp; Dwight</td>\n",
       "      <td>bathtub, tile, and toilet surface cleaners</td>\n",
       "      <td>c8-10 alkyl glucoside|d-glucopyranose oligometric c8-10 alkyl glycoside</td>\n",
       "    </tr>\n",
       "    <tr>\n",
       "      <th>56730</th>\n",
       "      <td>clean shower mtr ing en</td>\n",
       "      <td>Church &amp; Dwight</td>\n",
       "      <td>bathtub, tile, and toilet surface cleaners</td>\n",
       "      <td>c8-16 alkyl glucoside|d-glucopyranose_ oligometric_ c8-16 alkyl glycoside</td>\n",
       "    </tr>\n",
       "    <tr>\n",
       "      <th>38620</th>\n",
       "      <td>clean shower mtr ing en</td>\n",
       "      <td>Church &amp; Dwight</td>\n",
       "      <td>bathtub, tile, and toilet surface cleaners</td>\n",
       "      <td>edta</td>\n",
       "    </tr>\n",
       "    <tr>\n",
       "      <th>3568</th>\n",
       "      <td>clean shower mtr ing en</td>\n",
       "      <td>Church &amp; Dwight</td>\n",
       "      <td>bathtub, tile, and toilet surface cleaners</td>\n",
       "      <td>propylene glycol</td>\n",
       "    </tr>\n",
       "  </tbody>\n",
       "</table>\n",
       "</div>"
      ],
      "text/plain": [
       "                  product_name           source  \\\n",
       "35289  clean shower mtr ing en  Church & Dwight   \n",
       "56728  clean shower mtr ing en  Church & Dwight   \n",
       "56730  clean shower mtr ing en  Church & Dwight   \n",
       "38620  clean shower mtr ing en  Church & Dwight   \n",
       "3568   clean shower mtr ing en  Church & Dwight   \n",
       "\n",
       "                 product_use_category_description  \\\n",
       "35289  bathtub, tile, and toilet surface cleaners   \n",
       "56728  bathtub, tile, and toilet surface cleaners   \n",
       "56730  bathtub, tile, and toilet surface cleaners   \n",
       "38620  bathtub, tile, and toilet surface cleaners   \n",
       "3568   bathtub, tile, and toilet surface cleaners   \n",
       "\n",
       "                                                                   chemical_name  \n",
       "35289  water                                                                      \n",
       "56728  c8-10 alkyl glucoside|d-glucopyranose oligometric c8-10 alkyl glycoside    \n",
       "56730  c8-16 alkyl glucoside|d-glucopyranose_ oligometric_ c8-16 alkyl glycoside  \n",
       "38620  edta                                                                       \n",
       "3568   propylene glycol                                                           "
      ]
     },
     "execution_count": 105,
     "metadata": {},
     "output_type": "execute_result"
    }
   ],
   "source": [
    "dfshort=df[['product_name','source','product_use_category_description',\n",
    "            'chemical_name']]\n",
    "dfshort.head()"
   ]
  },
  {
   "cell_type": "code",
   "execution_count": 106,
   "metadata": {
    "collapsed": false
   },
   "outputs": [
    {
     "data": {
      "text/html": [
       "<div>\n",
       "<table border=\"1\" class=\"dataframe\">\n",
       "  <thead>\n",
       "    <tr style=\"text-align: right;\">\n",
       "      <th></th>\n",
       "      <th></th>\n",
       "      <th>source</th>\n",
       "      <th>product_use_category_description</th>\n",
       "    </tr>\n",
       "    <tr>\n",
       "      <th>product_name</th>\n",
       "      <th>chemical_name</th>\n",
       "      <th></th>\n",
       "      <th></th>\n",
       "    </tr>\n",
       "  </thead>\n",
       "  <tbody>\n",
       "    <tr>\n",
       "      <th rowspan=\"5\" valign=\"top\">clean shower mtr ing en</th>\n",
       "      <th>water</th>\n",
       "      <td>Church &amp; Dwight</td>\n",
       "      <td>bathtub, tile, and toilet surface cleaners</td>\n",
       "    </tr>\n",
       "    <tr>\n",
       "      <th>c8-10 alkyl glucoside|d-glucopyranose oligometric c8-10 alkyl glycoside</th>\n",
       "      <td>Church &amp; Dwight</td>\n",
       "      <td>bathtub, tile, and toilet surface cleaners</td>\n",
       "    </tr>\n",
       "    <tr>\n",
       "      <th>c8-16 alkyl glucoside|d-glucopyranose_ oligometric_ c8-16 alkyl glycoside</th>\n",
       "      <td>Church &amp; Dwight</td>\n",
       "      <td>bathtub, tile, and toilet surface cleaners</td>\n",
       "    </tr>\n",
       "    <tr>\n",
       "      <th>edta</th>\n",
       "      <td>Church &amp; Dwight</td>\n",
       "      <td>bathtub, tile, and toilet surface cleaners</td>\n",
       "    </tr>\n",
       "    <tr>\n",
       "      <th>propylene glycol</th>\n",
       "      <td>Church &amp; Dwight</td>\n",
       "      <td>bathtub, tile, and toilet surface cleaners</td>\n",
       "    </tr>\n",
       "  </tbody>\n",
       "</table>\n",
       "</div>"
      ],
      "text/plain": [
       "                                                                                                            source  \\\n",
       "product_name            chemical_name                                                                                \n",
       "clean shower mtr ing en water                                                                      Church & Dwight   \n",
       "                        c8-10 alkyl glucoside|d-glucopyranose oligometric c8-10 alkyl glycoside    Church & Dwight   \n",
       "                        c8-16 alkyl glucoside|d-glucopyranose_ oligometric_ c8-16 alkyl glycoside  Church & Dwight   \n",
       "                        edta                                                                       Church & Dwight   \n",
       "                        propylene glycol                                                           Church & Dwight   \n",
       "\n",
       "                                                                                                             product_use_category_description  \n",
       "product_name            chemical_name                                                                                                          \n",
       "clean shower mtr ing en water                                                                      bathtub, tile, and toilet surface cleaners  \n",
       "                        c8-10 alkyl glucoside|d-glucopyranose oligometric c8-10 alkyl glycoside    bathtub, tile, and toilet surface cleaners  \n",
       "                        c8-16 alkyl glucoside|d-glucopyranose_ oligometric_ c8-16 alkyl glycoside  bathtub, tile, and toilet surface cleaners  \n",
       "                        edta                                                                       bathtub, tile, and toilet surface cleaners  \n",
       "                        propylene glycol                                                           bathtub, tile, and toilet surface cleaners  "
      ]
     },
     "execution_count": 106,
     "metadata": {},
     "output_type": "execute_result"
    }
   ],
   "source": [
    "dfshort=dfshort.set_index(['product_name','chemical_name'])\n",
    "dfshort.head()"
   ]
  },
  {
   "cell_type": "code",
   "execution_count": 108,
   "metadata": {
    "collapsed": false
   },
   "outputs": [
    {
     "data": {
      "text/plain": [
       "9339"
      ]
     },
     "execution_count": 108,
     "metadata": {},
     "output_type": "execute_result"
    }
   ],
   "source": [
    "prodid=df['products_id'].unique()\n",
    "prodid\n",
    "l=[]\n",
    "for i in prodid:\n",
    "    l.append(df[df['products_id']==i].chemical_name.tolist() )\n",
    "    p=pd.Series(prodid)\n",
    "ls=pd.DataFrame( {'lingredients':l})\n",
    "ls.head()\n",
    "d=pd.DataFrame(p,columns=['products_id'])#,'inglist'])\n",
    "d.head()\n",
    "dls.head()"
   ]
  },
  {
   "cell_type": "code",
   "execution_count": 223,
   "metadata": {
    "collapsed": false
   },
   "outputs": [],
   "source": [
    "keep2=['products_id','product_name','source','product_use_category_description','product_use_category']\n",
    "\n",
    "\n",
    "dfn=df[keep2].drop_duplicates()\n",
    "len(dfn)"
   ]
  },
  {
   "cell_type": "code",
   "execution_count": 225,
   "metadata": {
    "collapsed": false
   },
   "outputs": [
    {
     "data": {
      "text/plain": [
       "(15056, 15056, 15056)"
      ]
     },
     "execution_count": 225,
     "metadata": {},
     "output_type": "execute_result"
    }
   ],
   "source": [
    "dfdls=pd.merge(dfn,dls,on='products_id')\n",
    "len(dfdls),len(dfn),len(dls)"
   ]
  },
  {
   "cell_type": "code",
   "execution_count": 226,
   "metadata": {
    "collapsed": false
   },
   "outputs": [
    {
     "data": {
      "text/html": [
       "<div>\n",
       "<table border=\"1\" class=\"dataframe\">\n",
       "  <thead>\n",
       "    <tr style=\"text-align: right;\">\n",
       "      <th></th>\n",
       "      <th>products_id</th>\n",
       "      <th>product_name</th>\n",
       "      <th>source</th>\n",
       "      <th>product_use_category_description</th>\n",
       "      <th>product_use_category</th>\n",
       "      <th>lingredients</th>\n",
       "    </tr>\n",
       "  </thead>\n",
       "  <tbody>\n",
       "    <tr>\n",
       "      <th>0</th>\n",
       "      <td>0</td>\n",
       "      <td>clean shower mtr ing en</td>\n",
       "      <td>Church &amp; Dwight</td>\n",
       "      <td>bathtub, tile, and toilet surface cleaners</td>\n",
       "      <td>inside the home: bathroom cleaner; NOC</td>\n",
       "      <td>[water, c8-10 alkyl glucoside|d-glucopyranose oligometric c8-10 alkyl glycoside, c8-16 alkyl glucoside|d-glucopyranose_ oligometric_ c8-16 alkyl glycoside, edta, propylene glycol, ethanolamine, mixed dialkyl (c8-10) dimethyl ammonium chloride  quaternary ammonium compounds_di-c8-10-, fragrance, colorant]</td>\n",
       "    </tr>\n",
       "    <tr>\n",
       "      <th>1</th>\n",
       "      <td>11</td>\n",
       "      <td>arm &amp; hammer liquid laundry concentrate</td>\n",
       "      <td>Church &amp; Dwight</td>\n",
       "      <td>laundry detergents and soaps (liquid formulation specified)</td>\n",
       "      <td>inside the home: laundry detergent; liquid</td>\n",
       "      <td>[water, sodium alkyl aryl ether sulfate, c12-14 alcohol ethoxylate, c12-15 alcohol ethoxylate, sodium carbonate, sodium alkylbenzene sulfonate, fragrance, acrylic acid homopolymer, oleic acid, brightner, edta, colorant]</td>\n",
       "    </tr>\n",
       "    <tr>\n",
       "      <th>2</th>\n",
       "      <td>22</td>\n",
       "      <td>xtra powdered laundry detergent bucket formula mtr ing en</td>\n",
       "      <td>Church &amp; Dwight</td>\n",
       "      <td>laundry detergents and soaps (powder formulation specified)</td>\n",
       "      <td>inside the home: laundry detergent; powder</td>\n",
       "      <td>[sodium chloride, sodium carbonate, sodium silicate, sodium alkylbenzene sulfonate, acrylic acid homopolymer, sodium hydroxide, c10-16 alcohol ethoxylate, sodium aluminosilicate, fragrance, fluorescent brightner]</td>\n",
       "    </tr>\n",
       "    <tr>\n",
       "      <th>3</th>\n",
       "      <td>33</td>\n",
       "      <td>arm &amp; hammer essentials liquid laundry concentrate</td>\n",
       "      <td>Church &amp; Dwight</td>\n",
       "      <td>laundry detergents and soaps (liquid formulation specified)</td>\n",
       "      <td>inside the home: laundry detergent; liquid</td>\n",
       "      <td>[water, sodium alkyl aryl ether sulfate, c12-14 alcohol ethoxylate, c12-16 alcohol ethoxylate, sodium carbonate, fragrance, acrylic acid homopolymer, oleic acid, methylglycine diacetic acid_ trisodium salt|alanine_ n_ n-bis(carboxymethyl)-sodium salt (1:3), brightner]</td>\n",
       "    </tr>\n",
       "    <tr>\n",
       "      <th>4</th>\n",
       "      <td>44</td>\n",
       "      <td>kaboom shower tub mtr ing en</td>\n",
       "      <td>Church &amp; Dwight</td>\n",
       "      <td>bathtub, tile, and toilet surface cleaners</td>\n",
       "      <td>inside the home: bathroom cleaner; NOC</td>\n",
       "      <td>[water, glycolic acid, citric acid, sodium octylsulfonate, sodium polyacrylate, fragrance, denatonium benzoate]</td>\n",
       "    </tr>\n",
       "  </tbody>\n",
       "</table>\n",
       "</div>"
      ],
      "text/plain": [
       "   products_id                                               product_name  \\\n",
       "0  0            clean shower mtr ing en                                     \n",
       "1  11           arm & hammer liquid laundry concentrate                     \n",
       "2  22           xtra powdered laundry detergent bucket formula mtr ing en   \n",
       "3  33           arm & hammer essentials liquid laundry concentrate          \n",
       "4  44           kaboom shower tub mtr ing en                                \n",
       "\n",
       "            source  \\\n",
       "0  Church & Dwight   \n",
       "1  Church & Dwight   \n",
       "2  Church & Dwight   \n",
       "3  Church & Dwight   \n",
       "4  Church & Dwight   \n",
       "\n",
       "                              product_use_category_description  \\\n",
       "0  bathtub, tile, and toilet surface cleaners                    \n",
       "1  laundry detergents and soaps (liquid formulation specified)   \n",
       "2  laundry detergents and soaps (powder formulation specified)   \n",
       "3  laundry detergents and soaps (liquid formulation specified)   \n",
       "4  bathtub, tile, and toilet surface cleaners                    \n",
       "\n",
       "                         product_use_category  \\\n",
       "0  inside the home: bathroom cleaner; NOC       \n",
       "1  inside the home: laundry detergent; liquid   \n",
       "2  inside the home: laundry detergent; powder   \n",
       "3  inside the home: laundry detergent; liquid   \n",
       "4  inside the home: bathroom cleaner; NOC       \n",
       "\n",
       "                                                                                                                                                                                                                                                                                                        lingredients  \n",
       "0  [water, c8-10 alkyl glucoside|d-glucopyranose oligometric c8-10 alkyl glycoside, c8-16 alkyl glucoside|d-glucopyranose_ oligometric_ c8-16 alkyl glycoside, edta, propylene glycol, ethanolamine, mixed dialkyl (c8-10) dimethyl ammonium chloride  quaternary ammonium compounds_di-c8-10-, fragrance, colorant]  \n",
       "1  [water, sodium alkyl aryl ether sulfate, c12-14 alcohol ethoxylate, c12-15 alcohol ethoxylate, sodium carbonate, sodium alkylbenzene sulfonate, fragrance, acrylic acid homopolymer, oleic acid, brightner, edta, colorant]                                                                                        \n",
       "2  [sodium chloride, sodium carbonate, sodium silicate, sodium alkylbenzene sulfonate, acrylic acid homopolymer, sodium hydroxide, c10-16 alcohol ethoxylate, sodium aluminosilicate, fragrance, fluorescent brightner]                                                                                               \n",
       "3  [water, sodium alkyl aryl ether sulfate, c12-14 alcohol ethoxylate, c12-16 alcohol ethoxylate, sodium carbonate, fragrance, acrylic acid homopolymer, oleic acid, methylglycine diacetic acid_ trisodium salt|alanine_ n_ n-bis(carboxymethyl)-sodium salt (1:3), brightner]                                       \n",
       "4  [water, glycolic acid, citric acid, sodium octylsulfonate, sodium polyacrylate, fragrance, denatonium benzoate]                                                                                                                                                                                                    "
      ]
     },
     "execution_count": 226,
     "metadata": {},
     "output_type": "execute_result"
    }
   ],
   "source": [
    "dfdls.head()"
   ]
  },
  {
   "cell_type": "code",
   "execution_count": 228,
   "metadata": {
    "collapsed": false
   },
   "outputs": [],
   "source": [
    "usedf=dfdls.to_csv('usedf.csv')"
   ]
  },
  {
   "cell_type": "code",
   "execution_count": 5,
   "metadata": {
    "collapsed": false
   },
   "outputs": [
    {
     "data": {
      "text/plain": [
       "Retail Product Categories/Walmart    7223\n",
       "DrugStore.com                        4635\n",
       "Procter & Gamble Product Safety      1799\n",
       "Unilever                              842\n",
       "Unilever MSDS USA                     282\n",
       "Church & Dwight                        34\n",
       "Palmolive                              16\n",
       "Name: source, dtype: int64"
      ]
     },
     "execution_count": 5,
     "metadata": {},
     "output_type": "execute_result"
    }
   ],
   "source": [
    "usedf.source.value_counts()"
   ]
  },
  {
   "cell_type": "code",
   "execution_count": 6,
   "metadata": {
    "collapsed": false
   },
   "outputs": [
    {
     "data": {
      "text/plain": [
       "personal care: shampoo; NOC                          795\n",
       "personal care: face cream/moisturizer; NOC           727\n",
       "personal care: hand/body lotion; NOC                 596\n",
       "personal care: hair conditioner; NOC                 544\n",
       "personal care: fragrance; spray                      466\n",
       "personal care: hair styling; NOC                     392\n",
       "personal care: fragrance; NOC                        336\n",
       "personal care: face wash; NOC                        302\n",
       "personal care: sunscreen; spray                      248\n",
       "inside the home: laundry detergent; NOC              210\n",
       "personal care: deodorant; spray                      202\n",
       "personal care: deodorant; NOC                        184\n",
       "personal care: hair conditioning treatment; NOC      176\n",
       "personal care: hair styling; gel                     152\n",
       "personal care: hair color; NOC                       150\n",
       "inside the home: air freshener; NOC                  148\n",
       "personal care: hair styling; spray                   144\n",
       "home maintenance: paint; interior                    133\n",
       "home maintenance: paint; NOC                         130\n",
       "home maintenance: paint; spray                       127\n",
       "inside the home: laundry detergent; liquid           126\n",
       "personal care: shaving cream; gel                    125\n",
       "inside the home: bathroom cleaner; NOC               117\n",
       "inside the home: surface cleaner; NOC                115\n",
       "personal care: hair styling; mousse                  110\n",
       "personal care: hair color; permanent                 109\n",
       "pesticides: insecticide; NOC                         108\n",
       "personal care: sunscreen; NOC                        107\n",
       "personal care: toothpaste; NOC                       107\n",
       "personal care: eye liner; NOC                        102\n",
       "                                                    ... \n",
       "home maintenance: primer; exterior                     3\n",
       "inside the home: carpet cleaner; spray                 2\n",
       "home maintenance: multipurpose adhesive; spray         2\n",
       "auto products: auto air freshener; spray               2\n",
       "inside the home: electronics cleaner; spray            2\n",
       "pesticides: animal repellent; NOC                      2\n",
       "home maintenance: adhesive remover; NOC                2\n",
       "arts and crafts: arts and crafts finish; spray         2\n",
       "pet care: pet stain cleaner; spray                     2\n",
       "arts and crafts: flocking; spray                       2\n",
       "auto products: auto lubricant; spray                   2\n",
       "personal care: body oil; spray                         2\n",
       "pesticides: animal repellent; spray                    1\n",
       "home maintenance: paint cleaner; spray                 1\n",
       "auto products: degreaser; spray                        1\n",
       "arts and crafts: fabric paints and sealers; spray      1\n",
       "home maintenance: surface sealer; spray                1\n",
       "personal care: nail products; other|spray              1\n",
       "personal care: mouthwash; spray                        1\n",
       "personal care: face wash; spray                        1\n",
       "personal care: hand/body lotion; gel|spray             1\n",
       "home maintenance: adhesive remover; spray              1\n",
       "inside the home: heavy duty cleaner; spray             1\n",
       "personal care: contact care; spray                     1\n",
       "inside the home: glass cleaner; spray                  1\n",
       "inside the home: oven cleaner; spray                   1\n",
       "personal care: acne spot treatment; spray              1\n",
       "arts and crafts: body paint; spray                     1\n",
       "pesticides: insect repellent; spray                    1\n",
       "inside the home: houseplant care; spray                1\n",
       "Name: product_use_category, dtype: int64"
      ]
     },
     "execution_count": 6,
     "metadata": {},
     "output_type": "execute_result"
    }
   ],
   "source": [
    "usedf.product_use_category.value_counts()"
   ]
  },
  {
   "cell_type": "code",
   "execution_count": 7,
   "metadata": {
    "collapsed": false
   },
   "outputs": [
    {
     "data": {
      "text/plain": [
       "185"
      ]
     },
     "execution_count": 7,
     "metadata": {},
     "output_type": "execute_result"
    }
   ],
   "source": [
    "usedf.product_use_category.nunique()"
   ]
  },
  {
   "cell_type": "code",
   "execution_count": 17,
   "metadata": {
    "collapsed": false
   },
   "outputs": [
    {
     "data": {
      "text/plain": [
       "personal care: hair conditioner; spray               5\n",
       "personal care: face scrub; acne                      5\n",
       "auto products: windows/windshield; spray             4\n",
       "home maintenance: lubricant; NOC                     4\n",
       "inside the home: air freshener; gel                  4\n",
       "home maintenance: stain; exterior                    4\n",
       "inside the home: houseplant care; NOC                4\n",
       "inside the home: air freshener; liquid               4\n",
       "auto products: body wax; spray                       4\n",
       "home maintenance: stripper; spray                    4\n",
       "landscape/yard: herbicide; spray                     4\n",
       "home maintenance: surface sealer; NOC                4\n",
       "home maintenance: primer; spray                      4\n",
       "inside the home: wood polish; spray                  3\n",
       "home maintenance: corrosion protection; NOC          3\n",
       "personal care: hand sanitizer; spray                 3\n",
       "arts and crafts: arts and crafts finish; NOC         3\n",
       "pet care: other pet treatments; spray                3\n",
       "pesticides: fungicide; NOC                           3\n",
       "personal care: dry shampoo; NOC                      3\n",
       "home maintenance: primer; exterior                   3\n",
       "inside the home: carpet cleaner; spray               2\n",
       "home maintenance: multipurpose adhesive; spray       2\n",
       "auto products: auto air freshener; spray             2\n",
       "inside the home: electronics cleaner; spray          2\n",
       "pesticides: animal repellent; NOC                    2\n",
       "home maintenance: adhesive remover; NOC              2\n",
       "arts and crafts: arts and crafts finish; spray       2\n",
       "pet care: pet stain cleaner; spray                   2\n",
       "arts and crafts: flocking; spray                     2\n",
       "auto products: auto lubricant; spray                 2\n",
       "personal care: body oil; spray                       2\n",
       "pesticides: animal repellent; spray                  1\n",
       "home maintenance: paint cleaner; spray               1\n",
       "auto products: degreaser; spray                      1\n",
       "arts and crafts: fabric paints and sealers; spray    1\n",
       "home maintenance: surface sealer; spray              1\n",
       "personal care: nail products; other|spray            1\n",
       "personal care: mouthwash; spray                      1\n",
       "personal care: face wash; spray                      1\n",
       "personal care: hand/body lotion; gel|spray           1\n",
       "home maintenance: adhesive remover; spray            1\n",
       "inside the home: heavy duty cleaner; spray           1\n",
       "personal care: contact care; spray                   1\n",
       "inside the home: glass cleaner; spray                1\n",
       "inside the home: oven cleaner; spray                 1\n",
       "personal care: acne spot treatment; spray            1\n",
       "arts and crafts: body paint; spray                   1\n",
       "pesticides: insect repellent; spray                  1\n",
       "inside the home: houseplant care; spray              1\n",
       "Name: product_use_category, dtype: int64"
      ]
     },
     "execution_count": 17,
     "metadata": {},
     "output_type": "execute_result"
    }
   ],
   "source": [
    "usedf.product_use_category.value_counts()[-50:]"
   ]
  },
  {
   "cell_type": "code",
   "execution_count": 83,
   "metadata": {
    "collapsed": false
   },
   "outputs": [],
   "source": [
    "ser=[]\n",
    "\n",
    "for i in usedf.product_use_category[usedf.product_use_category.notnull()]:\n",
    "    ser.append(i.replace(';',',').replace(':',',').split(','))\n",
    "serdf=pd.DataFrame(ser,columns=['Cathome','Cat','Catform'])\n",
    "serdf.head()"
   ]
  },
  {
   "cell_type": "code",
   "execution_count": 192,
   "metadata": {
    "collapsed": false
   },
   "outputs": [
    {
     "data": {
      "text/plain": [
       "10399"
      ]
     },
     "execution_count": 192,
     "metadata": {},
     "output_type": "execute_result"
    }
   ],
   "source": [
    "usemerge=usedf[usedf.product_use_category.notnull()]\n",
    "len(usemerge)\n",
    "usemerge=usemerge.reset_index()"
   ]
  },
  {
   "cell_type": "code",
   "execution_count": 207,
   "metadata": {
    "collapsed": false
   },
   "outputs": [
    {
     "name": "stdout",
     "output_type": "stream",
     "text": [
      "<class 'pandas.core.frame.DataFrame'>\n",
      "RangeIndex: 10399 entries, 0 to 10398\n",
      "Data columns (total 11 columns):\n",
      "index                               10399 non-null int64\n",
      "Unnamed: 0                          10399 non-null int64\n",
      "products_id                         10399 non-null int64\n",
      "product_name                        10399 non-null object\n",
      "source                              10236 non-null object\n",
      "product_use_category_description    10358 non-null object\n",
      "product_use_category                10399 non-null object\n",
      "lingredients                        10399 non-null object\n",
      "Cathome                             10399 non-null object\n",
      "Cat                                 10399 non-null object\n",
      "Catform                             10399 non-null object\n",
      "dtypes: int64(3), object(8)\n",
      "memory usage: 893.7+ KB\n"
     ]
    }
   ],
   "source": [
    "usemerge2=pd.merge(usemerge,serdf,left_index=True, right_index=True)\n",
    "usemerge2.info()"
   ]
  },
  {
   "cell_type": "code",
   "execution_count": 234,
   "metadata": {
    "collapsed": false
   },
   "outputs": [
    {
     "name": "stdout",
     "output_type": "stream",
     "text": [
      "<class 'pandas.core.frame.DataFrame'>\n",
      "RangeIndex: 15056 entries, 0 to 15055\n",
      "Data columns (total 9 columns):\n",
      "products_id                         15056 non-null float64\n",
      "product_name                        15056 non-null object\n",
      "source                              14831 non-null object\n",
      "product_use_category_description    15008 non-null object\n",
      "product_use_category                10399 non-null object\n",
      "lingredients                        15056 non-null object\n",
      "Cathome                             10399 non-null object\n",
      "Cat                                 10399 non-null object\n",
      "Catform                             10399 non-null object\n",
      "dtypes: float64(1), object(8)\n",
      "memory usage: 1.0+ MB\n"
     ]
    }
   ],
   "source": [
    "use3=pd.merge(usemerge2,usedf,\n",
    "              on=['products_id','product_name','product_use_category','source','product_use_category_description','lingredients'],\n",
    "              how='outer',right_index=True).reset_index().drop(['index','Unnamed: 0_x','Unnamed: 0_y','level_0'],axis=1) \n",
    "use3.info()"
   ]
  },
  {
   "cell_type": "code",
   "execution_count": 235,
   "metadata": {
    "collapsed": false
   },
   "outputs": [],
   "source": [
    "use3.to_csv('use3.csv')"
   ]
  },
  {
   "cell_type": "code",
   "execution_count": 239,
   "metadata": {
    "collapsed": false
   },
   "outputs": [
    {
     "data": {
      "text/plain": [
       "personal care       7237\n",
       "inside the home     1281\n",
       "home maintenance     693\n",
       "auto products        428\n",
       "pesticides           325\n",
       "landscape/yard       227\n",
       "pet care             105\n",
       "arts and crafts      103\n",
       "Name: Cathome, dtype: int64"
      ]
     },
     "execution_count": 239,
     "metadata": {},
     "output_type": "execute_result"
    }
   ],
   "source": [
    "use3.Cathome.value_counts()#.nunique()"
   ]
  },
  {
   "cell_type": "code",
   "execution_count": 242,
   "metadata": {
    "collapsed": false
   },
   "outputs": [
    {
     "data": {
      "text/plain": [
       "15027"
      ]
     },
     "execution_count": 242,
     "metadata": {},
     "output_type": "execute_result"
    }
   ],
   "source": [
    "use3.product_name.nunique()"
   ]
  },
  {
   "cell_type": "code",
   "execution_count": null,
   "metadata": {
    "collapsed": true
   },
   "outputs": [],
   "source": []
  },
  {
   "cell_type": "code",
   "execution_count": null,
   "metadata": {
    "collapsed": true
   },
   "outputs": [],
   "source": []
  },
  {
   "cell_type": "code",
   "execution_count": null,
   "metadata": {
    "collapsed": true
   },
   "outputs": [],
   "source": []
  },
  {
   "cell_type": "code",
   "execution_count": null,
   "metadata": {
    "collapsed": true
   },
   "outputs": [],
   "source": []
  },
  {
   "cell_type": "code",
   "execution_count": null,
   "metadata": {
    "collapsed": true
   },
   "outputs": [],
   "source": []
  },
  {
   "cell_type": "code",
   "execution_count": null,
   "metadata": {
    "collapsed": true
   },
   "outputs": [],
   "source": []
  },
  {
   "cell_type": "code",
   "execution_count": null,
   "metadata": {
    "collapsed": true
   },
   "outputs": [],
   "source": []
  }
 ],
 "metadata": {
  "anaconda-cloud": {},
  "kernelspec": {
   "display_name": "Python [default]",
   "language": "python",
   "name": "python3"
  },
  "language_info": {
   "codemirror_mode": {
    "name": "ipython",
    "version": 3
   },
   "file_extension": ".py",
   "mimetype": "text/x-python",
   "name": "python",
   "nbconvert_exporter": "python",
   "pygments_lexer": "ipython3",
   "version": "3.5.6"
  }
 },
 "nbformat": 4,
 "nbformat_minor": 1
}
