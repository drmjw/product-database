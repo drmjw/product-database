{
 "cells": [
  {
   "cell_type": "code",
   "execution_count": 1,
   "metadata": {
    "collapsed": true
   },
   "outputs": [],
   "source": [
    "import pandas as pd\n",
    "import numpy as np\n"
   ]
  },
  {
   "cell_type": "code",
   "execution_count": 24,
   "metadata": {
    "collapsed": false
   },
   "outputs": [
    {
     "data": {
      "text/plain": [
       "(118956, 119546, 1615745)"
      ]
     },
     "execution_count": 24,
     "metadata": {},
     "output_type": "execute_result"
    }
   ],
   "source": [
    "len(serving),len(products),len(nutrient)"
   ]
  },
  {
   "cell_type": "code",
   "execution_count": 13,
   "metadata": {
    "collapsed": false
   },
   "outputs": [
    {
     "data": {
      "text/html": [
       "<div>\n",
       "<table border=\"1\" class=\"dataframe\">\n",
       "  <thead>\n",
       "    <tr style=\"text-align: right;\">\n",
       "      <th></th>\n",
       "      <th>NDB_Number</th>\n",
       "      <th>long_name</th>\n",
       "      <th>data_source</th>\n",
       "      <th>gtin_upc</th>\n",
       "      <th>manufacturer</th>\n",
       "      <th>date_modified</th>\n",
       "      <th>date_available</th>\n",
       "      <th>ingredients_english</th>\n",
       "    </tr>\n",
       "  </thead>\n",
       "  <tbody>\n",
       "    <tr>\n",
       "      <th>0</th>\n",
       "      <td>45001524</td>\n",
       "      <td>MOCHI ICE CREAM BONBONS</td>\n",
       "      <td>LI</td>\n",
       "      <td>1.902213e+10</td>\n",
       "      <td>G. T. Japan, Inc.</td>\n",
       "      <td>2017-11-15 19:19:38</td>\n",
       "      <td>2017-11-15 19:19:38</td>\n",
       "      <td>ICE CREAM INGREDIENTS: MILK, CREAM, SUGAR, STR...</td>\n",
       "    </tr>\n",
       "    <tr>\n",
       "      <th>1</th>\n",
       "      <td>45001528</td>\n",
       "      <td>CHIPOTLE BARBECUE SAUCE</td>\n",
       "      <td>LI</td>\n",
       "      <td>5.051379e+12</td>\n",
       "      <td>FRESH &amp; EASY</td>\n",
       "      <td>2018-04-26 17:23:31</td>\n",
       "      <td>2018-04-26 17:23:31</td>\n",
       "      <td>WATER, SUGAR, TOMATO PASTE, MOLASSES, DISTILLE...</td>\n",
       "    </tr>\n",
       "    <tr>\n",
       "      <th>2</th>\n",
       "      <td>45001529</td>\n",
       "      <td>HOT &amp; SPICY BARBECUE SAUCE</td>\n",
       "      <td>LI</td>\n",
       "      <td>5.051379e+12</td>\n",
       "      <td>FRESH &amp; EASY</td>\n",
       "      <td>2018-04-26 18:17:37</td>\n",
       "      <td>2018-04-26 18:17:37</td>\n",
       "      <td>SUGAR, WATER, DISTILLED VINEGAR, TOMATO PASTE,...</td>\n",
       "    </tr>\n",
       "    <tr>\n",
       "      <th>3</th>\n",
       "      <td>45001530</td>\n",
       "      <td>BARBECUE SAUCE</td>\n",
       "      <td>LI</td>\n",
       "      <td>5.051379e+12</td>\n",
       "      <td>FRESH &amp; EASY</td>\n",
       "      <td>2018-04-26 17:24:00</td>\n",
       "      <td>2018-04-26 17:24:00</td>\n",
       "      <td>TOMATO PUREE (WATER, TOMATO PASTE), SUGAR, DIS...</td>\n",
       "    </tr>\n",
       "    <tr>\n",
       "      <th>4</th>\n",
       "      <td>45001531</td>\n",
       "      <td>BARBECUE SAUCE</td>\n",
       "      <td>LI</td>\n",
       "      <td>5.051379e+12</td>\n",
       "      <td>FRESH &amp; EASY</td>\n",
       "      <td>2018-04-26 17:47:41</td>\n",
       "      <td>2018-04-26 17:47:41</td>\n",
       "      <td>SUGAR, DISTILLED VINEGAR, WATER, TOMATO PASTE,...</td>\n",
       "    </tr>\n",
       "  </tbody>\n",
       "</table>\n",
       "</div>"
      ],
      "text/plain": [
       "  NDB_Number                   long_name data_source      gtin_upc  \\\n",
       "0   45001524     MOCHI ICE CREAM BONBONS          LI  1.902213e+10   \n",
       "1   45001528     CHIPOTLE BARBECUE SAUCE          LI  5.051379e+12   \n",
       "2   45001529  HOT & SPICY BARBECUE SAUCE          LI  5.051379e+12   \n",
       "3   45001530              BARBECUE SAUCE          LI  5.051379e+12   \n",
       "4   45001531              BARBECUE SAUCE          LI  5.051379e+12   \n",
       "\n",
       "        manufacturer        date_modified       date_available  \\\n",
       "0  G. T. Japan, Inc.  2017-11-15 19:19:38  2017-11-15 19:19:38   \n",
       "1       FRESH & EASY  2018-04-26 17:23:31  2018-04-26 17:23:31   \n",
       "2       FRESH & EASY  2018-04-26 18:17:37  2018-04-26 18:17:37   \n",
       "3       FRESH & EASY  2018-04-26 17:24:00  2018-04-26 17:24:00   \n",
       "4       FRESH & EASY  2018-04-26 17:47:41  2018-04-26 17:47:41   \n",
       "\n",
       "                                 ingredients_english  \n",
       "0  ICE CREAM INGREDIENTS: MILK, CREAM, SUGAR, STR...  \n",
       "1  WATER, SUGAR, TOMATO PASTE, MOLASSES, DISTILLE...  \n",
       "2  SUGAR, WATER, DISTILLED VINEGAR, TOMATO PASTE,...  \n",
       "3  TOMATO PUREE (WATER, TOMATO PASTE), SUGAR, DIS...  \n",
       "4  SUGAR, DISTILLED VINEGAR, WATER, TOMATO PASTE,...  "
      ]
     },
     "execution_count": 13,
     "metadata": {},
     "output_type": "execute_result"
    }
   ],
   "source": [
    "products.head()"
   ]
  },
  {
   "cell_type": "code",
   "execution_count": 2,
   "metadata": {
    "collapsed": false
   },
   "outputs": [
    {
     "data": {
      "text/html": [
       "<div>\n",
       "<table border=\"1\" class=\"dataframe\">\n",
       "  <thead>\n",
       "    <tr style=\"text-align: right;\">\n",
       "      <th></th>\n",
       "      <th>NDB_No</th>\n",
       "      <th>Serving_Size</th>\n",
       "      <th>Serving_Size_UOM</th>\n",
       "      <th>Household_Serving_Size</th>\n",
       "      <th>Household_Serving_Size_UOM</th>\n",
       "      <th>Preparation_State</th>\n",
       "    </tr>\n",
       "  </thead>\n",
       "  <tbody>\n",
       "    <tr>\n",
       "      <th>0</th>\n",
       "      <td>45001524</td>\n",
       "      <td>40.0</td>\n",
       "      <td>g</td>\n",
       "      <td>1.0</td>\n",
       "      <td>PIECE</td>\n",
       "      <td>NaN</td>\n",
       "    </tr>\n",
       "    <tr>\n",
       "      <th>1</th>\n",
       "      <td>45001528</td>\n",
       "      <td>37.0</td>\n",
       "      <td>g</td>\n",
       "      <td>2.0</td>\n",
       "      <td>Tbsp</td>\n",
       "      <td>NaN</td>\n",
       "    </tr>\n",
       "    <tr>\n",
       "      <th>2</th>\n",
       "      <td>45001529</td>\n",
       "      <td>34.0</td>\n",
       "      <td>g</td>\n",
       "      <td>2.0</td>\n",
       "      <td>Tbsp</td>\n",
       "      <td>NaN</td>\n",
       "    </tr>\n",
       "    <tr>\n",
       "      <th>3</th>\n",
       "      <td>45001530</td>\n",
       "      <td>35.0</td>\n",
       "      <td>g</td>\n",
       "      <td>2.0</td>\n",
       "      <td>Tbsp</td>\n",
       "      <td>NaN</td>\n",
       "    </tr>\n",
       "    <tr>\n",
       "      <th>4</th>\n",
       "      <td>45001531</td>\n",
       "      <td>37.0</td>\n",
       "      <td>g</td>\n",
       "      <td>2.0</td>\n",
       "      <td>Tbsp</td>\n",
       "      <td>NaN</td>\n",
       "    </tr>\n",
       "  </tbody>\n",
       "</table>\n",
       "</div>"
      ],
      "text/plain": [
       "     NDB_No  Serving_Size Serving_Size_UOM  Household_Serving_Size  \\\n",
       "0  45001524          40.0                g                     1.0   \n",
       "1  45001528          37.0                g                     2.0   \n",
       "2  45001529          34.0                g                     2.0   \n",
       "3  45001530          35.0                g                     2.0   \n",
       "4  45001531          37.0                g                     2.0   \n",
       "\n",
       "  Household_Serving_Size_UOM Preparation_State  \n",
       "0                      PIECE               NaN  \n",
       "1                       Tbsp               NaN  \n",
       "2                       Tbsp               NaN  \n",
       "3                       Tbsp               NaN  \n",
       "4                       Tbsp               NaN  "
      ]
     },
     "execution_count": 2,
     "metadata": {},
     "output_type": "execute_result"
    }
   ],
   "source": [
    "serving=pd.read_csv('Serving_Size.csv')\n",
    "serving.head()"
   ]
  },
  {
   "cell_type": "code",
   "execution_count": 12,
   "metadata": {
    "collapsed": true
   },
   "outputs": [
    {
     "ename": "ValueError",
     "evalue": "Integer column has NA values in column 3",
     "output_type": "error",
     "traceback": [
      "\u001b[0;31m---------------------------------------------------------------------------\u001b[0m",
      "\u001b[0;31mValueError\u001b[0m                                Traceback (most recent call last)",
      "\u001b[0;32m<ipython-input-12-8d222afa8cfb>\u001b[0m in \u001b[0;36m<module>\u001b[0;34m()\u001b[0m\n\u001b[0;32m----> 1\u001b[0;31m \u001b[0mproducts\u001b[0m\u001b[0;34m=\u001b[0m\u001b[0mpd\u001b[0m\u001b[0;34m.\u001b[0m\u001b[0mread_csv\u001b[0m\u001b[0;34m(\u001b[0m\u001b[0;34m'Products.csv'\u001b[0m\u001b[0;34m,\u001b[0m\u001b[0mlow_memory\u001b[0m\u001b[0;34m=\u001b[0m\u001b[0;32mFalse\u001b[0m\u001b[0;34m,\u001b[0m \u001b[0mdtype\u001b[0m\u001b[0;34m=\u001b[0m\u001b[0;34m{\u001b[0m\u001b[0;34m'gtin_upc'\u001b[0m\u001b[0;34m:\u001b[0m \u001b[0mnp\u001b[0m\u001b[0;34m.\u001b[0m\u001b[0mint64\u001b[0m\u001b[0;34m}\u001b[0m\u001b[0;34m)\u001b[0m\u001b[0;34m\u001b[0m\u001b[0m\n\u001b[0m\u001b[1;32m      2\u001b[0m \u001b[0mproducts\u001b[0m\u001b[0;34m.\u001b[0m\u001b[0mhead\u001b[0m\u001b[0;34m(\u001b[0m\u001b[0;34m)\u001b[0m\u001b[0;34m\u001b[0m\u001b[0m\n",
      "\u001b[0;32m/Users/meleciawright/anaconda/lib/python3.5/site-packages/pandas/io/parsers.py\u001b[0m in \u001b[0;36mparser_f\u001b[0;34m(filepath_or_buffer, sep, delimiter, header, names, index_col, usecols, squeeze, prefix, mangle_dupe_cols, dtype, engine, converters, true_values, false_values, skipinitialspace, skiprows, skipfooter, nrows, na_values, keep_default_na, na_filter, verbose, skip_blank_lines, parse_dates, infer_datetime_format, keep_date_col, date_parser, dayfirst, iterator, chunksize, compression, thousands, decimal, lineterminator, quotechar, quoting, escapechar, comment, encoding, dialect, tupleize_cols, error_bad_lines, warn_bad_lines, skip_footer, doublequote, delim_whitespace, as_recarray, compact_ints, use_unsigned, low_memory, buffer_lines, memory_map, float_precision)\u001b[0m\n\u001b[1;32m    560\u001b[0m                     skip_blank_lines=skip_blank_lines)\n\u001b[1;32m    561\u001b[0m \u001b[0;34m\u001b[0m\u001b[0m\n\u001b[0;32m--> 562\u001b[0;31m         \u001b[0;32mreturn\u001b[0m \u001b[0m_read\u001b[0m\u001b[0;34m(\u001b[0m\u001b[0mfilepath_or_buffer\u001b[0m\u001b[0;34m,\u001b[0m \u001b[0mkwds\u001b[0m\u001b[0;34m)\u001b[0m\u001b[0;34m\u001b[0m\u001b[0m\n\u001b[0m\u001b[1;32m    563\u001b[0m \u001b[0;34m\u001b[0m\u001b[0m\n\u001b[1;32m    564\u001b[0m     \u001b[0mparser_f\u001b[0m\u001b[0;34m.\u001b[0m\u001b[0m__name__\u001b[0m \u001b[0;34m=\u001b[0m \u001b[0mname\u001b[0m\u001b[0;34m\u001b[0m\u001b[0m\n",
      "\u001b[0;32m/Users/meleciawright/anaconda/lib/python3.5/site-packages/pandas/io/parsers.py\u001b[0m in \u001b[0;36m_read\u001b[0;34m(filepath_or_buffer, kwds)\u001b[0m\n\u001b[1;32m    323\u001b[0m         \u001b[0;32mreturn\u001b[0m \u001b[0mparser\u001b[0m\u001b[0;34m\u001b[0m\u001b[0m\n\u001b[1;32m    324\u001b[0m \u001b[0;34m\u001b[0m\u001b[0m\n\u001b[0;32m--> 325\u001b[0;31m     \u001b[0;32mreturn\u001b[0m \u001b[0mparser\u001b[0m\u001b[0;34m.\u001b[0m\u001b[0mread\u001b[0m\u001b[0;34m(\u001b[0m\u001b[0;34m)\u001b[0m\u001b[0;34m\u001b[0m\u001b[0m\n\u001b[0m\u001b[1;32m    326\u001b[0m \u001b[0;34m\u001b[0m\u001b[0m\n\u001b[1;32m    327\u001b[0m _parser_defaults = {\n",
      "\u001b[0;32m/Users/meleciawright/anaconda/lib/python3.5/site-packages/pandas/io/parsers.py\u001b[0m in \u001b[0;36mread\u001b[0;34m(self, nrows)\u001b[0m\n\u001b[1;32m    813\u001b[0m                 \u001b[0;32mraise\u001b[0m \u001b[0mValueError\u001b[0m\u001b[0;34m(\u001b[0m\u001b[0;34m'skip_footer not supported for iteration'\u001b[0m\u001b[0;34m)\u001b[0m\u001b[0;34m\u001b[0m\u001b[0m\n\u001b[1;32m    814\u001b[0m \u001b[0;34m\u001b[0m\u001b[0m\n\u001b[0;32m--> 815\u001b[0;31m         \u001b[0mret\u001b[0m \u001b[0;34m=\u001b[0m \u001b[0mself\u001b[0m\u001b[0;34m.\u001b[0m\u001b[0m_engine\u001b[0m\u001b[0;34m.\u001b[0m\u001b[0mread\u001b[0m\u001b[0;34m(\u001b[0m\u001b[0mnrows\u001b[0m\u001b[0;34m)\u001b[0m\u001b[0;34m\u001b[0m\u001b[0m\n\u001b[0m\u001b[1;32m    816\u001b[0m \u001b[0;34m\u001b[0m\u001b[0m\n\u001b[1;32m    817\u001b[0m         \u001b[0;32mif\u001b[0m \u001b[0mself\u001b[0m\u001b[0;34m.\u001b[0m\u001b[0moptions\u001b[0m\u001b[0;34m.\u001b[0m\u001b[0mget\u001b[0m\u001b[0;34m(\u001b[0m\u001b[0;34m'as_recarray'\u001b[0m\u001b[0;34m)\u001b[0m\u001b[0;34m:\u001b[0m\u001b[0;34m\u001b[0m\u001b[0m\n",
      "\u001b[0;32m/Users/meleciawright/anaconda/lib/python3.5/site-packages/pandas/io/parsers.py\u001b[0m in \u001b[0;36mread\u001b[0;34m(self, nrows)\u001b[0m\n\u001b[1;32m   1312\u001b[0m     \u001b[0;32mdef\u001b[0m \u001b[0mread\u001b[0m\u001b[0;34m(\u001b[0m\u001b[0mself\u001b[0m\u001b[0;34m,\u001b[0m \u001b[0mnrows\u001b[0m\u001b[0;34m=\u001b[0m\u001b[0;32mNone\u001b[0m\u001b[0;34m)\u001b[0m\u001b[0;34m:\u001b[0m\u001b[0;34m\u001b[0m\u001b[0m\n\u001b[1;32m   1313\u001b[0m         \u001b[0;32mtry\u001b[0m\u001b[0;34m:\u001b[0m\u001b[0;34m\u001b[0m\u001b[0m\n\u001b[0;32m-> 1314\u001b[0;31m             \u001b[0mdata\u001b[0m \u001b[0;34m=\u001b[0m \u001b[0mself\u001b[0m\u001b[0;34m.\u001b[0m\u001b[0m_reader\u001b[0m\u001b[0;34m.\u001b[0m\u001b[0mread\u001b[0m\u001b[0;34m(\u001b[0m\u001b[0mnrows\u001b[0m\u001b[0;34m)\u001b[0m\u001b[0;34m\u001b[0m\u001b[0m\n\u001b[0m\u001b[1;32m   1315\u001b[0m         \u001b[0;32mexcept\u001b[0m \u001b[0mStopIteration\u001b[0m\u001b[0;34m:\u001b[0m\u001b[0;34m\u001b[0m\u001b[0m\n\u001b[1;32m   1316\u001b[0m             \u001b[0;32mif\u001b[0m \u001b[0mself\u001b[0m\u001b[0;34m.\u001b[0m\u001b[0m_first_chunk\u001b[0m\u001b[0;34m:\u001b[0m\u001b[0;34m\u001b[0m\u001b[0m\n",
      "\u001b[0;32mpandas/parser.pyx\u001b[0m in \u001b[0;36mpandas.parser.TextReader.read (pandas/parser.c:8771)\u001b[0;34m()\u001b[0m\n",
      "\u001b[0;32mpandas/parser.pyx\u001b[0m in \u001b[0;36mpandas.parser.TextReader._read_rows (pandas/parser.c:10022)\u001b[0;34m()\u001b[0m\n",
      "\u001b[0;32mpandas/parser.pyx\u001b[0m in \u001b[0;36mpandas.parser.TextReader._convert_column_data (pandas/parser.c:11397)\u001b[0;34m()\u001b[0m\n",
      "\u001b[0;32mpandas/parser.pyx\u001b[0m in \u001b[0;36mpandas.parser.TextReader._convert_tokens (pandas/parser.c:12093)\u001b[0;34m()\u001b[0m\n",
      "\u001b[0;32mpandas/parser.pyx\u001b[0m in \u001b[0;36mpandas.parser.TextReader._convert_with_dtype (pandas/parser.c:13057)\u001b[0;34m()\u001b[0m\n",
      "\u001b[0;31mValueError\u001b[0m: Integer column has NA values in column 3"
     ]
    }
   ],
   "source": [
    "products=pd.read_csv('Products.csv',low_memory=False)\n",
    "products.head()"
   ]
  },
  {
   "cell_type": "code",
   "execution_count": 4,
   "metadata": {
    "collapsed": true
   },
   "outputs": [],
   "source": [
    "upc=pd.read_excel('Grocery_UPC_Database.xlsx')"
   ]
  },
  {
   "cell_type": "code",
   "execution_count": 5,
   "metadata": {
    "collapsed": false
   },
   "outputs": [
    {
     "data": {
      "text/html": [
       "<div>\n",
       "<table border=\"1\" class=\"dataframe\">\n",
       "  <thead>\n",
       "    <tr style=\"text-align: right;\">\n",
       "      <th></th>\n",
       "      <th>grp_id</th>\n",
       "      <th>upc14</th>\n",
       "      <th>upc12</th>\n",
       "      <th>brand</th>\n",
       "      <th>name</th>\n",
       "    </tr>\n",
       "  </thead>\n",
       "  <tbody>\n",
       "    <tr>\n",
       "      <th>0</th>\n",
       "      <td>1</td>\n",
       "      <td>35200264013</td>\n",
       "      <td>35200264013</td>\n",
       "      <td>Riceland</td>\n",
       "      <td>Riceland American Jazmine Rice</td>\n",
       "    </tr>\n",
       "    <tr>\n",
       "      <th>1</th>\n",
       "      <td>2</td>\n",
       "      <td>11111065925</td>\n",
       "      <td>11111065925</td>\n",
       "      <td>Caress</td>\n",
       "      <td>Caress Velvet Bliss Ultra Silkening Beauty Bar...</td>\n",
       "    </tr>\n",
       "    <tr>\n",
       "      <th>2</th>\n",
       "      <td>3</td>\n",
       "      <td>23923330139</td>\n",
       "      <td>23923330139</td>\n",
       "      <td>Earth's Best</td>\n",
       "      <td>Earth's Best Organic Fruit Yogurt Smoothie Mix...</td>\n",
       "    </tr>\n",
       "    <tr>\n",
       "      <th>3</th>\n",
       "      <td>4</td>\n",
       "      <td>208528800007</td>\n",
       "      <td>208528800007</td>\n",
       "      <td>Boar's Head</td>\n",
       "      <td>Boar's Head Sliced White American Cheese - 120 Ct</td>\n",
       "    </tr>\n",
       "    <tr>\n",
       "      <th>4</th>\n",
       "      <td>5</td>\n",
       "      <td>759283100036</td>\n",
       "      <td>759283100036</td>\n",
       "      <td>Back To Nature</td>\n",
       "      <td>Back To Nature Gluten Free White Cheddar Rice ...</td>\n",
       "    </tr>\n",
       "  </tbody>\n",
       "</table>\n",
       "</div>"
      ],
      "text/plain": [
       "   grp_id         upc14         upc12           brand  \\\n",
       "0       1   35200264013   35200264013        Riceland   \n",
       "1       2   11111065925   11111065925          Caress   \n",
       "2       3   23923330139   23923330139    Earth's Best   \n",
       "3       4  208528800007  208528800007     Boar's Head   \n",
       "4       5  759283100036  759283100036  Back To Nature   \n",
       "\n",
       "                                                name  \n",
       "0                     Riceland American Jazmine Rice  \n",
       "1  Caress Velvet Bliss Ultra Silkening Beauty Bar...  \n",
       "2  Earth's Best Organic Fruit Yogurt Smoothie Mix...  \n",
       "3  Boar's Head Sliced White American Cheese - 120 Ct  \n",
       "4  Back To Nature Gluten Free White Cheddar Rice ...  "
      ]
     },
     "execution_count": 5,
     "metadata": {},
     "output_type": "execute_result"
    }
   ],
   "source": [
    "upc.head()"
   ]
  },
  {
   "cell_type": "code",
   "execution_count": 36,
   "metadata": {
    "collapsed": false
   },
   "outputs": [
    {
     "data": {
      "text/plain": [
       "109806"
      ]
     },
     "execution_count": 36,
     "metadata": {},
     "output_type": "execute_result"
    }
   ],
   "source": [
    "sum(upc.upc14==upc.upc12)"
   ]
  },
  {
   "cell_type": "code",
   "execution_count": 38,
   "metadata": {
    "collapsed": false
   },
   "outputs": [
    {
     "data": {
      "text/plain": [
       "110436"
      ]
     },
     "execution_count": 38,
     "metadata": {},
     "output_type": "execute_result"
    }
   ],
   "source": [
    "len(upc)"
   ]
  },
  {
   "cell_type": "code",
   "execution_count": 34,
   "metadata": {
    "collapsed": true
   },
   "outputs": [],
   "source": [
    "productupc=pd.merge(products, upc, left_on='gtin_upc',right_on='upc12',how='left')\n",
    "productupc[['brand','manufacturer','upc14','gtin_upc']][productupc.upc14.notnull() ].head()"
   ]
  },
  {
   "cell_type": "code",
   "execution_count": 52,
   "metadata": {
    "collapsed": false
   },
   "outputs": [
    {
     "data": {
      "text/plain": [
       "Index(['Ahold', 'Goya', 'Del Monte', 'Mccormick', 'Roland'], dtype='object')"
      ]
     },
     "execution_count": 52,
     "metadata": {},
     "output_type": "execute_result"
    }
   ],
   "source": [
    "usdabrand=productupc.brand.value_counts().index\n",
    "usdabrand[:5]\n",
    "usdabrand=pd.Series(usdabrand)"
   ]
  },
  {
   "cell_type": "code",
   "execution_count": 60,
   "metadata": {
    "collapsed": false
   },
   "outputs": [],
   "source": [
    "amb=pd.read_csv('amb.csv').reset_index() \n",
    "amb=amb.ix[:,2]\n",
    "type(amb)"
   ]
  },
  {
   "cell_type": "code",
   "execution_count": 65,
   "metadata": {
    "collapsed": false
   },
   "outputs": [
    {
     "name": "stdout",
     "output_type": "stream",
     "text": [
      "<class 'pandas.core.frame.DataFrame'>\n",
      "Int64Index: 119546 entries, 0 to 119545\n",
      "Data columns (total 13 columns):\n",
      "NDB_Number             119546 non-null object\n",
      "long_name              119545 non-null object\n",
      "data_source            119545 non-null object\n",
      "gtin_upc               119545 non-null float64\n",
      "manufacturer           119545 non-null object\n",
      "date_modified          119545 non-null object\n",
      "date_available         119545 non-null object\n",
      "ingredients_english    119023 non-null object\n",
      "grp_id                 17142 non-null float64\n",
      "upc14                  17142 non-null float64\n",
      "upc12                  17142 non-null float64\n",
      "brand                  17142 non-null object\n",
      "name                   17142 non-null object\n",
      "dtypes: float64(4), object(9)\n",
      "memory usage: 12.8+ MB\n"
     ]
    }
   ],
   "source": [
    "productupc.info()"
   ]
  },
  {
   "cell_type": "code",
   "execution_count": 67,
   "metadata": {
    "collapsed": false
   },
   "outputs": [
    {
     "data": {
      "text/plain": [
       "Pepper Chipotle                                                                      6\n",
       "Oil Olive Xvrgn                                                                      6\n",
       "Bean Black                                                                           6\n",
       "Pepper Jalapeno Sliced                                                               6\n",
       "Hellmann's Real Mayonnaise                                                           5\n",
       "Salsa Hot                                                                            5\n",
       "Diamond Shelled Walnuts                                                              5\n",
       "Sauce Hot                                                                            5\n",
       "Kellogg's Raisin Bran Cereal                                                         4\n",
       "Ferrero Rocher Fine Hazelnut Chocolates                                              4\n",
       "Bean Pinto                                                                           4\n",
       "Pepper Red Rstd                                                                      4\n",
       "Pasta Spaghetti                                                                      4\n",
       "B&m Original Baked Beans                                                             4\n",
       "Chef Boyardee Beefaroni                                                              4\n",
       "Sauerkraut                                                                           4\n",
       "Pepper Jalapeno Whole                                                                4\n",
       "Pepper Jalpno Slcd                                                                   4\n",
       "Salsa Verde                                                                          4\n",
       "Pom Wonderful 100% Pomegranate Juice                                                 4\n",
       "Pepper Serrano                                                                       4\n",
       "Sweet Baby Ray's Barbecue Sauce                                                      4\n",
       "Breadcrumb Plain                                                                     4\n",
       "Tomato Crushed                                                                       4\n",
       "Chef Boyardee Beef Ravioli                                                           4\n",
       "Ssnng Poultry                                                                        4\n",
       "Riceland Extra Long Grain Rice                                                       3\n",
       "Bean Kidney Red                                                                      3\n",
       "Ocean Spray Cranberry Juice Cocktail From Concentrate                                3\n",
       "Dinty Moore Hearty Meals Beef Stew                                                   3\n",
       "                                                                                    ..\n",
       "Maple Leaf Duck Breast Filet                                                         1\n",
       "Pepper Mix Giardiniera Ho                                                            1\n",
       "Bun Sprtd 7grn Hotdog                                                                1\n",
       "Choc Yrgt Crvrd Almd Strw                                                            1\n",
       "Mix Ssnng Chinese Bbq                                                                1\n",
       "Soda 6pk Diet Blk Chry                                                               1\n",
       "Bertolli Complete Skillet Meal For Two Chicken Marsala & Roasted Redskin Potatoes    1\n",
       "Mix Bread Irish Btrmlk Ra                                                            1\n",
       "Barilla Plus Elbows Pasta Multigrain                                                 1\n",
       "Vinegar Cocount Chili Gng                                                            1\n",
       "Lea & Perrins Worcestershire Sauce Original All Natural                              1\n",
       "Sunridge Farms Confections All Natural Dark Chocolate Coconut Chews                  1\n",
       "Sunbelt Bakery Granola Bars Peanut Butter Chip - 10 Ct                               1\n",
       "Bar Gf Drk Choc Pppprmnt                                                             1\n",
       "Mrs. Dash Marinade Salt-free Lime Garlic                                             1\n",
       "Ahold Beans Cannellini                                                               1\n",
       "Dell'alpe Instant Polenta                                                            1\n",
       "Luna Whole Nutrition Bar For Women Nutz Over Chocolate - 6 Ct                        1\n",
       "Bob's Red Mill Buckwheat Pancake & Waffle Whole Grain Mix                            1\n",
       "Barilla Tomato & Basil Sauce                                                         1\n",
       "Health Valley Organic Soup Minestrone No Salt Added                                  1\n",
       "Sauerkraut Beet & Cabbage                                                            1\n",
       "Moore's Buffalo Wing Sauce Gluten Free                                               1\n",
       "Hummus & Quna Chip Rstd G                                                            1\n",
       "Lasagna Gf Df Chse                                                                   1\n",
       "Honey Pure Org                                                                       1\n",
       "Hanover Baked Beans Country Style                                                    1\n",
       "Prince Thin Spaghetti Pasta                                                          1\n",
       "Cheese Vlaskaas                                                                      1\n",
       "Braswell's All Natural Dressing Balsamic Herb Vinaigrette                            1\n",
       "Name: name, dtype: int64"
      ]
     },
     "execution_count": 67,
     "metadata": {},
     "output_type": "execute_result"
    }
   ],
   "source": [
    "productupc.name.value_counts()"
   ]
  },
  {
   "cell_type": "code",
   "execution_count": 69,
   "metadata": {
    "collapsed": false
   },
   "outputs": [
    {
     "data": {
      "text/plain": [
       "102404"
      ]
     },
     "execution_count": 69,
     "metadata": {},
     "output_type": "execute_result"
    }
   ],
   "source": [
    "productupc.name.isnull().sum()"
   ]
  },
  {
   "cell_type": "code",
   "execution_count": 70,
   "metadata": {
    "collapsed": false
   },
   "outputs": [
    {
     "data": {
      "text/plain": [
       "count               17142\n",
       "unique              16468\n",
       "top       Pepper Chipotle\n",
       "freq                    6\n",
       "Name: name, dtype: object"
      ]
     },
     "execution_count": 70,
     "metadata": {},
     "output_type": "execute_result"
    }
   ],
   "source": [
    "productupc.name.describe()"
   ]
  },
  {
   "cell_type": "code",
   "execution_count": 71,
   "metadata": {
    "collapsed": false
   },
   "outputs": [
    {
     "data": {
      "text/plain": [
       "ICE CREAM                                                                                                      532\n",
       "PREMIUM ICE CREAM                                                                                              258\n",
       "SODA                                                                                                           247\n",
       "POTATO CHIPS                                                                                                   237\n",
       "CEREAL                                                                                                         158\n",
       "SALSA                                                                                                          153\n",
       "PASTA SAUCE                                                                                                    149\n",
       "APPLE SAUCE                                                                                                    109\n",
       "100% JUICE                                                                                                     101\n",
       "GREEK NONFAT YOGURT                                                                                             98\n",
       "SAUCE                                                                                                           94\n",
       "TOMATO SAUCE                                                                                                    92\n",
       "COOKIES                                                                                                         92\n",
       "BEEF JERKY                                                                                                      91\n",
       "MILK CHOCOLATE                                                                                                  88\n",
       "SPARKLING WATER                                                                                                 87\n",
       "NONFAT YOGURT                                                                                                   85\n",
       "BBQ SAUCE                                                                                                       85\n",
       "LOWFAT YOGURT                                                                                                   85\n",
       "TOMATO KETCHUP                                                                                                  83\n",
       "PINTO BEANS                                                                                                     78\n",
       "CANDY                                                                                                           78\n",
       "COFFEE CREAMER                                                                                                  77\n",
       "GRANOLA                                                                                                         76\n",
       "DARK CHOCOLATE                                                                                                  75\n",
       "DICED TOMATOES                                                                                                  75\n",
       "CUT GREEN BEANS                                                                                                 74\n",
       "BLACK BEANS                                                                                                     74\n",
       "GREEK YOGURT                                                                                                    74\n",
       "PROTEIN BAR                                                                                                     72\n",
       "                                                                                                              ... \n",
       "JELLY BELLY, SMOOTHIE BLEND                                                                                      1\n",
       "HEALTHY CHOICE Simply Steamers Asian Kung Pao Chicken                                                            1\n",
       "DARK CHOCOLATE CHERRY CASHEW + ANTIOXIDANTS* BARS                                                                1\n",
       "WHOLE GRAIN QUICK COOKING OATS                                                                                   1\n",
       "GOODLIVIN', LEMON CREME COOKIES                                                                                  1\n",
       "SHARP CHEDDAR STYLE                                                                                              1\n",
       "RESTAURANT STYLE BACON                                                                                           1\n",
       "SUNSHINE KRISPY SALTINES .4OZ                                                                                    1\n",
       "ON-COR, CHICKEN PATTIES                                                                                          1\n",
       "LAND O LAKES, COCOA SUPREME, HOT COCOA MIX                                                                       1\n",
       "GRACE, SOYA SAUCE                                                                                                1\n",
       "GLUTEN-FREE CRUST WITH TOMATO SAUCE, CHICKEN, FIRE ROASTED PEPPERS AND SMOKED PROVOLONE CHEESE                   1\n",
       "WHOLE FOODS MARKET, DRIED APRICOTS                                                                               1\n",
       "NATURALLY PROBIOTIC KIMCHI                                                                                       1\n",
       "IN THE MIX, GOURMET BROWNIE MIX, SALTED CARAMEL                                                                  1\n",
       "MILK & WHITE CHOCOLATE BALLS                                                                                     1\n",
       "SLICED HEARTS OF PALM SALAD CUT                                                                                  1\n",
       "ANGELENO'S, PUEBLO CHIPS                                                                                         1\n",
       "TRADER JOE'S, HONEY ROASTED COCOA & CHILI PEANUTS & ALMONDS WITH ROASTED SALTED PECANS, SWEET, HOT & SAVORY      1\n",
       "TRADITIONAL PASSATA                                                                                              1\n",
       "TAI PEI, MINI VEGETABLE SPRING ROLLS                                                                             1\n",
       "SEVERINO, SHELLS CHEESE - STUFFED WITH MARINARA                                                                  1\n",
       "ROUNDY'S SELECT, DECAFFEINATED GREEN TEA                                                                         1\n",
       "100% NATURAL TOMATO, GARLIC & ONION PASTA SAUCE                                                                  1\n",
       "POTATO CROWNS                                                                                                    1\n",
       "NON PAREILS DALLIES                                                                                              1\n",
       "POP WEAVER, MICROWAVE POPCORN, SRIRACHA                                                                          1\n",
       "YELLOW CURRY RICE                                                                                                1\n",
       "IMPORTED SHREDDED GRUYERE CHEESE                                                                                 1\n",
       "DAVID SEEDS Pumpkin                                                                                              1\n",
       "Name: long_name, dtype: int64"
      ]
     },
     "execution_count": 71,
     "metadata": {},
     "output_type": "execute_result"
    }
   ],
   "source": [
    "'ice cream','juice','soda','yogurt','tomato sauce','chocolate','ketchup','nut','salsa','apple sauce','sauce',\n",
    "'cookies','jerky','beans','protein bar','apricots','kimchi','cereal','granola',''\n",
    "productupc.long_name.value_counts()"
   ]
  },
  {
   "cell_type": "code",
   "execution_count": null,
   "metadata": {
    "collapsed": true
   },
   "outputs": [],
   "source": [
    "#productupc.long_name.value_counts()"
   ]
  },
  {
   "cell_type": "code",
   "execution_count": 72,
   "metadata": {
    "collapsed": false
   },
   "outputs": [
    {
     "data": {
      "text/plain": [
       "119545"
      ]
     },
     "execution_count": 72,
     "metadata": {},
     "output_type": "execute_result"
    }
   ],
   "source": [
    "productupc.long_name.notnull().sum()"
   ]
  },
  {
   "cell_type": "code",
   "execution_count": 73,
   "metadata": {
    "collapsed": false
   },
   "outputs": [
    {
     "data": {
      "text/plain": [
       "119546"
      ]
     },
     "execution_count": 73,
     "metadata": {},
     "output_type": "execute_result"
    }
   ],
   "source": [
    "len(productupc)"
   ]
  },
  {
   "cell_type": "code",
   "execution_count": null,
   "metadata": {
    "collapsed": true
   },
   "outputs": [],
   "source": []
  },
  {
   "cell_type": "code",
   "execution_count": 33,
   "metadata": {
    "collapsed": false
   },
   "outputs": [
    {
     "name": "stderr",
     "output_type": "stream",
     "text": [
      "/Users/meleciawright/anaconda/lib/python3.5/site-packages/numpy/lib/function_base.py:3834: RuntimeWarning: Invalid value encountered in percentile\n",
      "  RuntimeWarning)\n"
     ]
    },
    {
     "data": {
      "text/plain": [
       "count    1.714200e+04\n",
       "mean     2.675698e+11\n",
       "std      3.313288e+11\n",
       "min      9.349503e+07\n",
       "25%               NaN\n",
       "50%               NaN\n",
       "75%               NaN\n",
       "max      8.999040e+11\n",
       "Name: upc12, dtype: float64"
      ]
     },
     "execution_count": 33,
     "metadata": {},
     "output_type": "execute_result"
    }
   ],
   "source": [
    "q=productupc[productupc['gtin_upc'].notnull()]\n",
    "q['upc12'].describe()"
   ]
  },
  {
   "cell_type": "code",
   "execution_count": null,
   "metadata": {
    "collapsed": true
   },
   "outputs": [],
   "source": []
  },
  {
   "cell_type": "code",
   "execution_count": 9,
   "metadata": {
    "collapsed": false
   },
   "outputs": [
    {
     "data": {
      "text/plain": [
       "numpy.int64"
      ]
     },
     "execution_count": 9,
     "metadata": {},
     "output_type": "execute_result"
    }
   ],
   "source": [
    "type(upc.upc12[0] )"
   ]
  },
  {
   "cell_type": "code",
   "execution_count": null,
   "metadata": {
    "collapsed": true
   },
   "outputs": [],
   "source": []
  },
  {
   "cell_type": "code",
   "execution_count": null,
   "metadata": {
    "collapsed": true
   },
   "outputs": [],
   "source": []
  },
  {
   "cell_type": "code",
   "execution_count": null,
   "metadata": {
    "collapsed": true
   },
   "outputs": [],
   "source": []
  },
  {
   "cell_type": "code",
   "execution_count": 10,
   "metadata": {
    "collapsed": false
   },
   "outputs": [
    {
     "data": {
      "text/plain": [
       "119546"
      ]
     },
     "execution_count": 10,
     "metadata": {},
     "output_type": "execute_result"
    }
   ],
   "source": [
    "products.NDB_Number.nunique()#119546"
   ]
  },
  {
   "cell_type": "code",
   "execution_count": 11,
   "metadata": {
    "collapsed": false
   },
   "outputs": [
    {
     "data": {
      "text/plain": [
       "13604"
      ]
     },
     "execution_count": 11,
     "metadata": {},
     "output_type": "execute_result"
    }
   ],
   "source": [
    "products.manufacturer.nunique()"
   ]
  },
  {
   "cell_type": "code",
   "execution_count": 14,
   "metadata": {
    "collapsed": false
   },
   "outputs": [
    {
     "data": {
      "text/html": [
       "<div>\n",
       "<table border=\"1\" class=\"dataframe\">\n",
       "  <thead>\n",
       "    <tr style=\"text-align: right;\">\n",
       "      <th></th>\n",
       "      <th>usdabrands</th>\n",
       "    </tr>\n",
       "  </thead>\n",
       "  <tbody>\n",
       "    <tr>\n",
       "      <th>0</th>\n",
       "      <td>The Kroger Co.</td>\n",
       "    </tr>\n",
       "    <tr>\n",
       "      <th>1</th>\n",
       "      <td>Meijer, Inc.</td>\n",
       "    </tr>\n",
       "    <tr>\n",
       "      <th>2</th>\n",
       "      <td>Wal-Mart Stores, Inc.</td>\n",
       "    </tr>\n",
       "    <tr>\n",
       "      <th>3</th>\n",
       "      <td>Conagra Brands</td>\n",
       "    </tr>\n",
       "    <tr>\n",
       "      <th>4</th>\n",
       "      <td>Weis Markets, Inc.</td>\n",
       "    </tr>\n",
       "  </tbody>\n",
       "</table>\n",
       "</div>"
      ],
      "text/plain": [
       "              usdabrands\n",
       "0         The Kroger Co.\n",
       "1           Meijer, Inc.\n",
       "2  Wal-Mart Stores, Inc.\n",
       "3         Conagra Brands\n",
       "4     Weis Markets, Inc."
      ]
     },
     "execution_count": 14,
     "metadata": {},
     "output_type": "execute_result"
    }
   ],
   "source": [
    "groclist=pd.DataFrame(products.manufacturer.value_counts().index,columns=['usdabrands'])\n",
    "groclist.head()"
   ]
  },
  {
   "cell_type": "code",
   "execution_count": 15,
   "metadata": {
    "collapsed": false
   },
   "outputs": [
    {
     "data": {
      "text/html": [
       "<div>\n",
       "<table border=\"1\" class=\"dataframe\">\n",
       "  <thead>\n",
       "    <tr style=\"text-align: right;\">\n",
       "      <th></th>\n",
       "      <th>usdabrands</th>\n",
       "    </tr>\n",
       "  </thead>\n",
       "  <tbody>\n",
       "    <tr>\n",
       "      <th>0</th>\n",
       "      <td>The Kroger Co.</td>\n",
       "    </tr>\n",
       "    <tr>\n",
       "      <th>1</th>\n",
       "      <td>Meijer, Inc.</td>\n",
       "    </tr>\n",
       "    <tr>\n",
       "      <th>2</th>\n",
       "      <td>Wal-Mart Stores, Inc.</td>\n",
       "    </tr>\n",
       "    <tr>\n",
       "      <th>3</th>\n",
       "      <td>Conagra Brands</td>\n",
       "    </tr>\n",
       "    <tr>\n",
       "      <th>4</th>\n",
       "      <td>Weis Markets, Inc.</td>\n",
       "    </tr>\n",
       "    <tr>\n",
       "      <th>5</th>\n",
       "      <td>Topco Associates, Inc.</td>\n",
       "    </tr>\n",
       "    <tr>\n",
       "      <th>6</th>\n",
       "      <td>Target Stores</td>\n",
       "    </tr>\n",
       "    <tr>\n",
       "      <th>7</th>\n",
       "      <td>Safeway, Inc.</td>\n",
       "    </tr>\n",
       "    <tr>\n",
       "      <th>8</th>\n",
       "      <td>Food Town Stores Inc.</td>\n",
       "    </tr>\n",
       "    <tr>\n",
       "      <th>9</th>\n",
       "      <td>Kellogg Company US</td>\n",
       "    </tr>\n",
       "    <tr>\n",
       "      <th>10</th>\n",
       "      <td>SPARTAN</td>\n",
       "    </tr>\n",
       "    <tr>\n",
       "      <th>11</th>\n",
       "      <td>Harris-Teeter Inc.</td>\n",
       "    </tr>\n",
       "    <tr>\n",
       "      <th>12</th>\n",
       "      <td>Supervalu, Inc.</td>\n",
       "    </tr>\n",
       "    <tr>\n",
       "      <th>13</th>\n",
       "      <td>Wakefern Food Corporation</td>\n",
       "    </tr>\n",
       "    <tr>\n",
       "      <th>14</th>\n",
       "      <td>ROUNDY'S</td>\n",
       "    </tr>\n",
       "    <tr>\n",
       "      <th>15</th>\n",
       "      <td>Whole Foods Market, Inc.</td>\n",
       "    </tr>\n",
       "    <tr>\n",
       "      <th>16</th>\n",
       "      <td>Ahold USA, Inc.</td>\n",
       "    </tr>\n",
       "    <tr>\n",
       "      <th>17</th>\n",
       "      <td>Hy-Vee, Inc.</td>\n",
       "    </tr>\n",
       "    <tr>\n",
       "      <th>18</th>\n",
       "      <td>Pinnacle Foods Group LLC</td>\n",
       "    </tr>\n",
       "    <tr>\n",
       "      <th>19</th>\n",
       "      <td>Hannaford Bros. Co.</td>\n",
       "    </tr>\n",
       "    <tr>\n",
       "      <th>20</th>\n",
       "      <td>Giant Eagle, Inc.</td>\n",
       "    </tr>\n",
       "    <tr>\n",
       "      <th>21</th>\n",
       "      <td>The Moran Group Incorporated</td>\n",
       "    </tr>\n",
       "    <tr>\n",
       "      <th>22</th>\n",
       "      <td>Schnuck Markets, Inc.</td>\n",
       "    </tr>\n",
       "    <tr>\n",
       "      <th>23</th>\n",
       "      <td>Wegmans Food Markets, Inc.</td>\n",
       "    </tr>\n",
       "    <tr>\n",
       "      <th>24</th>\n",
       "      <td>McCormick &amp; Company, Inc.</td>\n",
       "    </tr>\n",
       "    <tr>\n",
       "      <th>25</th>\n",
       "      <td>The Hain Celestial Group, Inc.</td>\n",
       "    </tr>\n",
       "    <tr>\n",
       "      <th>26</th>\n",
       "      <td>Ahold Usa, Inc.</td>\n",
       "    </tr>\n",
       "    <tr>\n",
       "      <th>27</th>\n",
       "      <td>Goya Foods, Inc.</td>\n",
       "    </tr>\n",
       "    <tr>\n",
       "      <th>28</th>\n",
       "      <td>Del Monte Foods Inc.</td>\n",
       "    </tr>\n",
       "    <tr>\n",
       "      <th>29</th>\n",
       "      <td>Western Family Foods, Inc.</td>\n",
       "    </tr>\n",
       "    <tr>\n",
       "      <th>...</th>\n",
       "      <td>...</td>\n",
       "    </tr>\n",
       "    <tr>\n",
       "      <th>13574</th>\n",
       "      <td>Marx Brothers, Inc.</td>\n",
       "    </tr>\n",
       "    <tr>\n",
       "      <th>13575</th>\n",
       "      <td>Eliza's Quest Foods, LLC</td>\n",
       "    </tr>\n",
       "    <tr>\n",
       "      <th>13576</th>\n",
       "      <td>GABRIELLA'S KITCHEN</td>\n",
       "    </tr>\n",
       "    <tr>\n",
       "      <th>13577</th>\n",
       "      <td>Chlorophyll Brands, LLC</td>\n",
       "    </tr>\n",
       "    <tr>\n",
       "      <th>13578</th>\n",
       "      <td>Gourmet Epic Inc.</td>\n",
       "    </tr>\n",
       "    <tr>\n",
       "      <th>13579</th>\n",
       "      <td>Avitae Holdings, LLC</td>\n",
       "    </tr>\n",
       "    <tr>\n",
       "      <th>13580</th>\n",
       "      <td>ANZIO &amp; SONS</td>\n",
       "    </tr>\n",
       "    <tr>\n",
       "      <th>13581</th>\n",
       "      <td>CECCATE</td>\n",
       "    </tr>\n",
       "    <tr>\n",
       "      <th>13582</th>\n",
       "      <td>Hygloss Products Inc.</td>\n",
       "    </tr>\n",
       "    <tr>\n",
       "      <th>13583</th>\n",
       "      <td>BRIGITTE'S NATURALLY</td>\n",
       "    </tr>\n",
       "    <tr>\n",
       "      <th>13584</th>\n",
       "      <td>SAM'S WEST</td>\n",
       "    </tr>\n",
       "    <tr>\n",
       "      <th>13585</th>\n",
       "      <td>Hollandia Nursery, Inc.</td>\n",
       "    </tr>\n",
       "    <tr>\n",
       "      <th>13586</th>\n",
       "      <td>FRESH FROM MEIJER</td>\n",
       "    </tr>\n",
       "    <tr>\n",
       "      <th>13587</th>\n",
       "      <td>Vintage Food Corp.</td>\n",
       "    </tr>\n",
       "    <tr>\n",
       "      <th>13588</th>\n",
       "      <td>PANTAINORASINGH BRAND</td>\n",
       "    </tr>\n",
       "    <tr>\n",
       "      <th>13589</th>\n",
       "      <td>LEWIS BAKERIES</td>\n",
       "    </tr>\n",
       "    <tr>\n",
       "      <th>13590</th>\n",
       "      <td>Gladder's Gourmet Cookies, Inc.</td>\n",
       "    </tr>\n",
       "    <tr>\n",
       "      <th>13591</th>\n",
       "      <td>Liquid Management Partners, LLC</td>\n",
       "    </tr>\n",
       "    <tr>\n",
       "      <th>13592</th>\n",
       "      <td>Vegas Valley Brewing Company</td>\n",
       "    </tr>\n",
       "    <tr>\n",
       "      <th>13593</th>\n",
       "      <td>DE MI PAIS</td>\n",
       "    </tr>\n",
       "    <tr>\n",
       "      <th>13594</th>\n",
       "      <td>Macro-Organic Inc.</td>\n",
       "    </tr>\n",
       "    <tr>\n",
       "      <th>13595</th>\n",
       "      <td>MAAMOUL</td>\n",
       "    </tr>\n",
       "    <tr>\n",
       "      <th>13596</th>\n",
       "      <td>Arriba, LLC</td>\n",
       "    </tr>\n",
       "    <tr>\n",
       "      <th>13597</th>\n",
       "      <td>LUV YU</td>\n",
       "    </tr>\n",
       "    <tr>\n",
       "      <th>13598</th>\n",
       "      <td>STATER BROS</td>\n",
       "    </tr>\n",
       "    <tr>\n",
       "      <th>13599</th>\n",
       "      <td>CHE!</td>\n",
       "    </tr>\n",
       "    <tr>\n",
       "      <th>13600</th>\n",
       "      <td>NAUGHTY OR NICE</td>\n",
       "    </tr>\n",
       "    <tr>\n",
       "      <th>13601</th>\n",
       "      <td>BF Imports Inc.</td>\n",
       "    </tr>\n",
       "    <tr>\n",
       "      <th>13602</th>\n",
       "      <td>Fratelli Polli Spa</td>\n",
       "    </tr>\n",
       "    <tr>\n",
       "      <th>13603</th>\n",
       "      <td>Crook-Miller Co.</td>\n",
       "    </tr>\n",
       "  </tbody>\n",
       "</table>\n",
       "<p>13604 rows × 1 columns</p>\n",
       "</div>"
      ],
      "text/plain": [
       "                            usdabrands\n",
       "0                       The Kroger Co.\n",
       "1                         Meijer, Inc.\n",
       "2                Wal-Mart Stores, Inc.\n",
       "3                       Conagra Brands\n",
       "4                   Weis Markets, Inc.\n",
       "5               Topco Associates, Inc.\n",
       "6                        Target Stores\n",
       "7                        Safeway, Inc.\n",
       "8                Food Town Stores Inc.\n",
       "9                   Kellogg Company US\n",
       "10                             SPARTAN\n",
       "11                  Harris-Teeter Inc.\n",
       "12                     Supervalu, Inc.\n",
       "13           Wakefern Food Corporation\n",
       "14                            ROUNDY'S\n",
       "15            Whole Foods Market, Inc.\n",
       "16                     Ahold USA, Inc.\n",
       "17                        Hy-Vee, Inc.\n",
       "18            Pinnacle Foods Group LLC\n",
       "19                 Hannaford Bros. Co.\n",
       "20                   Giant Eagle, Inc.\n",
       "21        The Moran Group Incorporated\n",
       "22               Schnuck Markets, Inc.\n",
       "23          Wegmans Food Markets, Inc.\n",
       "24           McCormick & Company, Inc.\n",
       "25      The Hain Celestial Group, Inc.\n",
       "26                     Ahold Usa, Inc.\n",
       "27                    Goya Foods, Inc.\n",
       "28                Del Monte Foods Inc.\n",
       "29          Western Family Foods, Inc.\n",
       "...                                ...\n",
       "13574              Marx Brothers, Inc.\n",
       "13575         Eliza's Quest Foods, LLC\n",
       "13576              GABRIELLA'S KITCHEN\n",
       "13577          Chlorophyll Brands, LLC\n",
       "13578                Gourmet Epic Inc.\n",
       "13579             Avitae Holdings, LLC\n",
       "13580                     ANZIO & SONS\n",
       "13581                          CECCATE\n",
       "13582            Hygloss Products Inc.\n",
       "13583             BRIGITTE'S NATURALLY\n",
       "13584                       SAM'S WEST\n",
       "13585          Hollandia Nursery, Inc.\n",
       "13586                FRESH FROM MEIJER\n",
       "13587               Vintage Food Corp.\n",
       "13588            PANTAINORASINGH BRAND\n",
       "13589                   LEWIS BAKERIES\n",
       "13590  Gladder's Gourmet Cookies, Inc.\n",
       "13591  Liquid Management Partners, LLC\n",
       "13592     Vegas Valley Brewing Company\n",
       "13593                       DE MI PAIS\n",
       "13594               Macro-Organic Inc.\n",
       "13595                          MAAMOUL\n",
       "13596                      Arriba, LLC\n",
       "13597                           LUV YU\n",
       "13598                      STATER BROS\n",
       "13599                             CHE!\n",
       "13600                  NAUGHTY OR NICE\n",
       "13601                  BF Imports Inc.\n",
       "13602               Fratelli Polli Spa\n",
       "13603                 Crook-Miller Co.\n",
       "\n",
       "[13604 rows x 1 columns]"
      ]
     },
     "execution_count": 15,
     "metadata": {},
     "output_type": "execute_result"
    }
   ],
   "source": [
    "groclist"
   ]
  },
  {
   "cell_type": "code",
   "execution_count": null,
   "metadata": {
    "collapsed": true
   },
   "outputs": [],
   "source": []
  },
  {
   "cell_type": "code",
   "execution_count": 13,
   "metadata": {
    "collapsed": false
   },
   "outputs": [
    {
     "data": {
      "text/html": [
       "<div>\n",
       "<table border=\"1\" class=\"dataframe\">\n",
       "  <thead>\n",
       "    <tr style=\"text-align: right;\">\n",
       "      <th></th>\n",
       "      <th>0</th>\n",
       "    </tr>\n",
       "  </thead>\n",
       "  <tbody>\n",
       "    <tr>\n",
       "      <th>0</th>\n",
       "      <td>The Kroger Co.</td>\n",
       "    </tr>\n",
       "    <tr>\n",
       "      <th>1</th>\n",
       "      <td>Meijer, Inc.</td>\n",
       "    </tr>\n",
       "    <tr>\n",
       "      <th>2</th>\n",
       "      <td>Wal-Mart Stores, Inc.</td>\n",
       "    </tr>\n",
       "    <tr>\n",
       "      <th>3</th>\n",
       "      <td>Conagra Brands</td>\n",
       "    </tr>\n",
       "    <tr>\n",
       "      <th>4</th>\n",
       "      <td>Weis Markets, Inc.</td>\n",
       "    </tr>\n",
       "  </tbody>\n",
       "</table>\n",
       "</div>"
      ],
      "text/plain": [
       "                       0\n",
       "0         The Kroger Co.\n",
       "1           Meijer, Inc.\n",
       "2  Wal-Mart Stores, Inc.\n",
       "3         Conagra Brands\n",
       "4     Weis Markets, Inc."
      ]
     },
     "execution_count": 13,
     "metadata": {},
     "output_type": "execute_result"
    }
   ],
   "source": []
  },
  {
   "cell_type": "code",
   "execution_count": null,
   "metadata": {
    "collapsed": true
   },
   "outputs": [],
   "source": []
  },
  {
   "cell_type": "code",
   "execution_count": null,
   "metadata": {
    "collapsed": true
   },
   "outputs": [],
   "source": []
  },
  {
   "cell_type": "code",
   "execution_count": 4,
   "metadata": {
    "collapsed": false
   },
   "outputs": [
    {
     "data": {
      "text/html": [
       "<div>\n",
       "<table border=\"1\" class=\"dataframe\">\n",
       "  <thead>\n",
       "    <tr style=\"text-align: right;\">\n",
       "      <th></th>\n",
       "      <th>derivation_code</th>\n",
       "      <th>Derivation_Descript</th>\n",
       "    </tr>\n",
       "  </thead>\n",
       "  <tbody>\n",
       "    <tr>\n",
       "      <th>0</th>\n",
       "      <td>LCCD</td>\n",
       "      <td>Calculated from a daily value percentage per s...</td>\n",
       "    </tr>\n",
       "    <tr>\n",
       "      <th>1</th>\n",
       "      <td>LCCS</td>\n",
       "      <td>Calculated from value per serving size measure</td>\n",
       "    </tr>\n",
       "    <tr>\n",
       "      <th>2</th>\n",
       "      <td>LCGA</td>\n",
       "      <td>Given by information provider as an 'approxima...</td>\n",
       "    </tr>\n",
       "    <tr>\n",
       "      <th>3</th>\n",
       "      <td>LCGE</td>\n",
       "      <td>Given by information provider as an 'exact' va...</td>\n",
       "    </tr>\n",
       "    <tr>\n",
       "      <th>4</th>\n",
       "      <td>LCGL</td>\n",
       "      <td>Given by information provider as a 'less than'...</td>\n",
       "    </tr>\n",
       "  </tbody>\n",
       "</table>\n",
       "</div>"
      ],
      "text/plain": [
       "  derivation_code                                Derivation_Descript\n",
       "0            LCCD  Calculated from a daily value percentage per s...\n",
       "1            LCCS     Calculated from value per serving size measure\n",
       "2            LCGA  Given by information provider as an 'approxima...\n",
       "3            LCGE  Given by information provider as an 'exact' va...\n",
       "4            LCGL  Given by information provider as a 'less than'..."
      ]
     },
     "execution_count": 4,
     "metadata": {},
     "output_type": "execute_result"
    }
   ],
   "source": [
    "deriv=pd.read_csv('Derivation_Code_Description.csv')\n",
    "deriv.head()"
   ]
  },
  {
   "cell_type": "code",
   "execution_count": null,
   "metadata": {
    "collapsed": true
   },
   "outputs": [],
   "source": []
  },
  {
   "cell_type": "code",
   "execution_count": 5,
   "metadata": {
    "collapsed": false
   },
   "outputs": [
    {
     "data": {
      "text/html": [
       "<div>\n",
       "<table border=\"1\" class=\"dataframe\">\n",
       "  <thead>\n",
       "    <tr style=\"text-align: right;\">\n",
       "      <th></th>\n",
       "      <th>NDB_No</th>\n",
       "      <th>Nutrient_Code</th>\n",
       "      <th>Nutrient_name</th>\n",
       "      <th>Derivation_Code</th>\n",
       "      <th>Output_value</th>\n",
       "      <th>Output_uom</th>\n",
       "    </tr>\n",
       "  </thead>\n",
       "  <tbody>\n",
       "    <tr>\n",
       "      <th>0</th>\n",
       "      <td>45127487</td>\n",
       "      <td>203.0</td>\n",
       "      <td>Protein</td>\n",
       "      <td>LCGA</td>\n",
       "      <td>4.3</td>\n",
       "      <td>g</td>\n",
       "    </tr>\n",
       "    <tr>\n",
       "      <th>1</th>\n",
       "      <td>45127487</td>\n",
       "      <td>204.0</td>\n",
       "      <td>Total lipid (fat)</td>\n",
       "      <td>LCGA</td>\n",
       "      <td>18.9</td>\n",
       "      <td>g</td>\n",
       "    </tr>\n",
       "    <tr>\n",
       "      <th>2</th>\n",
       "      <td>45127487</td>\n",
       "      <td>205.0</td>\n",
       "      <td>Carbohydrate, by difference</td>\n",
       "      <td>LCGA</td>\n",
       "      <td>72.8</td>\n",
       "      <td>g</td>\n",
       "    </tr>\n",
       "    <tr>\n",
       "      <th>3</th>\n",
       "      <td>45127487</td>\n",
       "      <td>207.0</td>\n",
       "      <td>Ash</td>\n",
       "      <td>LCGA</td>\n",
       "      <td>2.0</td>\n",
       "      <td>g</td>\n",
       "    </tr>\n",
       "    <tr>\n",
       "      <th>4</th>\n",
       "      <td>45127487</td>\n",
       "      <td>255.0</td>\n",
       "      <td>Water</td>\n",
       "      <td>LCGA</td>\n",
       "      <td>2.0</td>\n",
       "      <td>g</td>\n",
       "    </tr>\n",
       "  </tbody>\n",
       "</table>\n",
       "</div>"
      ],
      "text/plain": [
       "     NDB_No  Nutrient_Code                Nutrient_name Derivation_Code  \\\n",
       "0  45127487          203.0                      Protein            LCGA   \n",
       "1  45127487          204.0            Total lipid (fat)            LCGA   \n",
       "2  45127487          205.0  Carbohydrate, by difference            LCGA   \n",
       "3  45127487          207.0                          Ash            LCGA   \n",
       "4  45127487          255.0                        Water            LCGA   \n",
       "\n",
       "   Output_value Output_uom  \n",
       "0           4.3          g  \n",
       "1          18.9          g  \n",
       "2          72.8          g  \n",
       "3           2.0          g  \n",
       "4           2.0          g  "
      ]
     },
     "execution_count": 5,
     "metadata": {},
     "output_type": "execute_result"
    }
   ],
   "source": [
    "nutrient=pd.read_csv('nutrient.csv', low_memory=False)\n",
    "nutrient.head()"
   ]
  },
  {
   "cell_type": "code",
   "execution_count": 9,
   "metadata": {
    "collapsed": false
   },
   "outputs": [
    {
     "data": {
      "text/plain": [
       "85"
      ]
     },
     "execution_count": 9,
     "metadata": {},
     "output_type": "execute_result"
    }
   ],
   "source": [
    "nutrient.Nutrient_name.nunique()"
   ]
  },
  {
   "cell_type": "code",
   "execution_count": null,
   "metadata": {
    "collapsed": true
   },
   "outputs": [],
   "source": []
  },
  {
   "cell_type": "code",
   "execution_count": null,
   "metadata": {
    "collapsed": true
   },
   "outputs": [],
   "source": []
  },
  {
   "cell_type": "code",
   "execution_count": 20,
   "metadata": {
    "collapsed": false
   },
   "outputs": [
    {
     "ename": "ValueError",
     "evalue": "cannot label index with a null key",
     "output_type": "error",
     "traceback": [
      "\u001b[0;31m---------------------------------------------------------------------------\u001b[0m",
      "\u001b[0;31mValueError\u001b[0m                                Traceback (most recent call last)",
      "\u001b[0;32m<ipython-input-20-a115a51f893b>\u001b[0m in \u001b[0;36m<module>\u001b[0;34m()\u001b[0m\n\u001b[0;32m----> 1\u001b[0;31m \u001b[0mn4\u001b[0m\u001b[0;34m=\u001b[0m\u001b[0mnutrient\u001b[0m\u001b[0;34m.\u001b[0m\u001b[0mpivot\u001b[0m\u001b[0;34m(\u001b[0m\u001b[0mindex\u001b[0m\u001b[0;34m=\u001b[0m\u001b[0;34m'NDB_No'\u001b[0m\u001b[0;34m,\u001b[0m \u001b[0mvalues\u001b[0m \u001b[0;34m=\u001b[0m \u001b[0;34m'Output_value'\u001b[0m\u001b[0;34m)\u001b[0m\u001b[0;34m\u001b[0m\u001b[0m\n\u001b[0m",
      "\u001b[0;32m/Users/meleciawright/anaconda/lib/python3.5/site-packages/pandas/core/frame.py\u001b[0m in \u001b[0;36mpivot\u001b[0;34m(self, index, columns, values)\u001b[0m\n\u001b[1;32m   3844\u001b[0m         \"\"\"\n\u001b[1;32m   3845\u001b[0m         \u001b[0;32mfrom\u001b[0m \u001b[0mpandas\u001b[0m\u001b[0;34m.\u001b[0m\u001b[0mcore\u001b[0m\u001b[0;34m.\u001b[0m\u001b[0mreshape\u001b[0m \u001b[0;32mimport\u001b[0m \u001b[0mpivot\u001b[0m\u001b[0;34m\u001b[0m\u001b[0m\n\u001b[0;32m-> 3846\u001b[0;31m         \u001b[0;32mreturn\u001b[0m \u001b[0mpivot\u001b[0m\u001b[0;34m(\u001b[0m\u001b[0mself\u001b[0m\u001b[0;34m,\u001b[0m \u001b[0mindex\u001b[0m\u001b[0;34m=\u001b[0m\u001b[0mindex\u001b[0m\u001b[0;34m,\u001b[0m \u001b[0mcolumns\u001b[0m\u001b[0;34m=\u001b[0m\u001b[0mcolumns\u001b[0m\u001b[0;34m,\u001b[0m \u001b[0mvalues\u001b[0m\u001b[0;34m=\u001b[0m\u001b[0mvalues\u001b[0m\u001b[0;34m)\u001b[0m\u001b[0;34m\u001b[0m\u001b[0m\n\u001b[0m\u001b[1;32m   3847\u001b[0m \u001b[0;34m\u001b[0m\u001b[0m\n\u001b[1;32m   3848\u001b[0m     \u001b[0;32mdef\u001b[0m \u001b[0mstack\u001b[0m\u001b[0;34m(\u001b[0m\u001b[0mself\u001b[0m\u001b[0;34m,\u001b[0m \u001b[0mlevel\u001b[0m\u001b[0;34m=\u001b[0m\u001b[0;34m-\u001b[0m\u001b[0;36m1\u001b[0m\u001b[0;34m,\u001b[0m \u001b[0mdropna\u001b[0m\u001b[0;34m=\u001b[0m\u001b[0;32mTrue\u001b[0m\u001b[0;34m)\u001b[0m\u001b[0;34m:\u001b[0m\u001b[0;34m\u001b[0m\u001b[0m\n",
      "\u001b[0;32m/Users/meleciawright/anaconda/lib/python3.5/site-packages/pandas/core/reshape.py\u001b[0m in \u001b[0;36mpivot\u001b[0;34m(self, index, columns, values)\u001b[0m\n\u001b[1;32m    329\u001b[0m             \u001b[0mindex\u001b[0m \u001b[0;34m=\u001b[0m \u001b[0mself\u001b[0m\u001b[0;34m[\u001b[0m\u001b[0mindex\u001b[0m\u001b[0;34m]\u001b[0m\u001b[0;34m\u001b[0m\u001b[0m\n\u001b[1;32m    330\u001b[0m         indexed = Series(self[values].values,\n\u001b[0;32m--> 331\u001b[0;31m                          index=MultiIndex.from_arrays([index, self[columns]]))\n\u001b[0m\u001b[1;32m    332\u001b[0m         \u001b[0;32mreturn\u001b[0m \u001b[0mindexed\u001b[0m\u001b[0;34m.\u001b[0m\u001b[0munstack\u001b[0m\u001b[0;34m(\u001b[0m\u001b[0mcolumns\u001b[0m\u001b[0;34m)\u001b[0m\u001b[0;34m\u001b[0m\u001b[0m\n\u001b[1;32m    333\u001b[0m \u001b[0;34m\u001b[0m\u001b[0m\n",
      "\u001b[0;32m/Users/meleciawright/anaconda/lib/python3.5/site-packages/pandas/core/frame.py\u001b[0m in \u001b[0;36m__getitem__\u001b[0;34m(self, key)\u001b[0m\n\u001b[1;32m   1995\u001b[0m             \u001b[0;32mreturn\u001b[0m \u001b[0mself\u001b[0m\u001b[0;34m.\u001b[0m\u001b[0m_getitem_multilevel\u001b[0m\u001b[0;34m(\u001b[0m\u001b[0mkey\u001b[0m\u001b[0;34m)\u001b[0m\u001b[0;34m\u001b[0m\u001b[0m\n\u001b[1;32m   1996\u001b[0m         \u001b[0;32melse\u001b[0m\u001b[0;34m:\u001b[0m\u001b[0;34m\u001b[0m\u001b[0m\n\u001b[0;32m-> 1997\u001b[0;31m             \u001b[0;32mreturn\u001b[0m \u001b[0mself\u001b[0m\u001b[0;34m.\u001b[0m\u001b[0m_getitem_column\u001b[0m\u001b[0;34m(\u001b[0m\u001b[0mkey\u001b[0m\u001b[0;34m)\u001b[0m\u001b[0;34m\u001b[0m\u001b[0m\n\u001b[0m\u001b[1;32m   1998\u001b[0m \u001b[0;34m\u001b[0m\u001b[0m\n\u001b[1;32m   1999\u001b[0m     \u001b[0;32mdef\u001b[0m \u001b[0m_getitem_column\u001b[0m\u001b[0;34m(\u001b[0m\u001b[0mself\u001b[0m\u001b[0;34m,\u001b[0m \u001b[0mkey\u001b[0m\u001b[0;34m)\u001b[0m\u001b[0;34m:\u001b[0m\u001b[0;34m\u001b[0m\u001b[0m\n",
      "\u001b[0;32m/Users/meleciawright/anaconda/lib/python3.5/site-packages/pandas/core/frame.py\u001b[0m in \u001b[0;36m_getitem_column\u001b[0;34m(self, key)\u001b[0m\n\u001b[1;32m   2002\u001b[0m         \u001b[0;31m# get column\u001b[0m\u001b[0;34m\u001b[0m\u001b[0;34m\u001b[0m\u001b[0m\n\u001b[1;32m   2003\u001b[0m         \u001b[0;32mif\u001b[0m \u001b[0mself\u001b[0m\u001b[0;34m.\u001b[0m\u001b[0mcolumns\u001b[0m\u001b[0;34m.\u001b[0m\u001b[0mis_unique\u001b[0m\u001b[0;34m:\u001b[0m\u001b[0;34m\u001b[0m\u001b[0m\n\u001b[0;32m-> 2004\u001b[0;31m             \u001b[0;32mreturn\u001b[0m \u001b[0mself\u001b[0m\u001b[0;34m.\u001b[0m\u001b[0m_get_item_cache\u001b[0m\u001b[0;34m(\u001b[0m\u001b[0mkey\u001b[0m\u001b[0;34m)\u001b[0m\u001b[0;34m\u001b[0m\u001b[0m\n\u001b[0m\u001b[1;32m   2005\u001b[0m \u001b[0;34m\u001b[0m\u001b[0m\n\u001b[1;32m   2006\u001b[0m         \u001b[0;31m# duplicate columns & possible reduce dimensionality\u001b[0m\u001b[0;34m\u001b[0m\u001b[0;34m\u001b[0m\u001b[0m\n",
      "\u001b[0;32m/Users/meleciawright/anaconda/lib/python3.5/site-packages/pandas/core/generic.py\u001b[0m in \u001b[0;36m_get_item_cache\u001b[0;34m(self, item)\u001b[0m\n\u001b[1;32m   1348\u001b[0m         \u001b[0mres\u001b[0m \u001b[0;34m=\u001b[0m \u001b[0mcache\u001b[0m\u001b[0;34m.\u001b[0m\u001b[0mget\u001b[0m\u001b[0;34m(\u001b[0m\u001b[0mitem\u001b[0m\u001b[0;34m)\u001b[0m\u001b[0;34m\u001b[0m\u001b[0m\n\u001b[1;32m   1349\u001b[0m         \u001b[0;32mif\u001b[0m \u001b[0mres\u001b[0m \u001b[0;32mis\u001b[0m \u001b[0;32mNone\u001b[0m\u001b[0;34m:\u001b[0m\u001b[0;34m\u001b[0m\u001b[0m\n\u001b[0;32m-> 1350\u001b[0;31m             \u001b[0mvalues\u001b[0m \u001b[0;34m=\u001b[0m \u001b[0mself\u001b[0m\u001b[0;34m.\u001b[0m\u001b[0m_data\u001b[0m\u001b[0;34m.\u001b[0m\u001b[0mget\u001b[0m\u001b[0;34m(\u001b[0m\u001b[0mitem\u001b[0m\u001b[0;34m)\u001b[0m\u001b[0;34m\u001b[0m\u001b[0m\n\u001b[0m\u001b[1;32m   1351\u001b[0m             \u001b[0mres\u001b[0m \u001b[0;34m=\u001b[0m \u001b[0mself\u001b[0m\u001b[0;34m.\u001b[0m\u001b[0m_box_item_values\u001b[0m\u001b[0;34m(\u001b[0m\u001b[0mitem\u001b[0m\u001b[0;34m,\u001b[0m \u001b[0mvalues\u001b[0m\u001b[0;34m)\u001b[0m\u001b[0;34m\u001b[0m\u001b[0m\n\u001b[1;32m   1352\u001b[0m             \u001b[0mcache\u001b[0m\u001b[0;34m[\u001b[0m\u001b[0mitem\u001b[0m\u001b[0;34m]\u001b[0m \u001b[0;34m=\u001b[0m \u001b[0mres\u001b[0m\u001b[0;34m\u001b[0m\u001b[0m\n",
      "\u001b[0;32m/Users/meleciawright/anaconda/lib/python3.5/site-packages/pandas/core/internals.py\u001b[0m in \u001b[0;36mget\u001b[0;34m(self, item, fastpath)\u001b[0m\n\u001b[1;32m   3297\u001b[0m                         \u001b[0mloc\u001b[0m \u001b[0;34m=\u001b[0m \u001b[0mindexer\u001b[0m\u001b[0;34m.\u001b[0m\u001b[0mitem\u001b[0m\u001b[0;34m(\u001b[0m\u001b[0;34m)\u001b[0m\u001b[0;34m\u001b[0m\u001b[0m\n\u001b[1;32m   3298\u001b[0m                     \u001b[0;32melse\u001b[0m\u001b[0;34m:\u001b[0m\u001b[0;34m\u001b[0m\u001b[0m\n\u001b[0;32m-> 3299\u001b[0;31m                         \u001b[0;32mraise\u001b[0m \u001b[0mValueError\u001b[0m\u001b[0;34m(\u001b[0m\u001b[0;34m\"cannot label index with a null key\"\u001b[0m\u001b[0;34m)\u001b[0m\u001b[0;34m\u001b[0m\u001b[0m\n\u001b[0m\u001b[1;32m   3300\u001b[0m \u001b[0;34m\u001b[0m\u001b[0m\n\u001b[1;32m   3301\u001b[0m             \u001b[0;32mreturn\u001b[0m \u001b[0mself\u001b[0m\u001b[0;34m.\u001b[0m\u001b[0miget\u001b[0m\u001b[0;34m(\u001b[0m\u001b[0mloc\u001b[0m\u001b[0;34m,\u001b[0m \u001b[0mfastpath\u001b[0m\u001b[0;34m=\u001b[0m\u001b[0mfastpath\u001b[0m\u001b[0;34m)\u001b[0m\u001b[0;34m\u001b[0m\u001b[0m\n",
      "\u001b[0;31mValueError\u001b[0m: cannot label index with a null key"
     ]
    }
   ],
   "source": [
    "n4=nutrient.pivot(index='NDB_No', values = 'Output_value')"
   ]
  },
  {
   "cell_type": "code",
   "execution_count": null,
   "metadata": {
    "collapsed": true
   },
   "outputs": [],
   "source": []
  },
  {
   "cell_type": "code",
   "execution_count": null,
   "metadata": {
    "collapsed": true
   },
   "outputs": [],
   "source": []
  }
 ],
 "metadata": {
  "anaconda-cloud": {},
  "kernelspec": {
   "display_name": "Python [conda env:anaconda]",
   "language": "python",
   "name": "conda-env-anaconda-py"
  },
  "language_info": {
   "codemirror_mode": {
    "name": "ipython",
    "version": 3
   },
   "file_extension": ".py",
   "mimetype": "text/x-python",
   "name": "python",
   "nbconvert_exporter": "python",
   "pygments_lexer": "ipython3",
   "version": "3.5.6"
  }
 },
 "nbformat": 4,
 "nbformat_minor": 1
}
